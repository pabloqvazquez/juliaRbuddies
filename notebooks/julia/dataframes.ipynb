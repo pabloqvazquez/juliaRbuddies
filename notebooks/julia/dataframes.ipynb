{
 "cells": [
  {
   "cell_type": "markdown",
   "id": "3914e9ae-3911-4eca-a501-83e2213a4b0c",
   "metadata": {},
   "source": [
    "# Importing Data and basic operations with Dataframes\n",
    "\n",
    "**Content**:\n",
    "- Functions and packages used to import data\n",
    "- Getting Basic information about the data \n",
    "- Selecting and Filtering Data\n",
    "- Joining DataFrames\n",
    "- Split-Apply-Combine\n",
    "\n",
    "**About DataFrames.jl**\n",
    "\n",
    "[DataFrames.jl](https://dataframes.juliadata.org/stable/) provides a set of tools for working with tabular data in Julia. Its design and functionality are similar to those of pandas (in Python) and data.frame, data.table and dplyr (in R).\n",
    "\n",
    "DataFrames.jl plays a central role in the Julia Data ecosystem, and has integrations with a range of different libraries like:\n",
    "\n",
    "- [StatsKit.jl](https://github.com/JuliaStats/StatsKit.jl): A convenience meta-package which loads a set of essential packages for statistics, including those mentioned below in this section and DataFrames.jl itself.\n",
    "- [Statistics](https://docs.julialang.org/en/v1/stdlib/Statistics/): The Julia standard library comes with a wide range of statistics functionality, but to gain access to these functions you must call using Statistics.\n",
    "- [MLJ.jl](https://github.com/alan-turing-institute/MLJ.jl): Machine Learning in Julia.\n",
    "- [Plots.jl](https://docs.juliaplots.org/latest/): Powerful, modern plotting library with a syntax akin to that of matplotlib (in Python) or plot (in R).\n",
    "- [Gadfly.jl](http://gadflyjl.org/stable/): High-level plotting library with a \"grammar of graphics\" syntax akin to that of ggplot (in R).\n",
    "\n",
    "And MORE!!\n",
    "\n",
    "---\n",
    "\n",
    "A Julia [DataFrame](https://dataframes.juliadata.org/stable/man/basics/#Constructors-and-Basic-Utility-Functions) is similar to an [array](https://docs.julialang.org/en/v1/base/arrays/) with some differences:\n",
    "\n",
    "- By default, the first line is interpreted as the list of column names.\n",
    "- The separation character is the 'comma'. To specify other character we use the `delim` argument.\n",
    "- The columns may have missing values. The arguments `missingstrings` and `allowmissing` can be used to customize the way the empty values are interpreted.\n",
    "\n",
    "---\n",
    "\n",
    "### About the data\n",
    "\n",
    "In this notebook, we will work with the National Survey of Family Growth - [NSFG](https://www.cdc.gov/nchs/nsfg/index.htm) data set. You can find the `nsfg_2002_2019.csv` file in this repository. It is already a 2002 - 2019 curated version obtained online from [Kaggle](https://www.kaggle.com/datasets/nikodemlewandowski/nsfg-choosen-variables-20022019?resource=download). \n",
    "\n",
    "**Columns**\n",
    "\n",
    "- **caseid**: Respondent ID number.\n",
    "- **age_a**: Respondent age.\n",
    "- **marstat**: Marital status.\n",
    "- **reldlife**: How important is religion in the respondent's daily life.\n",
    "- **religion**: Current religious affiliation.\n",
    "- **samesex**: Sexual relations between two adults of the same sex are all right. Do you strongly agree, agree, disagree, or strongly disagree? \n",
    "- **intvwyear**: Interview year.\n",
    "- **lifprtnr**: Number of opposite-sex partners in lifetime.\n",
    "- **timesmar**: Times respondent has been married.\n",
    "- **attnd14**: When you were 14, about how often did you usually attend religious services?\n",
    "- **fmarit**: Respondent formal marital status at time of interview.\n",
    "- **gayadopt**: Gay or lesbian adults should have the right to adopt children?\n",
    "- **sxok18**: It is all right for unmarried 18 year olds to have sexual intercourse if they have strong affection for each other?\n",
    "- **staytog**:  Divorce is usually the best solution when a couple can't seem to work out their marriage problems?\n",
    "- **achieve**: It is much better for everyone if the man earns the main living and the woman takes care of the home and family?\n",
    "\n",
    "Most of the columns above are mappings to categorical labels. You can see the details in the `img/labels` directory.\n",
    "\n",
    "For example, the `reldlife` variable is escoded like the following:\n",
    "\n",
    "<img src=\"img/labels/reldlife_labels.png\" alt=\"dataframe\" width=\"200\"/>\n",
    "\n",
    "---\n",
    "\n",
    "To begin importing data we need to install and load the corresponding `CSV` and `DataFrames` packages:\n"
   ]
  },
  {
   "cell_type": "code",
   "execution_count": 1,
   "id": "81900f13-180b-4629-9733-99c8952537d6",
   "metadata": {
    "tags": []
   },
   "outputs": [
    {
     "name": "stderr",
     "output_type": "stream",
     "text": [
      "\u001b[32m\u001b[1m    Updating\u001b[22m\u001b[39m registry at `/opt/julia/registries/General.toml`\n",
      "\u001b[32m\u001b[1m   Resolving\u001b[22m\u001b[39m package versions...\n",
      "\u001b[32m\u001b[1m  No Changes\u001b[22m\u001b[39m to `/opt/julia/environments/v1.7/Project.toml`\n",
      "\u001b[32m\u001b[1m  No Changes\u001b[22m\u001b[39m to `/opt/julia/environments/v1.7/Manifest.toml`\n",
      "\u001b[32m\u001b[1m   Resolving\u001b[22m\u001b[39m package versions...\n",
      "\u001b[32m\u001b[1m  No Changes\u001b[22m\u001b[39m to `/opt/julia/environments/v1.7/Project.toml`\n",
      "\u001b[32m\u001b[1m  No Changes\u001b[22m\u001b[39m to `/opt/julia/environments/v1.7/Manifest.toml`\n"
     ]
    }
   ],
   "source": [
    "import Pkg\n",
    "\n",
    "Pkg.add(\"CSV\")\n",
    "Pkg.add(\"DataFrames\")"
   ]
  },
  {
   "cell_type": "code",
   "execution_count": 2,
   "id": "2eddc02b-a6a1-4b2a-b48d-3c0d600c0b34",
   "metadata": {},
   "outputs": [],
   "source": [
    "using CSV, DataFrames"
   ]
  },
  {
   "cell_type": "code",
   "execution_count": 3,
   "id": "c790714a-a379-489b-aada-c38299ed7bfa",
   "metadata": {
    "collapsed": true,
    "jupyter": {
     "outputs_hidden": true
    },
    "tags": []
   },
   "outputs": [
    {
     "data": {
      "text/html": [
       "<div class=\"data-frame\"><p>72,464 rows × 17 columns (omitted printing of 8 columns)</p><table class=\"data-frame\"><thead><tr><th></th><th>caseid</th><th>age_a</th><th>marstat</th><th>reldlife</th><th>religion</th><th>samesex</th><th>intvwyear</th><th>lifprtnr</th><th>timesmar</th></tr><tr><th></th><th title=\"Int64\">Int64</th><th title=\"Int64\">Int64</th><th title=\"Int64\">Int64</th><th title=\"String3\">String3</th><th title=\"String3\">String3</th><th title=\"String3\">String3</th><th title=\"Int64\">Int64</th><th title=\"String3\">String3</th><th title=\"String3\">String3</th></tr></thead><tbody><tr><th>1</th><td>80717</td><td>31</td><td>2</td><td>NA</td><td>1</td><td>1</td><td>2018</td><td>15</td><td>NA</td></tr><tr><th>2</th><td>80721</td><td>17</td><td>6</td><td>2</td><td>3</td><td>2</td><td>2018</td><td>1</td><td>NA</td></tr><tr><th>3</th><td>80722</td><td>16</td><td>6</td><td>NA</td><td>1</td><td>2</td><td>2019</td><td>2</td><td>NA</td></tr><tr><th>4</th><td>80724</td><td>49</td><td>4</td><td>2</td><td>4</td><td>3</td><td>2019</td><td>50</td><td>2</td></tr><tr><th>5</th><td>80732</td><td>39</td><td>6</td><td>NA</td><td>1</td><td>1</td><td>2019</td><td>0</td><td>NA</td></tr><tr><th>6</th><td>80734</td><td>37</td><td>1</td><td>2</td><td>2</td><td>2</td><td>2018</td><td>3</td><td>1</td></tr><tr><th>7</th><td>80735</td><td>17</td><td>6</td><td>1</td><td>3</td><td>4</td><td>2019</td><td>0</td><td>NA</td></tr><tr><th>8</th><td>80736</td><td>40</td><td>2</td><td>NA</td><td>1</td><td>1</td><td>2019</td><td>22</td><td>NA</td></tr><tr><th>9</th><td>80738</td><td>46</td><td>4</td><td>2</td><td>3</td><td>2</td><td>2018</td><td>30</td><td>1</td></tr><tr><th>10</th><td>80739</td><td>40</td><td>1</td><td>NA</td><td>1</td><td>1</td><td>2019</td><td>5</td><td>1</td></tr><tr><th>11</th><td>80740</td><td>31</td><td>6</td><td>NA</td><td>1</td><td>1</td><td>2017</td><td>0</td><td>NA</td></tr><tr><th>12</th><td>80741</td><td>34</td><td>6</td><td>2</td><td>4</td><td>1</td><td>2018</td><td>1</td><td>NA</td></tr><tr><th>13</th><td>80745</td><td>32</td><td>1</td><td>1</td><td>3</td><td>2</td><td>2019</td><td>4</td><td>1</td></tr><tr><th>14</th><td>80746</td><td>17</td><td>6</td><td>NA</td><td>1</td><td>1</td><td>2019</td><td>6</td><td>NA</td></tr><tr><th>15</th><td>80748</td><td>21</td><td>2</td><td>1</td><td>3</td><td>2</td><td>2018</td><td>1</td><td>NA</td></tr><tr><th>16</th><td>80749</td><td>17</td><td>6</td><td>2</td><td>2</td><td>2</td><td>2019</td><td>0</td><td>NA</td></tr><tr><th>17</th><td>80751</td><td>25</td><td>2</td><td>3</td><td>2</td><td>2</td><td>2019</td><td>3</td><td>NA</td></tr><tr><th>18</th><td>80753</td><td>22</td><td>6</td><td>3</td><td>3</td><td>2</td><td>2019</td><td>4</td><td>NA</td></tr><tr><th>19</th><td>80757</td><td>28</td><td>6</td><td>NA</td><td>1</td><td>4</td><td>2019</td><td>6</td><td>NA</td></tr><tr><th>20</th><td>80758</td><td>18</td><td>2</td><td>NA</td><td>1</td><td>3</td><td>2018</td><td>10</td><td>NA</td></tr><tr><th>21</th><td>80759</td><td>40</td><td>2</td><td>NA</td><td>1</td><td>3</td><td>2018</td><td>26</td><td>NA</td></tr><tr><th>22</th><td>80762</td><td>45</td><td>1</td><td>NA</td><td>1</td><td>5</td><td>2019</td><td>50</td><td>2</td></tr><tr><th>23</th><td>80765</td><td>34</td><td>6</td><td>2</td><td>3</td><td>2</td><td>2018</td><td>4</td><td>NA</td></tr><tr><th>24</th><td>80767</td><td>31</td><td>6</td><td>NA</td><td>1</td><td>1</td><td>2017</td><td>12</td><td>NA</td></tr><tr><th>25</th><td>80769</td><td>39</td><td>1</td><td>2</td><td>3</td><td>3</td><td>2018</td><td>39</td><td>2</td></tr><tr><th>26</th><td>80770</td><td>48</td><td>1</td><td>1</td><td>4</td><td>4</td><td>2018</td><td>3</td><td>1</td></tr><tr><th>27</th><td>80771</td><td>16</td><td>6</td><td>NA</td><td>1</td><td>2</td><td>2019</td><td>1</td><td>NA</td></tr><tr><th>28</th><td>80774</td><td>26</td><td>6</td><td>NA</td><td>1</td><td>2</td><td>2019</td><td>5</td><td>NA</td></tr><tr><th>29</th><td>80775</td><td>26</td><td>1</td><td>3</td><td>4</td><td>2</td><td>2019</td><td>11</td><td>1</td></tr><tr><th>30</th><td>80777</td><td>29</td><td>1</td><td>1</td><td>3</td><td>4</td><td>2018</td><td>13</td><td>1</td></tr><tr><th>&vellip;</th><td>&vellip;</td><td>&vellip;</td><td>&vellip;</td><td>&vellip;</td><td>&vellip;</td><td>&vellip;</td><td>&vellip;</td><td>&vellip;</td><td>&vellip;</td></tr></tbody></table></div>"
      ],
      "text/latex": [
       "\\begin{tabular}{r|cccccccccc}\n",
       "\t& caseid & age\\_a & marstat & reldlife & religion & samesex & intvwyear & lifprtnr & timesmar & \\\\\n",
       "\t\\hline\n",
       "\t& Int64 & Int64 & Int64 & String3 & String3 & String3 & Int64 & String3 & String3 & \\\\\n",
       "\t\\hline\n",
       "\t1 & 80717 & 31 & 2 & NA & 1 & 1 & 2018 & 15 & NA & $\\dots$ \\\\\n",
       "\t2 & 80721 & 17 & 6 & 2 & 3 & 2 & 2018 & 1 & NA & $\\dots$ \\\\\n",
       "\t3 & 80722 & 16 & 6 & NA & 1 & 2 & 2019 & 2 & NA & $\\dots$ \\\\\n",
       "\t4 & 80724 & 49 & 4 & 2 & 4 & 3 & 2019 & 50 & 2 & $\\dots$ \\\\\n",
       "\t5 & 80732 & 39 & 6 & NA & 1 & 1 & 2019 & 0 & NA & $\\dots$ \\\\\n",
       "\t6 & 80734 & 37 & 1 & 2 & 2 & 2 & 2018 & 3 & 1 & $\\dots$ \\\\\n",
       "\t7 & 80735 & 17 & 6 & 1 & 3 & 4 & 2019 & 0 & NA & $\\dots$ \\\\\n",
       "\t8 & 80736 & 40 & 2 & NA & 1 & 1 & 2019 & 22 & NA & $\\dots$ \\\\\n",
       "\t9 & 80738 & 46 & 4 & 2 & 3 & 2 & 2018 & 30 & 1 & $\\dots$ \\\\\n",
       "\t10 & 80739 & 40 & 1 & NA & 1 & 1 & 2019 & 5 & 1 & $\\dots$ \\\\\n",
       "\t11 & 80740 & 31 & 6 & NA & 1 & 1 & 2017 & 0 & NA & $\\dots$ \\\\\n",
       "\t12 & 80741 & 34 & 6 & 2 & 4 & 1 & 2018 & 1 & NA & $\\dots$ \\\\\n",
       "\t13 & 80745 & 32 & 1 & 1 & 3 & 2 & 2019 & 4 & 1 & $\\dots$ \\\\\n",
       "\t14 & 80746 & 17 & 6 & NA & 1 & 1 & 2019 & 6 & NA & $\\dots$ \\\\\n",
       "\t15 & 80748 & 21 & 2 & 1 & 3 & 2 & 2018 & 1 & NA & $\\dots$ \\\\\n",
       "\t16 & 80749 & 17 & 6 & 2 & 2 & 2 & 2019 & 0 & NA & $\\dots$ \\\\\n",
       "\t17 & 80751 & 25 & 2 & 3 & 2 & 2 & 2019 & 3 & NA & $\\dots$ \\\\\n",
       "\t18 & 80753 & 22 & 6 & 3 & 3 & 2 & 2019 & 4 & NA & $\\dots$ \\\\\n",
       "\t19 & 80757 & 28 & 6 & NA & 1 & 4 & 2019 & 6 & NA & $\\dots$ \\\\\n",
       "\t20 & 80758 & 18 & 2 & NA & 1 & 3 & 2018 & 10 & NA & $\\dots$ \\\\\n",
       "\t21 & 80759 & 40 & 2 & NA & 1 & 3 & 2018 & 26 & NA & $\\dots$ \\\\\n",
       "\t22 & 80762 & 45 & 1 & NA & 1 & 5 & 2019 & 50 & 2 & $\\dots$ \\\\\n",
       "\t23 & 80765 & 34 & 6 & 2 & 3 & 2 & 2018 & 4 & NA & $\\dots$ \\\\\n",
       "\t24 & 80767 & 31 & 6 & NA & 1 & 1 & 2017 & 12 & NA & $\\dots$ \\\\\n",
       "\t25 & 80769 & 39 & 1 & 2 & 3 & 3 & 2018 & 39 & 2 & $\\dots$ \\\\\n",
       "\t26 & 80770 & 48 & 1 & 1 & 4 & 4 & 2018 & 3 & 1 & $\\dots$ \\\\\n",
       "\t27 & 80771 & 16 & 6 & NA & 1 & 2 & 2019 & 1 & NA & $\\dots$ \\\\\n",
       "\t28 & 80774 & 26 & 6 & NA & 1 & 2 & 2019 & 5 & NA & $\\dots$ \\\\\n",
       "\t29 & 80775 & 26 & 1 & 3 & 4 & 2 & 2019 & 11 & 1 & $\\dots$ \\\\\n",
       "\t30 & 80777 & 29 & 1 & 1 & 3 & 4 & 2018 & 13 & 1 & $\\dots$ \\\\\n",
       "\t$\\dots$ & $\\dots$ & $\\dots$ & $\\dots$ & $\\dots$ & $\\dots$ & $\\dots$ & $\\dots$ & $\\dots$ & $\\dots$ &  \\\\\n",
       "\\end{tabular}\n"
      ],
      "text/plain": [
       "\u001b[1m72464×17 DataFrame\u001b[0m\n",
       "\u001b[1m   Row \u001b[0m│\u001b[1m caseid \u001b[0m\u001b[1m age_a \u001b[0m\u001b[1m marstat \u001b[0m\u001b[1m reldlife \u001b[0m\u001b[1m religion \u001b[0m\u001b[1m samesex \u001b[0m\u001b[1m intvwyear \u001b[0m\u001b[1m lifpr\u001b[0m ⋯\n",
       "\u001b[1m       \u001b[0m│\u001b[90m Int64  \u001b[0m\u001b[90m Int64 \u001b[0m\u001b[90m Int64   \u001b[0m\u001b[90m String3  \u001b[0m\u001b[90m String3  \u001b[0m\u001b[90m String3 \u001b[0m\u001b[90m Int64     \u001b[0m\u001b[90m Strin\u001b[0m ⋯\n",
       "───────┼────────────────────────────────────────────────────────────────────────\n",
       "     1 │  80717     31        2  NA        1         1             2018  15    ⋯\n",
       "     2 │  80721     17        6  2         3         2             2018  1\n",
       "     3 │  80722     16        6  NA        1         2             2019  2\n",
       "     4 │  80724     49        4  2         4         3             2019  50\n",
       "     5 │  80732     39        6  NA        1         1             2019  0     ⋯\n",
       "     6 │  80734     37        1  2         2         2             2018  3\n",
       "     7 │  80735     17        6  1         3         4             2019  0\n",
       "     8 │  80736     40        2  NA        1         1             2019  22\n",
       "     9 │  80738     46        4  2         3         2             2018  30    ⋯\n",
       "    10 │  80739     40        1  NA        1         1             2019  5\n",
       "    11 │  80740     31        6  NA        1         1             2017  0\n",
       "   ⋮   │   ⋮       ⋮       ⋮        ⋮         ⋮         ⋮         ⋮         ⋮  ⋱\n",
       " 72455 │  11640     20        6  2         3         2             2002  4\n",
       " 72456 │   5515     18        6  1         3         2             2002  0     ⋯\n",
       " 72457 │   1551     23        6  1         3         1             2002  0\n",
       " 72458 │   9358     27        1  1         3         1             2002  1\n",
       " 72459 │   2417     21        6  1         3         3             2002  1\n",
       " 72460 │   1074     15        6  2         3         2             2002  0     ⋯\n",
       " 72461 │   8877     37        4  1         3         1             2002  5\n",
       " 72462 │  11658     28        1  NA        1         4             2002  7\n",
       " 72463 │   2780     24        4  NA        1         2             2002  5\n",
       " 72464 │   5758     28        1  NA        NA        NA            2002  NA    ⋯\n",
       "\u001b[36m                                               10 columns and 72443 rows omitted\u001b[0m"
      ]
     },
     "execution_count": 3,
     "metadata": {},
     "output_type": "execute_result"
    }
   ],
   "source": [
    "dataframe = DataFrame(CSV.File(\"../data/nsfg/nsfg_2002_2019.csv\"))\n",
    "dataframe"
   ]
  },
  {
   "cell_type": "markdown",
   "id": "3726b3fd-861a-4e32-8d82-09be0bf47c6d",
   "metadata": {},
   "source": [
    "Notice the displayed data is cutoff both in the rows and the columns. Also the datatype of each column is displayed below its name.\n",
    "\n",
    "We can access columns of the data in different ways:"
   ]
  },
  {
   "cell_type": "code",
   "execution_count": 4,
   "id": "3226b87f-2876-428b-bc36-58c618266223",
   "metadata": {
    "collapsed": true,
    "jupyter": {
     "outputs_hidden": true
    },
    "tags": []
   },
   "outputs": [
    {
     "data": {
      "text/plain": [
       "72464-element Vector{Int64}:\n",
       " 80717\n",
       " 80721\n",
       " 80722\n",
       " 80724\n",
       " 80732\n",
       " 80734\n",
       " 80735\n",
       " 80736\n",
       " 80738\n",
       " 80739\n",
       " 80740\n",
       " 80741\n",
       " 80745\n",
       "     ⋮\n",
       "  7879\n",
       " 11427\n",
       " 11640\n",
       "  5515\n",
       "  1551\n",
       "  9358\n",
       "  2417\n",
       "  1074\n",
       "  8877\n",
       " 11658\n",
       "  2780\n",
       "  5758"
      ]
     },
     "execution_count": 4,
     "metadata": {},
     "output_type": "execute_result"
    }
   ],
   "source": [
    "dataframe.caseid"
   ]
  },
  {
   "cell_type": "code",
   "execution_count": 5,
   "id": "a5da1b80-b951-4d8d-9811-dec19abb1240",
   "metadata": {
    "collapsed": true,
    "jupyter": {
     "outputs_hidden": true
    },
    "tags": []
   },
   "outputs": [
    {
     "data": {
      "text/plain": [
       "72464-element Vector{Int64}:\n",
       " 80717\n",
       " 80721\n",
       " 80722\n",
       " 80724\n",
       " 80732\n",
       " 80734\n",
       " 80735\n",
       " 80736\n",
       " 80738\n",
       " 80739\n",
       " 80740\n",
       " 80741\n",
       " 80745\n",
       "     ⋮\n",
       "  7879\n",
       " 11427\n",
       " 11640\n",
       "  5515\n",
       "  1551\n",
       "  9358\n",
       "  2417\n",
       "  1074\n",
       "  8877\n",
       " 11658\n",
       "  2780\n",
       "  5758"
      ]
     },
     "execution_count": 5,
     "metadata": {},
     "output_type": "execute_result"
    }
   ],
   "source": [
    "dataframe.\"caseid\""
   ]
  },
  {
   "cell_type": "code",
   "execution_count": 6,
   "id": "49f7a4d7-b124-4d4b-85a2-6889b6b72d06",
   "metadata": {},
   "outputs": [
    {
     "data": {
      "text/plain": [
       "72464-element Vector{Int64}:\n",
       " 80717\n",
       " 80721\n",
       " 80722\n",
       " 80724\n",
       " 80732\n",
       " 80734\n",
       " 80735\n",
       " 80736\n",
       " 80738\n",
       " 80739\n",
       " 80740\n",
       " 80741\n",
       " 80745\n",
       "     ⋮\n",
       "  7879\n",
       " 11427\n",
       " 11640\n",
       "  5515\n",
       "  1551\n",
       "  9358\n",
       "  2417\n",
       "  1074\n",
       "  8877\n",
       " 11658\n",
       "  2780\n",
       "  5758"
      ]
     },
     "execution_count": 6,
     "metadata": {},
     "output_type": "execute_result"
    }
   ],
   "source": [
    "dataframe[!, :caseid]"
   ]
  },
  {
   "cell_type": "code",
   "execution_count": 7,
   "id": "97a7c446-71d1-4772-b176-56694b89cdcc",
   "metadata": {},
   "outputs": [
    {
     "data": {
      "text/plain": [
       "72464-element Vector{Int64}:\n",
       " 80717\n",
       " 80721\n",
       " 80722\n",
       " 80724\n",
       " 80732\n",
       " 80734\n",
       " 80735\n",
       " 80736\n",
       " 80738\n",
       " 80739\n",
       " 80740\n",
       " 80741\n",
       " 80745\n",
       "     ⋮\n",
       "  7879\n",
       " 11427\n",
       " 11640\n",
       "  5515\n",
       "  1551\n",
       "  9358\n",
       "  2417\n",
       "  1074\n",
       "  8877\n",
       " 11658\n",
       "  2780\n",
       "  5758"
      ]
     },
     "execution_count": 7,
     "metadata": {},
     "output_type": "execute_result"
    }
   ],
   "source": [
    "dataframe[!, \"caseid\"]"
   ]
  },
  {
   "cell_type": "markdown",
   "id": "6f8d261f-8baa-4792-befb-fb336d95d98b",
   "metadata": {},
   "source": [
    "---\n",
    "**NOTE**\n",
    "\n",
    "The code examples above do not make a copy of the obtained vector, so changing the elements here will **modify** the original data. If you want to get a copy of the column we need to use the following notation:\n"
   ]
  },
  {
   "cell_type": "code",
   "execution_count": 8,
   "id": "1e0b52c3-f987-4ad7-8c74-76b86ac09c3c",
   "metadata": {
    "tags": []
   },
   "outputs": [
    {
     "data": {
      "text/plain": [
       "72464-element Vector{Int64}:\n",
       " 80717\n",
       " 80721\n",
       " 80722\n",
       " 80724\n",
       " 80732\n",
       " 80734\n",
       " 80735\n",
       " 80736\n",
       " 80738\n",
       " 80739\n",
       " 80740\n",
       " 80741\n",
       " 80745\n",
       "     ⋮\n",
       "  7879\n",
       " 11427\n",
       " 11640\n",
       "  5515\n",
       "  1551\n",
       "  9358\n",
       "  2417\n",
       "  1074\n",
       "  8877\n",
       " 11658\n",
       "  2780\n",
       "  5758"
      ]
     },
     "execution_count": 8,
     "metadata": {},
     "output_type": "execute_result"
    }
   ],
   "source": [
    "dataframe[:, \"caseid\"]"
   ]
  },
  {
   "cell_type": "markdown",
   "id": "f25bc016-08fb-42e1-8c60-1baf0268167a",
   "metadata": {},
   "source": [
    "We can further check if the obtained objects are the same or not:"
   ]
  },
  {
   "cell_type": "code",
   "execution_count": 9,
   "id": "f8bdf3e8-6f12-4c29-9e25-bb337b347bdc",
   "metadata": {},
   "outputs": [
    {
     "data": {
      "text/plain": [
       "true"
      ]
     },
     "execution_count": 9,
     "metadata": {},
     "output_type": "execute_result"
    }
   ],
   "source": [
    "dataframe.caseid === dataframe[!, \"caseid\"]"
   ]
  },
  {
   "cell_type": "code",
   "execution_count": 10,
   "id": "fb6bb43d-9e8f-4a11-8722-e2a8647e4881",
   "metadata": {},
   "outputs": [
    {
     "data": {
      "text/plain": [
       "false"
      ]
     },
     "execution_count": 10,
     "metadata": {},
     "output_type": "execute_result"
    }
   ],
   "source": [
    "dataframe.caseid === dataframe[:, \"caseid\"]"
   ]
  },
  {
   "cell_type": "markdown",
   "id": "439d3aa4-a3f4-4733-80d6-197c2a440053",
   "metadata": {},
   "source": [
    "We can get the columns as a vector of Strings:"
   ]
  },
  {
   "cell_type": "code",
   "execution_count": 11,
   "id": "bf74599f-4044-441c-881a-7642e88ec866",
   "metadata": {},
   "outputs": [
    {
     "data": {
      "text/plain": [
       "17-element Vector{String}:\n",
       " \"caseid\"\n",
       " \"age_a\"\n",
       " \"marstat\"\n",
       " \"reldlife\"\n",
       " \"religion\"\n",
       " \"samesex\"\n",
       " \"intvwyear\"\n",
       " \"lifprtnr\"\n",
       " \"timesmar\"\n",
       " \"attnd14\"\n",
       " \"fmarit\"\n",
       " \"gayadopt\"\n",
       " \"lifeprt\"\n",
       " \"sxok18\"\n",
       " \"staytog\"\n",
       " \"prvntdiv\"\n",
       " \"achieve\""
      ]
     },
     "execution_count": 11,
     "metadata": {},
     "output_type": "execute_result"
    }
   ],
   "source": [
    "names(dataframe)"
   ]
  },
  {
   "cell_type": "markdown",
   "id": "dc66b2b7-1aeb-44b3-8738-83771489a87b",
   "metadata": {},
   "source": [
    "### Recall the `!` notation\n",
    "\n",
    "This notation is similar to the `in_place` argument in some of the methods in Python Pandas library. We can see an example to understand this whith the `empty` function:"
   ]
  },
  {
   "cell_type": "code",
   "execution_count": 12,
   "id": "c0c1a7bf-80c4-4720-aa12-460e4d7d5a17",
   "metadata": {},
   "outputs": [
    {
     "data": {
      "text/html": [
       "<div class=\"data-frame\"><p>0 rows × 17 columns (omitted printing of 8 columns)</p><table class=\"data-frame\"><thead><tr><th></th><th>caseid</th><th>age_a</th><th>marstat</th><th>reldlife</th><th>religion</th><th>samesex</th><th>intvwyear</th><th>lifprtnr</th><th>timesmar</th></tr><tr><th></th><th title=\"Int64\">Int64</th><th title=\"Int64\">Int64</th><th title=\"Int64\">Int64</th><th title=\"String3\">String3</th><th title=\"String3\">String3</th><th title=\"String3\">String3</th><th title=\"Int64\">Int64</th><th title=\"String3\">String3</th><th title=\"String3\">String3</th></tr></thead><tbody></tbody></table></div>"
      ],
      "text/latex": [
       "\\begin{tabular}{r|cccccccccc}\n",
       "\t& caseid & age\\_a & marstat & reldlife & religion & samesex & intvwyear & lifprtnr & timesmar & \\\\\n",
       "\t\\hline\n",
       "\t& Int64 & Int64 & Int64 & String3 & String3 & String3 & Int64 & String3 & String3 & \\\\\n",
       "\t\\hline\n",
       "\\end{tabular}\n"
      ],
      "text/plain": [
       "\u001b[1m0×17 DataFrame\u001b[0m"
      ]
     },
     "execution_count": 12,
     "metadata": {},
     "output_type": "execute_result"
    }
   ],
   "source": [
    "empty(dataframe)"
   ]
  },
  {
   "cell_type": "code",
   "execution_count": 13,
   "id": "684810b9-90cf-4fd8-8b7d-6576f13bbffe",
   "metadata": {},
   "outputs": [
    {
     "data": {
      "text/html": [
       "<div class=\"data-frame\"><p>72,464 rows × 17 columns (omitted printing of 8 columns)</p><table class=\"data-frame\"><thead><tr><th></th><th>caseid</th><th>age_a</th><th>marstat</th><th>reldlife</th><th>religion</th><th>samesex</th><th>intvwyear</th><th>lifprtnr</th><th>timesmar</th></tr><tr><th></th><th title=\"Int64\">Int64</th><th title=\"Int64\">Int64</th><th title=\"Int64\">Int64</th><th title=\"String3\">String3</th><th title=\"String3\">String3</th><th title=\"String3\">String3</th><th title=\"Int64\">Int64</th><th title=\"String3\">String3</th><th title=\"String3\">String3</th></tr></thead><tbody><tr><th>1</th><td>80717</td><td>31</td><td>2</td><td>NA</td><td>1</td><td>1</td><td>2018</td><td>15</td><td>NA</td></tr><tr><th>2</th><td>80721</td><td>17</td><td>6</td><td>2</td><td>3</td><td>2</td><td>2018</td><td>1</td><td>NA</td></tr><tr><th>3</th><td>80722</td><td>16</td><td>6</td><td>NA</td><td>1</td><td>2</td><td>2019</td><td>2</td><td>NA</td></tr><tr><th>4</th><td>80724</td><td>49</td><td>4</td><td>2</td><td>4</td><td>3</td><td>2019</td><td>50</td><td>2</td></tr><tr><th>5</th><td>80732</td><td>39</td><td>6</td><td>NA</td><td>1</td><td>1</td><td>2019</td><td>0</td><td>NA</td></tr><tr><th>6</th><td>80734</td><td>37</td><td>1</td><td>2</td><td>2</td><td>2</td><td>2018</td><td>3</td><td>1</td></tr><tr><th>7</th><td>80735</td><td>17</td><td>6</td><td>1</td><td>3</td><td>4</td><td>2019</td><td>0</td><td>NA</td></tr><tr><th>8</th><td>80736</td><td>40</td><td>2</td><td>NA</td><td>1</td><td>1</td><td>2019</td><td>22</td><td>NA</td></tr><tr><th>9</th><td>80738</td><td>46</td><td>4</td><td>2</td><td>3</td><td>2</td><td>2018</td><td>30</td><td>1</td></tr><tr><th>10</th><td>80739</td><td>40</td><td>1</td><td>NA</td><td>1</td><td>1</td><td>2019</td><td>5</td><td>1</td></tr><tr><th>11</th><td>80740</td><td>31</td><td>6</td><td>NA</td><td>1</td><td>1</td><td>2017</td><td>0</td><td>NA</td></tr><tr><th>12</th><td>80741</td><td>34</td><td>6</td><td>2</td><td>4</td><td>1</td><td>2018</td><td>1</td><td>NA</td></tr><tr><th>13</th><td>80745</td><td>32</td><td>1</td><td>1</td><td>3</td><td>2</td><td>2019</td><td>4</td><td>1</td></tr><tr><th>14</th><td>80746</td><td>17</td><td>6</td><td>NA</td><td>1</td><td>1</td><td>2019</td><td>6</td><td>NA</td></tr><tr><th>15</th><td>80748</td><td>21</td><td>2</td><td>1</td><td>3</td><td>2</td><td>2018</td><td>1</td><td>NA</td></tr><tr><th>16</th><td>80749</td><td>17</td><td>6</td><td>2</td><td>2</td><td>2</td><td>2019</td><td>0</td><td>NA</td></tr><tr><th>17</th><td>80751</td><td>25</td><td>2</td><td>3</td><td>2</td><td>2</td><td>2019</td><td>3</td><td>NA</td></tr><tr><th>18</th><td>80753</td><td>22</td><td>6</td><td>3</td><td>3</td><td>2</td><td>2019</td><td>4</td><td>NA</td></tr><tr><th>19</th><td>80757</td><td>28</td><td>6</td><td>NA</td><td>1</td><td>4</td><td>2019</td><td>6</td><td>NA</td></tr><tr><th>20</th><td>80758</td><td>18</td><td>2</td><td>NA</td><td>1</td><td>3</td><td>2018</td><td>10</td><td>NA</td></tr><tr><th>21</th><td>80759</td><td>40</td><td>2</td><td>NA</td><td>1</td><td>3</td><td>2018</td><td>26</td><td>NA</td></tr><tr><th>22</th><td>80762</td><td>45</td><td>1</td><td>NA</td><td>1</td><td>5</td><td>2019</td><td>50</td><td>2</td></tr><tr><th>23</th><td>80765</td><td>34</td><td>6</td><td>2</td><td>3</td><td>2</td><td>2018</td><td>4</td><td>NA</td></tr><tr><th>24</th><td>80767</td><td>31</td><td>6</td><td>NA</td><td>1</td><td>1</td><td>2017</td><td>12</td><td>NA</td></tr><tr><th>25</th><td>80769</td><td>39</td><td>1</td><td>2</td><td>3</td><td>3</td><td>2018</td><td>39</td><td>2</td></tr><tr><th>26</th><td>80770</td><td>48</td><td>1</td><td>1</td><td>4</td><td>4</td><td>2018</td><td>3</td><td>1</td></tr><tr><th>27</th><td>80771</td><td>16</td><td>6</td><td>NA</td><td>1</td><td>2</td><td>2019</td><td>1</td><td>NA</td></tr><tr><th>28</th><td>80774</td><td>26</td><td>6</td><td>NA</td><td>1</td><td>2</td><td>2019</td><td>5</td><td>NA</td></tr><tr><th>29</th><td>80775</td><td>26</td><td>1</td><td>3</td><td>4</td><td>2</td><td>2019</td><td>11</td><td>1</td></tr><tr><th>30</th><td>80777</td><td>29</td><td>1</td><td>1</td><td>3</td><td>4</td><td>2018</td><td>13</td><td>1</td></tr><tr><th>&vellip;</th><td>&vellip;</td><td>&vellip;</td><td>&vellip;</td><td>&vellip;</td><td>&vellip;</td><td>&vellip;</td><td>&vellip;</td><td>&vellip;</td><td>&vellip;</td></tr></tbody></table></div>"
      ],
      "text/latex": [
       "\\begin{tabular}{r|cccccccccc}\n",
       "\t& caseid & age\\_a & marstat & reldlife & religion & samesex & intvwyear & lifprtnr & timesmar & \\\\\n",
       "\t\\hline\n",
       "\t& Int64 & Int64 & Int64 & String3 & String3 & String3 & Int64 & String3 & String3 & \\\\\n",
       "\t\\hline\n",
       "\t1 & 80717 & 31 & 2 & NA & 1 & 1 & 2018 & 15 & NA & $\\dots$ \\\\\n",
       "\t2 & 80721 & 17 & 6 & 2 & 3 & 2 & 2018 & 1 & NA & $\\dots$ \\\\\n",
       "\t3 & 80722 & 16 & 6 & NA & 1 & 2 & 2019 & 2 & NA & $\\dots$ \\\\\n",
       "\t4 & 80724 & 49 & 4 & 2 & 4 & 3 & 2019 & 50 & 2 & $\\dots$ \\\\\n",
       "\t5 & 80732 & 39 & 6 & NA & 1 & 1 & 2019 & 0 & NA & $\\dots$ \\\\\n",
       "\t6 & 80734 & 37 & 1 & 2 & 2 & 2 & 2018 & 3 & 1 & $\\dots$ \\\\\n",
       "\t7 & 80735 & 17 & 6 & 1 & 3 & 4 & 2019 & 0 & NA & $\\dots$ \\\\\n",
       "\t8 & 80736 & 40 & 2 & NA & 1 & 1 & 2019 & 22 & NA & $\\dots$ \\\\\n",
       "\t9 & 80738 & 46 & 4 & 2 & 3 & 2 & 2018 & 30 & 1 & $\\dots$ \\\\\n",
       "\t10 & 80739 & 40 & 1 & NA & 1 & 1 & 2019 & 5 & 1 & $\\dots$ \\\\\n",
       "\t11 & 80740 & 31 & 6 & NA & 1 & 1 & 2017 & 0 & NA & $\\dots$ \\\\\n",
       "\t12 & 80741 & 34 & 6 & 2 & 4 & 1 & 2018 & 1 & NA & $\\dots$ \\\\\n",
       "\t13 & 80745 & 32 & 1 & 1 & 3 & 2 & 2019 & 4 & 1 & $\\dots$ \\\\\n",
       "\t14 & 80746 & 17 & 6 & NA & 1 & 1 & 2019 & 6 & NA & $\\dots$ \\\\\n",
       "\t15 & 80748 & 21 & 2 & 1 & 3 & 2 & 2018 & 1 & NA & $\\dots$ \\\\\n",
       "\t16 & 80749 & 17 & 6 & 2 & 2 & 2 & 2019 & 0 & NA & $\\dots$ \\\\\n",
       "\t17 & 80751 & 25 & 2 & 3 & 2 & 2 & 2019 & 3 & NA & $\\dots$ \\\\\n",
       "\t18 & 80753 & 22 & 6 & 3 & 3 & 2 & 2019 & 4 & NA & $\\dots$ \\\\\n",
       "\t19 & 80757 & 28 & 6 & NA & 1 & 4 & 2019 & 6 & NA & $\\dots$ \\\\\n",
       "\t20 & 80758 & 18 & 2 & NA & 1 & 3 & 2018 & 10 & NA & $\\dots$ \\\\\n",
       "\t21 & 80759 & 40 & 2 & NA & 1 & 3 & 2018 & 26 & NA & $\\dots$ \\\\\n",
       "\t22 & 80762 & 45 & 1 & NA & 1 & 5 & 2019 & 50 & 2 & $\\dots$ \\\\\n",
       "\t23 & 80765 & 34 & 6 & 2 & 3 & 2 & 2018 & 4 & NA & $\\dots$ \\\\\n",
       "\t24 & 80767 & 31 & 6 & NA & 1 & 1 & 2017 & 12 & NA & $\\dots$ \\\\\n",
       "\t25 & 80769 & 39 & 1 & 2 & 3 & 3 & 2018 & 39 & 2 & $\\dots$ \\\\\n",
       "\t26 & 80770 & 48 & 1 & 1 & 4 & 4 & 2018 & 3 & 1 & $\\dots$ \\\\\n",
       "\t27 & 80771 & 16 & 6 & NA & 1 & 2 & 2019 & 1 & NA & $\\dots$ \\\\\n",
       "\t28 & 80774 & 26 & 6 & NA & 1 & 2 & 2019 & 5 & NA & $\\dots$ \\\\\n",
       "\t29 & 80775 & 26 & 1 & 3 & 4 & 2 & 2019 & 11 & 1 & $\\dots$ \\\\\n",
       "\t30 & 80777 & 29 & 1 & 1 & 3 & 4 & 2018 & 13 & 1 & $\\dots$ \\\\\n",
       "\t$\\dots$ & $\\dots$ & $\\dots$ & $\\dots$ & $\\dots$ & $\\dots$ & $\\dots$ & $\\dots$ & $\\dots$ & $\\dots$ &  \\\\\n",
       "\\end{tabular}\n"
      ],
      "text/plain": [
       "\u001b[1m72464×17 DataFrame\u001b[0m\n",
       "\u001b[1m   Row \u001b[0m│\u001b[1m caseid \u001b[0m\u001b[1m age_a \u001b[0m\u001b[1m marstat \u001b[0m\u001b[1m reldlife \u001b[0m\u001b[1m religion \u001b[0m\u001b[1m samesex \u001b[0m\u001b[1m intvwyear \u001b[0m\u001b[1m lifpr\u001b[0m ⋯\n",
       "\u001b[1m       \u001b[0m│\u001b[90m Int64  \u001b[0m\u001b[90m Int64 \u001b[0m\u001b[90m Int64   \u001b[0m\u001b[90m String3  \u001b[0m\u001b[90m String3  \u001b[0m\u001b[90m String3 \u001b[0m\u001b[90m Int64     \u001b[0m\u001b[90m Strin\u001b[0m ⋯\n",
       "───────┼────────────────────────────────────────────────────────────────────────\n",
       "     1 │  80717     31        2  NA        1         1             2018  15    ⋯\n",
       "     2 │  80721     17        6  2         3         2             2018  1\n",
       "     3 │  80722     16        6  NA        1         2             2019  2\n",
       "     4 │  80724     49        4  2         4         3             2019  50\n",
       "     5 │  80732     39        6  NA        1         1             2019  0     ⋯\n",
       "     6 │  80734     37        1  2         2         2             2018  3\n",
       "     7 │  80735     17        6  1         3         4             2019  0\n",
       "     8 │  80736     40        2  NA        1         1             2019  22\n",
       "     9 │  80738     46        4  2         3         2             2018  30    ⋯\n",
       "    10 │  80739     40        1  NA        1         1             2019  5\n",
       "    11 │  80740     31        6  NA        1         1             2017  0\n",
       "   ⋮   │   ⋮       ⋮       ⋮        ⋮         ⋮         ⋮         ⋮         ⋮  ⋱\n",
       " 72455 │  11640     20        6  2         3         2             2002  4\n",
       " 72456 │   5515     18        6  1         3         2             2002  0     ⋯\n",
       " 72457 │   1551     23        6  1         3         1             2002  0\n",
       " 72458 │   9358     27        1  1         3         1             2002  1\n",
       " 72459 │   2417     21        6  1         3         3             2002  1\n",
       " 72460 │   1074     15        6  2         3         2             2002  0     ⋯\n",
       " 72461 │   8877     37        4  1         3         1             2002  5\n",
       " 72462 │  11658     28        1  NA        1         4             2002  7\n",
       " 72463 │   2780     24        4  NA        1         2             2002  5\n",
       " 72464 │   5758     28        1  NA        NA        NA            2002  NA    ⋯\n",
       "\u001b[36m                                               10 columns and 72443 rows omitted\u001b[0m"
      ]
     },
     "execution_count": 13,
     "metadata": {},
     "output_type": "execute_result"
    }
   ],
   "source": [
    "dataframe"
   ]
  },
  {
   "cell_type": "markdown",
   "id": "7437e766-5bfb-40b6-8be9-c5c488c67ac1",
   "metadata": {},
   "source": [
    "At this moment, after running the `empty` function, the `dataframe` variable has not been modified. Lets now run the `empty!` function: "
   ]
  },
  {
   "cell_type": "code",
   "execution_count": 14,
   "id": "3cd218bd-93a6-4475-9843-190d90297c3c",
   "metadata": {},
   "outputs": [
    {
     "data": {
      "text/html": [
       "<div class=\"data-frame\"><p>0 rows × 17 columns (omitted printing of 8 columns)</p><table class=\"data-frame\"><thead><tr><th></th><th>caseid</th><th>age_a</th><th>marstat</th><th>reldlife</th><th>religion</th><th>samesex</th><th>intvwyear</th><th>lifprtnr</th><th>timesmar</th></tr><tr><th></th><th title=\"Int64\">Int64</th><th title=\"Int64\">Int64</th><th title=\"Int64\">Int64</th><th title=\"String3\">String3</th><th title=\"String3\">String3</th><th title=\"String3\">String3</th><th title=\"Int64\">Int64</th><th title=\"String3\">String3</th><th title=\"String3\">String3</th></tr></thead><tbody></tbody></table></div>"
      ],
      "text/latex": [
       "\\begin{tabular}{r|cccccccccc}\n",
       "\t& caseid & age\\_a & marstat & reldlife & religion & samesex & intvwyear & lifprtnr & timesmar & \\\\\n",
       "\t\\hline\n",
       "\t& Int64 & Int64 & Int64 & String3 & String3 & String3 & Int64 & String3 & String3 & \\\\\n",
       "\t\\hline\n",
       "\\end{tabular}\n"
      ],
      "text/plain": [
       "\u001b[1m0×17 DataFrame\u001b[0m"
      ]
     },
     "execution_count": 14,
     "metadata": {},
     "output_type": "execute_result"
    }
   ],
   "source": [
    "empty!(dataframe)"
   ]
  },
  {
   "cell_type": "code",
   "execution_count": 15,
   "id": "41ce330c-a545-4ec5-97b4-04a482a4d67f",
   "metadata": {},
   "outputs": [
    {
     "data": {
      "text/html": [
       "<div class=\"data-frame\"><p>0 rows × 17 columns (omitted printing of 8 columns)</p><table class=\"data-frame\"><thead><tr><th></th><th>caseid</th><th>age_a</th><th>marstat</th><th>reldlife</th><th>religion</th><th>samesex</th><th>intvwyear</th><th>lifprtnr</th><th>timesmar</th></tr><tr><th></th><th title=\"Int64\">Int64</th><th title=\"Int64\">Int64</th><th title=\"Int64\">Int64</th><th title=\"String3\">String3</th><th title=\"String3\">String3</th><th title=\"String3\">String3</th><th title=\"Int64\">Int64</th><th title=\"String3\">String3</th><th title=\"String3\">String3</th></tr></thead><tbody></tbody></table></div>"
      ],
      "text/latex": [
       "\\begin{tabular}{r|cccccccccc}\n",
       "\t& caseid & age\\_a & marstat & reldlife & religion & samesex & intvwyear & lifprtnr & timesmar & \\\\\n",
       "\t\\hline\n",
       "\t& Int64 & Int64 & Int64 & String3 & String3 & String3 & Int64 & String3 & String3 & \\\\\n",
       "\t\\hline\n",
       "\\end{tabular}\n"
      ],
      "text/plain": [
       "\u001b[1m0×17 DataFrame\u001b[0m"
      ]
     },
     "execution_count": 15,
     "metadata": {},
     "output_type": "execute_result"
    }
   ],
   "source": [
    "dataframe"
   ]
  },
  {
   "cell_type": "markdown",
   "id": "01d08c9a-cad0-430b-8f60-c2d0881400c5",
   "metadata": {
    "tags": []
   },
   "source": [
    "Notice that we have modified the original `dataframe`!!!\n",
    "\n",
    "## Get basic information about the data\n",
    "\n",
    "We can use the `size` function to get the dimensions of the data frame. But first lets reload our dataframe since we just erased it:"
   ]
  },
  {
   "cell_type": "code",
   "execution_count": 16,
   "id": "7c4e54e7-995d-4c33-8377-4295b2f81252",
   "metadata": {
    "collapsed": true,
    "jupyter": {
     "outputs_hidden": true
    },
    "tags": []
   },
   "outputs": [
    {
     "data": {
      "text/html": [
       "<div class=\"data-frame\"><p>72,464 rows × 17 columns (omitted printing of 8 columns)</p><table class=\"data-frame\"><thead><tr><th></th><th>caseid</th><th>age_a</th><th>marstat</th><th>reldlife</th><th>religion</th><th>samesex</th><th>intvwyear</th><th>lifprtnr</th><th>timesmar</th></tr><tr><th></th><th title=\"Int64\">Int64</th><th title=\"Int64\">Int64</th><th title=\"Int64\">Int64</th><th title=\"String3\">String3</th><th title=\"String3\">String3</th><th title=\"String3\">String3</th><th title=\"Int64\">Int64</th><th title=\"String3\">String3</th><th title=\"String3\">String3</th></tr></thead><tbody><tr><th>1</th><td>80717</td><td>31</td><td>2</td><td>NA</td><td>1</td><td>1</td><td>2018</td><td>15</td><td>NA</td></tr><tr><th>2</th><td>80721</td><td>17</td><td>6</td><td>2</td><td>3</td><td>2</td><td>2018</td><td>1</td><td>NA</td></tr><tr><th>3</th><td>80722</td><td>16</td><td>6</td><td>NA</td><td>1</td><td>2</td><td>2019</td><td>2</td><td>NA</td></tr><tr><th>4</th><td>80724</td><td>49</td><td>4</td><td>2</td><td>4</td><td>3</td><td>2019</td><td>50</td><td>2</td></tr><tr><th>5</th><td>80732</td><td>39</td><td>6</td><td>NA</td><td>1</td><td>1</td><td>2019</td><td>0</td><td>NA</td></tr><tr><th>6</th><td>80734</td><td>37</td><td>1</td><td>2</td><td>2</td><td>2</td><td>2018</td><td>3</td><td>1</td></tr><tr><th>7</th><td>80735</td><td>17</td><td>6</td><td>1</td><td>3</td><td>4</td><td>2019</td><td>0</td><td>NA</td></tr><tr><th>8</th><td>80736</td><td>40</td><td>2</td><td>NA</td><td>1</td><td>1</td><td>2019</td><td>22</td><td>NA</td></tr><tr><th>9</th><td>80738</td><td>46</td><td>4</td><td>2</td><td>3</td><td>2</td><td>2018</td><td>30</td><td>1</td></tr><tr><th>10</th><td>80739</td><td>40</td><td>1</td><td>NA</td><td>1</td><td>1</td><td>2019</td><td>5</td><td>1</td></tr><tr><th>11</th><td>80740</td><td>31</td><td>6</td><td>NA</td><td>1</td><td>1</td><td>2017</td><td>0</td><td>NA</td></tr><tr><th>12</th><td>80741</td><td>34</td><td>6</td><td>2</td><td>4</td><td>1</td><td>2018</td><td>1</td><td>NA</td></tr><tr><th>13</th><td>80745</td><td>32</td><td>1</td><td>1</td><td>3</td><td>2</td><td>2019</td><td>4</td><td>1</td></tr><tr><th>14</th><td>80746</td><td>17</td><td>6</td><td>NA</td><td>1</td><td>1</td><td>2019</td><td>6</td><td>NA</td></tr><tr><th>15</th><td>80748</td><td>21</td><td>2</td><td>1</td><td>3</td><td>2</td><td>2018</td><td>1</td><td>NA</td></tr><tr><th>16</th><td>80749</td><td>17</td><td>6</td><td>2</td><td>2</td><td>2</td><td>2019</td><td>0</td><td>NA</td></tr><tr><th>17</th><td>80751</td><td>25</td><td>2</td><td>3</td><td>2</td><td>2</td><td>2019</td><td>3</td><td>NA</td></tr><tr><th>18</th><td>80753</td><td>22</td><td>6</td><td>3</td><td>3</td><td>2</td><td>2019</td><td>4</td><td>NA</td></tr><tr><th>19</th><td>80757</td><td>28</td><td>6</td><td>NA</td><td>1</td><td>4</td><td>2019</td><td>6</td><td>NA</td></tr><tr><th>20</th><td>80758</td><td>18</td><td>2</td><td>NA</td><td>1</td><td>3</td><td>2018</td><td>10</td><td>NA</td></tr><tr><th>21</th><td>80759</td><td>40</td><td>2</td><td>NA</td><td>1</td><td>3</td><td>2018</td><td>26</td><td>NA</td></tr><tr><th>22</th><td>80762</td><td>45</td><td>1</td><td>NA</td><td>1</td><td>5</td><td>2019</td><td>50</td><td>2</td></tr><tr><th>23</th><td>80765</td><td>34</td><td>6</td><td>2</td><td>3</td><td>2</td><td>2018</td><td>4</td><td>NA</td></tr><tr><th>24</th><td>80767</td><td>31</td><td>6</td><td>NA</td><td>1</td><td>1</td><td>2017</td><td>12</td><td>NA</td></tr><tr><th>25</th><td>80769</td><td>39</td><td>1</td><td>2</td><td>3</td><td>3</td><td>2018</td><td>39</td><td>2</td></tr><tr><th>26</th><td>80770</td><td>48</td><td>1</td><td>1</td><td>4</td><td>4</td><td>2018</td><td>3</td><td>1</td></tr><tr><th>27</th><td>80771</td><td>16</td><td>6</td><td>NA</td><td>1</td><td>2</td><td>2019</td><td>1</td><td>NA</td></tr><tr><th>28</th><td>80774</td><td>26</td><td>6</td><td>NA</td><td>1</td><td>2</td><td>2019</td><td>5</td><td>NA</td></tr><tr><th>29</th><td>80775</td><td>26</td><td>1</td><td>3</td><td>4</td><td>2</td><td>2019</td><td>11</td><td>1</td></tr><tr><th>30</th><td>80777</td><td>29</td><td>1</td><td>1</td><td>3</td><td>4</td><td>2018</td><td>13</td><td>1</td></tr><tr><th>&vellip;</th><td>&vellip;</td><td>&vellip;</td><td>&vellip;</td><td>&vellip;</td><td>&vellip;</td><td>&vellip;</td><td>&vellip;</td><td>&vellip;</td><td>&vellip;</td></tr></tbody></table></div>"
      ],
      "text/latex": [
       "\\begin{tabular}{r|cccccccccc}\n",
       "\t& caseid & age\\_a & marstat & reldlife & religion & samesex & intvwyear & lifprtnr & timesmar & \\\\\n",
       "\t\\hline\n",
       "\t& Int64 & Int64 & Int64 & String3 & String3 & String3 & Int64 & String3 & String3 & \\\\\n",
       "\t\\hline\n",
       "\t1 & 80717 & 31 & 2 & NA & 1 & 1 & 2018 & 15 & NA & $\\dots$ \\\\\n",
       "\t2 & 80721 & 17 & 6 & 2 & 3 & 2 & 2018 & 1 & NA & $\\dots$ \\\\\n",
       "\t3 & 80722 & 16 & 6 & NA & 1 & 2 & 2019 & 2 & NA & $\\dots$ \\\\\n",
       "\t4 & 80724 & 49 & 4 & 2 & 4 & 3 & 2019 & 50 & 2 & $\\dots$ \\\\\n",
       "\t5 & 80732 & 39 & 6 & NA & 1 & 1 & 2019 & 0 & NA & $\\dots$ \\\\\n",
       "\t6 & 80734 & 37 & 1 & 2 & 2 & 2 & 2018 & 3 & 1 & $\\dots$ \\\\\n",
       "\t7 & 80735 & 17 & 6 & 1 & 3 & 4 & 2019 & 0 & NA & $\\dots$ \\\\\n",
       "\t8 & 80736 & 40 & 2 & NA & 1 & 1 & 2019 & 22 & NA & $\\dots$ \\\\\n",
       "\t9 & 80738 & 46 & 4 & 2 & 3 & 2 & 2018 & 30 & 1 & $\\dots$ \\\\\n",
       "\t10 & 80739 & 40 & 1 & NA & 1 & 1 & 2019 & 5 & 1 & $\\dots$ \\\\\n",
       "\t11 & 80740 & 31 & 6 & NA & 1 & 1 & 2017 & 0 & NA & $\\dots$ \\\\\n",
       "\t12 & 80741 & 34 & 6 & 2 & 4 & 1 & 2018 & 1 & NA & $\\dots$ \\\\\n",
       "\t13 & 80745 & 32 & 1 & 1 & 3 & 2 & 2019 & 4 & 1 & $\\dots$ \\\\\n",
       "\t14 & 80746 & 17 & 6 & NA & 1 & 1 & 2019 & 6 & NA & $\\dots$ \\\\\n",
       "\t15 & 80748 & 21 & 2 & 1 & 3 & 2 & 2018 & 1 & NA & $\\dots$ \\\\\n",
       "\t16 & 80749 & 17 & 6 & 2 & 2 & 2 & 2019 & 0 & NA & $\\dots$ \\\\\n",
       "\t17 & 80751 & 25 & 2 & 3 & 2 & 2 & 2019 & 3 & NA & $\\dots$ \\\\\n",
       "\t18 & 80753 & 22 & 6 & 3 & 3 & 2 & 2019 & 4 & NA & $\\dots$ \\\\\n",
       "\t19 & 80757 & 28 & 6 & NA & 1 & 4 & 2019 & 6 & NA & $\\dots$ \\\\\n",
       "\t20 & 80758 & 18 & 2 & NA & 1 & 3 & 2018 & 10 & NA & $\\dots$ \\\\\n",
       "\t21 & 80759 & 40 & 2 & NA & 1 & 3 & 2018 & 26 & NA & $\\dots$ \\\\\n",
       "\t22 & 80762 & 45 & 1 & NA & 1 & 5 & 2019 & 50 & 2 & $\\dots$ \\\\\n",
       "\t23 & 80765 & 34 & 6 & 2 & 3 & 2 & 2018 & 4 & NA & $\\dots$ \\\\\n",
       "\t24 & 80767 & 31 & 6 & NA & 1 & 1 & 2017 & 12 & NA & $\\dots$ \\\\\n",
       "\t25 & 80769 & 39 & 1 & 2 & 3 & 3 & 2018 & 39 & 2 & $\\dots$ \\\\\n",
       "\t26 & 80770 & 48 & 1 & 1 & 4 & 4 & 2018 & 3 & 1 & $\\dots$ \\\\\n",
       "\t27 & 80771 & 16 & 6 & NA & 1 & 2 & 2019 & 1 & NA & $\\dots$ \\\\\n",
       "\t28 & 80774 & 26 & 6 & NA & 1 & 2 & 2019 & 5 & NA & $\\dots$ \\\\\n",
       "\t29 & 80775 & 26 & 1 & 3 & 4 & 2 & 2019 & 11 & 1 & $\\dots$ \\\\\n",
       "\t30 & 80777 & 29 & 1 & 1 & 3 & 4 & 2018 & 13 & 1 & $\\dots$ \\\\\n",
       "\t$\\dots$ & $\\dots$ & $\\dots$ & $\\dots$ & $\\dots$ & $\\dots$ & $\\dots$ & $\\dots$ & $\\dots$ & $\\dots$ &  \\\\\n",
       "\\end{tabular}\n"
      ],
      "text/plain": [
       "\u001b[1m72464×17 DataFrame\u001b[0m\n",
       "\u001b[1m   Row \u001b[0m│\u001b[1m caseid \u001b[0m\u001b[1m age_a \u001b[0m\u001b[1m marstat \u001b[0m\u001b[1m reldlife \u001b[0m\u001b[1m religion \u001b[0m\u001b[1m samesex \u001b[0m\u001b[1m intvwyear \u001b[0m\u001b[1m lifpr\u001b[0m ⋯\n",
       "\u001b[1m       \u001b[0m│\u001b[90m Int64  \u001b[0m\u001b[90m Int64 \u001b[0m\u001b[90m Int64   \u001b[0m\u001b[90m String3  \u001b[0m\u001b[90m String3  \u001b[0m\u001b[90m String3 \u001b[0m\u001b[90m Int64     \u001b[0m\u001b[90m Strin\u001b[0m ⋯\n",
       "───────┼────────────────────────────────────────────────────────────────────────\n",
       "     1 │  80717     31        2  NA        1         1             2018  15    ⋯\n",
       "     2 │  80721     17        6  2         3         2             2018  1\n",
       "     3 │  80722     16        6  NA        1         2             2019  2\n",
       "     4 │  80724     49        4  2         4         3             2019  50\n",
       "     5 │  80732     39        6  NA        1         1             2019  0     ⋯\n",
       "     6 │  80734     37        1  2         2         2             2018  3\n",
       "     7 │  80735     17        6  1         3         4             2019  0\n",
       "     8 │  80736     40        2  NA        1         1             2019  22\n",
       "     9 │  80738     46        4  2         3         2             2018  30    ⋯\n",
       "    10 │  80739     40        1  NA        1         1             2019  5\n",
       "    11 │  80740     31        6  NA        1         1             2017  0\n",
       "   ⋮   │   ⋮       ⋮       ⋮        ⋮         ⋮         ⋮         ⋮         ⋮  ⋱\n",
       " 72455 │  11640     20        6  2         3         2             2002  4\n",
       " 72456 │   5515     18        6  1         3         2             2002  0     ⋯\n",
       " 72457 │   1551     23        6  1         3         1             2002  0\n",
       " 72458 │   9358     27        1  1         3         1             2002  1\n",
       " 72459 │   2417     21        6  1         3         3             2002  1\n",
       " 72460 │   1074     15        6  2         3         2             2002  0     ⋯\n",
       " 72461 │   8877     37        4  1         3         1             2002  5\n",
       " 72462 │  11658     28        1  NA        1         4             2002  7\n",
       " 72463 │   2780     24        4  NA        1         2             2002  5\n",
       " 72464 │   5758     28        1  NA        NA        NA            2002  NA    ⋯\n",
       "\u001b[36m                                               10 columns and 72443 rows omitted\u001b[0m"
      ]
     },
     "execution_count": 16,
     "metadata": {},
     "output_type": "execute_result"
    }
   ],
   "source": [
    "dataframe = DataFrame(CSV.File(\"../data/nsfg/nsfg_2002_2019.csv\"))"
   ]
  },
  {
   "cell_type": "code",
   "execution_count": 17,
   "id": "98b0bd67-055f-42e6-b1db-0114780a086d",
   "metadata": {},
   "outputs": [
    {
     "data": {
      "text/plain": [
       "(72464, 17)"
      ]
     },
     "execution_count": 17,
     "metadata": {},
     "output_type": "execute_result"
    }
   ],
   "source": [
    "size(dataframe)"
   ]
  },
  {
   "cell_type": "markdown",
   "id": "4446b6a2-aedd-42d0-88ac-367f71761682",
   "metadata": {},
   "source": [
    "We can get the number of rows and columns:"
   ]
  },
  {
   "cell_type": "code",
   "execution_count": 18,
   "id": "1e20f697-297c-40a6-bd59-2482069c8a43",
   "metadata": {},
   "outputs": [
    {
     "data": {
      "text/plain": [
       "72464"
      ]
     },
     "execution_count": 18,
     "metadata": {},
     "output_type": "execute_result"
    }
   ],
   "source": [
    "nrow(dataframe)"
   ]
  },
  {
   "cell_type": "code",
   "execution_count": 19,
   "id": "e6eda968-8be9-4e84-8cc3-32983009facb",
   "metadata": {},
   "outputs": [
    {
     "data": {
      "text/plain": [
       "17"
      ]
     },
     "execution_count": 19,
     "metadata": {},
     "output_type": "execute_result"
    }
   ],
   "source": [
    "ncol(dataframe)"
   ]
  },
  {
   "cell_type": "markdown",
   "id": "edbbe97f-fd2b-4a28-b4fc-588891cef41e",
   "metadata": {},
   "source": [
    "The `describe` method is also available to get summary statistics:"
   ]
  },
  {
   "cell_type": "code",
   "execution_count": 20,
   "id": "6db7bda1-ba40-4d43-85e0-b384092b1479",
   "metadata": {},
   "outputs": [
    {
     "data": {
      "text/html": [
       "<div class=\"data-frame\"><p>17 rows × 7 columns</p><table class=\"data-frame\"><thead><tr><th></th><th>variable</th><th>mean</th><th>min</th><th>median</th><th>max</th><th>nmissing</th><th>eltype</th></tr><tr><th></th><th title=\"Symbol\">Symbol</th><th title=\"Union{Nothing, Float64}\">Union…</th><th title=\"Any\">Any</th><th title=\"Union{Nothing, Float64}\">Union…</th><th title=\"Any\">Any</th><th title=\"Int64\">Int64</th><th title=\"DataType\">DataType</th></tr></thead><tbody><tr><th>1</th><td>caseid</td><td>51709.2</td><td>1</td><td>55830.5</td><td>92062</td><td>0</td><td>Int64</td></tr><tr><th>2</th><td>age_a</td><td>29.2534</td><td>15</td><td>29.0</td><td>99</td><td>0</td><td>Int64</td></tr><tr><th>3</th><td>marstat</td><td>3.85194</td><td>1</td><td>5.0</td><td>9</td><td>0</td><td>Int64</td></tr><tr><th>4</th><td>reldlife</td><td></td><td>1</td><td></td><td>NA</td><td>0</td><td>String3</td></tr><tr><th>5</th><td>religion</td><td></td><td>1</td><td></td><td>NA</td><td>0</td><td>String3</td></tr><tr><th>6</th><td>samesex</td><td></td><td>1</td><td></td><td>NA</td><td>0</td><td>String3</td></tr><tr><th>7</th><td>intvwyear</td><td>2011.61</td><td>2002</td><td>2012.0</td><td>2019</td><td>0</td><td>Int64</td></tr><tr><th>8</th><td>lifprtnr</td><td></td><td>0</td><td></td><td>NA</td><td>0</td><td>String3</td></tr><tr><th>9</th><td>timesmar</td><td></td><td>1</td><td></td><td>NA</td><td>0</td><td>String3</td></tr><tr><th>10</th><td>attnd14</td><td></td><td>1</td><td></td><td>NA</td><td>0</td><td>String3</td></tr><tr><th>11</th><td>fmarit</td><td>3.56645</td><td>0</td><td>5.0</td><td>5</td><td>0</td><td>Int64</td></tr><tr><th>12</th><td>gayadopt</td><td></td><td>1</td><td></td><td>NA</td><td>0</td><td>String3</td></tr><tr><th>13</th><td>lifeprt</td><td></td><td>1</td><td></td><td>NA</td><td>0</td><td>String3</td></tr><tr><th>14</th><td>sxok18</td><td></td><td>1</td><td></td><td>NA</td><td>0</td><td>String3</td></tr><tr><th>15</th><td>staytog</td><td></td><td>1</td><td></td><td>NA</td><td>0</td><td>String3</td></tr><tr><th>16</th><td>prvntdiv</td><td></td><td>1</td><td></td><td>NA</td><td>0</td><td>String3</td></tr><tr><th>17</th><td>achieve</td><td></td><td>1</td><td></td><td>NA</td><td>0</td><td>String3</td></tr></tbody></table></div>"
      ],
      "text/latex": [
       "\\begin{tabular}{r|ccccccc}\n",
       "\t& variable & mean & min & median & max & nmissing & eltype\\\\\n",
       "\t\\hline\n",
       "\t& Symbol & Union… & Any & Union… & Any & Int64 & DataType\\\\\n",
       "\t\\hline\n",
       "\t1 & caseid & 51709.2 & 1 & 55830.5 & 92062 & 0 & Int64 \\\\\n",
       "\t2 & age\\_a & 29.2534 & 15 & 29.0 & 99 & 0 & Int64 \\\\\n",
       "\t3 & marstat & 3.85194 & 1 & 5.0 & 9 & 0 & Int64 \\\\\n",
       "\t4 & reldlife &  & 1 &  & NA & 0 & String3 \\\\\n",
       "\t5 & religion &  & 1 &  & NA & 0 & String3 \\\\\n",
       "\t6 & samesex &  & 1 &  & NA & 0 & String3 \\\\\n",
       "\t7 & intvwyear & 2011.61 & 2002 & 2012.0 & 2019 & 0 & Int64 \\\\\n",
       "\t8 & lifprtnr &  & 0 &  & NA & 0 & String3 \\\\\n",
       "\t9 & timesmar &  & 1 &  & NA & 0 & String3 \\\\\n",
       "\t10 & attnd14 &  & 1 &  & NA & 0 & String3 \\\\\n",
       "\t11 & fmarit & 3.56645 & 0 & 5.0 & 5 & 0 & Int64 \\\\\n",
       "\t12 & gayadopt &  & 1 &  & NA & 0 & String3 \\\\\n",
       "\t13 & lifeprt &  & 1 &  & NA & 0 & String3 \\\\\n",
       "\t14 & sxok18 &  & 1 &  & NA & 0 & String3 \\\\\n",
       "\t15 & staytog &  & 1 &  & NA & 0 & String3 \\\\\n",
       "\t16 & prvntdiv &  & 1 &  & NA & 0 & String3 \\\\\n",
       "\t17 & achieve &  & 1 &  & NA & 0 & String3 \\\\\n",
       "\\end{tabular}\n"
      ],
      "text/plain": [
       "\u001b[1m17×7 DataFrame\u001b[0m\n",
       "\u001b[1m Row \u001b[0m│\u001b[1m variable  \u001b[0m\u001b[1m mean    \u001b[0m\u001b[1m min  \u001b[0m\u001b[1m median  \u001b[0m\u001b[1m max   \u001b[0m\u001b[1m nmissing \u001b[0m\u001b[1m eltype   \u001b[0m\n",
       "\u001b[1m     \u001b[0m│\u001b[90m Symbol    \u001b[0m\u001b[90m Union…  \u001b[0m\u001b[90m Any  \u001b[0m\u001b[90m Union…  \u001b[0m\u001b[90m Any   \u001b[0m\u001b[90m Int64    \u001b[0m\u001b[90m DataType \u001b[0m\n",
       "─────┼──────────────────────────────────────────────────────────────\n",
       "   1 │ caseid     51709.2  1     55830.5  92062         0  Int64\n",
       "   2 │ age_a      29.2534  15    29.0     99            0  Int64\n",
       "   3 │ marstat    3.85194  1     5.0      9             0  Int64\n",
       "   4 │ reldlife  \u001b[90m         \u001b[0m 1    \u001b[90m         \u001b[0m NA            0  String3\n",
       "   5 │ religion  \u001b[90m         \u001b[0m 1    \u001b[90m         \u001b[0m NA            0  String3\n",
       "   6 │ samesex   \u001b[90m         \u001b[0m 1    \u001b[90m         \u001b[0m NA            0  String3\n",
       "   7 │ intvwyear  2011.61  2002  2012.0   2019          0  Int64\n",
       "   8 │ lifprtnr  \u001b[90m         \u001b[0m 0    \u001b[90m         \u001b[0m NA            0  String3\n",
       "   9 │ timesmar  \u001b[90m         \u001b[0m 1    \u001b[90m         \u001b[0m NA            0  String3\n",
       "  10 │ attnd14   \u001b[90m         \u001b[0m 1    \u001b[90m         \u001b[0m NA            0  String3\n",
       "  11 │ fmarit     3.56645  0     5.0      5             0  Int64\n",
       "  12 │ gayadopt  \u001b[90m         \u001b[0m 1    \u001b[90m         \u001b[0m NA            0  String3\n",
       "  13 │ lifeprt   \u001b[90m         \u001b[0m 1    \u001b[90m         \u001b[0m NA            0  String3\n",
       "  14 │ sxok18    \u001b[90m         \u001b[0m 1    \u001b[90m         \u001b[0m NA            0  String3\n",
       "  15 │ staytog   \u001b[90m         \u001b[0m 1    \u001b[90m         \u001b[0m NA            0  String3\n",
       "  16 │ prvntdiv  \u001b[90m         \u001b[0m 1    \u001b[90m         \u001b[0m NA            0  String3\n",
       "  17 │ achieve   \u001b[90m         \u001b[0m 1    \u001b[90m         \u001b[0m NA            0  String3"
      ]
     },
     "execution_count": 20,
     "metadata": {},
     "output_type": "execute_result"
    }
   ],
   "source": [
    "describe(dataframe)"
   ]
  },
  {
   "cell_type": "markdown",
   "id": "9d677b6c-1c5c-4d4a-a273-348bfb719d32",
   "metadata": {},
   "source": [
    "We can get the first and last rows of the dataframe with:"
   ]
  },
  {
   "cell_type": "code",
   "execution_count": 21,
   "id": "312f68c9-1757-447a-8c25-adebe3da8477",
   "metadata": {},
   "outputs": [
    {
     "data": {
      "text/html": [
       "<div class=\"data-frame\"><p>5 rows × 17 columns (omitted printing of 8 columns)</p><table class=\"data-frame\"><thead><tr><th></th><th>caseid</th><th>age_a</th><th>marstat</th><th>reldlife</th><th>religion</th><th>samesex</th><th>intvwyear</th><th>lifprtnr</th><th>timesmar</th></tr><tr><th></th><th title=\"Int64\">Int64</th><th title=\"Int64\">Int64</th><th title=\"Int64\">Int64</th><th title=\"String3\">String3</th><th title=\"String3\">String3</th><th title=\"String3\">String3</th><th title=\"Int64\">Int64</th><th title=\"String3\">String3</th><th title=\"String3\">String3</th></tr></thead><tbody><tr><th>1</th><td>80717</td><td>31</td><td>2</td><td>NA</td><td>1</td><td>1</td><td>2018</td><td>15</td><td>NA</td></tr><tr><th>2</th><td>80721</td><td>17</td><td>6</td><td>2</td><td>3</td><td>2</td><td>2018</td><td>1</td><td>NA</td></tr><tr><th>3</th><td>80722</td><td>16</td><td>6</td><td>NA</td><td>1</td><td>2</td><td>2019</td><td>2</td><td>NA</td></tr><tr><th>4</th><td>80724</td><td>49</td><td>4</td><td>2</td><td>4</td><td>3</td><td>2019</td><td>50</td><td>2</td></tr><tr><th>5</th><td>80732</td><td>39</td><td>6</td><td>NA</td><td>1</td><td>1</td><td>2019</td><td>0</td><td>NA</td></tr></tbody></table></div>"
      ],
      "text/latex": [
       "\\begin{tabular}{r|cccccccccc}\n",
       "\t& caseid & age\\_a & marstat & reldlife & religion & samesex & intvwyear & lifprtnr & timesmar & \\\\\n",
       "\t\\hline\n",
       "\t& Int64 & Int64 & Int64 & String3 & String3 & String3 & Int64 & String3 & String3 & \\\\\n",
       "\t\\hline\n",
       "\t1 & 80717 & 31 & 2 & NA & 1 & 1 & 2018 & 15 & NA & $\\dots$ \\\\\n",
       "\t2 & 80721 & 17 & 6 & 2 & 3 & 2 & 2018 & 1 & NA & $\\dots$ \\\\\n",
       "\t3 & 80722 & 16 & 6 & NA & 1 & 2 & 2019 & 2 & NA & $\\dots$ \\\\\n",
       "\t4 & 80724 & 49 & 4 & 2 & 4 & 3 & 2019 & 50 & 2 & $\\dots$ \\\\\n",
       "\t5 & 80732 & 39 & 6 & NA & 1 & 1 & 2019 & 0 & NA & $\\dots$ \\\\\n",
       "\\end{tabular}\n"
      ],
      "text/plain": [
       "\u001b[1m5×17 DataFrame\u001b[0m\n",
       "\u001b[1m Row \u001b[0m│\u001b[1m caseid \u001b[0m\u001b[1m age_a \u001b[0m\u001b[1m marstat \u001b[0m\u001b[1m reldlife \u001b[0m\u001b[1m religion \u001b[0m\u001b[1m samesex \u001b[0m\u001b[1m intvwyear \u001b[0m\u001b[1m lifprtn\u001b[0m ⋯\n",
       "\u001b[1m     \u001b[0m│\u001b[90m Int64  \u001b[0m\u001b[90m Int64 \u001b[0m\u001b[90m Int64   \u001b[0m\u001b[90m String3  \u001b[0m\u001b[90m String3  \u001b[0m\u001b[90m String3 \u001b[0m\u001b[90m Int64     \u001b[0m\u001b[90m String3\u001b[0m ⋯\n",
       "─────┼──────────────────────────────────────────────────────────────────────────\n",
       "   1 │  80717     31        2  NA        1         1             2018  15      ⋯\n",
       "   2 │  80721     17        6  2         3         2             2018  1\n",
       "   3 │  80722     16        6  NA        1         2             2019  2\n",
       "   4 │  80724     49        4  2         4         3             2019  50\n",
       "   5 │  80732     39        6  NA        1         1             2019  0       ⋯\n",
       "\u001b[36m                                                              10 columns omitted\u001b[0m"
      ]
     },
     "execution_count": 21,
     "metadata": {},
     "output_type": "execute_result"
    }
   ],
   "source": [
    "first(dataframe, 5)"
   ]
  },
  {
   "cell_type": "code",
   "execution_count": 22,
   "id": "5c827326-6fa2-4049-8a9a-8d232fa1c116",
   "metadata": {},
   "outputs": [
    {
     "data": {
      "text/html": [
       "<div class=\"data-frame\"><p>3 rows × 17 columns (omitted printing of 8 columns)</p><table class=\"data-frame\"><thead><tr><th></th><th>caseid</th><th>age_a</th><th>marstat</th><th>reldlife</th><th>religion</th><th>samesex</th><th>intvwyear</th><th>lifprtnr</th><th>timesmar</th></tr><tr><th></th><th title=\"Int64\">Int64</th><th title=\"Int64\">Int64</th><th title=\"Int64\">Int64</th><th title=\"String3\">String3</th><th title=\"String3\">String3</th><th title=\"String3\">String3</th><th title=\"Int64\">Int64</th><th title=\"String3\">String3</th><th title=\"String3\">String3</th></tr></thead><tbody><tr><th>1</th><td>11658</td><td>28</td><td>1</td><td>NA</td><td>1</td><td>4</td><td>2002</td><td>7</td><td>1</td></tr><tr><th>2</th><td>2780</td><td>24</td><td>4</td><td>NA</td><td>1</td><td>2</td><td>2002</td><td>5</td><td>1</td></tr><tr><th>3</th><td>5758</td><td>28</td><td>1</td><td>NA</td><td>NA</td><td>NA</td><td>2002</td><td>NA</td><td>1</td></tr></tbody></table></div>"
      ],
      "text/latex": [
       "\\begin{tabular}{r|cccccccccc}\n",
       "\t& caseid & age\\_a & marstat & reldlife & religion & samesex & intvwyear & lifprtnr & timesmar & \\\\\n",
       "\t\\hline\n",
       "\t& Int64 & Int64 & Int64 & String3 & String3 & String3 & Int64 & String3 & String3 & \\\\\n",
       "\t\\hline\n",
       "\t1 & 11658 & 28 & 1 & NA & 1 & 4 & 2002 & 7 & 1 & $\\dots$ \\\\\n",
       "\t2 & 2780 & 24 & 4 & NA & 1 & 2 & 2002 & 5 & 1 & $\\dots$ \\\\\n",
       "\t3 & 5758 & 28 & 1 & NA & NA & NA & 2002 & NA & 1 & $\\dots$ \\\\\n",
       "\\end{tabular}\n"
      ],
      "text/plain": [
       "\u001b[1m3×17 DataFrame\u001b[0m\n",
       "\u001b[1m Row \u001b[0m│\u001b[1m caseid \u001b[0m\u001b[1m age_a \u001b[0m\u001b[1m marstat \u001b[0m\u001b[1m reldlife \u001b[0m\u001b[1m religion \u001b[0m\u001b[1m samesex \u001b[0m\u001b[1m intvwyear \u001b[0m\u001b[1m lifprtn\u001b[0m ⋯\n",
       "\u001b[1m     \u001b[0m│\u001b[90m Int64  \u001b[0m\u001b[90m Int64 \u001b[0m\u001b[90m Int64   \u001b[0m\u001b[90m String3  \u001b[0m\u001b[90m String3  \u001b[0m\u001b[90m String3 \u001b[0m\u001b[90m Int64     \u001b[0m\u001b[90m String3\u001b[0m ⋯\n",
       "─────┼──────────────────────────────────────────────────────────────────────────\n",
       "   1 │  11658     28        1  NA        1         4             2002  7       ⋯\n",
       "   2 │   2780     24        4  NA        1         2             2002  5\n",
       "   3 │   5758     28        1  NA        NA        NA            2002  NA\n",
       "\u001b[36m                                                              10 columns omitted\u001b[0m"
      ]
     },
     "execution_count": 22,
     "metadata": {},
     "output_type": "execute_result"
    }
   ],
   "source": [
    "last(dataframe, 3)"
   ]
  },
  {
   "cell_type": "markdown",
   "id": "a82e6c52-f8b2-4510-bad6-5949f91dd96d",
   "metadata": {},
   "source": [
    "You can display all collumns or all rows with the `show` function and the `allcols` or `allrows` arguments respectively:"
   ]
  },
  {
   "cell_type": "code",
   "execution_count": 23,
   "id": "bfa8dc84-98c8-466f-98ba-a3c10c6c5c09",
   "metadata": {},
   "outputs": [
    {
     "name": "stdout",
     "output_type": "stream",
     "text": [
      "\u001b[1m72464×17 DataFrame\u001b[0m\n",
      "\u001b[1m   Row \u001b[0m│\u001b[1m caseid \u001b[0m\u001b[1m age_a \u001b[0m\u001b[1m marstat \u001b[0m\u001b[1m reldlife \u001b[0m\u001b[1m religion \u001b[0m\u001b[1m samesex \u001b[0m\u001b[1m intvwyear \u001b[0m\u001b[1m lifprtnr \u001b[0m\u001b[1m timesmar \u001b[0m\u001b[1m attnd14 \u001b[0m\u001b[1m fmarit \u001b[0m\u001b[1m gayadopt \u001b[0m\u001b[1m lifeprt \u001b[0m\u001b[1m sxok18  \u001b[0m\u001b[1m staytog \u001b[0m\u001b[1m prvntdiv \u001b[0m\u001b[1m achieve \u001b[0m\n",
      "\u001b[1m       \u001b[0m│\u001b[90m Int64  \u001b[0m\u001b[90m Int64 \u001b[0m\u001b[90m Int64   \u001b[0m\u001b[90m String3  \u001b[0m\u001b[90m String3  \u001b[0m\u001b[90m String3 \u001b[0m\u001b[90m Int64     \u001b[0m\u001b[90m String3  \u001b[0m\u001b[90m String3  \u001b[0m\u001b[90m String3 \u001b[0m\u001b[90m Int64  \u001b[0m\u001b[90m String3  \u001b[0m\u001b[90m String3 \u001b[0m\u001b[90m String3 \u001b[0m\u001b[90m String3 \u001b[0m\u001b[90m String3  \u001b[0m\u001b[90m String3 \u001b[0m\n",
      "───────┼─────────────────────────────────────────────────────────────────────────────────────────────────────────────────────────────────────────────────────────────\n",
      "     1 │  80717     31        2  NA        1         1             2018  15        NA        NA            5  NA        NA       NA       NA       NA        NA\n",
      "     2 │  80721     17        6  2         3         2             2018  1         NA        6             5  NA        NA       NA       NA       NA        NA\n",
      "     3 │  80722     16        6  NA        1         2             2019  2         NA        2             5  NA        NA       NA       NA       NA        NA\n",
      "     4 │  80724     49        4  2         4         3             2019  50        2         NA            3  NA        NA       NA       NA       NA        NA\n",
      "     5 │  80732     39        6  NA        1         1             2019  0         NA        NA            5  NA        NA       NA       NA       NA        NA\n",
      "     6 │  80734     37        1  2         2         2             2018  3         1         NA            1  NA        NA       NA       NA       NA        NA\n",
      "     7 │  80735     17        6  1         3         4             2019  0         NA        2             5  NA        NA       NA       NA       NA        NA\n",
      "     8 │  80736     40        2  NA        1         1             2019  22        NA        NA            5  NA        NA       NA       NA       NA        NA\n",
      "     9 │  80738     46        4  2         3         2             2018  30        1         NA            3  NA        NA       NA       NA       NA        NA\n",
      "    10 │  80739     40        1  NA        1         1             2019  5         1         NA            1  NA        NA       NA       NA       NA        NA\n",
      "    11 │  80740     31        6  NA        1         1             2017  0         NA        NA            5  NA        NA       NA       NA       NA        NA\n",
      "   ⋮   │   ⋮       ⋮       ⋮        ⋮         ⋮         ⋮         ⋮         ⋮         ⋮         ⋮       ⋮        ⋮         ⋮        ⋮        ⋮        ⋮         ⋮\n",
      " 72455 │  11640     20        6  2         3         2             2002  4         NA        2             5  2         4        2        2        NA        3\n",
      " 72456 │   5515     18        6  1         3         2             2002  0         NA        1             5  3         NA       3        4        NA        2\n",
      " 72457 │   1551     23        6  1         3         1             2002  0         NA        2             5  4         NA       4        4        NA        2\n",
      " 72458 │   9358     27        1  1         3         1             2002  1         1         NA            1  4         1        4        3        NA        3\n",
      " 72459 │   2417     21        6  1         3         3             2002  1         NA        3             5  2         1        4        2        NA        3\n",
      " 72460 │   1074     15        6  2         3         2             2002  0         NA        4             5  3         NA       3        3        NA        2\n",
      " 72461 │   8877     37        4  1         3         1             2002  5         1         NA            3  4         5        3        1        NA        3\n",
      " 72462 │  11658     28        1  NA        1         4             2002  7         1         NA            1  2         7        2        3        NA        3\n",
      " 72463 │   2780     24        4  NA        1         2             2002  5         1         5             3  4         5        2        2        NA        1\n",
      " 72464 │   5758     28        1  NA        NA        NA            2002  NA        1         NA            1  NA        1        NA       NA       NA        NA\n",
      "\u001b[36m                                                                                                                                                   72443 rows omitted\u001b[0m"
     ]
    }
   ],
   "source": [
    "show(dataframe, allcols=true)"
   ]
  },
  {
   "cell_type": "markdown",
   "id": "138a69a5-d2eb-4dad-856c-b68b96301372",
   "metadata": {
    "tags": []
   },
   "source": [
    "## Selecting Data\n",
    "\n",
    "### Indexing Syntax"
   ]
  },
  {
   "cell_type": "code",
   "execution_count": 24,
   "id": "1a5b1d0c-2b3e-4ca5-8378-5872461c2258",
   "metadata": {},
   "outputs": [
    {
     "data": {
      "text/html": [
       "<div class=\"data-frame\"><p>3 rows × 2 columns</p><table class=\"data-frame\"><thead><tr><th></th><th>caseid</th><th>age_a</th></tr><tr><th></th><th title=\"Int64\">Int64</th><th title=\"Int64\">Int64</th></tr></thead><tbody><tr><th>1</th><td>80717</td><td>31</td></tr><tr><th>2</th><td>80721</td><td>17</td></tr><tr><th>3</th><td>80722</td><td>16</td></tr></tbody></table></div>"
      ],
      "text/latex": [
       "\\begin{tabular}{r|cc}\n",
       "\t& caseid & age\\_a\\\\\n",
       "\t\\hline\n",
       "\t& Int64 & Int64\\\\\n",
       "\t\\hline\n",
       "\t1 & 80717 & 31 \\\\\n",
       "\t2 & 80721 & 17 \\\\\n",
       "\t3 & 80722 & 16 \\\\\n",
       "\\end{tabular}\n"
      ],
      "text/plain": [
       "\u001b[1m3×2 DataFrame\u001b[0m\n",
       "\u001b[1m Row \u001b[0m│\u001b[1m caseid \u001b[0m\u001b[1m age_a \u001b[0m\n",
       "\u001b[1m     \u001b[0m│\u001b[90m Int64  \u001b[0m\u001b[90m Int64 \u001b[0m\n",
       "─────┼───────────────\n",
       "   1 │  80717     31\n",
       "   2 │  80721     17\n",
       "   3 │  80722     16"
      ]
     },
     "execution_count": 24,
     "metadata": {},
     "output_type": "execute_result"
    }
   ],
   "source": [
    "dataframe[1:3, [:caseid, :age_a]]"
   ]
  },
  {
   "cell_type": "code",
   "execution_count": 25,
   "id": "a41cc836-59c9-4aba-8d92-fb3a177ff5be",
   "metadata": {},
   "outputs": [
    {
     "data": {
      "text/html": [
       "<div class=\"data-frame\"><p>6 rows × 17 columns (omitted printing of 8 columns)</p><table class=\"data-frame\"><thead><tr><th></th><th>caseid</th><th>age_a</th><th>marstat</th><th>reldlife</th><th>religion</th><th>samesex</th><th>intvwyear</th><th>lifprtnr</th><th>timesmar</th></tr><tr><th></th><th title=\"Int64\">Int64</th><th title=\"Int64\">Int64</th><th title=\"Int64\">Int64</th><th title=\"String3\">String3</th><th title=\"String3\">String3</th><th title=\"String3\">String3</th><th title=\"Int64\">Int64</th><th title=\"String3\">String3</th><th title=\"String3\">String3</th></tr></thead><tbody><tr><th>1</th><td>80717</td><td>31</td><td>2</td><td>NA</td><td>1</td><td>1</td><td>2018</td><td>15</td><td>NA</td></tr><tr><th>2</th><td>80721</td><td>17</td><td>6</td><td>2</td><td>3</td><td>2</td><td>2018</td><td>1</td><td>NA</td></tr><tr><th>3</th><td>80722</td><td>16</td><td>6</td><td>NA</td><td>1</td><td>2</td><td>2019</td><td>2</td><td>NA</td></tr><tr><th>4</th><td>80724</td><td>49</td><td>4</td><td>2</td><td>4</td><td>3</td><td>2019</td><td>50</td><td>2</td></tr><tr><th>5</th><td>80732</td><td>39</td><td>6</td><td>NA</td><td>1</td><td>1</td><td>2019</td><td>0</td><td>NA</td></tr><tr><th>6</th><td>80734</td><td>37</td><td>1</td><td>2</td><td>2</td><td>2</td><td>2018</td><td>3</td><td>1</td></tr></tbody></table></div>"
      ],
      "text/latex": [
       "\\begin{tabular}{r|cccccccccc}\n",
       "\t& caseid & age\\_a & marstat & reldlife & religion & samesex & intvwyear & lifprtnr & timesmar & \\\\\n",
       "\t\\hline\n",
       "\t& Int64 & Int64 & Int64 & String3 & String3 & String3 & Int64 & String3 & String3 & \\\\\n",
       "\t\\hline\n",
       "\t1 & 80717 & 31 & 2 & NA & 1 & 1 & 2018 & 15 & NA & $\\dots$ \\\\\n",
       "\t2 & 80721 & 17 & 6 & 2 & 3 & 2 & 2018 & 1 & NA & $\\dots$ \\\\\n",
       "\t3 & 80722 & 16 & 6 & NA & 1 & 2 & 2019 & 2 & NA & $\\dots$ \\\\\n",
       "\t4 & 80724 & 49 & 4 & 2 & 4 & 3 & 2019 & 50 & 2 & $\\dots$ \\\\\n",
       "\t5 & 80732 & 39 & 6 & NA & 1 & 1 & 2019 & 0 & NA & $\\dots$ \\\\\n",
       "\t6 & 80734 & 37 & 1 & 2 & 2 & 2 & 2018 & 3 & 1 & $\\dots$ \\\\\n",
       "\\end{tabular}\n"
      ],
      "text/plain": [
       "\u001b[1m6×17 DataFrame\u001b[0m\n",
       "\u001b[1m Row \u001b[0m│\u001b[1m caseid \u001b[0m\u001b[1m age_a \u001b[0m\u001b[1m marstat \u001b[0m\u001b[1m reldlife \u001b[0m\u001b[1m religion \u001b[0m\u001b[1m samesex \u001b[0m\u001b[1m intvwyear \u001b[0m\u001b[1m lifprtn\u001b[0m ⋯\n",
       "\u001b[1m     \u001b[0m│\u001b[90m Int64  \u001b[0m\u001b[90m Int64 \u001b[0m\u001b[90m Int64   \u001b[0m\u001b[90m String3  \u001b[0m\u001b[90m String3  \u001b[0m\u001b[90m String3 \u001b[0m\u001b[90m Int64     \u001b[0m\u001b[90m String3\u001b[0m ⋯\n",
       "─────┼──────────────────────────────────────────────────────────────────────────\n",
       "   1 │  80717     31        2  NA        1         1             2018  15      ⋯\n",
       "   2 │  80721     17        6  2         3         2             2018  1\n",
       "   3 │  80722     16        6  NA        1         2             2019  2\n",
       "   4 │  80724     49        4  2         4         3             2019  50\n",
       "   5 │  80732     39        6  NA        1         1             2019  0       ⋯\n",
       "   6 │  80734     37        1  2         2         2             2018  3\n",
       "\u001b[36m                                                              10 columns omitted\u001b[0m"
      ]
     },
     "execution_count": 25,
     "metadata": {},
     "output_type": "execute_result"
    }
   ],
   "source": [
    "dataframe[1:6, :]"
   ]
  },
  {
   "cell_type": "code",
   "execution_count": 26,
   "id": "fbecfaba-9aa6-4d7b-8cfa-8f654af390fd",
   "metadata": {
    "collapsed": true,
    "jupyter": {
     "outputs_hidden": true
    },
    "tags": []
   },
   "outputs": [
    {
     "data": {
      "text/html": [
       "<div class=\"data-frame\"><p>72,464 rows × 2 columns</p><table class=\"data-frame\"><thead><tr><th></th><th>caseid</th><th>age_a</th></tr><tr><th></th><th title=\"Int64\">Int64</th><th title=\"Int64\">Int64</th></tr></thead><tbody><tr><th>1</th><td>80717</td><td>31</td></tr><tr><th>2</th><td>80721</td><td>17</td></tr><tr><th>3</th><td>80722</td><td>16</td></tr><tr><th>4</th><td>80724</td><td>49</td></tr><tr><th>5</th><td>80732</td><td>39</td></tr><tr><th>6</th><td>80734</td><td>37</td></tr><tr><th>7</th><td>80735</td><td>17</td></tr><tr><th>8</th><td>80736</td><td>40</td></tr><tr><th>9</th><td>80738</td><td>46</td></tr><tr><th>10</th><td>80739</td><td>40</td></tr><tr><th>11</th><td>80740</td><td>31</td></tr><tr><th>12</th><td>80741</td><td>34</td></tr><tr><th>13</th><td>80745</td><td>32</td></tr><tr><th>14</th><td>80746</td><td>17</td></tr><tr><th>15</th><td>80748</td><td>21</td></tr><tr><th>16</th><td>80749</td><td>17</td></tr><tr><th>17</th><td>80751</td><td>25</td></tr><tr><th>18</th><td>80753</td><td>22</td></tr><tr><th>19</th><td>80757</td><td>28</td></tr><tr><th>20</th><td>80758</td><td>18</td></tr><tr><th>21</th><td>80759</td><td>40</td></tr><tr><th>22</th><td>80762</td><td>45</td></tr><tr><th>23</th><td>80765</td><td>34</td></tr><tr><th>24</th><td>80767</td><td>31</td></tr><tr><th>25</th><td>80769</td><td>39</td></tr><tr><th>26</th><td>80770</td><td>48</td></tr><tr><th>27</th><td>80771</td><td>16</td></tr><tr><th>28</th><td>80774</td><td>26</td></tr><tr><th>29</th><td>80775</td><td>26</td></tr><tr><th>30</th><td>80777</td><td>29</td></tr><tr><th>&vellip;</th><td>&vellip;</td><td>&vellip;</td></tr></tbody></table></div>"
      ],
      "text/latex": [
       "\\begin{tabular}{r|cc}\n",
       "\t& caseid & age\\_a\\\\\n",
       "\t\\hline\n",
       "\t& Int64 & Int64\\\\\n",
       "\t\\hline\n",
       "\t1 & 80717 & 31 \\\\\n",
       "\t2 & 80721 & 17 \\\\\n",
       "\t3 & 80722 & 16 \\\\\n",
       "\t4 & 80724 & 49 \\\\\n",
       "\t5 & 80732 & 39 \\\\\n",
       "\t6 & 80734 & 37 \\\\\n",
       "\t7 & 80735 & 17 \\\\\n",
       "\t8 & 80736 & 40 \\\\\n",
       "\t9 & 80738 & 46 \\\\\n",
       "\t10 & 80739 & 40 \\\\\n",
       "\t11 & 80740 & 31 \\\\\n",
       "\t12 & 80741 & 34 \\\\\n",
       "\t13 & 80745 & 32 \\\\\n",
       "\t14 & 80746 & 17 \\\\\n",
       "\t15 & 80748 & 21 \\\\\n",
       "\t16 & 80749 & 17 \\\\\n",
       "\t17 & 80751 & 25 \\\\\n",
       "\t18 & 80753 & 22 \\\\\n",
       "\t19 & 80757 & 28 \\\\\n",
       "\t20 & 80758 & 18 \\\\\n",
       "\t21 & 80759 & 40 \\\\\n",
       "\t22 & 80762 & 45 \\\\\n",
       "\t23 & 80765 & 34 \\\\\n",
       "\t24 & 80767 & 31 \\\\\n",
       "\t25 & 80769 & 39 \\\\\n",
       "\t26 & 80770 & 48 \\\\\n",
       "\t27 & 80771 & 16 \\\\\n",
       "\t28 & 80774 & 26 \\\\\n",
       "\t29 & 80775 & 26 \\\\\n",
       "\t30 & 80777 & 29 \\\\\n",
       "\t$\\dots$ & $\\dots$ & $\\dots$ \\\\\n",
       "\\end{tabular}\n"
      ],
      "text/plain": [
       "\u001b[1m72464×2 DataFrame\u001b[0m\n",
       "\u001b[1m   Row \u001b[0m│\u001b[1m caseid \u001b[0m\u001b[1m age_a \u001b[0m\n",
       "\u001b[1m       \u001b[0m│\u001b[90m Int64  \u001b[0m\u001b[90m Int64 \u001b[0m\n",
       "───────┼───────────────\n",
       "     1 │  80717     31\n",
       "     2 │  80721     17\n",
       "     3 │  80722     16\n",
       "     4 │  80724     49\n",
       "     5 │  80732     39\n",
       "     6 │  80734     37\n",
       "     7 │  80735     17\n",
       "     8 │  80736     40\n",
       "     9 │  80738     46\n",
       "    10 │  80739     40\n",
       "    11 │  80740     31\n",
       "   ⋮   │   ⋮       ⋮\n",
       " 72455 │  11640     20\n",
       " 72456 │   5515     18\n",
       " 72457 │   1551     23\n",
       " 72458 │   9358     27\n",
       " 72459 │   2417     21\n",
       " 72460 │   1074     15\n",
       " 72461 │   8877     37\n",
       " 72462 │  11658     28\n",
       " 72463 │   2780     24\n",
       " 72464 │   5758     28\n",
       "\u001b[36m     72443 rows omitted\u001b[0m"
      ]
     },
     "execution_count": 26,
     "metadata": {},
     "output_type": "execute_result"
    }
   ],
   "source": [
    "dataframe[:, [:caseid, :age_a]]"
   ]
  },
  {
   "cell_type": "code",
   "execution_count": 27,
   "id": "f334b0b1-ed6c-43eb-a5bf-04e5b43c1a9a",
   "metadata": {
    "tags": []
   },
   "outputs": [
    {
     "data": {
      "text/html": [
       "<div class=\"data-frame\"><p>72,464 rows × 2 columns</p><table class=\"data-frame\"><thead><tr><th></th><th>caseid</th><th>age_a</th></tr><tr><th></th><th title=\"Int64\">Int64</th><th title=\"Int64\">Int64</th></tr></thead><tbody><tr><th>1</th><td>80717</td><td>31</td></tr><tr><th>2</th><td>80721</td><td>17</td></tr><tr><th>3</th><td>80722</td><td>16</td></tr><tr><th>4</th><td>80724</td><td>49</td></tr><tr><th>5</th><td>80732</td><td>39</td></tr><tr><th>6</th><td>80734</td><td>37</td></tr><tr><th>7</th><td>80735</td><td>17</td></tr><tr><th>8</th><td>80736</td><td>40</td></tr><tr><th>9</th><td>80738</td><td>46</td></tr><tr><th>10</th><td>80739</td><td>40</td></tr><tr><th>11</th><td>80740</td><td>31</td></tr><tr><th>12</th><td>80741</td><td>34</td></tr><tr><th>13</th><td>80745</td><td>32</td></tr><tr><th>14</th><td>80746</td><td>17</td></tr><tr><th>15</th><td>80748</td><td>21</td></tr><tr><th>16</th><td>80749</td><td>17</td></tr><tr><th>17</th><td>80751</td><td>25</td></tr><tr><th>18</th><td>80753</td><td>22</td></tr><tr><th>19</th><td>80757</td><td>28</td></tr><tr><th>20</th><td>80758</td><td>18</td></tr><tr><th>21</th><td>80759</td><td>40</td></tr><tr><th>22</th><td>80762</td><td>45</td></tr><tr><th>23</th><td>80765</td><td>34</td></tr><tr><th>24</th><td>80767</td><td>31</td></tr><tr><th>25</th><td>80769</td><td>39</td></tr><tr><th>26</th><td>80770</td><td>48</td></tr><tr><th>27</th><td>80771</td><td>16</td></tr><tr><th>28</th><td>80774</td><td>26</td></tr><tr><th>29</th><td>80775</td><td>26</td></tr><tr><th>30</th><td>80777</td><td>29</td></tr><tr><th>&vellip;</th><td>&vellip;</td><td>&vellip;</td></tr></tbody></table></div>"
      ],
      "text/latex": [
       "\\begin{tabular}{r|cc}\n",
       "\t& caseid & age\\_a\\\\\n",
       "\t\\hline\n",
       "\t& Int64 & Int64\\\\\n",
       "\t\\hline\n",
       "\t1 & 80717 & 31 \\\\\n",
       "\t2 & 80721 & 17 \\\\\n",
       "\t3 & 80722 & 16 \\\\\n",
       "\t4 & 80724 & 49 \\\\\n",
       "\t5 & 80732 & 39 \\\\\n",
       "\t6 & 80734 & 37 \\\\\n",
       "\t7 & 80735 & 17 \\\\\n",
       "\t8 & 80736 & 40 \\\\\n",
       "\t9 & 80738 & 46 \\\\\n",
       "\t10 & 80739 & 40 \\\\\n",
       "\t11 & 80740 & 31 \\\\\n",
       "\t12 & 80741 & 34 \\\\\n",
       "\t13 & 80745 & 32 \\\\\n",
       "\t14 & 80746 & 17 \\\\\n",
       "\t15 & 80748 & 21 \\\\\n",
       "\t16 & 80749 & 17 \\\\\n",
       "\t17 & 80751 & 25 \\\\\n",
       "\t18 & 80753 & 22 \\\\\n",
       "\t19 & 80757 & 28 \\\\\n",
       "\t20 & 80758 & 18 \\\\\n",
       "\t21 & 80759 & 40 \\\\\n",
       "\t22 & 80762 & 45 \\\\\n",
       "\t23 & 80765 & 34 \\\\\n",
       "\t24 & 80767 & 31 \\\\\n",
       "\t25 & 80769 & 39 \\\\\n",
       "\t26 & 80770 & 48 \\\\\n",
       "\t27 & 80771 & 16 \\\\\n",
       "\t28 & 80774 & 26 \\\\\n",
       "\t29 & 80775 & 26 \\\\\n",
       "\t30 & 80777 & 29 \\\\\n",
       "\t$\\dots$ & $\\dots$ & $\\dots$ \\\\\n",
       "\\end{tabular}\n"
      ],
      "text/plain": [
       "\u001b[1m72464×2 DataFrame\u001b[0m\n",
       "\u001b[1m   Row \u001b[0m│\u001b[1m caseid \u001b[0m\u001b[1m age_a \u001b[0m\n",
       "\u001b[1m       \u001b[0m│\u001b[90m Int64  \u001b[0m\u001b[90m Int64 \u001b[0m\n",
       "───────┼───────────────\n",
       "     1 │  80717     31\n",
       "     2 │  80721     17\n",
       "     3 │  80722     16\n",
       "     4 │  80724     49\n",
       "     5 │  80732     39\n",
       "     6 │  80734     37\n",
       "     7 │  80735     17\n",
       "     8 │  80736     40\n",
       "     9 │  80738     46\n",
       "    10 │  80739     40\n",
       "    11 │  80740     31\n",
       "   ⋮   │   ⋮       ⋮\n",
       " 72455 │  11640     20\n",
       " 72456 │   5515     18\n",
       " 72457 │   1551     23\n",
       " 72458 │   9358     27\n",
       " 72459 │   2417     21\n",
       " 72460 │   1074     15\n",
       " 72461 │   8877     37\n",
       " 72462 │  11658     28\n",
       " 72463 │   2780     24\n",
       " 72464 │   5758     28\n",
       "\u001b[36m     72443 rows omitted\u001b[0m"
      ]
     },
     "execution_count": 27,
     "metadata": {},
     "output_type": "execute_result"
    }
   ],
   "source": [
    "dataframe[!, [:caseid, :age_a]]"
   ]
  },
  {
   "cell_type": "markdown",
   "id": "e58c6c34-8a7a-401b-b644-93d6e699a7c9",
   "metadata": {},
   "source": [
    "As it was explained earler in this tutorial the difference between using `!` and `:` when passing a row index is that `!` does not perform a copy of columns, while `:` does.\n",
    "\n",
    " - The `!` selector normally should be avoided as it can lead to hard to catch bugs.\n",
    " - However, when working with very large data frames it can be useful to save memory and improve performance of operations.\n",
    " \n",
    " \n",
    "To select a single cell or value from the data frame we do:"
   ]
  },
  {
   "cell_type": "code",
   "execution_count": 44,
   "id": "0c3f0c2f-6d58-49e4-81dd-89d3804a8b72",
   "metadata": {
    "tags": []
   },
   "outputs": [
    {
     "data": {
      "text/plain": [
       "\"6\""
      ]
     },
     "execution_count": 44,
     "metadata": {},
     "output_type": "execute_result"
    }
   ],
   "source": [
    "dataframe[2,10]"
   ]
  },
  {
   "cell_type": "markdown",
   "id": "3abb87e8-3fba-4de3-9441-5cdb74a45dcd",
   "metadata": {},
   "source": [
    "The indexing syntax can also be used to select rows based on conditions on variables:"
   ]
  },
  {
   "cell_type": "code",
   "execution_count": 133,
   "id": "3b791015-37d2-4039-b1c6-c25748395cb3",
   "metadata": {},
   "outputs": [
    {
     "data": {
      "text/html": [
       "<div class=\"data-frame\"><p>64,351 rows × 17 columns (omitted printing of 8 columns)</p><table class=\"data-frame\"><thead><tr><th></th><th>caseid</th><th>age_a</th><th>marstat</th><th>reldlife</th><th>religion</th><th>samesex</th><th>intvwyear</th><th>lifprtnr</th><th>timesmar</th></tr><tr><th></th><th title=\"Int64\">Int64</th><th title=\"Int64\">Int64</th><th title=\"Int64\">Int64</th><th title=\"String3\">String3</th><th title=\"String3\">String3</th><th title=\"String3\">String3</th><th title=\"Int64\">Int64</th><th title=\"String3\">String3</th><th title=\"String3\">String3</th></tr></thead><tbody><tr><th>1</th><td>80717</td><td>31</td><td>1</td><td>NA</td><td>1</td><td>1</td><td>2018</td><td>15</td><td>NA</td></tr><tr><th>2</th><td>80724</td><td>49</td><td>1</td><td>2</td><td>4</td><td>3</td><td>2019</td><td>50</td><td>2</td></tr><tr><th>3</th><td>80732</td><td>39</td><td>1</td><td>NA</td><td>1</td><td>1</td><td>2019</td><td>0</td><td>NA</td></tr><tr><th>4</th><td>80734</td><td>37</td><td>1</td><td>2</td><td>2</td><td>2</td><td>2018</td><td>3</td><td>1</td></tr><tr><th>5</th><td>80736</td><td>40</td><td>1</td><td>NA</td><td>1</td><td>1</td><td>2019</td><td>22</td><td>NA</td></tr><tr><th>6</th><td>80738</td><td>46</td><td>1</td><td>2</td><td>3</td><td>2</td><td>2018</td><td>30</td><td>1</td></tr><tr><th>7</th><td>80739</td><td>40</td><td>1</td><td>NA</td><td>1</td><td>1</td><td>2019</td><td>5</td><td>1</td></tr><tr><th>8</th><td>80740</td><td>31</td><td>1</td><td>NA</td><td>1</td><td>1</td><td>2017</td><td>0</td><td>NA</td></tr><tr><th>9</th><td>80741</td><td>34</td><td>1</td><td>2</td><td>4</td><td>1</td><td>2018</td><td>1</td><td>NA</td></tr><tr><th>10</th><td>80745</td><td>32</td><td>1</td><td>1</td><td>3</td><td>2</td><td>2019</td><td>4</td><td>1</td></tr><tr><th>11</th><td>80748</td><td>21</td><td>1</td><td>1</td><td>3</td><td>2</td><td>2018</td><td>1</td><td>NA</td></tr><tr><th>12</th><td>80751</td><td>25</td><td>1</td><td>3</td><td>2</td><td>2</td><td>2019</td><td>3</td><td>NA</td></tr><tr><th>13</th><td>80753</td><td>22</td><td>1</td><td>3</td><td>3</td><td>2</td><td>2019</td><td>4</td><td>NA</td></tr><tr><th>14</th><td>80757</td><td>28</td><td>1</td><td>NA</td><td>1</td><td>4</td><td>2019</td><td>6</td><td>NA</td></tr><tr><th>15</th><td>80758</td><td>18</td><td>1</td><td>NA</td><td>1</td><td>3</td><td>2018</td><td>10</td><td>NA</td></tr><tr><th>16</th><td>80759</td><td>40</td><td>1</td><td>NA</td><td>1</td><td>3</td><td>2018</td><td>26</td><td>NA</td></tr><tr><th>17</th><td>80762</td><td>45</td><td>1</td><td>NA</td><td>1</td><td>5</td><td>2019</td><td>50</td><td>2</td></tr><tr><th>18</th><td>80765</td><td>34</td><td>1</td><td>2</td><td>3</td><td>2</td><td>2018</td><td>4</td><td>NA</td></tr><tr><th>19</th><td>80767</td><td>31</td><td>1</td><td>NA</td><td>1</td><td>1</td><td>2017</td><td>12</td><td>NA</td></tr><tr><th>20</th><td>80769</td><td>39</td><td>1</td><td>2</td><td>3</td><td>3</td><td>2018</td><td>39</td><td>2</td></tr><tr><th>21</th><td>80770</td><td>48</td><td>1</td><td>1</td><td>4</td><td>4</td><td>2018</td><td>3</td><td>1</td></tr><tr><th>22</th><td>80774</td><td>26</td><td>1</td><td>NA</td><td>1</td><td>2</td><td>2019</td><td>5</td><td>NA</td></tr><tr><th>23</th><td>80775</td><td>26</td><td>1</td><td>3</td><td>4</td><td>2</td><td>2019</td><td>11</td><td>1</td></tr><tr><th>24</th><td>80777</td><td>29</td><td>1</td><td>1</td><td>3</td><td>4</td><td>2018</td><td>13</td><td>1</td></tr><tr><th>25</th><td>80780</td><td>36</td><td>1</td><td>NA</td><td>1</td><td>1</td><td>2018</td><td>9</td><td>1</td></tr><tr><th>26</th><td>80781</td><td>26</td><td>1</td><td>NA</td><td>1</td><td>3</td><td>2018</td><td>50</td><td>NA</td></tr><tr><th>27</th><td>80782</td><td>33</td><td>1</td><td>NA</td><td>1</td><td>1</td><td>2018</td><td>9</td><td>NA</td></tr><tr><th>28</th><td>80784</td><td>20</td><td>1</td><td>2</td><td>4</td><td>1</td><td>2019</td><td>3</td><td>NA</td></tr><tr><th>29</th><td>80789</td><td>18</td><td>1</td><td>2</td><td>3</td><td>1</td><td>2019</td><td>2</td><td>NA</td></tr><tr><th>30</th><td>80793</td><td>26</td><td>1</td><td>1</td><td>3</td><td>4</td><td>2019</td><td>2</td><td>NA</td></tr><tr><th>&vellip;</th><td>&vellip;</td><td>&vellip;</td><td>&vellip;</td><td>&vellip;</td><td>&vellip;</td><td>&vellip;</td><td>&vellip;</td><td>&vellip;</td><td>&vellip;</td></tr></tbody></table></div>"
      ],
      "text/latex": [
       "\\begin{tabular}{r|cccccccccc}\n",
       "\t& caseid & age\\_a & marstat & reldlife & religion & samesex & intvwyear & lifprtnr & timesmar & \\\\\n",
       "\t\\hline\n",
       "\t& Int64 & Int64 & Int64 & String3 & String3 & String3 & Int64 & String3 & String3 & \\\\\n",
       "\t\\hline\n",
       "\t1 & 80717 & 31 & 1 & NA & 1 & 1 & 2018 & 15 & NA & $\\dots$ \\\\\n",
       "\t2 & 80724 & 49 & 1 & 2 & 4 & 3 & 2019 & 50 & 2 & $\\dots$ \\\\\n",
       "\t3 & 80732 & 39 & 1 & NA & 1 & 1 & 2019 & 0 & NA & $\\dots$ \\\\\n",
       "\t4 & 80734 & 37 & 1 & 2 & 2 & 2 & 2018 & 3 & 1 & $\\dots$ \\\\\n",
       "\t5 & 80736 & 40 & 1 & NA & 1 & 1 & 2019 & 22 & NA & $\\dots$ \\\\\n",
       "\t6 & 80738 & 46 & 1 & 2 & 3 & 2 & 2018 & 30 & 1 & $\\dots$ \\\\\n",
       "\t7 & 80739 & 40 & 1 & NA & 1 & 1 & 2019 & 5 & 1 & $\\dots$ \\\\\n",
       "\t8 & 80740 & 31 & 1 & NA & 1 & 1 & 2017 & 0 & NA & $\\dots$ \\\\\n",
       "\t9 & 80741 & 34 & 1 & 2 & 4 & 1 & 2018 & 1 & NA & $\\dots$ \\\\\n",
       "\t10 & 80745 & 32 & 1 & 1 & 3 & 2 & 2019 & 4 & 1 & $\\dots$ \\\\\n",
       "\t11 & 80748 & 21 & 1 & 1 & 3 & 2 & 2018 & 1 & NA & $\\dots$ \\\\\n",
       "\t12 & 80751 & 25 & 1 & 3 & 2 & 2 & 2019 & 3 & NA & $\\dots$ \\\\\n",
       "\t13 & 80753 & 22 & 1 & 3 & 3 & 2 & 2019 & 4 & NA & $\\dots$ \\\\\n",
       "\t14 & 80757 & 28 & 1 & NA & 1 & 4 & 2019 & 6 & NA & $\\dots$ \\\\\n",
       "\t15 & 80758 & 18 & 1 & NA & 1 & 3 & 2018 & 10 & NA & $\\dots$ \\\\\n",
       "\t16 & 80759 & 40 & 1 & NA & 1 & 3 & 2018 & 26 & NA & $\\dots$ \\\\\n",
       "\t17 & 80762 & 45 & 1 & NA & 1 & 5 & 2019 & 50 & 2 & $\\dots$ \\\\\n",
       "\t18 & 80765 & 34 & 1 & 2 & 3 & 2 & 2018 & 4 & NA & $\\dots$ \\\\\n",
       "\t19 & 80767 & 31 & 1 & NA & 1 & 1 & 2017 & 12 & NA & $\\dots$ \\\\\n",
       "\t20 & 80769 & 39 & 1 & 2 & 3 & 3 & 2018 & 39 & 2 & $\\dots$ \\\\\n",
       "\t21 & 80770 & 48 & 1 & 1 & 4 & 4 & 2018 & 3 & 1 & $\\dots$ \\\\\n",
       "\t22 & 80774 & 26 & 1 & NA & 1 & 2 & 2019 & 5 & NA & $\\dots$ \\\\\n",
       "\t23 & 80775 & 26 & 1 & 3 & 4 & 2 & 2019 & 11 & 1 & $\\dots$ \\\\\n",
       "\t24 & 80777 & 29 & 1 & 1 & 3 & 4 & 2018 & 13 & 1 & $\\dots$ \\\\\n",
       "\t25 & 80780 & 36 & 1 & NA & 1 & 1 & 2018 & 9 & 1 & $\\dots$ \\\\\n",
       "\t26 & 80781 & 26 & 1 & NA & 1 & 3 & 2018 & 50 & NA & $\\dots$ \\\\\n",
       "\t27 & 80782 & 33 & 1 & NA & 1 & 1 & 2018 & 9 & NA & $\\dots$ \\\\\n",
       "\t28 & 80784 & 20 & 1 & 2 & 4 & 1 & 2019 & 3 & NA & $\\dots$ \\\\\n",
       "\t29 & 80789 & 18 & 1 & 2 & 3 & 1 & 2019 & 2 & NA & $\\dots$ \\\\\n",
       "\t30 & 80793 & 26 & 1 & 1 & 3 & 4 & 2019 & 2 & NA & $\\dots$ \\\\\n",
       "\t$\\dots$ & $\\dots$ & $\\dots$ & $\\dots$ & $\\dots$ & $\\dots$ & $\\dots$ & $\\dots$ & $\\dots$ & $\\dots$ &  \\\\\n",
       "\\end{tabular}\n"
      ],
      "text/plain": [
       "\u001b[1m64351×17 DataFrame\u001b[0m\n",
       "\u001b[1m   Row \u001b[0m│\u001b[1m caseid \u001b[0m\u001b[1m age_a \u001b[0m\u001b[1m marstat \u001b[0m\u001b[1m reldlife \u001b[0m\u001b[1m religion \u001b[0m\u001b[1m samesex \u001b[0m\u001b[1m intvwyear \u001b[0m\u001b[1m lifpr\u001b[0m ⋯\n",
       "\u001b[1m       \u001b[0m│\u001b[90m Int64  \u001b[0m\u001b[90m Int64 \u001b[0m\u001b[90m Int64   \u001b[0m\u001b[90m String3  \u001b[0m\u001b[90m String3  \u001b[0m\u001b[90m String3 \u001b[0m\u001b[90m Int64     \u001b[0m\u001b[90m Strin\u001b[0m ⋯\n",
       "───────┼────────────────────────────────────────────────────────────────────────\n",
       "     1 │  80717     31        1  NA        1         1             2018  15    ⋯\n",
       "     2 │  80724     49        1  2         4         3             2019  50\n",
       "     3 │  80732     39        1  NA        1         1             2019  0\n",
       "     4 │  80734     37        1  2         2         2             2018  3\n",
       "     5 │  80736     40        1  NA        1         1             2019  22    ⋯\n",
       "     6 │  80738     46        1  2         3         2             2018  30\n",
       "     7 │  80739     40        1  NA        1         1             2019  5\n",
       "     8 │  80740     31        1  NA        1         1             2017  0\n",
       "     9 │  80741     34        1  2         4         1             2018  1     ⋯\n",
       "    10 │  80745     32        1  1         3         2             2019  4\n",
       "    11 │  80748     21        1  1         3         2             2018  1\n",
       "   ⋮   │   ⋮       ⋮       ⋮        ⋮         ⋮         ⋮         ⋮         ⋮  ⋱\n",
       " 64342 │  11427     21        1  2         3         1             2002  6\n",
       " 64343 │  11640     20        1  2         3         2             2002  4     ⋯\n",
       " 64344 │   5515     18        1  1         3         2             2002  0\n",
       " 64345 │   1551     23        1  1         3         1             2002  0\n",
       " 64346 │   9358     27        1  1         3         1             2002  1\n",
       " 64347 │   2417     21        1  1         3         3             2002  1     ⋯\n",
       " 64348 │   8877     37        1  1         3         1             2002  5\n",
       " 64349 │  11658     28        1  NA        1         4             2002  7\n",
       " 64350 │   2780     24        1  NA        1         2             2002  5\n",
       " 64351 │   5758     28        1  NA        NA        NA            2002  NA    ⋯\n",
       "\u001b[36m                                               10 columns and 64330 rows omitted\u001b[0m"
      ]
     },
     "execution_count": 133,
     "metadata": {},
     "output_type": "execute_result"
    }
   ],
   "source": [
    "dataframe[dataframe.age_a .>= 18, :]"
   ]
  },
  {
   "cell_type": "code",
   "execution_count": 142,
   "id": "bc95cda2",
   "metadata": {
    "tags": []
   },
   "outputs": [
    {
     "ename": "LoadError",
     "evalue": "MethodError: no method matching getindex(::DataFrame, ::DataFrame, ::Colon)\n\u001b[0mClosest candidates are:\n\u001b[0m  getindex(::AbstractDataFrame, \u001b[91m::Integer\u001b[39m, ::Colon) at /opt/julia/packages/DataFrames/zqFGs/src/dataframerow/dataframerow.jl:210\n\u001b[0m  getindex(::AbstractDataFrame, \u001b[91m::Integer\u001b[39m, ::Union{Colon, Regex, AbstractVector, All, Between, Cols, InvertedIndex}) at /opt/julia/packages/DataFrames/zqFGs/src/dataframerow/dataframerow.jl:208\n\u001b[0m  getindex(::DataFrame, \u001b[91m::typeof(!)\u001b[39m, ::Union{Colon, Regex, AbstractVector, All, Between, Cols, InvertedIndex}) at /opt/julia/packages/DataFrames/zqFGs/src/dataframe/dataframe.jl:598\n\u001b[0m  ...",
     "output_type": "error",
     "traceback": [
      "MethodError: no method matching getindex(::DataFrame, ::DataFrame, ::Colon)\n\u001b[0mClosest candidates are:\n\u001b[0m  getindex(::AbstractDataFrame, \u001b[91m::Integer\u001b[39m, ::Colon) at /opt/julia/packages/DataFrames/zqFGs/src/dataframerow/dataframerow.jl:210\n\u001b[0m  getindex(::AbstractDataFrame, \u001b[91m::Integer\u001b[39m, ::Union{Colon, Regex, AbstractVector, All, Between, Cols, InvertedIndex}) at /opt/julia/packages/DataFrames/zqFGs/src/dataframerow/dataframerow.jl:208\n\u001b[0m  getindex(::DataFrame, \u001b[91m::typeof(!)\u001b[39m, ::Union{Colon, Regex, AbstractVector, All, Between, Cols, InvertedIndex}) at /opt/julia/packages/DataFrames/zqFGs/src/dataframe/dataframe.jl:598\n\u001b[0m  ...",
      "",
      "Stacktrace:",
      " [1] top-level scope",
      "   @ In[142]:1",
      " [2] eval",
      "   @ ./boot.jl:373 [inlined]",
      " [3] include_string(mapexpr::typeof(REPL.softscope), mod::Module, code::String, filename::String)",
      "   @ Base ./loading.jl:1196"
     ]
    }
   ],
   "source": [
    "dataframe[(dataframe[:, [:age_a]] .>= 18) .& (dataframe.marstat .== 1), :]"
   ]
  },
  {
   "cell_type": "markdown",
   "id": "30bb7d01-f431-43ed-825c-c9d126e66539",
   "metadata": {},
   "source": [
    "#### Sorting\n",
    "\n",
    "We can sort a given dataframe by just calling `sort` function:"
   ]
  },
  {
   "cell_type": "code",
   "execution_count": 122,
   "id": "9523cedb-62d1-4195-a157-5e2380cadff2",
   "metadata": {},
   "outputs": [
    {
     "data": {
      "text/html": [
       "<div class=\"data-frame\"><p>72,464 rows × 17 columns (omitted printing of 8 columns)</p><table class=\"data-frame\"><thead><tr><th></th><th>caseid</th><th>age_a</th><th>marstat</th><th>reldlife</th><th>religion</th><th>samesex</th><th>intvwyear</th><th>lifprtnr</th><th>timesmar</th></tr><tr><th></th><th title=\"Int64\">Int64</th><th title=\"Int64\">Int64</th><th title=\"Int64\">Int64</th><th title=\"String3\">String3</th><th title=\"String3\">String3</th><th title=\"String3\">String3</th><th title=\"Int64\">Int64</th><th title=\"String3\">String3</th><th title=\"String3\">String3</th></tr></thead><tbody><tr><th>1</th><td>1</td><td>44</td><td>1</td><td>2</td><td>2</td><td>3</td><td>2002</td><td>5</td><td>1</td></tr><tr><th>2</th><td>2</td><td>20</td><td>1</td><td>1</td><td>3</td><td>4</td><td>2002</td><td>9</td><td>NA</td></tr><tr><th>3</th><td>4</td><td>36</td><td>1</td><td>NA</td><td>1</td><td>2</td><td>2002</td><td>17</td><td>1</td></tr><tr><th>4</th><td>6</td><td>40</td><td>1</td><td>1</td><td>3</td><td>4</td><td>2002</td><td>1</td><td>1</td></tr><tr><th>5</th><td>7</td><td>39</td><td>1</td><td>1</td><td>3</td><td>3</td><td>2002</td><td>10</td><td>4</td></tr><tr><th>6</th><td>8</td><td>23</td><td>1</td><td>2</td><td>3</td><td>3</td><td>2002</td><td>3</td><td>NA</td></tr><tr><th>7</th><td>9</td><td>15</td><td>1</td><td>NA</td><td>1</td><td>2</td><td>2002</td><td>1</td><td>NA</td></tr><tr><th>8</th><td>12</td><td>40</td><td>1</td><td>1</td><td>2</td><td>4</td><td>2002</td><td>3</td><td>1</td></tr><tr><th>9</th><td>13</td><td>20</td><td>1</td><td>1</td><td>3</td><td>1</td><td>2002</td><td>0</td><td>NA</td></tr><tr><th>10</th><td>14</td><td>36</td><td>1</td><td>1</td><td>3</td><td>3</td><td>2002</td><td>6</td><td>1</td></tr><tr><th>11</th><td>15</td><td>32</td><td>1</td><td>NA</td><td>1</td><td>4</td><td>2002</td><td>3</td><td>1</td></tr><tr><th>12</th><td>18</td><td>42</td><td>1</td><td>1</td><td>3</td><td>4</td><td>2002</td><td>4</td><td>2</td></tr><tr><th>13</th><td>19</td><td>34</td><td>1</td><td>1</td><td>3</td><td>2</td><td>2002</td><td>1</td><td>1</td></tr><tr><th>14</th><td>20</td><td>15</td><td>1</td><td>1</td><td>3</td><td>1</td><td>2002</td><td>0</td><td>NA</td></tr><tr><th>15</th><td>21</td><td>35</td><td>1</td><td>1</td><td>3</td><td>2</td><td>2002</td><td>6</td><td>1</td></tr><tr><th>16</th><td>22</td><td>25</td><td>1</td><td>1</td><td>2</td><td>2</td><td>2002</td><td>0</td><td>NA</td></tr><tr><th>17</th><td>23</td><td>42</td><td>1</td><td>2</td><td>2</td><td>2</td><td>2002</td><td>3</td><td>1</td></tr><tr><th>18</th><td>24</td><td>35</td><td>1</td><td>2</td><td>3</td><td>5</td><td>2002</td><td>5</td><td>1</td></tr><tr><th>19</th><td>25</td><td>33</td><td>1</td><td>3</td><td>3</td><td>2</td><td>2002</td><td>5</td><td>1</td></tr><tr><th>20</th><td>28</td><td>39</td><td>1</td><td>NA</td><td>1</td><td>1</td><td>2002</td><td>10</td><td>3</td></tr><tr><th>21</th><td>31</td><td>44</td><td>1</td><td>2</td><td>3</td><td>4</td><td>2002</td><td>25</td><td>NA</td></tr><tr><th>22</th><td>32</td><td>20</td><td>1</td><td>2</td><td>3</td><td>4</td><td>2002</td><td>6</td><td>NA</td></tr><tr><th>23</th><td>33</td><td>31</td><td>1</td><td>NA</td><td>1</td><td>2</td><td>2002</td><td>5</td><td>NA</td></tr><tr><th>24</th><td>36</td><td>37</td><td>1</td><td>2</td><td>3</td><td>2</td><td>2002</td><td>3</td><td>1</td></tr><tr><th>25</th><td>37</td><td>16</td><td>1</td><td>2</td><td>2</td><td>2</td><td>2002</td><td>0</td><td>NA</td></tr><tr><th>26</th><td>38</td><td>37</td><td>1</td><td>1</td><td>2</td><td>3</td><td>2002</td><td>8</td><td>1</td></tr><tr><th>27</th><td>39</td><td>31</td><td>1</td><td>NA</td><td>1</td><td>3</td><td>2002</td><td>6</td><td>NA</td></tr><tr><th>28</th><td>40</td><td>15</td><td>1</td><td>1</td><td>2</td><td>4</td><td>2002</td><td>0</td><td>NA</td></tr><tr><th>29</th><td>43</td><td>41</td><td>1</td><td>2</td><td>2</td><td>3</td><td>2002</td><td>2</td><td>1</td></tr><tr><th>30</th><td>44</td><td>37</td><td>1</td><td>1</td><td>2</td><td>5</td><td>2002</td><td>12</td><td>1</td></tr><tr><th>&vellip;</th><td>&vellip;</td><td>&vellip;</td><td>&vellip;</td><td>&vellip;</td><td>&vellip;</td><td>&vellip;</td><td>&vellip;</td><td>&vellip;</td><td>&vellip;</td></tr></tbody></table></div>"
      ],
      "text/latex": [
       "\\begin{tabular}{r|cccccccccc}\n",
       "\t& caseid & age\\_a & marstat & reldlife & religion & samesex & intvwyear & lifprtnr & timesmar & \\\\\n",
       "\t\\hline\n",
       "\t& Int64 & Int64 & Int64 & String3 & String3 & String3 & Int64 & String3 & String3 & \\\\\n",
       "\t\\hline\n",
       "\t1 & 1 & 44 & 1 & 2 & 2 & 3 & 2002 & 5 & 1 & $\\dots$ \\\\\n",
       "\t2 & 2 & 20 & 1 & 1 & 3 & 4 & 2002 & 9 & NA & $\\dots$ \\\\\n",
       "\t3 & 4 & 36 & 1 & NA & 1 & 2 & 2002 & 17 & 1 & $\\dots$ \\\\\n",
       "\t4 & 6 & 40 & 1 & 1 & 3 & 4 & 2002 & 1 & 1 & $\\dots$ \\\\\n",
       "\t5 & 7 & 39 & 1 & 1 & 3 & 3 & 2002 & 10 & 4 & $\\dots$ \\\\\n",
       "\t6 & 8 & 23 & 1 & 2 & 3 & 3 & 2002 & 3 & NA & $\\dots$ \\\\\n",
       "\t7 & 9 & 15 & 1 & NA & 1 & 2 & 2002 & 1 & NA & $\\dots$ \\\\\n",
       "\t8 & 12 & 40 & 1 & 1 & 2 & 4 & 2002 & 3 & 1 & $\\dots$ \\\\\n",
       "\t9 & 13 & 20 & 1 & 1 & 3 & 1 & 2002 & 0 & NA & $\\dots$ \\\\\n",
       "\t10 & 14 & 36 & 1 & 1 & 3 & 3 & 2002 & 6 & 1 & $\\dots$ \\\\\n",
       "\t11 & 15 & 32 & 1 & NA & 1 & 4 & 2002 & 3 & 1 & $\\dots$ \\\\\n",
       "\t12 & 18 & 42 & 1 & 1 & 3 & 4 & 2002 & 4 & 2 & $\\dots$ \\\\\n",
       "\t13 & 19 & 34 & 1 & 1 & 3 & 2 & 2002 & 1 & 1 & $\\dots$ \\\\\n",
       "\t14 & 20 & 15 & 1 & 1 & 3 & 1 & 2002 & 0 & NA & $\\dots$ \\\\\n",
       "\t15 & 21 & 35 & 1 & 1 & 3 & 2 & 2002 & 6 & 1 & $\\dots$ \\\\\n",
       "\t16 & 22 & 25 & 1 & 1 & 2 & 2 & 2002 & 0 & NA & $\\dots$ \\\\\n",
       "\t17 & 23 & 42 & 1 & 2 & 2 & 2 & 2002 & 3 & 1 & $\\dots$ \\\\\n",
       "\t18 & 24 & 35 & 1 & 2 & 3 & 5 & 2002 & 5 & 1 & $\\dots$ \\\\\n",
       "\t19 & 25 & 33 & 1 & 3 & 3 & 2 & 2002 & 5 & 1 & $\\dots$ \\\\\n",
       "\t20 & 28 & 39 & 1 & NA & 1 & 1 & 2002 & 10 & 3 & $\\dots$ \\\\\n",
       "\t21 & 31 & 44 & 1 & 2 & 3 & 4 & 2002 & 25 & NA & $\\dots$ \\\\\n",
       "\t22 & 32 & 20 & 1 & 2 & 3 & 4 & 2002 & 6 & NA & $\\dots$ \\\\\n",
       "\t23 & 33 & 31 & 1 & NA & 1 & 2 & 2002 & 5 & NA & $\\dots$ \\\\\n",
       "\t24 & 36 & 37 & 1 & 2 & 3 & 2 & 2002 & 3 & 1 & $\\dots$ \\\\\n",
       "\t25 & 37 & 16 & 1 & 2 & 2 & 2 & 2002 & 0 & NA & $\\dots$ \\\\\n",
       "\t26 & 38 & 37 & 1 & 1 & 2 & 3 & 2002 & 8 & 1 & $\\dots$ \\\\\n",
       "\t27 & 39 & 31 & 1 & NA & 1 & 3 & 2002 & 6 & NA & $\\dots$ \\\\\n",
       "\t28 & 40 & 15 & 1 & 1 & 2 & 4 & 2002 & 0 & NA & $\\dots$ \\\\\n",
       "\t29 & 43 & 41 & 1 & 2 & 2 & 3 & 2002 & 2 & 1 & $\\dots$ \\\\\n",
       "\t30 & 44 & 37 & 1 & 1 & 2 & 5 & 2002 & 12 & 1 & $\\dots$ \\\\\n",
       "\t$\\dots$ & $\\dots$ & $\\dots$ & $\\dots$ & $\\dots$ & $\\dots$ & $\\dots$ & $\\dots$ & $\\dots$ & $\\dots$ &  \\\\\n",
       "\\end{tabular}\n"
      ],
      "text/plain": [
       "\u001b[1m72464×17 DataFrame\u001b[0m\n",
       "\u001b[1m   Row \u001b[0m│\u001b[1m caseid \u001b[0m\u001b[1m age_a \u001b[0m\u001b[1m marstat \u001b[0m\u001b[1m reldlife \u001b[0m\u001b[1m religion \u001b[0m\u001b[1m samesex \u001b[0m\u001b[1m intvwyear \u001b[0m\u001b[1m lifpr\u001b[0m ⋯\n",
       "\u001b[1m       \u001b[0m│\u001b[90m Int64  \u001b[0m\u001b[90m Int64 \u001b[0m\u001b[90m Int64   \u001b[0m\u001b[90m String3  \u001b[0m\u001b[90m String3  \u001b[0m\u001b[90m String3 \u001b[0m\u001b[90m Int64     \u001b[0m\u001b[90m Strin\u001b[0m ⋯\n",
       "───────┼────────────────────────────────────────────────────────────────────────\n",
       "     1 │      1     44        1  2         2         3             2002  5     ⋯\n",
       "     2 │      2     20        1  1         3         4             2002  9\n",
       "     3 │      4     36        1  NA        1         2             2002  17\n",
       "     4 │      6     40        1  1         3         4             2002  1\n",
       "     5 │      7     39        1  1         3         3             2002  10    ⋯\n",
       "     6 │      8     23        1  2         3         3             2002  3\n",
       "     7 │      9     15        1  NA        1         2             2002  1\n",
       "     8 │     12     40        1  1         2         4             2002  3\n",
       "     9 │     13     20        1  1         3         1             2002  0     ⋯\n",
       "    10 │     14     36        1  1         3         3             2002  6\n",
       "    11 │     15     32        1  NA        1         4             2002  3\n",
       "   ⋮   │   ⋮       ⋮       ⋮        ⋮         ⋮         ⋮         ⋮         ⋮  ⋱\n",
       " 72455 │  92053     41        1  NA        1         1             2018  6\n",
       " 72456 │  92054     16        1  NA        1         2             2019  0     ⋯\n",
       " 72457 │  92055     20        1  2         3         1             2019  1\n",
       " 72458 │  92056     49        1  NA        1         3             2018  10\n",
       " 72459 │  92057     37        1  2         2         2             2018  2\n",
       " 72460 │  92058     32        1  NA        1         2             2019  6     ⋯\n",
       " 72461 │  92059     39        1  3         3         2             2019  39\n",
       " 72462 │  92060     37        1  3         2         1             2019  1\n",
       " 72463 │  92061     24        1  1         3         2             2018  5\n",
       " 72464 │  92062     41        1  NA        1         2             2018  9     ⋯\n",
       "\u001b[36m                                               10 columns and 72443 rows omitted\u001b[0m"
      ]
     },
     "execution_count": 122,
     "metadata": {},
     "output_type": "execute_result"
    }
   ],
   "source": [
    "sort(dataframe)"
   ]
  },
  {
   "cell_type": "markdown",
   "id": "f6b0d324-a920-41d6-b46b-b804b1da5dc8",
   "metadata": {},
   "source": [
    "The code above sorted the data based on all the columns. But we can specify the columns we want to use to sort the data. The `rev` argument is also available to sort in descending or ascending order:"
   ]
  },
  {
   "cell_type": "code",
   "execution_count": 127,
   "id": "f679cb30-cb25-44d5-a60c-1c3f6f0fffd4",
   "metadata": {
    "collapsed": true,
    "jupyter": {
     "outputs_hidden": true
    },
    "tags": []
   },
   "outputs": [
    {
     "data": {
      "text/html": [
       "<div class=\"data-frame\"><p>72,464 rows × 17 columns (omitted printing of 8 columns)</p><table class=\"data-frame\"><thead><tr><th></th><th>caseid</th><th>age_a</th><th>marstat</th><th>reldlife</th><th>religion</th><th>samesex</th><th>intvwyear</th><th>lifprtnr</th><th>timesmar</th></tr><tr><th></th><th title=\"Int64\">Int64</th><th title=\"Int64\">Int64</th><th title=\"Int64\">Int64</th><th title=\"String3\">String3</th><th title=\"String3\">String3</th><th title=\"String3\">String3</th><th title=\"Int64\">Int64</th><th title=\"String3\">String3</th><th title=\"String3\">String3</th></tr></thead><tbody><tr><th>1</th><td>60995</td><td>99</td><td>1</td><td>1</td><td>3</td><td>2</td><td>2013</td><td>5</td><td>NA</td></tr><tr><th>2</th><td>73545</td><td>98</td><td>1</td><td>1</td><td>4</td><td>4</td><td>2017</td><td>1</td><td>1</td></tr><tr><th>3</th><td>85921</td><td>98</td><td>1</td><td>1</td><td>2</td><td>5</td><td>2019</td><td>15</td><td>1</td></tr><tr><th>4</th><td>90945</td><td>50</td><td>1</td><td>2</td><td>4</td><td>2</td><td>2018</td><td>8</td><td>1</td></tr><tr><th>5</th><td>78000</td><td>50</td><td>1</td><td>2</td><td>4</td><td>2</td><td>2016</td><td>1</td><td>1</td></tr><tr><th>6</th><td>79622</td><td>50</td><td>1</td><td>1</td><td>4</td><td>4</td><td>2017</td><td>3</td><td>3</td></tr><tr><th>7</th><td>73600</td><td>50</td><td>1</td><td>1</td><td>3</td><td>2</td><td>2016</td><td>17</td><td>1</td></tr><tr><th>8</th><td>71793</td><td>50</td><td>1</td><td>1</td><td>3</td><td>2</td><td>2015</td><td>6</td><td>2</td></tr><tr><th>9</th><td>87325</td><td>50</td><td>1</td><td>1</td><td>3</td><td>4</td><td>2019</td><td>1</td><td>1</td></tr><tr><th>10</th><td>87989</td><td>50</td><td>1</td><td>1</td><td>2</td><td>4</td><td>2019</td><td>1</td><td>1</td></tr><tr><th>11</th><td>91876</td><td>50</td><td>1</td><td>1</td><td>2</td><td>4</td><td>2019</td><td>5</td><td>1</td></tr><tr><th>12</th><td>77714</td><td>50</td><td>1</td><td>1</td><td>2</td><td>2</td><td>2016</td><td>8</td><td>NA</td></tr><tr><th>13</th><td>86820</td><td>50</td><td>1</td><td>2</td><td>2</td><td>2</td><td>2019</td><td>2</td><td>NA</td></tr><tr><th>14</th><td>80724</td><td>49</td><td>1</td><td>2</td><td>4</td><td>3</td><td>2019</td><td>50</td><td>2</td></tr><tr><th>15</th><td>81096</td><td>49</td><td>1</td><td>3</td><td>4</td><td>3</td><td>2018</td><td>30</td><td>NA</td></tr><tr><th>16</th><td>83139</td><td>49</td><td>1</td><td>1</td><td>4</td><td>4</td><td>2018</td><td>11</td><td>1</td></tr><tr><th>17</th><td>83880</td><td>49</td><td>1</td><td>2</td><td>4</td><td>1</td><td>2019</td><td>14</td><td>2</td></tr><tr><th>18</th><td>86339</td><td>49</td><td>1</td><td>1</td><td>4</td><td>3</td><td>2018</td><td>4</td><td>1</td></tr><tr><th>19</th><td>89305</td><td>49</td><td>1</td><td>1</td><td>4</td><td>2</td><td>2019</td><td>12</td><td>1</td></tr><tr><th>20</th><td>90096</td><td>49</td><td>1</td><td>3</td><td>4</td><td>3</td><td>2018</td><td>17</td><td>NA</td></tr><tr><th>21</th><td>90632</td><td>49</td><td>1</td><td>3</td><td>4</td><td>2</td><td>2018</td><td>5</td><td>1</td></tr><tr><th>22</th><td>90876</td><td>49</td><td>1</td><td>1</td><td>4</td><td>1</td><td>2018</td><td>6</td><td>1</td></tr><tr><th>23</th><td>91556</td><td>49</td><td>1</td><td>1</td><td>4</td><td>4</td><td>2019</td><td>5</td><td>2</td></tr><tr><th>24</th><td>91652</td><td>49</td><td>1</td><td>3</td><td>4</td><td>1</td><td>2018</td><td>15</td><td>1</td></tr><tr><th>25</th><td>72287</td><td>49</td><td>1</td><td>3</td><td>4</td><td>1</td><td>2017</td><td>4</td><td>2</td></tr><tr><th>26</th><td>72399</td><td>49</td><td>1</td><td>1</td><td>4</td><td>1</td><td>2016</td><td>40</td><td>2</td></tr><tr><th>27</th><td>73058</td><td>49</td><td>1</td><td>1</td><td>4</td><td>2</td><td>2017</td><td>1</td><td>1</td></tr><tr><th>28</th><td>73924</td><td>49</td><td>1</td><td>1</td><td>4</td><td>5</td><td>2016</td><td>2</td><td>2</td></tr><tr><th>29</th><td>75501</td><td>49</td><td>1</td><td>1</td><td>4</td><td>4</td><td>2017</td><td>1</td><td>1</td></tr><tr><th>30</th><td>75761</td><td>49</td><td>1</td><td>2</td><td>4</td><td>1</td><td>2016</td><td>50</td><td>1</td></tr><tr><th>&vellip;</th><td>&vellip;</td><td>&vellip;</td><td>&vellip;</td><td>&vellip;</td><td>&vellip;</td><td>&vellip;</td><td>&vellip;</td><td>&vellip;</td><td>&vellip;</td></tr></tbody></table></div>"
      ],
      "text/latex": [
       "\\begin{tabular}{r|cccccccccc}\n",
       "\t& caseid & age\\_a & marstat & reldlife & religion & samesex & intvwyear & lifprtnr & timesmar & \\\\\n",
       "\t\\hline\n",
       "\t& Int64 & Int64 & Int64 & String3 & String3 & String3 & Int64 & String3 & String3 & \\\\\n",
       "\t\\hline\n",
       "\t1 & 60995 & 99 & 1 & 1 & 3 & 2 & 2013 & 5 & NA & $\\dots$ \\\\\n",
       "\t2 & 73545 & 98 & 1 & 1 & 4 & 4 & 2017 & 1 & 1 & $\\dots$ \\\\\n",
       "\t3 & 85921 & 98 & 1 & 1 & 2 & 5 & 2019 & 15 & 1 & $\\dots$ \\\\\n",
       "\t4 & 90945 & 50 & 1 & 2 & 4 & 2 & 2018 & 8 & 1 & $\\dots$ \\\\\n",
       "\t5 & 78000 & 50 & 1 & 2 & 4 & 2 & 2016 & 1 & 1 & $\\dots$ \\\\\n",
       "\t6 & 79622 & 50 & 1 & 1 & 4 & 4 & 2017 & 3 & 3 & $\\dots$ \\\\\n",
       "\t7 & 73600 & 50 & 1 & 1 & 3 & 2 & 2016 & 17 & 1 & $\\dots$ \\\\\n",
       "\t8 & 71793 & 50 & 1 & 1 & 3 & 2 & 2015 & 6 & 2 & $\\dots$ \\\\\n",
       "\t9 & 87325 & 50 & 1 & 1 & 3 & 4 & 2019 & 1 & 1 & $\\dots$ \\\\\n",
       "\t10 & 87989 & 50 & 1 & 1 & 2 & 4 & 2019 & 1 & 1 & $\\dots$ \\\\\n",
       "\t11 & 91876 & 50 & 1 & 1 & 2 & 4 & 2019 & 5 & 1 & $\\dots$ \\\\\n",
       "\t12 & 77714 & 50 & 1 & 1 & 2 & 2 & 2016 & 8 & NA & $\\dots$ \\\\\n",
       "\t13 & 86820 & 50 & 1 & 2 & 2 & 2 & 2019 & 2 & NA & $\\dots$ \\\\\n",
       "\t14 & 80724 & 49 & 1 & 2 & 4 & 3 & 2019 & 50 & 2 & $\\dots$ \\\\\n",
       "\t15 & 81096 & 49 & 1 & 3 & 4 & 3 & 2018 & 30 & NA & $\\dots$ \\\\\n",
       "\t16 & 83139 & 49 & 1 & 1 & 4 & 4 & 2018 & 11 & 1 & $\\dots$ \\\\\n",
       "\t17 & 83880 & 49 & 1 & 2 & 4 & 1 & 2019 & 14 & 2 & $\\dots$ \\\\\n",
       "\t18 & 86339 & 49 & 1 & 1 & 4 & 3 & 2018 & 4 & 1 & $\\dots$ \\\\\n",
       "\t19 & 89305 & 49 & 1 & 1 & 4 & 2 & 2019 & 12 & 1 & $\\dots$ \\\\\n",
       "\t20 & 90096 & 49 & 1 & 3 & 4 & 3 & 2018 & 17 & NA & $\\dots$ \\\\\n",
       "\t21 & 90632 & 49 & 1 & 3 & 4 & 2 & 2018 & 5 & 1 & $\\dots$ \\\\\n",
       "\t22 & 90876 & 49 & 1 & 1 & 4 & 1 & 2018 & 6 & 1 & $\\dots$ \\\\\n",
       "\t23 & 91556 & 49 & 1 & 1 & 4 & 4 & 2019 & 5 & 2 & $\\dots$ \\\\\n",
       "\t24 & 91652 & 49 & 1 & 3 & 4 & 1 & 2018 & 15 & 1 & $\\dots$ \\\\\n",
       "\t25 & 72287 & 49 & 1 & 3 & 4 & 1 & 2017 & 4 & 2 & $\\dots$ \\\\\n",
       "\t26 & 72399 & 49 & 1 & 1 & 4 & 1 & 2016 & 40 & 2 & $\\dots$ \\\\\n",
       "\t27 & 73058 & 49 & 1 & 1 & 4 & 2 & 2017 & 1 & 1 & $\\dots$ \\\\\n",
       "\t28 & 73924 & 49 & 1 & 1 & 4 & 5 & 2016 & 2 & 2 & $\\dots$ \\\\\n",
       "\t29 & 75501 & 49 & 1 & 1 & 4 & 4 & 2017 & 1 & 1 & $\\dots$ \\\\\n",
       "\t30 & 75761 & 49 & 1 & 2 & 4 & 1 & 2016 & 50 & 1 & $\\dots$ \\\\\n",
       "\t$\\dots$ & $\\dots$ & $\\dots$ & $\\dots$ & $\\dots$ & $\\dots$ & $\\dots$ & $\\dots$ & $\\dots$ & $\\dots$ &  \\\\\n",
       "\\end{tabular}\n"
      ],
      "text/plain": [
       "\u001b[1m72464×17 DataFrame\u001b[0m\n",
       "\u001b[1m   Row \u001b[0m│\u001b[1m caseid \u001b[0m\u001b[1m age_a \u001b[0m\u001b[1m marstat \u001b[0m\u001b[1m reldlife \u001b[0m\u001b[1m religion \u001b[0m\u001b[1m samesex \u001b[0m\u001b[1m intvwyear \u001b[0m\u001b[1m lifpr\u001b[0m ⋯\n",
       "\u001b[1m       \u001b[0m│\u001b[90m Int64  \u001b[0m\u001b[90m Int64 \u001b[0m\u001b[90m Int64   \u001b[0m\u001b[90m String3  \u001b[0m\u001b[90m String3  \u001b[0m\u001b[90m String3 \u001b[0m\u001b[90m Int64     \u001b[0m\u001b[90m Strin\u001b[0m ⋯\n",
       "───────┼────────────────────────────────────────────────────────────────────────\n",
       "     1 │  60995     99        1  1         3         2             2013  5     ⋯\n",
       "     2 │  73545     98        1  1         4         4             2017  1\n",
       "     3 │  85921     98        1  1         2         5             2019  15\n",
       "     4 │  90945     50        1  2         4         2             2018  8\n",
       "     5 │  78000     50        1  2         4         2             2016  1     ⋯\n",
       "     6 │  79622     50        1  1         4         4             2017  3\n",
       "     7 │  73600     50        1  1         3         2             2016  17\n",
       "     8 │  71793     50        1  1         3         2             2015  6\n",
       "     9 │  87325     50        1  1         3         4             2019  1     ⋯\n",
       "    10 │  87989     50        1  1         2         4             2019  1\n",
       "    11 │  91876     50        1  1         2         4             2019  5\n",
       "   ⋮   │   ⋮       ⋮       ⋮        ⋮         ⋮         ⋮         ⋮         ⋮  ⋱\n",
       " 72455 │  11511     15        1  NA        1         2             2002  0\n",
       " 72456 │   3017     15        1  NA        1         5             2002  0     ⋯\n",
       " 72457 │   7212     15        1  NA        1         1             2002  0\n",
       " 72458 │   9757     15        1  NA        1         1             2002  0\n",
       " 72459 │   6394     15        1  1         1         3             2002  2\n",
       " 72460 │   6697     15        1  NA        1         2             2002  0     ⋯\n",
       " 72461 │   6566     15        1  NA        1         2             2002  3\n",
       " 72462 │   3854     15        1  NA        1         2             2002  0\n",
       " 72463 │  12341     15        1  NA        1         1             2002  0\n",
       " 72464 │   6024     15        1  NA        1         4             2002  0     ⋯\n",
       "\u001b[36m                                               10 columns and 72443 rows omitted\u001b[0m"
      ]
     },
     "execution_count": 127,
     "metadata": {},
     "output_type": "execute_result"
    }
   ],
   "source": [
    "sort(dataframe, [\"age_a\", \"religion\"], rev=true)"
   ]
  },
  {
   "cell_type": "markdown",
   "id": "46e5efc1-93eb-49b1-b59c-ceaf46822a22",
   "metadata": {},
   "source": [
    "More information on sorting [here](https://dataframes.juliadata.org/stable/man/sorting/)."
   ]
  },
  {
   "cell_type": "markdown",
   "id": "4984968a-2b21-4d94-8cce-662786d2a04a",
   "metadata": {
    "tags": []
   },
   "source": [
    "### Views\n",
    "\n",
    "We can also create a `view` of a data frame. It is often useful as it is more memory efficient than creating a materialized selection. You can create it using a `view` function:"
   ]
  },
  {
   "cell_type": "code",
   "execution_count": 28,
   "id": "dc9056e2-275f-4a1e-abd9-7ece82eb5010",
   "metadata": {
    "collapsed": true,
    "jupyter": {
     "outputs_hidden": true
    },
    "tags": []
   },
   "outputs": [
    {
     "data": {
      "text/html": [
       "<div class=\"data-frame\"><p>72,464 rows × 3 columns</p><table class=\"data-frame\"><thead><tr><th></th><th>caseid</th><th>age_a</th><th>marstat</th></tr><tr><th></th><th title=\"Int64\">Int64</th><th title=\"Int64\">Int64</th><th title=\"Int64\">Int64</th></tr></thead><tbody><tr><th>1</th><td>80717</td><td>31</td><td>2</td></tr><tr><th>2</th><td>80721</td><td>17</td><td>6</td></tr><tr><th>3</th><td>80722</td><td>16</td><td>6</td></tr><tr><th>4</th><td>80724</td><td>49</td><td>4</td></tr><tr><th>5</th><td>80732</td><td>39</td><td>6</td></tr><tr><th>6</th><td>80734</td><td>37</td><td>1</td></tr><tr><th>7</th><td>80735</td><td>17</td><td>6</td></tr><tr><th>8</th><td>80736</td><td>40</td><td>2</td></tr><tr><th>9</th><td>80738</td><td>46</td><td>4</td></tr><tr><th>10</th><td>80739</td><td>40</td><td>1</td></tr><tr><th>11</th><td>80740</td><td>31</td><td>6</td></tr><tr><th>12</th><td>80741</td><td>34</td><td>6</td></tr><tr><th>13</th><td>80745</td><td>32</td><td>1</td></tr><tr><th>14</th><td>80746</td><td>17</td><td>6</td></tr><tr><th>15</th><td>80748</td><td>21</td><td>2</td></tr><tr><th>16</th><td>80749</td><td>17</td><td>6</td></tr><tr><th>17</th><td>80751</td><td>25</td><td>2</td></tr><tr><th>18</th><td>80753</td><td>22</td><td>6</td></tr><tr><th>19</th><td>80757</td><td>28</td><td>6</td></tr><tr><th>20</th><td>80758</td><td>18</td><td>2</td></tr><tr><th>21</th><td>80759</td><td>40</td><td>2</td></tr><tr><th>22</th><td>80762</td><td>45</td><td>1</td></tr><tr><th>23</th><td>80765</td><td>34</td><td>6</td></tr><tr><th>24</th><td>80767</td><td>31</td><td>6</td></tr><tr><th>25</th><td>80769</td><td>39</td><td>1</td></tr><tr><th>26</th><td>80770</td><td>48</td><td>1</td></tr><tr><th>27</th><td>80771</td><td>16</td><td>6</td></tr><tr><th>28</th><td>80774</td><td>26</td><td>6</td></tr><tr><th>29</th><td>80775</td><td>26</td><td>1</td></tr><tr><th>30</th><td>80777</td><td>29</td><td>1</td></tr><tr><th>&vellip;</th><td>&vellip;</td><td>&vellip;</td><td>&vellip;</td></tr></tbody></table></div>"
      ],
      "text/latex": [
       "\\begin{tabular}{r|ccc}\n",
       "\t& caseid & age\\_a & marstat\\\\\n",
       "\t\\hline\n",
       "\t& Int64 & Int64 & Int64\\\\\n",
       "\t\\hline\n",
       "\t1 & 80717 & 31 & 2 \\\\\n",
       "\t2 & 80721 & 17 & 6 \\\\\n",
       "\t3 & 80722 & 16 & 6 \\\\\n",
       "\t4 & 80724 & 49 & 4 \\\\\n",
       "\t5 & 80732 & 39 & 6 \\\\\n",
       "\t6 & 80734 & 37 & 1 \\\\\n",
       "\t7 & 80735 & 17 & 6 \\\\\n",
       "\t8 & 80736 & 40 & 2 \\\\\n",
       "\t9 & 80738 & 46 & 4 \\\\\n",
       "\t10 & 80739 & 40 & 1 \\\\\n",
       "\t11 & 80740 & 31 & 6 \\\\\n",
       "\t12 & 80741 & 34 & 6 \\\\\n",
       "\t13 & 80745 & 32 & 1 \\\\\n",
       "\t14 & 80746 & 17 & 6 \\\\\n",
       "\t15 & 80748 & 21 & 2 \\\\\n",
       "\t16 & 80749 & 17 & 6 \\\\\n",
       "\t17 & 80751 & 25 & 2 \\\\\n",
       "\t18 & 80753 & 22 & 6 \\\\\n",
       "\t19 & 80757 & 28 & 6 \\\\\n",
       "\t20 & 80758 & 18 & 2 \\\\\n",
       "\t21 & 80759 & 40 & 2 \\\\\n",
       "\t22 & 80762 & 45 & 1 \\\\\n",
       "\t23 & 80765 & 34 & 6 \\\\\n",
       "\t24 & 80767 & 31 & 6 \\\\\n",
       "\t25 & 80769 & 39 & 1 \\\\\n",
       "\t26 & 80770 & 48 & 1 \\\\\n",
       "\t27 & 80771 & 16 & 6 \\\\\n",
       "\t28 & 80774 & 26 & 6 \\\\\n",
       "\t29 & 80775 & 26 & 1 \\\\\n",
       "\t30 & 80777 & 29 & 1 \\\\\n",
       "\t$\\dots$ & $\\dots$ & $\\dots$ & $\\dots$ \\\\\n",
       "\\end{tabular}\n"
      ],
      "text/plain": [
       "\u001b[1m72464×3 SubDataFrame\u001b[0m\n",
       "\u001b[1m   Row \u001b[0m│\u001b[1m caseid \u001b[0m\u001b[1m age_a \u001b[0m\u001b[1m marstat \u001b[0m\n",
       "\u001b[1m       \u001b[0m│\u001b[90m Int64  \u001b[0m\u001b[90m Int64 \u001b[0m\u001b[90m Int64   \u001b[0m\n",
       "───────┼────────────────────────\n",
       "     1 │  80717     31        2\n",
       "     2 │  80721     17        6\n",
       "     3 │  80722     16        6\n",
       "     4 │  80724     49        4\n",
       "     5 │  80732     39        6\n",
       "     6 │  80734     37        1\n",
       "     7 │  80735     17        6\n",
       "     8 │  80736     40        2\n",
       "     9 │  80738     46        4\n",
       "    10 │  80739     40        1\n",
       "    11 │  80740     31        6\n",
       "   ⋮   │   ⋮       ⋮       ⋮\n",
       " 72455 │  11640     20        6\n",
       " 72456 │   5515     18        6\n",
       " 72457 │   1551     23        6\n",
       " 72458 │   9358     27        1\n",
       " 72459 │   2417     21        6\n",
       " 72460 │   1074     15        6\n",
       " 72461 │   8877     37        4\n",
       " 72462 │  11658     28        1\n",
       " 72463 │   2780     24        4\n",
       " 72464 │   5758     28        1\n",
       "\u001b[36m              72443 rows omitted\u001b[0m"
      ]
     },
     "execution_count": 28,
     "metadata": {},
     "output_type": "execute_result"
    }
   ],
   "source": [
    "view(dataframe, :, 1:3)"
   ]
  },
  {
   "cell_type": "markdown",
   "id": "3776eac7-7772-4ac0-979e-e4f50ffe3bd8",
   "metadata": {},
   "source": [
    "or using a `@view` macro:"
   ]
  },
  {
   "cell_type": "code",
   "execution_count": 32,
   "id": "884de275-47ee-43b3-98b9-597abc4a7037",
   "metadata": {},
   "outputs": [
    {
     "data": {
      "text/html": [
       "<div class=\"data-frame\"><p>3 rows × 11 columns (omitted printing of 2 columns)</p><table class=\"data-frame\"><thead><tr><th></th><th>intvwyear</th><th>lifprtnr</th><th>timesmar</th><th>attnd14</th><th>fmarit</th><th>gayadopt</th><th>lifeprt</th><th>sxok18</th><th>staytog</th></tr><tr><th></th><th title=\"Int64\">Int64</th><th title=\"String3\">String3</th><th title=\"String3\">String3</th><th title=\"String3\">String3</th><th title=\"Int64\">Int64</th><th title=\"String3\">String3</th><th title=\"String3\">String3</th><th title=\"String3\">String3</th><th title=\"String3\">String3</th></tr></thead><tbody><tr><th>1</th><td>2018</td><td>15</td><td>NA</td><td>NA</td><td>5</td><td>NA</td><td>NA</td><td>NA</td><td>NA</td></tr><tr><th>2</th><td>2018</td><td>1</td><td>NA</td><td>6</td><td>5</td><td>NA</td><td>NA</td><td>NA</td><td>NA</td></tr><tr><th>3</th><td>2019</td><td>2</td><td>NA</td><td>2</td><td>5</td><td>NA</td><td>NA</td><td>NA</td><td>NA</td></tr></tbody></table></div>"
      ],
      "text/latex": [
       "\\begin{tabular}{r|cccccccccc}\n",
       "\t& intvwyear & lifprtnr & timesmar & attnd14 & fmarit & gayadopt & lifeprt & sxok18 & staytog & \\\\\n",
       "\t\\hline\n",
       "\t& Int64 & String3 & String3 & String3 & Int64 & String3 & String3 & String3 & String3 & \\\\\n",
       "\t\\hline\n",
       "\t1 & 2018 & 15 & NA & NA & 5 & NA & NA & NA & NA & $\\dots$ \\\\\n",
       "\t2 & 2018 & 1 & NA & 6 & 5 & NA & NA & NA & NA & $\\dots$ \\\\\n",
       "\t3 & 2019 & 2 & NA & 2 & 5 & NA & NA & NA & NA & $\\dots$ \\\\\n",
       "\\end{tabular}\n"
      ],
      "text/plain": [
       "\u001b[1m3×11 SubDataFrame\u001b[0m\n",
       "\u001b[1m Row \u001b[0m│\u001b[1m intvwyear \u001b[0m\u001b[1m lifprtnr \u001b[0m\u001b[1m timesmar \u001b[0m\u001b[1m attnd14 \u001b[0m\u001b[1m fmarit \u001b[0m\u001b[1m gayadopt \u001b[0m\u001b[1m lifeprt \u001b[0m\u001b[1m sxok\u001b[0m ⋯\n",
       "\u001b[1m     \u001b[0m│\u001b[90m Int64     \u001b[0m\u001b[90m String3  \u001b[0m\u001b[90m String3  \u001b[0m\u001b[90m String3 \u001b[0m\u001b[90m Int64  \u001b[0m\u001b[90m String3  \u001b[0m\u001b[90m String3 \u001b[0m\u001b[90m Stri\u001b[0m ⋯\n",
       "─────┼──────────────────────────────────────────────────────────────────────────\n",
       "   1 │      2018  15        NA        NA            5  NA        NA       NA   ⋯\n",
       "   2 │      2018  1         NA        6             5  NA        NA       NA\n",
       "   3 │      2019  2         NA        2             5  NA        NA       NA\n",
       "\u001b[36m                                                               4 columns omitted\u001b[0m"
      ]
     },
     "execution_count": 32,
     "metadata": {},
     "output_type": "execute_result"
    }
   ],
   "source": [
    "@view dataframe[1:3, 7:end]"
   ]
  },
  {
   "cell_type": "markdown",
   "id": "989917b6-07c4-4a70-a3d1-fded26aee969",
   "metadata": {},
   "source": [
    "### Not, Between, Cols, and All Column Selectors\n"
   ]
  },
  {
   "cell_type": "markdown",
   "id": "9c51eb3a-0ee0-4fa3-a031-a3aeb9af34f3",
   "metadata": {},
   "source": [
    "Drop one column:"
   ]
  },
  {
   "cell_type": "code",
   "execution_count": 34,
   "id": "7af087a9-36fe-4e94-99af-f27df5dc5714",
   "metadata": {},
   "outputs": [
    {
     "data": {
      "text/html": [
       "<div class=\"data-frame\"><p>72,464 rows × 16 columns (omitted printing of 7 columns)</p><table class=\"data-frame\"><thead><tr><th></th><th>age_a</th><th>marstat</th><th>reldlife</th><th>religion</th><th>samesex</th><th>intvwyear</th><th>lifprtnr</th><th>timesmar</th><th>attnd14</th></tr><tr><th></th><th title=\"Int64\">Int64</th><th title=\"Int64\">Int64</th><th title=\"String3\">String3</th><th title=\"String3\">String3</th><th title=\"String3\">String3</th><th title=\"Int64\">Int64</th><th title=\"String3\">String3</th><th title=\"String3\">String3</th><th title=\"String3\">String3</th></tr></thead><tbody><tr><th>1</th><td>31</td><td>2</td><td>NA</td><td>1</td><td>1</td><td>2018</td><td>15</td><td>NA</td><td>NA</td></tr><tr><th>2</th><td>17</td><td>6</td><td>2</td><td>3</td><td>2</td><td>2018</td><td>1</td><td>NA</td><td>6</td></tr><tr><th>3</th><td>16</td><td>6</td><td>NA</td><td>1</td><td>2</td><td>2019</td><td>2</td><td>NA</td><td>2</td></tr><tr><th>4</th><td>49</td><td>4</td><td>2</td><td>4</td><td>3</td><td>2019</td><td>50</td><td>2</td><td>NA</td></tr><tr><th>5</th><td>39</td><td>6</td><td>NA</td><td>1</td><td>1</td><td>2019</td><td>0</td><td>NA</td><td>NA</td></tr><tr><th>6</th><td>37</td><td>1</td><td>2</td><td>2</td><td>2</td><td>2018</td><td>3</td><td>1</td><td>NA</td></tr><tr><th>7</th><td>17</td><td>6</td><td>1</td><td>3</td><td>4</td><td>2019</td><td>0</td><td>NA</td><td>2</td></tr><tr><th>8</th><td>40</td><td>2</td><td>NA</td><td>1</td><td>1</td><td>2019</td><td>22</td><td>NA</td><td>NA</td></tr><tr><th>9</th><td>46</td><td>4</td><td>2</td><td>3</td><td>2</td><td>2018</td><td>30</td><td>1</td><td>NA</td></tr><tr><th>10</th><td>40</td><td>1</td><td>NA</td><td>1</td><td>1</td><td>2019</td><td>5</td><td>1</td><td>NA</td></tr><tr><th>11</th><td>31</td><td>6</td><td>NA</td><td>1</td><td>1</td><td>2017</td><td>0</td><td>NA</td><td>NA</td></tr><tr><th>12</th><td>34</td><td>6</td><td>2</td><td>4</td><td>1</td><td>2018</td><td>1</td><td>NA</td><td>NA</td></tr><tr><th>13</th><td>32</td><td>1</td><td>1</td><td>3</td><td>2</td><td>2019</td><td>4</td><td>1</td><td>NA</td></tr><tr><th>14</th><td>17</td><td>6</td><td>NA</td><td>1</td><td>1</td><td>2019</td><td>6</td><td>NA</td><td>6</td></tr><tr><th>15</th><td>21</td><td>2</td><td>1</td><td>3</td><td>2</td><td>2018</td><td>1</td><td>NA</td><td>1</td></tr><tr><th>16</th><td>17</td><td>6</td><td>2</td><td>2</td><td>2</td><td>2019</td><td>0</td><td>NA</td><td>1</td></tr><tr><th>17</th><td>25</td><td>2</td><td>3</td><td>2</td><td>2</td><td>2019</td><td>3</td><td>NA</td><td>NA</td></tr><tr><th>18</th><td>22</td><td>6</td><td>3</td><td>3</td><td>2</td><td>2019</td><td>4</td><td>NA</td><td>6</td></tr><tr><th>19</th><td>28</td><td>6</td><td>NA</td><td>1</td><td>4</td><td>2019</td><td>6</td><td>NA</td><td>NA</td></tr><tr><th>20</th><td>18</td><td>2</td><td>NA</td><td>1</td><td>3</td><td>2018</td><td>10</td><td>NA</td><td>3</td></tr><tr><th>21</th><td>40</td><td>2</td><td>NA</td><td>1</td><td>3</td><td>2018</td><td>26</td><td>NA</td><td>NA</td></tr><tr><th>22</th><td>45</td><td>1</td><td>NA</td><td>1</td><td>5</td><td>2019</td><td>50</td><td>2</td><td>NA</td></tr><tr><th>23</th><td>34</td><td>6</td><td>2</td><td>3</td><td>2</td><td>2018</td><td>4</td><td>NA</td><td>NA</td></tr><tr><th>24</th><td>31</td><td>6</td><td>NA</td><td>1</td><td>1</td><td>2017</td><td>12</td><td>NA</td><td>NA</td></tr><tr><th>25</th><td>39</td><td>1</td><td>2</td><td>3</td><td>3</td><td>2018</td><td>39</td><td>2</td><td>NA</td></tr><tr><th>26</th><td>48</td><td>1</td><td>1</td><td>4</td><td>4</td><td>2018</td><td>3</td><td>1</td><td>NA</td></tr><tr><th>27</th><td>16</td><td>6</td><td>NA</td><td>1</td><td>2</td><td>2019</td><td>1</td><td>NA</td><td>7</td></tr><tr><th>28</th><td>26</td><td>6</td><td>NA</td><td>1</td><td>2</td><td>2019</td><td>5</td><td>NA</td><td>NA</td></tr><tr><th>29</th><td>26</td><td>1</td><td>3</td><td>4</td><td>2</td><td>2019</td><td>11</td><td>1</td><td>NA</td></tr><tr><th>30</th><td>29</td><td>1</td><td>1</td><td>3</td><td>4</td><td>2018</td><td>13</td><td>1</td><td>NA</td></tr><tr><th>&vellip;</th><td>&vellip;</td><td>&vellip;</td><td>&vellip;</td><td>&vellip;</td><td>&vellip;</td><td>&vellip;</td><td>&vellip;</td><td>&vellip;</td><td>&vellip;</td></tr></tbody></table></div>"
      ],
      "text/latex": [
       "\\begin{tabular}{r|cccccccccc}\n",
       "\t& age\\_a & marstat & reldlife & religion & samesex & intvwyear & lifprtnr & timesmar & attnd14 & \\\\\n",
       "\t\\hline\n",
       "\t& Int64 & Int64 & String3 & String3 & String3 & Int64 & String3 & String3 & String3 & \\\\\n",
       "\t\\hline\n",
       "\t1 & 31 & 2 & NA & 1 & 1 & 2018 & 15 & NA & NA & $\\dots$ \\\\\n",
       "\t2 & 17 & 6 & 2 & 3 & 2 & 2018 & 1 & NA & 6 & $\\dots$ \\\\\n",
       "\t3 & 16 & 6 & NA & 1 & 2 & 2019 & 2 & NA & 2 & $\\dots$ \\\\\n",
       "\t4 & 49 & 4 & 2 & 4 & 3 & 2019 & 50 & 2 & NA & $\\dots$ \\\\\n",
       "\t5 & 39 & 6 & NA & 1 & 1 & 2019 & 0 & NA & NA & $\\dots$ \\\\\n",
       "\t6 & 37 & 1 & 2 & 2 & 2 & 2018 & 3 & 1 & NA & $\\dots$ \\\\\n",
       "\t7 & 17 & 6 & 1 & 3 & 4 & 2019 & 0 & NA & 2 & $\\dots$ \\\\\n",
       "\t8 & 40 & 2 & NA & 1 & 1 & 2019 & 22 & NA & NA & $\\dots$ \\\\\n",
       "\t9 & 46 & 4 & 2 & 3 & 2 & 2018 & 30 & 1 & NA & $\\dots$ \\\\\n",
       "\t10 & 40 & 1 & NA & 1 & 1 & 2019 & 5 & 1 & NA & $\\dots$ \\\\\n",
       "\t11 & 31 & 6 & NA & 1 & 1 & 2017 & 0 & NA & NA & $\\dots$ \\\\\n",
       "\t12 & 34 & 6 & 2 & 4 & 1 & 2018 & 1 & NA & NA & $\\dots$ \\\\\n",
       "\t13 & 32 & 1 & 1 & 3 & 2 & 2019 & 4 & 1 & NA & $\\dots$ \\\\\n",
       "\t14 & 17 & 6 & NA & 1 & 1 & 2019 & 6 & NA & 6 & $\\dots$ \\\\\n",
       "\t15 & 21 & 2 & 1 & 3 & 2 & 2018 & 1 & NA & 1 & $\\dots$ \\\\\n",
       "\t16 & 17 & 6 & 2 & 2 & 2 & 2019 & 0 & NA & 1 & $\\dots$ \\\\\n",
       "\t17 & 25 & 2 & 3 & 2 & 2 & 2019 & 3 & NA & NA & $\\dots$ \\\\\n",
       "\t18 & 22 & 6 & 3 & 3 & 2 & 2019 & 4 & NA & 6 & $\\dots$ \\\\\n",
       "\t19 & 28 & 6 & NA & 1 & 4 & 2019 & 6 & NA & NA & $\\dots$ \\\\\n",
       "\t20 & 18 & 2 & NA & 1 & 3 & 2018 & 10 & NA & 3 & $\\dots$ \\\\\n",
       "\t21 & 40 & 2 & NA & 1 & 3 & 2018 & 26 & NA & NA & $\\dots$ \\\\\n",
       "\t22 & 45 & 1 & NA & 1 & 5 & 2019 & 50 & 2 & NA & $\\dots$ \\\\\n",
       "\t23 & 34 & 6 & 2 & 3 & 2 & 2018 & 4 & NA & NA & $\\dots$ \\\\\n",
       "\t24 & 31 & 6 & NA & 1 & 1 & 2017 & 12 & NA & NA & $\\dots$ \\\\\n",
       "\t25 & 39 & 1 & 2 & 3 & 3 & 2018 & 39 & 2 & NA & $\\dots$ \\\\\n",
       "\t26 & 48 & 1 & 1 & 4 & 4 & 2018 & 3 & 1 & NA & $\\dots$ \\\\\n",
       "\t27 & 16 & 6 & NA & 1 & 2 & 2019 & 1 & NA & 7 & $\\dots$ \\\\\n",
       "\t28 & 26 & 6 & NA & 1 & 2 & 2019 & 5 & NA & NA & $\\dots$ \\\\\n",
       "\t29 & 26 & 1 & 3 & 4 & 2 & 2019 & 11 & 1 & NA & $\\dots$ \\\\\n",
       "\t30 & 29 & 1 & 1 & 3 & 4 & 2018 & 13 & 1 & NA & $\\dots$ \\\\\n",
       "\t$\\dots$ & $\\dots$ & $\\dots$ & $\\dots$ & $\\dots$ & $\\dots$ & $\\dots$ & $\\dots$ & $\\dots$ & $\\dots$ &  \\\\\n",
       "\\end{tabular}\n"
      ],
      "text/plain": [
       "\u001b[1m72464×16 DataFrame\u001b[0m\n",
       "\u001b[1m   Row \u001b[0m│\u001b[1m age_a \u001b[0m\u001b[1m marstat \u001b[0m\u001b[1m reldlife \u001b[0m\u001b[1m religion \u001b[0m\u001b[1m samesex \u001b[0m\u001b[1m intvwyear \u001b[0m\u001b[1m lifprtnr \u001b[0m\u001b[1m tim\u001b[0m ⋯\n",
       "\u001b[1m       \u001b[0m│\u001b[90m Int64 \u001b[0m\u001b[90m Int64   \u001b[0m\u001b[90m String3  \u001b[0m\u001b[90m String3  \u001b[0m\u001b[90m String3 \u001b[0m\u001b[90m Int64     \u001b[0m\u001b[90m String3  \u001b[0m\u001b[90m Str\u001b[0m ⋯\n",
       "───────┼────────────────────────────────────────────────────────────────────────\n",
       "     1 │    31        2  NA        1         1             2018  15        NA  ⋯\n",
       "     2 │    17        6  2         3         2             2018  1         NA\n",
       "     3 │    16        6  NA        1         2             2019  2         NA\n",
       "     4 │    49        4  2         4         3             2019  50        2\n",
       "     5 │    39        6  NA        1         1             2019  0         NA  ⋯\n",
       "     6 │    37        1  2         2         2             2018  3         1\n",
       "     7 │    17        6  1         3         4             2019  0         NA\n",
       "     8 │    40        2  NA        1         1             2019  22        NA\n",
       "     9 │    46        4  2         3         2             2018  30        1   ⋯\n",
       "    10 │    40        1  NA        1         1             2019  5         1\n",
       "    11 │    31        6  NA        1         1             2017  0         NA\n",
       "   ⋮   │   ⋮       ⋮        ⋮         ⋮         ⋮         ⋮         ⋮          ⋱\n",
       " 72455 │    20        6  2         3         2             2002  4         NA\n",
       " 72456 │    18        6  1         3         2             2002  0         NA  ⋯\n",
       " 72457 │    23        6  1         3         1             2002  0         NA\n",
       " 72458 │    27        1  1         3         1             2002  1         1\n",
       " 72459 │    21        6  1         3         3             2002  1         NA\n",
       " 72460 │    15        6  2         3         2             2002  0         NA  ⋯\n",
       " 72461 │    37        4  1         3         1             2002  5         1\n",
       " 72462 │    28        1  NA        1         4             2002  7         1\n",
       " 72463 │    24        4  NA        1         2             2002  5         1\n",
       " 72464 │    28        1  NA        NA        NA            2002  NA        1   ⋯\n",
       "\u001b[36m                                                9 columns and 72443 rows omitted\u001b[0m"
      ]
     },
     "execution_count": 34,
     "metadata": {},
     "output_type": "execute_result"
    }
   ],
   "source": [
    "dataframe[:, Not(:caseid)]"
   ]
  },
  {
   "cell_type": "markdown",
   "id": "b3ee7b14-e2ae-4321-ae27-bbf28c1986bd",
   "metadata": {},
   "source": [
    "Select columns starting from a given column and ending at another:"
   ]
  },
  {
   "cell_type": "code",
   "execution_count": 36,
   "id": "52131e34-378b-43ef-933d-e190c650511e",
   "metadata": {},
   "outputs": [
    {
     "data": {
      "text/html": [
       "<div class=\"data-frame\"><p>72,464 rows × 7 columns</p><table class=\"data-frame\"><thead><tr><th></th><th>caseid</th><th>age_a</th><th>marstat</th><th>reldlife</th><th>religion</th><th>samesex</th><th>intvwyear</th></tr><tr><th></th><th title=\"Int64\">Int64</th><th title=\"Int64\">Int64</th><th title=\"Int64\">Int64</th><th title=\"String3\">String3</th><th title=\"String3\">String3</th><th title=\"String3\">String3</th><th title=\"Int64\">Int64</th></tr></thead><tbody><tr><th>1</th><td>80717</td><td>31</td><td>2</td><td>NA</td><td>1</td><td>1</td><td>2018</td></tr><tr><th>2</th><td>80721</td><td>17</td><td>6</td><td>2</td><td>3</td><td>2</td><td>2018</td></tr><tr><th>3</th><td>80722</td><td>16</td><td>6</td><td>NA</td><td>1</td><td>2</td><td>2019</td></tr><tr><th>4</th><td>80724</td><td>49</td><td>4</td><td>2</td><td>4</td><td>3</td><td>2019</td></tr><tr><th>5</th><td>80732</td><td>39</td><td>6</td><td>NA</td><td>1</td><td>1</td><td>2019</td></tr><tr><th>6</th><td>80734</td><td>37</td><td>1</td><td>2</td><td>2</td><td>2</td><td>2018</td></tr><tr><th>7</th><td>80735</td><td>17</td><td>6</td><td>1</td><td>3</td><td>4</td><td>2019</td></tr><tr><th>8</th><td>80736</td><td>40</td><td>2</td><td>NA</td><td>1</td><td>1</td><td>2019</td></tr><tr><th>9</th><td>80738</td><td>46</td><td>4</td><td>2</td><td>3</td><td>2</td><td>2018</td></tr><tr><th>10</th><td>80739</td><td>40</td><td>1</td><td>NA</td><td>1</td><td>1</td><td>2019</td></tr><tr><th>11</th><td>80740</td><td>31</td><td>6</td><td>NA</td><td>1</td><td>1</td><td>2017</td></tr><tr><th>12</th><td>80741</td><td>34</td><td>6</td><td>2</td><td>4</td><td>1</td><td>2018</td></tr><tr><th>13</th><td>80745</td><td>32</td><td>1</td><td>1</td><td>3</td><td>2</td><td>2019</td></tr><tr><th>14</th><td>80746</td><td>17</td><td>6</td><td>NA</td><td>1</td><td>1</td><td>2019</td></tr><tr><th>15</th><td>80748</td><td>21</td><td>2</td><td>1</td><td>3</td><td>2</td><td>2018</td></tr><tr><th>16</th><td>80749</td><td>17</td><td>6</td><td>2</td><td>2</td><td>2</td><td>2019</td></tr><tr><th>17</th><td>80751</td><td>25</td><td>2</td><td>3</td><td>2</td><td>2</td><td>2019</td></tr><tr><th>18</th><td>80753</td><td>22</td><td>6</td><td>3</td><td>3</td><td>2</td><td>2019</td></tr><tr><th>19</th><td>80757</td><td>28</td><td>6</td><td>NA</td><td>1</td><td>4</td><td>2019</td></tr><tr><th>20</th><td>80758</td><td>18</td><td>2</td><td>NA</td><td>1</td><td>3</td><td>2018</td></tr><tr><th>21</th><td>80759</td><td>40</td><td>2</td><td>NA</td><td>1</td><td>3</td><td>2018</td></tr><tr><th>22</th><td>80762</td><td>45</td><td>1</td><td>NA</td><td>1</td><td>5</td><td>2019</td></tr><tr><th>23</th><td>80765</td><td>34</td><td>6</td><td>2</td><td>3</td><td>2</td><td>2018</td></tr><tr><th>24</th><td>80767</td><td>31</td><td>6</td><td>NA</td><td>1</td><td>1</td><td>2017</td></tr><tr><th>25</th><td>80769</td><td>39</td><td>1</td><td>2</td><td>3</td><td>3</td><td>2018</td></tr><tr><th>26</th><td>80770</td><td>48</td><td>1</td><td>1</td><td>4</td><td>4</td><td>2018</td></tr><tr><th>27</th><td>80771</td><td>16</td><td>6</td><td>NA</td><td>1</td><td>2</td><td>2019</td></tr><tr><th>28</th><td>80774</td><td>26</td><td>6</td><td>NA</td><td>1</td><td>2</td><td>2019</td></tr><tr><th>29</th><td>80775</td><td>26</td><td>1</td><td>3</td><td>4</td><td>2</td><td>2019</td></tr><tr><th>30</th><td>80777</td><td>29</td><td>1</td><td>1</td><td>3</td><td>4</td><td>2018</td></tr><tr><th>&vellip;</th><td>&vellip;</td><td>&vellip;</td><td>&vellip;</td><td>&vellip;</td><td>&vellip;</td><td>&vellip;</td><td>&vellip;</td></tr></tbody></table></div>"
      ],
      "text/latex": [
       "\\begin{tabular}{r|ccccccc}\n",
       "\t& caseid & age\\_a & marstat & reldlife & religion & samesex & intvwyear\\\\\n",
       "\t\\hline\n",
       "\t& Int64 & Int64 & Int64 & String3 & String3 & String3 & Int64\\\\\n",
       "\t\\hline\n",
       "\t1 & 80717 & 31 & 2 & NA & 1 & 1 & 2018 \\\\\n",
       "\t2 & 80721 & 17 & 6 & 2 & 3 & 2 & 2018 \\\\\n",
       "\t3 & 80722 & 16 & 6 & NA & 1 & 2 & 2019 \\\\\n",
       "\t4 & 80724 & 49 & 4 & 2 & 4 & 3 & 2019 \\\\\n",
       "\t5 & 80732 & 39 & 6 & NA & 1 & 1 & 2019 \\\\\n",
       "\t6 & 80734 & 37 & 1 & 2 & 2 & 2 & 2018 \\\\\n",
       "\t7 & 80735 & 17 & 6 & 1 & 3 & 4 & 2019 \\\\\n",
       "\t8 & 80736 & 40 & 2 & NA & 1 & 1 & 2019 \\\\\n",
       "\t9 & 80738 & 46 & 4 & 2 & 3 & 2 & 2018 \\\\\n",
       "\t10 & 80739 & 40 & 1 & NA & 1 & 1 & 2019 \\\\\n",
       "\t11 & 80740 & 31 & 6 & NA & 1 & 1 & 2017 \\\\\n",
       "\t12 & 80741 & 34 & 6 & 2 & 4 & 1 & 2018 \\\\\n",
       "\t13 & 80745 & 32 & 1 & 1 & 3 & 2 & 2019 \\\\\n",
       "\t14 & 80746 & 17 & 6 & NA & 1 & 1 & 2019 \\\\\n",
       "\t15 & 80748 & 21 & 2 & 1 & 3 & 2 & 2018 \\\\\n",
       "\t16 & 80749 & 17 & 6 & 2 & 2 & 2 & 2019 \\\\\n",
       "\t17 & 80751 & 25 & 2 & 3 & 2 & 2 & 2019 \\\\\n",
       "\t18 & 80753 & 22 & 6 & 3 & 3 & 2 & 2019 \\\\\n",
       "\t19 & 80757 & 28 & 6 & NA & 1 & 4 & 2019 \\\\\n",
       "\t20 & 80758 & 18 & 2 & NA & 1 & 3 & 2018 \\\\\n",
       "\t21 & 80759 & 40 & 2 & NA & 1 & 3 & 2018 \\\\\n",
       "\t22 & 80762 & 45 & 1 & NA & 1 & 5 & 2019 \\\\\n",
       "\t23 & 80765 & 34 & 6 & 2 & 3 & 2 & 2018 \\\\\n",
       "\t24 & 80767 & 31 & 6 & NA & 1 & 1 & 2017 \\\\\n",
       "\t25 & 80769 & 39 & 1 & 2 & 3 & 3 & 2018 \\\\\n",
       "\t26 & 80770 & 48 & 1 & 1 & 4 & 4 & 2018 \\\\\n",
       "\t27 & 80771 & 16 & 6 & NA & 1 & 2 & 2019 \\\\\n",
       "\t28 & 80774 & 26 & 6 & NA & 1 & 2 & 2019 \\\\\n",
       "\t29 & 80775 & 26 & 1 & 3 & 4 & 2 & 2019 \\\\\n",
       "\t30 & 80777 & 29 & 1 & 1 & 3 & 4 & 2018 \\\\\n",
       "\t$\\dots$ & $\\dots$ & $\\dots$ & $\\dots$ & $\\dots$ & $\\dots$ & $\\dots$ & $\\dots$ \\\\\n",
       "\\end{tabular}\n"
      ],
      "text/plain": [
       "\u001b[1m72464×7 DataFrame\u001b[0m\n",
       "\u001b[1m   Row \u001b[0m│\u001b[1m caseid \u001b[0m\u001b[1m age_a \u001b[0m\u001b[1m marstat \u001b[0m\u001b[1m reldlife \u001b[0m\u001b[1m religion \u001b[0m\u001b[1m samesex \u001b[0m\u001b[1m intvwyear \u001b[0m\n",
       "\u001b[1m       \u001b[0m│\u001b[90m Int64  \u001b[0m\u001b[90m Int64 \u001b[0m\u001b[90m Int64   \u001b[0m\u001b[90m String3  \u001b[0m\u001b[90m String3  \u001b[0m\u001b[90m String3 \u001b[0m\u001b[90m Int64     \u001b[0m\n",
       "───────┼────────────────────────────────────────────────────────────────\n",
       "     1 │  80717     31        2  NA        1         1             2018\n",
       "     2 │  80721     17        6  2         3         2             2018\n",
       "     3 │  80722     16        6  NA        1         2             2019\n",
       "     4 │  80724     49        4  2         4         3             2019\n",
       "     5 │  80732     39        6  NA        1         1             2019\n",
       "     6 │  80734     37        1  2         2         2             2018\n",
       "     7 │  80735     17        6  1         3         4             2019\n",
       "     8 │  80736     40        2  NA        1         1             2019\n",
       "     9 │  80738     46        4  2         3         2             2018\n",
       "    10 │  80739     40        1  NA        1         1             2019\n",
       "    11 │  80740     31        6  NA        1         1             2017\n",
       "   ⋮   │   ⋮       ⋮       ⋮        ⋮         ⋮         ⋮         ⋮\n",
       " 72455 │  11640     20        6  2         3         2             2002\n",
       " 72456 │   5515     18        6  1         3         2             2002\n",
       " 72457 │   1551     23        6  1         3         1             2002\n",
       " 72458 │   9358     27        1  1         3         1             2002\n",
       " 72459 │   2417     21        6  1         3         3             2002\n",
       " 72460 │   1074     15        6  2         3         2             2002\n",
       " 72461 │   8877     37        4  1         3         1             2002\n",
       " 72462 │  11658     28        1  NA        1         4             2002\n",
       " 72463 │   2780     24        4  NA        1         2             2002\n",
       " 72464 │   5758     28        1  NA        NA        NA            2002\n",
       "\u001b[36m                                                      72443 rows omitted\u001b[0m"
      ]
     },
     "execution_count": 36,
     "metadata": {},
     "output_type": "execute_result"
    }
   ],
   "source": [
    "dataframe[:, Between(:caseid, :intvwyear)]"
   ]
  },
  {
   "cell_type": "markdown",
   "id": "fed9ac19-4ef6-4a39-8ab4-6049689d27a9",
   "metadata": {},
   "source": [
    "Select unions of given columns with `Cols` and `Between` selectors:"
   ]
  },
  {
   "cell_type": "code",
   "execution_count": 39,
   "id": "eb68a9f5-766d-4fa0-8c82-c79a38d23ad9",
   "metadata": {
    "tags": []
   },
   "outputs": [
    {
     "data": {
      "text/html": [
       "<div class=\"data-frame\"><p>72,464 rows × 8 columns</p><table class=\"data-frame\"><thead><tr><th></th><th>caseid</th><th>intvwyear</th><th>lifprtnr</th><th>timesmar</th><th>attnd14</th><th>fmarit</th><th>gayadopt</th><th>lifeprt</th></tr><tr><th></th><th title=\"Int64\">Int64</th><th title=\"Int64\">Int64</th><th title=\"String3\">String3</th><th title=\"String3\">String3</th><th title=\"String3\">String3</th><th title=\"Int64\">Int64</th><th title=\"String3\">String3</th><th title=\"String3\">String3</th></tr></thead><tbody><tr><th>1</th><td>80717</td><td>2018</td><td>15</td><td>NA</td><td>NA</td><td>5</td><td>NA</td><td>NA</td></tr><tr><th>2</th><td>80721</td><td>2018</td><td>1</td><td>NA</td><td>6</td><td>5</td><td>NA</td><td>NA</td></tr><tr><th>3</th><td>80722</td><td>2019</td><td>2</td><td>NA</td><td>2</td><td>5</td><td>NA</td><td>NA</td></tr><tr><th>4</th><td>80724</td><td>2019</td><td>50</td><td>2</td><td>NA</td><td>3</td><td>NA</td><td>NA</td></tr><tr><th>5</th><td>80732</td><td>2019</td><td>0</td><td>NA</td><td>NA</td><td>5</td><td>NA</td><td>NA</td></tr><tr><th>6</th><td>80734</td><td>2018</td><td>3</td><td>1</td><td>NA</td><td>1</td><td>NA</td><td>NA</td></tr><tr><th>7</th><td>80735</td><td>2019</td><td>0</td><td>NA</td><td>2</td><td>5</td><td>NA</td><td>NA</td></tr><tr><th>8</th><td>80736</td><td>2019</td><td>22</td><td>NA</td><td>NA</td><td>5</td><td>NA</td><td>NA</td></tr><tr><th>9</th><td>80738</td><td>2018</td><td>30</td><td>1</td><td>NA</td><td>3</td><td>NA</td><td>NA</td></tr><tr><th>10</th><td>80739</td><td>2019</td><td>5</td><td>1</td><td>NA</td><td>1</td><td>NA</td><td>NA</td></tr><tr><th>11</th><td>80740</td><td>2017</td><td>0</td><td>NA</td><td>NA</td><td>5</td><td>NA</td><td>NA</td></tr><tr><th>12</th><td>80741</td><td>2018</td><td>1</td><td>NA</td><td>NA</td><td>5</td><td>NA</td><td>NA</td></tr><tr><th>13</th><td>80745</td><td>2019</td><td>4</td><td>1</td><td>NA</td><td>1</td><td>NA</td><td>NA</td></tr><tr><th>14</th><td>80746</td><td>2019</td><td>6</td><td>NA</td><td>6</td><td>5</td><td>NA</td><td>NA</td></tr><tr><th>15</th><td>80748</td><td>2018</td><td>1</td><td>NA</td><td>1</td><td>5</td><td>NA</td><td>NA</td></tr><tr><th>16</th><td>80749</td><td>2019</td><td>0</td><td>NA</td><td>1</td><td>5</td><td>NA</td><td>NA</td></tr><tr><th>17</th><td>80751</td><td>2019</td><td>3</td><td>NA</td><td>NA</td><td>5</td><td>NA</td><td>NA</td></tr><tr><th>18</th><td>80753</td><td>2019</td><td>4</td><td>NA</td><td>6</td><td>5</td><td>NA</td><td>NA</td></tr><tr><th>19</th><td>80757</td><td>2019</td><td>6</td><td>NA</td><td>NA</td><td>5</td><td>NA</td><td>NA</td></tr><tr><th>20</th><td>80758</td><td>2018</td><td>10</td><td>NA</td><td>3</td><td>5</td><td>NA</td><td>NA</td></tr><tr><th>21</th><td>80759</td><td>2018</td><td>26</td><td>NA</td><td>NA</td><td>5</td><td>NA</td><td>NA</td></tr><tr><th>22</th><td>80762</td><td>2019</td><td>50</td><td>2</td><td>NA</td><td>1</td><td>NA</td><td>NA</td></tr><tr><th>23</th><td>80765</td><td>2018</td><td>4</td><td>NA</td><td>NA</td><td>5</td><td>NA</td><td>NA</td></tr><tr><th>24</th><td>80767</td><td>2017</td><td>12</td><td>NA</td><td>NA</td><td>5</td><td>NA</td><td>NA</td></tr><tr><th>25</th><td>80769</td><td>2018</td><td>39</td><td>2</td><td>NA</td><td>1</td><td>NA</td><td>NA</td></tr><tr><th>26</th><td>80770</td><td>2018</td><td>3</td><td>1</td><td>NA</td><td>1</td><td>NA</td><td>NA</td></tr><tr><th>27</th><td>80771</td><td>2019</td><td>1</td><td>NA</td><td>7</td><td>5</td><td>NA</td><td>NA</td></tr><tr><th>28</th><td>80774</td><td>2019</td><td>5</td><td>NA</td><td>NA</td><td>5</td><td>NA</td><td>NA</td></tr><tr><th>29</th><td>80775</td><td>2019</td><td>11</td><td>1</td><td>NA</td><td>1</td><td>NA</td><td>NA</td></tr><tr><th>30</th><td>80777</td><td>2018</td><td>13</td><td>1</td><td>NA</td><td>1</td><td>NA</td><td>NA</td></tr><tr><th>&vellip;</th><td>&vellip;</td><td>&vellip;</td><td>&vellip;</td><td>&vellip;</td><td>&vellip;</td><td>&vellip;</td><td>&vellip;</td><td>&vellip;</td></tr></tbody></table></div>"
      ],
      "text/latex": [
       "\\begin{tabular}{r|cccccccc}\n",
       "\t& caseid & intvwyear & lifprtnr & timesmar & attnd14 & fmarit & gayadopt & lifeprt\\\\\n",
       "\t\\hline\n",
       "\t& Int64 & Int64 & String3 & String3 & String3 & Int64 & String3 & String3\\\\\n",
       "\t\\hline\n",
       "\t1 & 80717 & 2018 & 15 & NA & NA & 5 & NA & NA \\\\\n",
       "\t2 & 80721 & 2018 & 1 & NA & 6 & 5 & NA & NA \\\\\n",
       "\t3 & 80722 & 2019 & 2 & NA & 2 & 5 & NA & NA \\\\\n",
       "\t4 & 80724 & 2019 & 50 & 2 & NA & 3 & NA & NA \\\\\n",
       "\t5 & 80732 & 2019 & 0 & NA & NA & 5 & NA & NA \\\\\n",
       "\t6 & 80734 & 2018 & 3 & 1 & NA & 1 & NA & NA \\\\\n",
       "\t7 & 80735 & 2019 & 0 & NA & 2 & 5 & NA & NA \\\\\n",
       "\t8 & 80736 & 2019 & 22 & NA & NA & 5 & NA & NA \\\\\n",
       "\t9 & 80738 & 2018 & 30 & 1 & NA & 3 & NA & NA \\\\\n",
       "\t10 & 80739 & 2019 & 5 & 1 & NA & 1 & NA & NA \\\\\n",
       "\t11 & 80740 & 2017 & 0 & NA & NA & 5 & NA & NA \\\\\n",
       "\t12 & 80741 & 2018 & 1 & NA & NA & 5 & NA & NA \\\\\n",
       "\t13 & 80745 & 2019 & 4 & 1 & NA & 1 & NA & NA \\\\\n",
       "\t14 & 80746 & 2019 & 6 & NA & 6 & 5 & NA & NA \\\\\n",
       "\t15 & 80748 & 2018 & 1 & NA & 1 & 5 & NA & NA \\\\\n",
       "\t16 & 80749 & 2019 & 0 & NA & 1 & 5 & NA & NA \\\\\n",
       "\t17 & 80751 & 2019 & 3 & NA & NA & 5 & NA & NA \\\\\n",
       "\t18 & 80753 & 2019 & 4 & NA & 6 & 5 & NA & NA \\\\\n",
       "\t19 & 80757 & 2019 & 6 & NA & NA & 5 & NA & NA \\\\\n",
       "\t20 & 80758 & 2018 & 10 & NA & 3 & 5 & NA & NA \\\\\n",
       "\t21 & 80759 & 2018 & 26 & NA & NA & 5 & NA & NA \\\\\n",
       "\t22 & 80762 & 2019 & 50 & 2 & NA & 1 & NA & NA \\\\\n",
       "\t23 & 80765 & 2018 & 4 & NA & NA & 5 & NA & NA \\\\\n",
       "\t24 & 80767 & 2017 & 12 & NA & NA & 5 & NA & NA \\\\\n",
       "\t25 & 80769 & 2018 & 39 & 2 & NA & 1 & NA & NA \\\\\n",
       "\t26 & 80770 & 2018 & 3 & 1 & NA & 1 & NA & NA \\\\\n",
       "\t27 & 80771 & 2019 & 1 & NA & 7 & 5 & NA & NA \\\\\n",
       "\t28 & 80774 & 2019 & 5 & NA & NA & 5 & NA & NA \\\\\n",
       "\t29 & 80775 & 2019 & 11 & 1 & NA & 1 & NA & NA \\\\\n",
       "\t30 & 80777 & 2018 & 13 & 1 & NA & 1 & NA & NA \\\\\n",
       "\t$\\dots$ & $\\dots$ & $\\dots$ & $\\dots$ & $\\dots$ & $\\dots$ & $\\dots$ & $\\dots$ & $\\dots$ \\\\\n",
       "\\end{tabular}\n"
      ],
      "text/plain": [
       "\u001b[1m72464×8 DataFrame\u001b[0m\n",
       "\u001b[1m   Row \u001b[0m│\u001b[1m caseid \u001b[0m\u001b[1m intvwyear \u001b[0m\u001b[1m lifprtnr \u001b[0m\u001b[1m timesmar \u001b[0m\u001b[1m attnd14 \u001b[0m\u001b[1m fmarit \u001b[0m\u001b[1m gayadopt \u001b[0m\u001b[1m lif\u001b[0m ⋯\n",
       "\u001b[1m       \u001b[0m│\u001b[90m Int64  \u001b[0m\u001b[90m Int64     \u001b[0m\u001b[90m String3  \u001b[0m\u001b[90m String3  \u001b[0m\u001b[90m String3 \u001b[0m\u001b[90m Int64  \u001b[0m\u001b[90m String3  \u001b[0m\u001b[90m Str\u001b[0m ⋯\n",
       "───────┼────────────────────────────────────────────────────────────────────────\n",
       "     1 │  80717       2018  15        NA        NA            5  NA        NA  ⋯\n",
       "     2 │  80721       2018  1         NA        6             5  NA        NA\n",
       "     3 │  80722       2019  2         NA        2             5  NA        NA\n",
       "     4 │  80724       2019  50        2         NA            3  NA        NA\n",
       "     5 │  80732       2019  0         NA        NA            5  NA        NA  ⋯\n",
       "     6 │  80734       2018  3         1         NA            1  NA        NA\n",
       "     7 │  80735       2019  0         NA        2             5  NA        NA\n",
       "     8 │  80736       2019  22        NA        NA            5  NA        NA\n",
       "     9 │  80738       2018  30        1         NA            3  NA        NA  ⋯\n",
       "    10 │  80739       2019  5         1         NA            1  NA        NA\n",
       "    11 │  80740       2017  0         NA        NA            5  NA        NA\n",
       "   ⋮   │   ⋮         ⋮         ⋮         ⋮         ⋮       ⋮        ⋮          ⋱\n",
       " 72455 │  11640       2002  4         NA        2             5  2         4\n",
       " 72456 │   5515       2002  0         NA        1             5  3         NA  ⋯\n",
       " 72457 │   1551       2002  0         NA        2             5  4         NA\n",
       " 72458 │   9358       2002  1         1         NA            1  4         1\n",
       " 72459 │   2417       2002  1         NA        3             5  2         1\n",
       " 72460 │   1074       2002  0         NA        4             5  3         NA  ⋯\n",
       " 72461 │   8877       2002  5         1         NA            3  4         5\n",
       " 72462 │  11658       2002  7         1         NA            1  2         7\n",
       " 72463 │   2780       2002  5         1         5             3  4         5\n",
       " 72464 │   5758       2002  NA        1         NA            1  NA        1   ⋯\n",
       "\u001b[36m                                                 1 column and 72443 rows omitted\u001b[0m"
      ]
     },
     "execution_count": 39,
     "metadata": {},
     "output_type": "execute_result"
    }
   ],
   "source": [
    "dataframe[:, Cols(\"caseid\", Between(\"intvwyear\", \"lifeprt\"))]"
   ]
  },
  {
   "cell_type": "markdown",
   "id": "2323f33b-b7dd-4807-b5ea-9a96e1b2deb4",
   "metadata": {
    "tags": []
   },
   "source": [
    "## Joining Dataframes\n",
    "\n",
    "To pratice joining dataframes we can split our original NSFG data into two subdaframes while keeping the caseid column:"
   ]
  },
  {
   "cell_type": "code",
   "execution_count": 54,
   "id": "f9249216-4a10-41d3-a5e4-3da261ce1085",
   "metadata": {
    "tags": []
   },
   "outputs": [
    {
     "data": {
      "text/html": [
       "<div class=\"data-frame\"><p>5 rows × 3 columns</p><table class=\"data-frame\"><thead><tr><th></th><th>caseid</th><th>age_a</th><th>marstat</th></tr><tr><th></th><th title=\"Int64\">Int64</th><th title=\"Int64\">Int64</th><th title=\"Int64\">Int64</th></tr></thead><tbody><tr><th>1</th><td>80717</td><td>31</td><td>2</td></tr><tr><th>2</th><td>80721</td><td>17</td><td>6</td></tr><tr><th>3</th><td>80724</td><td>49</td><td>4</td></tr><tr><th>4</th><td>80734</td><td>37</td><td>1</td></tr><tr><th>5</th><td>80739</td><td>40</td><td>1</td></tr></tbody></table></div>"
      ],
      "text/latex": [
       "\\begin{tabular}{r|ccc}\n",
       "\t& caseid & age\\_a & marstat\\\\\n",
       "\t\\hline\n",
       "\t& Int64 & Int64 & Int64\\\\\n",
       "\t\\hline\n",
       "\t1 & 80717 & 31 & 2 \\\\\n",
       "\t2 & 80721 & 17 & 6 \\\\\n",
       "\t3 & 80724 & 49 & 4 \\\\\n",
       "\t4 & 80734 & 37 & 1 \\\\\n",
       "\t5 & 80739 & 40 & 1 \\\\\n",
       "\\end{tabular}\n"
      ],
      "text/plain": [
       "\u001b[1m5×3 DataFrame\u001b[0m\n",
       "\u001b[1m Row \u001b[0m│\u001b[1m caseid \u001b[0m\u001b[1m age_a \u001b[0m\u001b[1m marstat \u001b[0m\n",
       "\u001b[1m     \u001b[0m│\u001b[90m Int64  \u001b[0m\u001b[90m Int64 \u001b[0m\u001b[90m Int64   \u001b[0m\n",
       "─────┼────────────────────────\n",
       "   1 │  80717     31        2\n",
       "   2 │  80721     17        6\n",
       "   3 │  80724     49        4\n",
       "   4 │  80734     37        1\n",
       "   5 │  80739     40        1"
      ]
     },
     "execution_count": 54,
     "metadata": {},
     "output_type": "execute_result"
    }
   ],
   "source": [
    "df_right = dataframe[[1,2,3,5,10], Cols(\"caseid\", Between(\"religion\", \"intvwyear\"))]\n",
    "df_left = dataframe[[1,2,4,6,10], Between(\"caseid\", \"marstat\")]"
   ]
  },
  {
   "cell_type": "markdown",
   "id": "9f547571-fe50-4e26-8c35-9bfd97c8bb95",
   "metadata": {},
   "source": [
    "The following functions are provided to perform seven kinds of joins:\n",
    "\n",
    "- `innerjoin`: the output contains rows for values of the key that exist in all passed data frames.\n",
    "- `leftjoin`: the output contains rows for values of the key that exist in the first (left) argument, whether or not that value exists in the second (right) argument.\n",
    "- `rightjoin`: the output contains rows for values of the key that exist in the second (right) argument, whether or not that value exists in the first (left) argument.\n",
    "- `outerjoin`: the output contains rows for values of the key that exist in any of the passed data frames.\n",
    "- `crossjoin`: The output is the cartesian product of rows from all passed data frames."
   ]
  },
  {
   "cell_type": "code",
   "execution_count": 55,
   "id": "738822a7-f2bb-49bc-a806-3bf177841787",
   "metadata": {
    "tags": []
   },
   "outputs": [
    {
     "data": {
      "text/html": [
       "<div class=\"data-frame\"><p>3 rows × 6 columns</p><table class=\"data-frame\"><thead><tr><th></th><th>caseid</th><th>age_a</th><th>marstat</th><th>religion</th><th>samesex</th><th>intvwyear</th></tr><tr><th></th><th title=\"Int64\">Int64</th><th title=\"Int64\">Int64</th><th title=\"Int64\">Int64</th><th title=\"String3\">String3</th><th title=\"String3\">String3</th><th title=\"Int64\">Int64</th></tr></thead><tbody><tr><th>1</th><td>80717</td><td>31</td><td>2</td><td>1</td><td>1</td><td>2018</td></tr><tr><th>2</th><td>80721</td><td>17</td><td>6</td><td>3</td><td>2</td><td>2018</td></tr><tr><th>3</th><td>80739</td><td>40</td><td>1</td><td>1</td><td>1</td><td>2019</td></tr></tbody></table></div>"
      ],
      "text/latex": [
       "\\begin{tabular}{r|cccccc}\n",
       "\t& caseid & age\\_a & marstat & religion & samesex & intvwyear\\\\\n",
       "\t\\hline\n",
       "\t& Int64 & Int64 & Int64 & String3 & String3 & Int64\\\\\n",
       "\t\\hline\n",
       "\t1 & 80717 & 31 & 2 & 1 & 1 & 2018 \\\\\n",
       "\t2 & 80721 & 17 & 6 & 3 & 2 & 2018 \\\\\n",
       "\t3 & 80739 & 40 & 1 & 1 & 1 & 2019 \\\\\n",
       "\\end{tabular}\n"
      ],
      "text/plain": [
       "\u001b[1m3×6 DataFrame\u001b[0m\n",
       "\u001b[1m Row \u001b[0m│\u001b[1m caseid \u001b[0m\u001b[1m age_a \u001b[0m\u001b[1m marstat \u001b[0m\u001b[1m religion \u001b[0m\u001b[1m samesex \u001b[0m\u001b[1m intvwyear \u001b[0m\n",
       "\u001b[1m     \u001b[0m│\u001b[90m Int64  \u001b[0m\u001b[90m Int64 \u001b[0m\u001b[90m Int64   \u001b[0m\u001b[90m String3  \u001b[0m\u001b[90m String3 \u001b[0m\u001b[90m Int64     \u001b[0m\n",
       "─────┼──────────────────────────────────────────────────────\n",
       "   1 │  80717     31        2  1         1             2018\n",
       "   2 │  80721     17        6  3         2             2018\n",
       "   3 │  80739     40        1  1         1             2019"
      ]
     },
     "execution_count": 55,
     "metadata": {},
     "output_type": "execute_result"
    }
   ],
   "source": [
    "innerjoin(df_left, df_right, on=\"caseid\")"
   ]
  },
  {
   "cell_type": "markdown",
   "id": "26d80e1d-443a-4f90-b0bf-85fec2d397bf",
   "metadata": {},
   "source": [
    "The `source` argument can be useful to add an extra column that can indicate whether a row appeared only in the the left, right or both dataset:"
   ]
  },
  {
   "cell_type": "code",
   "execution_count": 143,
   "id": "25dda236-3c83-48c5-8a56-2df94456d6fd",
   "metadata": {},
   "outputs": [
    {
     "data": {
      "text/html": [
       "<div class=\"data-frame\"><p>5 rows × 7 columns</p><table class=\"data-frame\"><thead><tr><th></th><th>caseid</th><th>age_a</th><th>marstat</th><th>religion</th><th>samesex</th><th>intvwyear</th><th>source_custom</th></tr><tr><th></th><th title=\"Int64\">Int64</th><th title=\"Int64\">Int64</th><th title=\"Int64\">Int64</th><th title=\"Union{Missing, String3}\">String3?</th><th title=\"Union{Missing, String3}\">String3?</th><th title=\"Union{Missing, Int64}\">Int64?</th><th title=\"String\">String</th></tr></thead><tbody><tr><th>1</th><td>80717</td><td>31</td><td>2</td><td>1</td><td>1</td><td>2018</td><td>both</td></tr><tr><th>2</th><td>80721</td><td>17</td><td>6</td><td>3</td><td>2</td><td>2018</td><td>both</td></tr><tr><th>3</th><td>80739</td><td>40</td><td>1</td><td>1</td><td>1</td><td>2019</td><td>both</td></tr><tr><th>4</th><td>80724</td><td>49</td><td>4</td><td><em>missing</em></td><td><em>missing</em></td><td><em>missing</em></td><td>left_only</td></tr><tr><th>5</th><td>80734</td><td>37</td><td>1</td><td><em>missing</em></td><td><em>missing</em></td><td><em>missing</em></td><td>left_only</td></tr></tbody></table></div>"
      ],
      "text/latex": [
       "\\begin{tabular}{r|ccccccc}\n",
       "\t& caseid & age\\_a & marstat & religion & samesex & intvwyear & source\\_custom\\\\\n",
       "\t\\hline\n",
       "\t& Int64 & Int64 & Int64 & String3? & String3? & Int64? & String\\\\\n",
       "\t\\hline\n",
       "\t1 & 80717 & 31 & 2 & 1 & 1 & 2018 & both \\\\\n",
       "\t2 & 80721 & 17 & 6 & 3 & 2 & 2018 & both \\\\\n",
       "\t3 & 80739 & 40 & 1 & 1 & 1 & 2019 & both \\\\\n",
       "\t4 & 80724 & 49 & 4 & \\emph{missing} & \\emph{missing} & \\emph{missing} & left\\_only \\\\\n",
       "\t5 & 80734 & 37 & 1 & \\emph{missing} & \\emph{missing} & \\emph{missing} & left\\_only \\\\\n",
       "\\end{tabular}\n"
      ],
      "text/plain": [
       "\u001b[1m5×7 DataFrame\u001b[0m\n",
       "\u001b[1m Row \u001b[0m│\u001b[1m caseid \u001b[0m\u001b[1m age_a \u001b[0m\u001b[1m marstat \u001b[0m\u001b[1m religion \u001b[0m\u001b[1m samesex  \u001b[0m\u001b[1m intvwyear \u001b[0m\u001b[1m source_custom \u001b[0m\n",
       "\u001b[1m     \u001b[0m│\u001b[90m Int64  \u001b[0m\u001b[90m Int64 \u001b[0m\u001b[90m Int64   \u001b[0m\u001b[90m String3? \u001b[0m\u001b[90m String3? \u001b[0m\u001b[90m Int64?    \u001b[0m\u001b[90m String        \u001b[0m\n",
       "─────┼──────────────────────────────────────────────────────────────────────\n",
       "   1 │  80717     31        2  1         1              2018  both\n",
       "   2 │  80721     17        6  3         2              2018  both\n",
       "   3 │  80739     40        1  1         1              2019  both\n",
       "   4 │  80724     49        4 \u001b[90m missing  \u001b[0m\u001b[90m missing  \u001b[0m\u001b[90m   missing \u001b[0m left_only\n",
       "   5 │  80734     37        1 \u001b[90m missing  \u001b[0m\u001b[90m missing  \u001b[0m\u001b[90m   missing \u001b[0m left_only"
      ]
     },
     "execution_count": 143,
     "metadata": {},
     "output_type": "execute_result"
    }
   ],
   "source": [
    "leftjoin(df_left, df_right, on=\"caseid\", source=\"source_custom\")"
   ]
  },
  {
   "cell_type": "code",
   "execution_count": 57,
   "id": "cb360278-9f50-4ac4-9663-3ea25ef8cffd",
   "metadata": {},
   "outputs": [
    {
     "data": {
      "text/html": [
       "<div class=\"data-frame\"><p>5 rows × 7 columns</p><table class=\"data-frame\"><thead><tr><th></th><th>caseid</th><th>age_a</th><th>marstat</th><th>religion</th><th>samesex</th><th>intvwyear</th><th>source</th></tr><tr><th></th><th title=\"Int64\">Int64</th><th title=\"Union{Missing, Int64}\">Int64?</th><th title=\"Union{Missing, Int64}\">Int64?</th><th title=\"String3\">String3</th><th title=\"String3\">String3</th><th title=\"Int64\">Int64</th><th title=\"String\">String</th></tr></thead><tbody><tr><th>1</th><td>80717</td><td>31</td><td>2</td><td>1</td><td>1</td><td>2018</td><td>both</td></tr><tr><th>2</th><td>80721</td><td>17</td><td>6</td><td>3</td><td>2</td><td>2018</td><td>both</td></tr><tr><th>3</th><td>80739</td><td>40</td><td>1</td><td>1</td><td>1</td><td>2019</td><td>both</td></tr><tr><th>4</th><td>80722</td><td><em>missing</em></td><td><em>missing</em></td><td>1</td><td>2</td><td>2019</td><td>right_only</td></tr><tr><th>5</th><td>80732</td><td><em>missing</em></td><td><em>missing</em></td><td>1</td><td>1</td><td>2019</td><td>right_only</td></tr></tbody></table></div>"
      ],
      "text/latex": [
       "\\begin{tabular}{r|ccccccc}\n",
       "\t& caseid & age\\_a & marstat & religion & samesex & intvwyear & source\\\\\n",
       "\t\\hline\n",
       "\t& Int64 & Int64? & Int64? & String3 & String3 & Int64 & String\\\\\n",
       "\t\\hline\n",
       "\t1 & 80717 & 31 & 2 & 1 & 1 & 2018 & both \\\\\n",
       "\t2 & 80721 & 17 & 6 & 3 & 2 & 2018 & both \\\\\n",
       "\t3 & 80739 & 40 & 1 & 1 & 1 & 2019 & both \\\\\n",
       "\t4 & 80722 & \\emph{missing} & \\emph{missing} & 1 & 2 & 2019 & right\\_only \\\\\n",
       "\t5 & 80732 & \\emph{missing} & \\emph{missing} & 1 & 1 & 2019 & right\\_only \\\\\n",
       "\\end{tabular}\n"
      ],
      "text/plain": [
       "\u001b[1m5×7 DataFrame\u001b[0m\n",
       "\u001b[1m Row \u001b[0m│\u001b[1m caseid \u001b[0m\u001b[1m age_a   \u001b[0m\u001b[1m marstat \u001b[0m\u001b[1m religion \u001b[0m\u001b[1m samesex \u001b[0m\u001b[1m intvwyear \u001b[0m\u001b[1m source     \u001b[0m\n",
       "\u001b[1m     \u001b[0m│\u001b[90m Int64  \u001b[0m\u001b[90m Int64?  \u001b[0m\u001b[90m Int64?  \u001b[0m\u001b[90m String3  \u001b[0m\u001b[90m String3 \u001b[0m\u001b[90m Int64     \u001b[0m\u001b[90m String     \u001b[0m\n",
       "─────┼────────────────────────────────────────────────────────────────────\n",
       "   1 │  80717       31        2  1         1             2018  both\n",
       "   2 │  80721       17        6  3         2             2018  both\n",
       "   3 │  80739       40        1  1         1             2019  both\n",
       "   4 │  80722 \u001b[90m missing \u001b[0m\u001b[90m missing \u001b[0m 1         2             2019  right_only\n",
       "   5 │  80732 \u001b[90m missing \u001b[0m\u001b[90m missing \u001b[0m 1         1             2019  right_only"
      ]
     },
     "execution_count": 57,
     "metadata": {},
     "output_type": "execute_result"
    }
   ],
   "source": [
    "rightjoin(df_left, df_right, on=\"caseid\", source=\"source\")"
   ]
  },
  {
   "cell_type": "markdown",
   "id": "b6f0f437-9b17-4b1e-ad00-fd22b25818dc",
   "metadata": {},
   "source": [
    "## Split-Apply-Combine\n",
    "\n",
    "The DataFrames package supports the split-apply-combine strategy through the `groupby` function that creates a `GroupedDataFrame`, followed by `combine`, `select`/`select!` or `transform`/`transform!`.\n",
    "\n",
    "Lets group our dataset by the marital status:"
   ]
  },
  {
   "cell_type": "code",
   "execution_count": 58,
   "id": "83e6c45d-6b7c-48f2-9aff-beae924a674a",
   "metadata": {
    "tags": []
   },
   "outputs": [
    {
     "data": {
      "text/html": [
       "<p><b>GroupedDataFrame with 8 groups based on key: marstat</b></p><p><i>First Group (22277 rows): marstat = 1</i></p><div class=\"data-frame\"><table class=\"data-frame\"><thead><tr><th></th><th>caseid</th><th>age_a</th><th>marstat</th><th>reldlife</th><th>religion</th><th>samesex</th><th>intvwyear</th><th>lifprtnr</th><th>timesmar</th></tr><tr><th></th><th title=\"Int64\">Int64</th><th title=\"Int64\">Int64</th><th title=\"Int64\">Int64</th><th title=\"String3\">String3</th><th title=\"String3\">String3</th><th title=\"String3\">String3</th><th title=\"Int64\">Int64</th><th title=\"String3\">String3</th><th title=\"String3\">String3</th></tr></thead><tbody><tr><th>1</th><td>80734</td><td>37</td><td>1</td><td>2</td><td>2</td><td>2</td><td>2018</td><td>3</td><td>1</td></tr><tr><th>2</th><td>80739</td><td>40</td><td>1</td><td>NA</td><td>1</td><td>1</td><td>2019</td><td>5</td><td>1</td></tr><tr><th>3</th><td>80745</td><td>32</td><td>1</td><td>1</td><td>3</td><td>2</td><td>2019</td><td>4</td><td>1</td></tr><tr><th>4</th><td>80762</td><td>45</td><td>1</td><td>NA</td><td>1</td><td>5</td><td>2019</td><td>50</td><td>2</td></tr><tr><th>5</th><td>80769</td><td>39</td><td>1</td><td>2</td><td>3</td><td>3</td><td>2018</td><td>39</td><td>2</td></tr><tr><th>6</th><td>80770</td><td>48</td><td>1</td><td>1</td><td>4</td><td>4</td><td>2018</td><td>3</td><td>1</td></tr><tr><th>7</th><td>80775</td><td>26</td><td>1</td><td>3</td><td>4</td><td>2</td><td>2019</td><td>11</td><td>1</td></tr><tr><th>8</th><td>80777</td><td>29</td><td>1</td><td>1</td><td>3</td><td>4</td><td>2018</td><td>13</td><td>1</td></tr><tr><th>9</th><td>80794</td><td>35</td><td>1</td><td>NA</td><td>1</td><td>1</td><td>2018</td><td>2</td><td>1</td></tr><tr><th>10</th><td>80810</td><td>35</td><td>1</td><td>2</td><td>2</td><td>3</td><td>2018</td><td>11</td><td>1</td></tr><tr><th>11</th><td>80825</td><td>27</td><td>1</td><td>NA</td><td>1</td><td>1</td><td>2019</td><td>7</td><td>1</td></tr><tr><th>12</th><td>80837</td><td>42</td><td>1</td><td>2</td><td>4</td><td>3</td><td>2018</td><td>3</td><td>1</td></tr><tr><th>13</th><td>80840</td><td>23</td><td>1</td><td>1</td><td>4</td><td>4</td><td>2017</td><td>3</td><td>1</td></tr><tr><th>14</th><td>80845</td><td>38</td><td>1</td><td>2</td><td>2</td><td>4</td><td>2017</td><td>7</td><td>1</td></tr><tr><th>15</th><td>80850</td><td>33</td><td>1</td><td>NA</td><td>1</td><td>2</td><td>2018</td><td>20</td><td>2</td></tr><tr><th>16</th><td>80852</td><td>32</td><td>1</td><td>1</td><td>2</td><td>2</td><td>2018</td><td>5</td><td>1</td></tr><tr><th>17</th><td>80856</td><td>37</td><td>1</td><td>NA</td><td>1</td><td>1</td><td>2019</td><td>6</td><td>1</td></tr><tr><th>18</th><td>80859</td><td>37</td><td>1</td><td>2</td><td>4</td><td>1</td><td>2017</td><td>1</td><td>1</td></tr><tr><th>19</th><td>80867</td><td>44</td><td>1</td><td>NA</td><td>1</td><td>2</td><td>2018</td><td>6</td><td>1</td></tr><tr><th>20</th><td>80868</td><td>45</td><td>1</td><td>1</td><td>3</td><td>4</td><td>2017</td><td>1</td><td>1</td></tr><tr><th>21</th><td>80884</td><td>25</td><td>1</td><td>NA</td><td>1</td><td>1</td><td>2019</td><td>3</td><td>1</td></tr><tr><th>22</th><td>80899</td><td>42</td><td>1</td><td>NA</td><td>1</td><td>2</td><td>2018</td><td>10</td><td>1</td></tr><tr><th>23</th><td>80921</td><td>42</td><td>1</td><td>1</td><td>3</td><td>3</td><td>2019</td><td>6</td><td>1</td></tr><tr><th>24</th><td>80925</td><td>35</td><td>1</td><td>1</td><td>3</td><td>4</td><td>2019</td><td>21</td><td>1</td></tr><tr><th>25</th><td>80932</td><td>32</td><td>1</td><td>1</td><td>3</td><td>2</td><td>2017</td><td>3</td><td>1</td></tr><tr><th>26</th><td>80936</td><td>40</td><td>1</td><td>1</td><td>3</td><td>4</td><td>2019</td><td>1</td><td>1</td></tr><tr><th>27</th><td>80937</td><td>32</td><td>1</td><td>1</td><td>3</td><td>3</td><td>2019</td><td>2</td><td>1</td></tr><tr><th>28</th><td>80953</td><td>46</td><td>1</td><td>1</td><td>3</td><td>3</td><td>2018</td><td>4</td><td>1</td></tr><tr><th>29</th><td>80956</td><td>27</td><td>1</td><td>2</td><td>3</td><td>2</td><td>2018</td><td>3</td><td>1</td></tr><tr><th>30</th><td>80967</td><td>32</td><td>1</td><td>NA</td><td>1</td><td>1</td><td>2019</td><td>4</td><td>1</td></tr><tr><th>&vellip;</th><td>&vellip;</td><td>&vellip;</td><td>&vellip;</td><td>&vellip;</td><td>&vellip;</td><td>&vellip;</td><td>&vellip;</td><td>&vellip;</td><td>&vellip;</td></tr></tbody></table></div><p>&vellip;</p><p><i>Last Group (14 rows): marstat = 9</i></p><div class=\"data-frame\"><table class=\"data-frame\"><thead><tr><th></th><th>caseid</th><th>age_a</th><th>marstat</th><th>reldlife</th><th>religion</th><th>samesex</th><th>intvwyear</th><th>lifprtnr</th><th>timesmar</th></tr><tr><th></th><th title=\"Int64\">Int64</th><th title=\"Int64\">Int64</th><th title=\"Int64\">Int64</th><th title=\"String3\">String3</th><th title=\"String3\">String3</th><th title=\"String3\">String3</th><th title=\"Int64\">Int64</th><th title=\"String3\">String3</th><th title=\"String3\">String3</th></tr></thead><tbody><tr><th>1</th><td>85548</td><td>48</td><td>9</td><td>3</td><td>3</td><td>1</td><td>2019</td><td>2</td><td>NA</td></tr><tr><th>2</th><td>71119</td><td>28</td><td>9</td><td>NA</td><td>1</td><td>1</td><td>2015</td><td>20</td><td>NA</td></tr><tr><th>3</th><td>73136</td><td>34</td><td>9</td><td>1</td><td>3</td><td>1</td><td>2017</td><td>6</td><td>NA</td></tr><tr><th>4</th><td>79517</td><td>42</td><td>9</td><td>NA</td><td>1</td><td>1</td><td>2017</td><td>28</td><td>NA</td></tr><tr><th>5</th><td>84405</td><td>19</td><td>9</td><td>1</td><td>4</td><td>3</td><td>2017</td><td>1</td><td>NA</td></tr><tr><th>6</th><td>87057</td><td>40</td><td>9</td><td>1</td><td>2</td><td>1</td><td>2017</td><td>0</td><td>NA</td></tr><tr><th>7</th><td>91485</td><td>28</td><td>9</td><td>2</td><td>3</td><td>1</td><td>2018</td><td>2</td><td>NA</td></tr><tr><th>8</th><td>91892</td><td>33</td><td>9</td><td>1</td><td>1</td><td>1</td><td>2019</td><td>5</td><td>NA</td></tr><tr><th>9</th><td>54251</td><td>30</td><td>9</td><td>8</td><td>3</td><td>5</td><td>2011</td><td>0</td><td>NA</td></tr><tr><th>10</th><td>60527</td><td>40</td><td>9</td><td>1</td><td>4</td><td>1</td><td>2014</td><td>3</td><td>NA</td></tr><tr><th>11</th><td>62940</td><td>34</td><td>9</td><td>2</td><td>3</td><td>1</td><td>2014</td><td>1</td><td>NA</td></tr><tr><th>12</th><td>67721</td><td>29</td><td>9</td><td>1</td><td>2</td><td>4</td><td>2014</td><td>10</td><td>NA</td></tr><tr><th>13</th><td>20189</td><td>34</td><td>9</td><td>NA</td><td>1</td><td>3</td><td>2008</td><td>50</td><td>NA</td></tr><tr><th>14</th><td>36766</td><td>27</td><td>9</td><td>1</td><td>3</td><td>2</td><td>2009</td><td>5</td><td>NA</td></tr></tbody></table></div>"
      ],
      "text/latex": [
       "GroupedDataFrame with 8 groups based on key: marstat\n",
       "\n",
       "First Group (22277 rows): marstat = 1\n",
       "\n",
       "\\begin{tabular}{r|cccccccccc}\n",
       "\t& caseid & age\\_a & marstat & reldlife & religion & samesex & intvwyear & lifprtnr & timesmar & \\\\\n",
       "\t\\hline\n",
       "\t& Int64 & Int64 & Int64 & String3 & String3 & String3 & Int64 & String3 & String3 & \\\\\n",
       "\t\\hline\n",
       "\t1 & 80734 & 37 & 1 & 2 & 2 & 2 & 2018 & 3 & 1 & $\\dots$ \\\\\n",
       "\t2 & 80739 & 40 & 1 & NA & 1 & 1 & 2019 & 5 & 1 & $\\dots$ \\\\\n",
       "\t3 & 80745 & 32 & 1 & 1 & 3 & 2 & 2019 & 4 & 1 & $\\dots$ \\\\\n",
       "\t4 & 80762 & 45 & 1 & NA & 1 & 5 & 2019 & 50 & 2 & $\\dots$ \\\\\n",
       "\t5 & 80769 & 39 & 1 & 2 & 3 & 3 & 2018 & 39 & 2 & $\\dots$ \\\\\n",
       "\t6 & 80770 & 48 & 1 & 1 & 4 & 4 & 2018 & 3 & 1 & $\\dots$ \\\\\n",
       "\t7 & 80775 & 26 & 1 & 3 & 4 & 2 & 2019 & 11 & 1 & $\\dots$ \\\\\n",
       "\t8 & 80777 & 29 & 1 & 1 & 3 & 4 & 2018 & 13 & 1 & $\\dots$ \\\\\n",
       "\t9 & 80794 & 35 & 1 & NA & 1 & 1 & 2018 & 2 & 1 & $\\dots$ \\\\\n",
       "\t10 & 80810 & 35 & 1 & 2 & 2 & 3 & 2018 & 11 & 1 & $\\dots$ \\\\\n",
       "\t11 & 80825 & 27 & 1 & NA & 1 & 1 & 2019 & 7 & 1 & $\\dots$ \\\\\n",
       "\t12 & 80837 & 42 & 1 & 2 & 4 & 3 & 2018 & 3 & 1 & $\\dots$ \\\\\n",
       "\t13 & 80840 & 23 & 1 & 1 & 4 & 4 & 2017 & 3 & 1 & $\\dots$ \\\\\n",
       "\t14 & 80845 & 38 & 1 & 2 & 2 & 4 & 2017 & 7 & 1 & $\\dots$ \\\\\n",
       "\t15 & 80850 & 33 & 1 & NA & 1 & 2 & 2018 & 20 & 2 & $\\dots$ \\\\\n",
       "\t16 & 80852 & 32 & 1 & 1 & 2 & 2 & 2018 & 5 & 1 & $\\dots$ \\\\\n",
       "\t17 & 80856 & 37 & 1 & NA & 1 & 1 & 2019 & 6 & 1 & $\\dots$ \\\\\n",
       "\t18 & 80859 & 37 & 1 & 2 & 4 & 1 & 2017 & 1 & 1 & $\\dots$ \\\\\n",
       "\t19 & 80867 & 44 & 1 & NA & 1 & 2 & 2018 & 6 & 1 & $\\dots$ \\\\\n",
       "\t20 & 80868 & 45 & 1 & 1 & 3 & 4 & 2017 & 1 & 1 & $\\dots$ \\\\\n",
       "\t21 & 80884 & 25 & 1 & NA & 1 & 1 & 2019 & 3 & 1 & $\\dots$ \\\\\n",
       "\t22 & 80899 & 42 & 1 & NA & 1 & 2 & 2018 & 10 & 1 & $\\dots$ \\\\\n",
       "\t23 & 80921 & 42 & 1 & 1 & 3 & 3 & 2019 & 6 & 1 & $\\dots$ \\\\\n",
       "\t24 & 80925 & 35 & 1 & 1 & 3 & 4 & 2019 & 21 & 1 & $\\dots$ \\\\\n",
       "\t25 & 80932 & 32 & 1 & 1 & 3 & 2 & 2017 & 3 & 1 & $\\dots$ \\\\\n",
       "\t26 & 80936 & 40 & 1 & 1 & 3 & 4 & 2019 & 1 & 1 & $\\dots$ \\\\\n",
       "\t27 & 80937 & 32 & 1 & 1 & 3 & 3 & 2019 & 2 & 1 & $\\dots$ \\\\\n",
       "\t28 & 80953 & 46 & 1 & 1 & 3 & 3 & 2018 & 4 & 1 & $\\dots$ \\\\\n",
       "\t29 & 80956 & 27 & 1 & 2 & 3 & 2 & 2018 & 3 & 1 & $\\dots$ \\\\\n",
       "\t30 & 80967 & 32 & 1 & NA & 1 & 1 & 2019 & 4 & 1 & $\\dots$ \\\\\n",
       "\t$\\dots$ & $\\dots$ & $\\dots$ & $\\dots$ & $\\dots$ & $\\dots$ & $\\dots$ & $\\dots$ & $\\dots$ & $\\dots$ &  \\\\\n",
       "\\end{tabular}\n",
       "\n",
       "$\\dots$\n",
       "\n",
       "Last Group (14 rows): marstat = 9\n",
       "\n",
       "\\begin{tabular}{r|cccccccccc}\n",
       "\t& caseid & age\\_a & marstat & reldlife & religion & samesex & intvwyear & lifprtnr & timesmar & \\\\\n",
       "\t\\hline\n",
       "\t& Int64 & Int64 & Int64 & String3 & String3 & String3 & Int64 & String3 & String3 & \\\\\n",
       "\t\\hline\n",
       "\t1 & 85548 & 48 & 9 & 3 & 3 & 1 & 2019 & 2 & NA & $\\dots$ \\\\\n",
       "\t2 & 71119 & 28 & 9 & NA & 1 & 1 & 2015 & 20 & NA & $\\dots$ \\\\\n",
       "\t3 & 73136 & 34 & 9 & 1 & 3 & 1 & 2017 & 6 & NA & $\\dots$ \\\\\n",
       "\t4 & 79517 & 42 & 9 & NA & 1 & 1 & 2017 & 28 & NA & $\\dots$ \\\\\n",
       "\t5 & 84405 & 19 & 9 & 1 & 4 & 3 & 2017 & 1 & NA & $\\dots$ \\\\\n",
       "\t6 & 87057 & 40 & 9 & 1 & 2 & 1 & 2017 & 0 & NA & $\\dots$ \\\\\n",
       "\t7 & 91485 & 28 & 9 & 2 & 3 & 1 & 2018 & 2 & NA & $\\dots$ \\\\\n",
       "\t8 & 91892 & 33 & 9 & 1 & 1 & 1 & 2019 & 5 & NA & $\\dots$ \\\\\n",
       "\t9 & 54251 & 30 & 9 & 8 & 3 & 5 & 2011 & 0 & NA & $\\dots$ \\\\\n",
       "\t10 & 60527 & 40 & 9 & 1 & 4 & 1 & 2014 & 3 & NA & $\\dots$ \\\\\n",
       "\t11 & 62940 & 34 & 9 & 2 & 3 & 1 & 2014 & 1 & NA & $\\dots$ \\\\\n",
       "\t12 & 67721 & 29 & 9 & 1 & 2 & 4 & 2014 & 10 & NA & $\\dots$ \\\\\n",
       "\t13 & 20189 & 34 & 9 & NA & 1 & 3 & 2008 & 50 & NA & $\\dots$ \\\\\n",
       "\t14 & 36766 & 27 & 9 & 1 & 3 & 2 & 2009 & 5 & NA & $\\dots$ \\\\\n",
       "\\end{tabular}\n"
      ],
      "text/plain": [
       "GroupedDataFrame with 8 groups based on key: marstat\n",
       "First Group (22277 rows): marstat = 1\n",
       "\u001b[1m   Row \u001b[0m│\u001b[1m caseid \u001b[0m\u001b[1m age_a \u001b[0m\u001b[1m marstat \u001b[0m\u001b[1m reldlife \u001b[0m\u001b[1m religion \u001b[0m\u001b[1m samesex \u001b[0m\u001b[1m intvwyear \u001b[0m\u001b[1m lifpr\u001b[0m ⋯\n",
       "\u001b[1m       \u001b[0m│\u001b[90m Int64  \u001b[0m\u001b[90m Int64 \u001b[0m\u001b[90m Int64   \u001b[0m\u001b[90m String3  \u001b[0m\u001b[90m String3  \u001b[0m\u001b[90m String3 \u001b[0m\u001b[90m Int64     \u001b[0m\u001b[90m Strin\u001b[0m ⋯\n",
       "───────┼────────────────────────────────────────────────────────────────────────\n",
       "     1 │  80734     37        1  2         2         2             2018  3     ⋯\n",
       "     2 │  80739     40        1  NA        1         1             2019  5\n",
       "     3 │  80745     32        1  1         3         2             2019  4\n",
       "     4 │  80762     45        1  NA        1         5             2019  50\n",
       "     5 │  80769     39        1  2         3         3             2018  39    ⋯\n",
       "     6 │  80770     48        1  1         4         4             2018  3\n",
       "     7 │  80775     26        1  3         4         2             2019  11\n",
       "     8 │  80777     29        1  1         3         4             2018  13\n",
       "     9 │  80794     35        1  NA        1         1             2018  2     ⋯\n",
       "    10 │  80810     35        1  2         2         3             2018  11\n",
       "    11 │  80825     27        1  NA        1         1             2019  7\n",
       "   ⋮   │   ⋮       ⋮       ⋮        ⋮         ⋮         ⋮         ⋮         ⋮  ⋱\n",
       " 22267 │   6801     40        1  2         2         1             2002  20\n",
       " 22268 │  10759     39        1  2         3         2             2002  3     ⋯\n",
       " 22269 │   6905     41        1  2         4         3             2002  9\n",
       " 22270 │   7748     29        1  1         3         1             2002  10\n",
       " 22271 │   3665     20        1  2         2         3             2002  2\n",
       " 22272 │   8630     35        1  2         2         2             2002  14    ⋯\n",
       " 22273 │   8829     41        1  1         3         1             2002  1\n",
       " 22274 │   7879     28        1  1         3         1             2002  3\n",
       " 22275 │   9358     27        1  1         3         1             2002  1\n",
       " 22276 │  11658     28        1  NA        1         4             2002  7     ⋯\n",
       " 22277 │   5758     28        1  NA        NA        NA            2002  NA\n",
       "\u001b[36m                                               10 columns and 22255 rows omitted\u001b[0m\n",
       "⋮\n",
       "Last Group (14 rows): marstat = 9\n",
       "\u001b[1m Row \u001b[0m│\u001b[1m caseid \u001b[0m\u001b[1m age_a \u001b[0m\u001b[1m marstat \u001b[0m\u001b[1m reldlife \u001b[0m\u001b[1m religion \u001b[0m\u001b[1m samesex \u001b[0m\u001b[1m intvwyear \u001b[0m\u001b[1m lifprtn\u001b[0m ⋯\n",
       "\u001b[1m     \u001b[0m│\u001b[90m Int64  \u001b[0m\u001b[90m Int64 \u001b[0m\u001b[90m Int64   \u001b[0m\u001b[90m String3  \u001b[0m\u001b[90m String3  \u001b[0m\u001b[90m String3 \u001b[0m\u001b[90m Int64     \u001b[0m\u001b[90m String3\u001b[0m ⋯\n",
       "─────┼──────────────────────────────────────────────────────────────────────────\n",
       "   1 │  85548     48        9  3         3         1             2019  2       ⋯\n",
       "   2 │  71119     28        9  NA        1         1             2015  20\n",
       "   3 │  73136     34        9  1         3         1             2017  6\n",
       "   4 │  79517     42        9  NA        1         1             2017  28\n",
       "   5 │  84405     19        9  1         4         3             2017  1       ⋯\n",
       "   6 │  87057     40        9  1         2         1             2017  0\n",
       "   7 │  91485     28        9  2         3         1             2018  2\n",
       "   8 │  91892     33        9  1         1         1             2019  5\n",
       "   9 │  54251     30        9  8         3         5             2011  0       ⋯\n",
       "  10 │  60527     40        9  1         4         1             2014  3\n",
       "  11 │  62940     34        9  2         3         1             2014  1\n",
       "  12 │  67721     29        9  1         2         4             2014  10\n",
       "  13 │  20189     34        9  NA        1         3             2008  50      ⋯\n",
       "  14 │  36766     27        9  1         3         2             2009  5\n",
       "\u001b[36m                                                              10 columns omitted\u001b[0m"
      ]
     },
     "execution_count": 58,
     "metadata": {},
     "output_type": "execute_result"
    }
   ],
   "source": [
    "df_gp = groupby(dataframe, \"marstat\")"
   ]
  },
  {
   "cell_type": "markdown",
   "id": "459ac11e-b781-4ee1-a1bd-c88977fca526",
   "metadata": {},
   "source": [
    "Once we have our grouped dataset we can use the `combine` function and apply different statistics like getting the mean or the number of rows for each group. Notice the `=>` operator to map the column and the function we want to apply. Recall to load the `Statitics` package:"
   ]
  },
  {
   "cell_type": "code",
   "execution_count": 60,
   "id": "93273d31-a6a6-400a-8107-e93bb6c0885f",
   "metadata": {},
   "outputs": [
    {
     "data": {
      "text/html": [
       "<div class=\"data-frame\"><p>8 rows × 2 columns</p><table class=\"data-frame\"><thead><tr><th></th><th>marstat</th><th>age_a_mean</th></tr><tr><th></th><th title=\"Int64\">Int64</th><th title=\"Float64\">Float64</th></tr></thead><tbody><tr><th>1</th><td>1</td><td>34.7219</td></tr><tr><th>2</th><td>2</td><td>29.8544</td></tr><tr><th>3</th><td>3</td><td>39.4524</td></tr><tr><th>4</th><td>4</td><td>37.3915</td></tr><tr><th>5</th><td>5</td><td>34.7032</td></tr><tr><th>6</th><td>6</td><td>24.2707</td></tr><tr><th>7</th><td>8</td><td>33.7647</td></tr><tr><th>8</th><td>9</td><td>33.2857</td></tr></tbody></table></div>"
      ],
      "text/latex": [
       "\\begin{tabular}{r|cc}\n",
       "\t& marstat & age\\_a\\_mean\\\\\n",
       "\t\\hline\n",
       "\t& Int64 & Float64\\\\\n",
       "\t\\hline\n",
       "\t1 & 1 & 34.7219 \\\\\n",
       "\t2 & 2 & 29.8544 \\\\\n",
       "\t3 & 3 & 39.4524 \\\\\n",
       "\t4 & 4 & 37.3915 \\\\\n",
       "\t5 & 5 & 34.7032 \\\\\n",
       "\t6 & 6 & 24.2707 \\\\\n",
       "\t7 & 8 & 33.7647 \\\\\n",
       "\t8 & 9 & 33.2857 \\\\\n",
       "\\end{tabular}\n"
      ],
      "text/plain": [
       "\u001b[1m8×2 DataFrame\u001b[0m\n",
       "\u001b[1m Row \u001b[0m│\u001b[1m marstat \u001b[0m\u001b[1m age_a_mean \u001b[0m\n",
       "\u001b[1m     \u001b[0m│\u001b[90m Int64   \u001b[0m\u001b[90m Float64    \u001b[0m\n",
       "─────┼─────────────────────\n",
       "   1 │       1     34.7219\n",
       "   2 │       2     29.8544\n",
       "   3 │       3     39.4524\n",
       "   4 │       4     37.3915\n",
       "   5 │       5     34.7032\n",
       "   6 │       6     24.2707\n",
       "   7 │       8     33.7647\n",
       "   8 │       9     33.2857"
      ]
     },
     "execution_count": 60,
     "metadata": {},
     "output_type": "execute_result"
    }
   ],
   "source": [
    "using Statistics\n",
    "\n",
    "combine(df_gp, \"age_a\" => mean)"
   ]
  },
  {
   "cell_type": "code",
   "execution_count": 61,
   "id": "f327c006-bf39-4f0f-88a6-ecde51f30c46",
   "metadata": {},
   "outputs": [
    {
     "data": {
      "text/html": [
       "<div class=\"data-frame\"><p>8 rows × 2 columns</p><table class=\"data-frame\"><thead><tr><th></th><th>marstat</th><th>nrow</th></tr><tr><th></th><th title=\"Int64\">Int64</th><th title=\"Int64\">Int64</th></tr></thead><tbody><tr><th>1</th><td>1</td><td>22277</td></tr><tr><th>2</th><td>2</td><td>8227</td></tr><tr><th>3</th><td>3</td><td>252</td></tr><tr><th>4</th><td>4</td><td>4296</td></tr><tr><th>5</th><td>5</td><td>2092</td></tr><tr><th>6</th><td>6</td><td>35289</td></tr><tr><th>7</th><td>8</td><td>17</td></tr><tr><th>8</th><td>9</td><td>14</td></tr></tbody></table></div>"
      ],
      "text/latex": [
       "\\begin{tabular}{r|cc}\n",
       "\t& marstat & nrow\\\\\n",
       "\t\\hline\n",
       "\t& Int64 & Int64\\\\\n",
       "\t\\hline\n",
       "\t1 & 1 & 22277 \\\\\n",
       "\t2 & 2 & 8227 \\\\\n",
       "\t3 & 3 & 252 \\\\\n",
       "\t4 & 4 & 4296 \\\\\n",
       "\t5 & 5 & 2092 \\\\\n",
       "\t6 & 6 & 35289 \\\\\n",
       "\t7 & 8 & 17 \\\\\n",
       "\t8 & 9 & 14 \\\\\n",
       "\\end{tabular}\n"
      ],
      "text/plain": [
       "\u001b[1m8×2 DataFrame\u001b[0m\n",
       "\u001b[1m Row \u001b[0m│\u001b[1m marstat \u001b[0m\u001b[1m nrow  \u001b[0m\n",
       "\u001b[1m     \u001b[0m│\u001b[90m Int64   \u001b[0m\u001b[90m Int64 \u001b[0m\n",
       "─────┼────────────────\n",
       "   1 │       1  22277\n",
       "   2 │       2   8227\n",
       "   3 │       3    252\n",
       "   4 │       4   4296\n",
       "   5 │       5   2092\n",
       "   6 │       6  35289\n",
       "   7 │       8     17\n",
       "   8 │       9     14"
      ]
     },
     "execution_count": 61,
     "metadata": {},
     "output_type": "execute_result"
    }
   ],
   "source": [
    "combine(df_gp, nrow)"
   ]
  },
  {
   "cell_type": "markdown",
   "id": "000bc14c-27e9-4b70-b909-8c9e2126e9d5",
   "metadata": {},
   "source": [
    "We can apply different functions at the same time:"
   ]
  },
  {
   "cell_type": "code",
   "execution_count": 65,
   "id": "6ca19895-bc2b-476f-9543-0ca01f530d45",
   "metadata": {},
   "outputs": [
    {
     "data": {
      "text/html": [
       "<div class=\"data-frame\"><p>8 rows × 3 columns</p><table class=\"data-frame\"><thead><tr><th></th><th>marstat</th><th>nrow</th><th>age_a_mean</th></tr><tr><th></th><th title=\"Int64\">Int64</th><th title=\"Int64\">Int64</th><th title=\"Float64\">Float64</th></tr></thead><tbody><tr><th>1</th><td>1</td><td>22277</td><td>34.7219</td></tr><tr><th>2</th><td>2</td><td>8227</td><td>29.8544</td></tr><tr><th>3</th><td>3</td><td>252</td><td>39.4524</td></tr><tr><th>4</th><td>4</td><td>4296</td><td>37.3915</td></tr><tr><th>5</th><td>5</td><td>2092</td><td>34.7032</td></tr><tr><th>6</th><td>6</td><td>35289</td><td>24.2707</td></tr><tr><th>7</th><td>8</td><td>17</td><td>33.7647</td></tr><tr><th>8</th><td>9</td><td>14</td><td>33.2857</td></tr></tbody></table></div>"
      ],
      "text/latex": [
       "\\begin{tabular}{r|ccc}\n",
       "\t& marstat & nrow & age\\_a\\_mean\\\\\n",
       "\t\\hline\n",
       "\t& Int64 & Int64 & Float64\\\\\n",
       "\t\\hline\n",
       "\t1 & 1 & 22277 & 34.7219 \\\\\n",
       "\t2 & 2 & 8227 & 29.8544 \\\\\n",
       "\t3 & 3 & 252 & 39.4524 \\\\\n",
       "\t4 & 4 & 4296 & 37.3915 \\\\\n",
       "\t5 & 5 & 2092 & 34.7032 \\\\\n",
       "\t6 & 6 & 35289 & 24.2707 \\\\\n",
       "\t7 & 8 & 17 & 33.7647 \\\\\n",
       "\t8 & 9 & 14 & 33.2857 \\\\\n",
       "\\end{tabular}\n"
      ],
      "text/plain": [
       "\u001b[1m8×3 DataFrame\u001b[0m\n",
       "\u001b[1m Row \u001b[0m│\u001b[1m marstat \u001b[0m\u001b[1m nrow  \u001b[0m\u001b[1m age_a_mean \u001b[0m\n",
       "\u001b[1m     \u001b[0m│\u001b[90m Int64   \u001b[0m\u001b[90m Int64 \u001b[0m\u001b[90m Float64    \u001b[0m\n",
       "─────┼────────────────────────────\n",
       "   1 │       1  22277     34.7219\n",
       "   2 │       2   8227     29.8544\n",
       "   3 │       3    252     39.4524\n",
       "   4 │       4   4296     37.3915\n",
       "   5 │       5   2092     34.7032\n",
       "   6 │       6  35289     24.2707\n",
       "   7 │       8     17     33.7647\n",
       "   8 │       9     14     33.2857"
      ]
     },
     "execution_count": 65,
     "metadata": {},
     "output_type": "execute_result"
    }
   ],
   "source": [
    "combine(df_gp, nrow, \"age_a\" => mean)"
   ]
  },
  {
   "cell_type": "markdown",
   "id": "83e701b6-f9eb-4c60-bb99-2a5413617a14",
   "metadata": {},
   "source": [
    "You can customize the output column names using the `=>` operator:"
   ]
  },
  {
   "cell_type": "code",
   "execution_count": 87,
   "id": "1005b9fb-cbee-46e1-9fb4-f6f73c5ec5d0",
   "metadata": {},
   "outputs": [
    {
     "data": {
      "text/html": [
       "<div class=\"data-frame\"><p>8 rows × 3 columns</p><table class=\"data-frame\"><thead><tr><th></th><th>marstat</th><th>nrow</th><th>age_mean_custom_name</th></tr><tr><th></th><th title=\"Int64\">Int64</th><th title=\"Int64\">Int64</th><th title=\"Float64\">Float64</th></tr></thead><tbody><tr><th>1</th><td>1</td><td>22277</td><td>34.7219</td></tr><tr><th>2</th><td>2</td><td>8227</td><td>29.8544</td></tr><tr><th>3</th><td>3</td><td>252</td><td>39.4524</td></tr><tr><th>4</th><td>4</td><td>4296</td><td>37.3915</td></tr><tr><th>5</th><td>5</td><td>2092</td><td>34.7032</td></tr><tr><th>6</th><td>6</td><td>35289</td><td>24.2707</td></tr><tr><th>7</th><td>8</td><td>17</td><td>33.7647</td></tr><tr><th>8</th><td>9</td><td>14</td><td>33.2857</td></tr></tbody></table></div>"
      ],
      "text/latex": [
       "\\begin{tabular}{r|ccc}\n",
       "\t& marstat & nrow & age\\_mean\\_custom\\_name\\\\\n",
       "\t\\hline\n",
       "\t& Int64 & Int64 & Float64\\\\\n",
       "\t\\hline\n",
       "\t1 & 1 & 22277 & 34.7219 \\\\\n",
       "\t2 & 2 & 8227 & 29.8544 \\\\\n",
       "\t3 & 3 & 252 & 39.4524 \\\\\n",
       "\t4 & 4 & 4296 & 37.3915 \\\\\n",
       "\t5 & 5 & 2092 & 34.7032 \\\\\n",
       "\t6 & 6 & 35289 & 24.2707 \\\\\n",
       "\t7 & 8 & 17 & 33.7647 \\\\\n",
       "\t8 & 9 & 14 & 33.2857 \\\\\n",
       "\\end{tabular}\n"
      ],
      "text/plain": [
       "\u001b[1m8×3 DataFrame\u001b[0m\n",
       "\u001b[1m Row \u001b[0m│\u001b[1m marstat \u001b[0m\u001b[1m nrow  \u001b[0m\u001b[1m age_mean_custom_name \u001b[0m\n",
       "\u001b[1m     \u001b[0m│\u001b[90m Int64   \u001b[0m\u001b[90m Int64 \u001b[0m\u001b[90m Float64              \u001b[0m\n",
       "─────┼──────────────────────────────────────\n",
       "   1 │       1  22277               34.7219\n",
       "   2 │       2   8227               29.8544\n",
       "   3 │       3    252               39.4524\n",
       "   4 │       4   4296               37.3915\n",
       "   5 │       5   2092               34.7032\n",
       "   6 │       6  35289               24.2707\n",
       "   7 │       8     17               33.7647\n",
       "   8 │       9     14               33.2857"
      ]
     },
     "execution_count": 87,
     "metadata": {},
     "output_type": "execute_result"
    }
   ],
   "source": [
    "combine(df_gp, nrow, \"age_a\" => mean => \"age_mean_custom_name\")"
   ]
  },
  {
   "cell_type": "markdown",
   "id": "deb80f01-6208-4e3a-a36a-a01f06d6ec98",
   "metadata": {},
   "source": [
    "We can perform more advanced operations. For example, we can pass multiple columns as arguments and apply customized functions:"
   ]
  },
  {
   "cell_type": "code",
   "execution_count": 145,
   "id": "8d9d34d0-356f-45d5-b835-12b823af411e",
   "metadata": {},
   "outputs": [
    {
     "data": {
      "text/html": [
       "<div class=\"data-frame\"><p>5 rows × 2 columns</p><table class=\"data-frame\"><thead><tr><th></th><th>religion</th><th>age_a_intvwyear_function</th></tr><tr><th></th><th title=\"String3\">String3</th><th title=\"Float64\">Float64</th></tr></thead><tbody><tr><th>1</th><td>1</td><td>0.0143374</td></tr><tr><th>2</th><td>3</td><td>0.0146733</td></tr><tr><th>3</th><td>4</td><td>0.0145775</td></tr><tr><th>4</th><td>2</td><td>0.0144825</td></tr><tr><th>5</th><td>NA</td><td>0.013986</td></tr></tbody></table></div>"
      ],
      "text/latex": [
       "\\begin{tabular}{r|cc}\n",
       "\t& religion & age\\_a\\_intvwyear\\_function\\\\\n",
       "\t\\hline\n",
       "\t& String3 & Float64\\\\\n",
       "\t\\hline\n",
       "\t1 & 1 & 0.0143374 \\\\\n",
       "\t2 & 3 & 0.0146733 \\\\\n",
       "\t3 & 4 & 0.0145775 \\\\\n",
       "\t4 & 2 & 0.0144825 \\\\\n",
       "\t5 & NA & 0.013986 \\\\\n",
       "\\end{tabular}\n"
      ],
      "text/plain": [
       "\u001b[1m5×2 DataFrame\u001b[0m\n",
       "\u001b[1m Row \u001b[0m│\u001b[1m religion \u001b[0m\u001b[1m age_a_intvwyear_function \u001b[0m\n",
       "\u001b[1m     \u001b[0m│\u001b[90m String3  \u001b[0m\u001b[90m Float64                  \u001b[0m\n",
       "─────┼────────────────────────────────────\n",
       "   1 │ 1                        0.0143374\n",
       "   2 │ 3                        0.0146733\n",
       "   3 │ 4                        0.0145775\n",
       "   4 │ 2                        0.0144825\n",
       "   5 │ NA                       0.013986"
      ]
     },
     "execution_count": 145,
     "metadata": {},
     "output_type": "execute_result"
    }
   ],
   "source": [
    "combine(df_gp, [\"age_a\", \"intvwyear\"] => ((a, i) -> (x=mean(a)/mean(i))))"
   ]
  },
  {
   "cell_type": "markdown",
   "id": "f1b332a7-6245-4886-a125-3c3c61fc8614",
   "metadata": {},
   "source": [
    "Similar to the code sample above, we can make more than one custom function at the same time, but we need to use the `AsTable` type. You can find more information about the different `DataFrames` **Types** [here](https://docs.juliahub.com/DataFrames/AR9oZ/0.21.5/lib/types/)."
   ]
  },
  {
   "cell_type": "code",
   "execution_count": 147,
   "id": "f5b781ff-35d2-479f-bd50-960e334c88b9",
   "metadata": {},
   "outputs": [
    {
     "data": {
      "text/html": [
       "<div class=\"data-frame\"><p>5 rows × 3 columns</p><table class=\"data-frame\"><thead><tr><th></th><th>religion</th><th>x</th><th>y</th></tr><tr><th></th><th title=\"String3\">String3</th><th title=\"Float64\">Float64</th><th title=\"Int64\">Int64</th></tr></thead><tbody><tr><th>1</th><td>1</td><td>0.0143374</td><td>34069135</td></tr><tr><th>2</th><td>3</td><td>0.0146733</td><td>65764429</td></tr><tr><th>3</th><td>4</td><td>0.0145775</td><td>11667106</td></tr><tr><th>4</th><td>2</td><td>0.0144825</td><td>34266608</td></tr><tr><th>5</th><td>NA</td><td>0.013986</td><td>2002</td></tr></tbody></table></div>"
      ],
      "text/latex": [
       "\\begin{tabular}{r|ccc}\n",
       "\t& religion & x & y\\\\\n",
       "\t\\hline\n",
       "\t& String3 & Float64 & Int64\\\\\n",
       "\t\\hline\n",
       "\t1 & 1 & 0.0143374 & 34069135 \\\\\n",
       "\t2 & 3 & 0.0146733 & 65764429 \\\\\n",
       "\t3 & 4 & 0.0145775 & 11667106 \\\\\n",
       "\t4 & 2 & 0.0144825 & 34266608 \\\\\n",
       "\t5 & NA & 0.013986 & 2002 \\\\\n",
       "\\end{tabular}\n"
      ],
      "text/plain": [
       "\u001b[1m5×3 DataFrame\u001b[0m\n",
       "\u001b[1m Row \u001b[0m│\u001b[1m religion \u001b[0m\u001b[1m x         \u001b[0m\u001b[1m y        \u001b[0m\n",
       "\u001b[1m     \u001b[0m│\u001b[90m String3  \u001b[0m\u001b[90m Float64   \u001b[0m\u001b[90m Int64    \u001b[0m\n",
       "─────┼───────────────────────────────\n",
       "   1 │ 1         0.0143374  34069135\n",
       "   2 │ 3         0.0146733  65764429\n",
       "   3 │ 4         0.0145775  11667106\n",
       "   4 │ 2         0.0144825  34266608\n",
       "   5 │ NA        0.013986       2002"
      ]
     },
     "execution_count": 147,
     "metadata": {},
     "output_type": "execute_result"
    }
   ],
   "source": [
    "combine(df_gp, [\"age_a\", \"intvwyear\"] => ((a, i) -> (x=mean(a)/mean(i), y=sum(i))) => AsTable)"
   ]
  },
  {
   "cell_type": "markdown",
   "id": "898d94ad-5ebf-4804-91a3-5c16085dcaa6",
   "metadata": {},
   "source": [
    "We can select the columns using indexing like:"
   ]
  },
  {
   "cell_type": "code",
   "execution_count": 88,
   "id": "639b6d2e-8521-4d12-852b-89ce226d0c16",
   "metadata": {},
   "outputs": [
    {
     "data": {
      "text/html": [
       "<div class=\"data-frame\"><p>8 rows × 2 columns</p><table class=\"data-frame\"><thead><tr><th></th><th>marstat</th><th>age_a_intvwyear_cor</th></tr><tr><th></th><th title=\"Int64\">Int64</th><th title=\"Float64\">Float64</th></tr></thead><tbody><tr><th>1</th><td>1</td><td>0.165746</td></tr><tr><th>2</th><td>2</td><td>0.160271</td></tr><tr><th>3</th><td>3</td><td>0.23207</td></tr><tr><th>4</th><td>4</td><td>0.215881</td></tr><tr><th>5</th><td>5</td><td>0.183481</td></tr><tr><th>6</th><td>6</td><td>0.0650576</td></tr><tr><th>7</th><td>8</td><td>0.500346</td></tr><tr><th>8</th><td>9</td><td>0.260659</td></tr></tbody></table></div>"
      ],
      "text/latex": [
       "\\begin{tabular}{r|cc}\n",
       "\t& marstat & age\\_a\\_intvwyear\\_cor\\\\\n",
       "\t\\hline\n",
       "\t& Int64 & Float64\\\\\n",
       "\t\\hline\n",
       "\t1 & 1 & 0.165746 \\\\\n",
       "\t2 & 2 & 0.160271 \\\\\n",
       "\t3 & 3 & 0.23207 \\\\\n",
       "\t4 & 4 & 0.215881 \\\\\n",
       "\t5 & 5 & 0.183481 \\\\\n",
       "\t6 & 6 & 0.0650576 \\\\\n",
       "\t7 & 8 & 0.500346 \\\\\n",
       "\t8 & 9 & 0.260659 \\\\\n",
       "\\end{tabular}\n"
      ],
      "text/plain": [
       "\u001b[1m8×2 DataFrame\u001b[0m\n",
       "\u001b[1m Row \u001b[0m│\u001b[1m marstat \u001b[0m\u001b[1m age_a_intvwyear_cor \u001b[0m\n",
       "\u001b[1m     \u001b[0m│\u001b[90m Int64   \u001b[0m\u001b[90m Float64             \u001b[0m\n",
       "─────┼──────────────────────────────\n",
       "   1 │       1            0.165746\n",
       "   2 │       2            0.160271\n",
       "   3 │       3            0.23207\n",
       "   4 │       4            0.215881\n",
       "   5 │       5            0.183481\n",
       "   6 │       6            0.0650576\n",
       "   7 │       8            0.500346\n",
       "   8 │       9            0.260659"
      ]
     },
     "execution_count": 88,
     "metadata": {},
     "output_type": "execute_result"
    }
   ],
   "source": [
    "combine(df_gp, [2,7] => cor)"
   ]
  },
  {
   "cell_type": "code",
   "execution_count": 94,
   "id": "878b766c-2fe0-40cc-a59a-529368216de3",
   "metadata": {},
   "outputs": [
    {
     "data": {
      "text/html": [
       "<div class=\"data-frame\"><p>8 rows × 3 columns</p><table class=\"data-frame\"><thead><tr><th></th><th>marstat</th><th>min_age</th><th>max_age</th></tr><tr><th></th><th title=\"Int64\">Int64</th><th title=\"Int64\">Int64</th><th title=\"Int64\">Int64</th></tr></thead><tbody><tr><th>1</th><td>1</td><td>17</td><td>98</td></tr><tr><th>2</th><td>2</td><td>15</td><td>50</td></tr><tr><th>3</th><td>3</td><td>22</td><td>49</td></tr><tr><th>4</th><td>4</td><td>19</td><td>50</td></tr><tr><th>5</th><td>5</td><td>18</td><td>49</td></tr><tr><th>6</th><td>6</td><td>15</td><td>99</td></tr><tr><th>7</th><td>8</td><td>21</td><td>49</td></tr><tr><th>8</th><td>9</td><td>19</td><td>48</td></tr></tbody></table></div>"
      ],
      "text/latex": [
       "\\begin{tabular}{r|ccc}\n",
       "\t& marstat & min\\_age & max\\_age\\\\\n",
       "\t\\hline\n",
       "\t& Int64 & Int64 & Int64\\\\\n",
       "\t\\hline\n",
       "\t1 & 1 & 17 & 98 \\\\\n",
       "\t2 & 2 & 15 & 50 \\\\\n",
       "\t3 & 3 & 22 & 49 \\\\\n",
       "\t4 & 4 & 19 & 50 \\\\\n",
       "\t5 & 5 & 18 & 49 \\\\\n",
       "\t6 & 6 & 15 & 99 \\\\\n",
       "\t7 & 8 & 21 & 49 \\\\\n",
       "\t8 & 9 & 19 & 48 \\\\\n",
       "\\end{tabular}\n"
      ],
      "text/plain": [
       "\u001b[1m8×3 DataFrame\u001b[0m\n",
       "\u001b[1m Row \u001b[0m│\u001b[1m marstat \u001b[0m\u001b[1m min_age \u001b[0m\u001b[1m max_age \u001b[0m\n",
       "\u001b[1m     \u001b[0m│\u001b[90m Int64   \u001b[0m\u001b[90m Int64   \u001b[0m\u001b[90m Int64   \u001b[0m\n",
       "─────┼───────────────────────────\n",
       "   1 │       1       17       98\n",
       "   2 │       2       15       50\n",
       "   3 │       3       22       49\n",
       "   4 │       4       19       50\n",
       "   5 │       5       18       49\n",
       "   6 │       6       15       99\n",
       "   7 │       8       21       49\n",
       "   8 │       9       19       48"
      ]
     },
     "execution_count": 94,
     "metadata": {},
     "output_type": "execute_result"
    }
   ],
   "source": [
    "combine(df_gp, \"age_a\" => (x -> [extrema(x)]) => [\"min_age\", \"max_age\"])"
   ]
  },
  {
   "cell_type": "markdown",
   "id": "a286d75f-5477-443d-9d6b-a3e745244e74",
   "metadata": {},
   "source": [
    "Contrary to `combine`, the `select` and `transform` functions always return a data frame with the same number and order of rows as the source. In the examples below the return values in the columns are broadcasted to match the number of elements in each group:"
   ]
  },
  {
   "cell_type": "code",
   "execution_count": 97,
   "id": "f568b9c3-d3a5-4ff2-b9ca-155e958f4898",
   "metadata": {},
   "outputs": [
    {
     "data": {
      "text/html": [
       "<div class=\"data-frame\"><p>8 rows × 2 columns</p><table class=\"data-frame\"><thead><tr><th></th><th>marstat</th><th>age_a_mean</th></tr><tr><th></th><th title=\"Int64\">Int64</th><th title=\"Float64\">Float64</th></tr></thead><tbody><tr><th>1</th><td>1</td><td>34.7219</td></tr><tr><th>2</th><td>2</td><td>29.8544</td></tr><tr><th>3</th><td>3</td><td>39.4524</td></tr><tr><th>4</th><td>4</td><td>37.3915</td></tr><tr><th>5</th><td>5</td><td>34.7032</td></tr><tr><th>6</th><td>6</td><td>24.2707</td></tr><tr><th>7</th><td>8</td><td>33.7647</td></tr><tr><th>8</th><td>9</td><td>33.2857</td></tr></tbody></table></div>"
      ],
      "text/latex": [
       "\\begin{tabular}{r|cc}\n",
       "\t& marstat & age\\_a\\_mean\\\\\n",
       "\t\\hline\n",
       "\t& Int64 & Float64\\\\\n",
       "\t\\hline\n",
       "\t1 & 1 & 34.7219 \\\\\n",
       "\t2 & 2 & 29.8544 \\\\\n",
       "\t3 & 3 & 39.4524 \\\\\n",
       "\t4 & 4 & 37.3915 \\\\\n",
       "\t5 & 5 & 34.7032 \\\\\n",
       "\t6 & 6 & 24.2707 \\\\\n",
       "\t7 & 8 & 33.7647 \\\\\n",
       "\t8 & 9 & 33.2857 \\\\\n",
       "\\end{tabular}\n"
      ],
      "text/plain": [
       "\u001b[1m8×2 DataFrame\u001b[0m\n",
       "\u001b[1m Row \u001b[0m│\u001b[1m marstat \u001b[0m\u001b[1m age_a_mean \u001b[0m\n",
       "\u001b[1m     \u001b[0m│\u001b[90m Int64   \u001b[0m\u001b[90m Float64    \u001b[0m\n",
       "─────┼─────────────────────\n",
       "   1 │       1     34.7219\n",
       "   2 │       2     29.8544\n",
       "   3 │       3     39.4524\n",
       "   4 │       4     37.3915\n",
       "   5 │       5     34.7032\n",
       "   6 │       6     24.2707\n",
       "   7 │       8     33.7647\n",
       "   8 │       9     33.2857"
      ]
     },
     "execution_count": 97,
     "metadata": {},
     "output_type": "execute_result"
    }
   ],
   "source": [
    "combine(df_gp, \"age_a\" => mean)"
   ]
  },
  {
   "cell_type": "code",
   "execution_count": 96,
   "id": "727c96db-6fa2-482b-9e75-5a3a8fd72bd3",
   "metadata": {
    "tags": []
   },
   "outputs": [
    {
     "data": {
      "text/html": [
       "<div class=\"data-frame\"><p>72,464 rows × 2 columns</p><table class=\"data-frame\"><thead><tr><th></th><th>marstat</th><th>age_a_mean</th></tr><tr><th></th><th title=\"Int64\">Int64</th><th title=\"Float64\">Float64</th></tr></thead><tbody><tr><th>1</th><td>2</td><td>29.8544</td></tr><tr><th>2</th><td>6</td><td>24.2707</td></tr><tr><th>3</th><td>6</td><td>24.2707</td></tr><tr><th>4</th><td>4</td><td>37.3915</td></tr><tr><th>5</th><td>6</td><td>24.2707</td></tr><tr><th>6</th><td>1</td><td>34.7219</td></tr><tr><th>7</th><td>6</td><td>24.2707</td></tr><tr><th>8</th><td>2</td><td>29.8544</td></tr><tr><th>9</th><td>4</td><td>37.3915</td></tr><tr><th>10</th><td>1</td><td>34.7219</td></tr><tr><th>11</th><td>6</td><td>24.2707</td></tr><tr><th>12</th><td>6</td><td>24.2707</td></tr><tr><th>13</th><td>1</td><td>34.7219</td></tr><tr><th>14</th><td>6</td><td>24.2707</td></tr><tr><th>15</th><td>2</td><td>29.8544</td></tr><tr><th>16</th><td>6</td><td>24.2707</td></tr><tr><th>17</th><td>2</td><td>29.8544</td></tr><tr><th>18</th><td>6</td><td>24.2707</td></tr><tr><th>19</th><td>6</td><td>24.2707</td></tr><tr><th>20</th><td>2</td><td>29.8544</td></tr><tr><th>21</th><td>2</td><td>29.8544</td></tr><tr><th>22</th><td>1</td><td>34.7219</td></tr><tr><th>23</th><td>6</td><td>24.2707</td></tr><tr><th>24</th><td>6</td><td>24.2707</td></tr><tr><th>25</th><td>1</td><td>34.7219</td></tr><tr><th>26</th><td>1</td><td>34.7219</td></tr><tr><th>27</th><td>6</td><td>24.2707</td></tr><tr><th>28</th><td>6</td><td>24.2707</td></tr><tr><th>29</th><td>1</td><td>34.7219</td></tr><tr><th>30</th><td>1</td><td>34.7219</td></tr><tr><th>&vellip;</th><td>&vellip;</td><td>&vellip;</td></tr></tbody></table></div>"
      ],
      "text/latex": [
       "\\begin{tabular}{r|cc}\n",
       "\t& marstat & age\\_a\\_mean\\\\\n",
       "\t\\hline\n",
       "\t& Int64 & Float64\\\\\n",
       "\t\\hline\n",
       "\t1 & 2 & 29.8544 \\\\\n",
       "\t2 & 6 & 24.2707 \\\\\n",
       "\t3 & 6 & 24.2707 \\\\\n",
       "\t4 & 4 & 37.3915 \\\\\n",
       "\t5 & 6 & 24.2707 \\\\\n",
       "\t6 & 1 & 34.7219 \\\\\n",
       "\t7 & 6 & 24.2707 \\\\\n",
       "\t8 & 2 & 29.8544 \\\\\n",
       "\t9 & 4 & 37.3915 \\\\\n",
       "\t10 & 1 & 34.7219 \\\\\n",
       "\t11 & 6 & 24.2707 \\\\\n",
       "\t12 & 6 & 24.2707 \\\\\n",
       "\t13 & 1 & 34.7219 \\\\\n",
       "\t14 & 6 & 24.2707 \\\\\n",
       "\t15 & 2 & 29.8544 \\\\\n",
       "\t16 & 6 & 24.2707 \\\\\n",
       "\t17 & 2 & 29.8544 \\\\\n",
       "\t18 & 6 & 24.2707 \\\\\n",
       "\t19 & 6 & 24.2707 \\\\\n",
       "\t20 & 2 & 29.8544 \\\\\n",
       "\t21 & 2 & 29.8544 \\\\\n",
       "\t22 & 1 & 34.7219 \\\\\n",
       "\t23 & 6 & 24.2707 \\\\\n",
       "\t24 & 6 & 24.2707 \\\\\n",
       "\t25 & 1 & 34.7219 \\\\\n",
       "\t26 & 1 & 34.7219 \\\\\n",
       "\t27 & 6 & 24.2707 \\\\\n",
       "\t28 & 6 & 24.2707 \\\\\n",
       "\t29 & 1 & 34.7219 \\\\\n",
       "\t30 & 1 & 34.7219 \\\\\n",
       "\t$\\dots$ & $\\dots$ & $\\dots$ \\\\\n",
       "\\end{tabular}\n"
      ],
      "text/plain": [
       "\u001b[1m72464×2 DataFrame\u001b[0m\n",
       "\u001b[1m   Row \u001b[0m│\u001b[1m marstat \u001b[0m\u001b[1m age_a_mean \u001b[0m\n",
       "\u001b[1m       \u001b[0m│\u001b[90m Int64   \u001b[0m\u001b[90m Float64    \u001b[0m\n",
       "───────┼─────────────────────\n",
       "     1 │       2     29.8544\n",
       "     2 │       6     24.2707\n",
       "     3 │       6     24.2707\n",
       "     4 │       4     37.3915\n",
       "     5 │       6     24.2707\n",
       "     6 │       1     34.7219\n",
       "     7 │       6     24.2707\n",
       "     8 │       2     29.8544\n",
       "     9 │       4     37.3915\n",
       "    10 │       1     34.7219\n",
       "    11 │       6     24.2707\n",
       "   ⋮   │    ⋮         ⋮\n",
       " 72455 │       6     24.2707\n",
       " 72456 │       6     24.2707\n",
       " 72457 │       6     24.2707\n",
       " 72458 │       1     34.7219\n",
       " 72459 │       6     24.2707\n",
       " 72460 │       6     24.2707\n",
       " 72461 │       4     37.3915\n",
       " 72462 │       1     34.7219\n",
       " 72463 │       4     37.3915\n",
       " 72464 │       1     34.7219\n",
       "\u001b[36m           72443 rows omitted\u001b[0m"
      ]
     },
     "execution_count": 96,
     "metadata": {},
     "output_type": "execute_result"
    }
   ],
   "source": [
    "select(df_gp, \"age_a\" => mean)"
   ]
  },
  {
   "cell_type": "code",
   "execution_count": 102,
   "id": "293078d4-e050-40e9-9981-92ccdacd51aa",
   "metadata": {
    "tags": []
   },
   "outputs": [
    {
     "name": "stdout",
     "output_type": "stream",
     "text": [
      "\u001b[1m72464×18 DataFrame\u001b[0m\n",
      "\u001b[1m   Row \u001b[0m│\u001b[1m caseid \u001b[0m\u001b[1m age_a \u001b[0m\u001b[1m marstat \u001b[0m\u001b[1m reldlife \u001b[0m\u001b[1m religion \u001b[0m\u001b[1m samesex \u001b[0m\u001b[1m intvwyear \u001b[0m\u001b[1m lifprtnr \u001b[0m\u001b[1m timesmar \u001b[0m\u001b[1m attnd14 \u001b[0m\u001b[1m fmarit \u001b[0m\u001b[1m gayadopt \u001b[0m\u001b[1m lifeprt \u001b[0m\u001b[1m sxok18  \u001b[0m\u001b[1m staytog \u001b[0m\u001b[1m prvntdiv \u001b[0m\u001b[1m achieve \u001b[0m\u001b[1m age_a_mean \u001b[0m\n",
      "\u001b[1m       \u001b[0m│\u001b[90m Int64  \u001b[0m\u001b[90m Int64 \u001b[0m\u001b[90m Int64   \u001b[0m\u001b[90m String3  \u001b[0m\u001b[90m String3  \u001b[0m\u001b[90m String3 \u001b[0m\u001b[90m Int64     \u001b[0m\u001b[90m String3  \u001b[0m\u001b[90m String3  \u001b[0m\u001b[90m String3 \u001b[0m\u001b[90m Int64  \u001b[0m\u001b[90m String3  \u001b[0m\u001b[90m String3 \u001b[0m\u001b[90m String3 \u001b[0m\u001b[90m String3 \u001b[0m\u001b[90m String3  \u001b[0m\u001b[90m String3 \u001b[0m\u001b[90m Float64    \u001b[0m\n",
      "───────┼─────────────────────────────────────────────────────────────────────────────────────────────────────────────────────────────────────────────────────────────────────────\n",
      "     1 │  80717     31        2  NA        1         1             2018  15        NA        NA            5  NA        NA       NA       NA       NA        NA          29.8544\n",
      "     2 │  80721     17        6  2         3         2             2018  1         NA        6             5  NA        NA       NA       NA       NA        NA          24.2707\n",
      "     3 │  80722     16        6  NA        1         2             2019  2         NA        2             5  NA        NA       NA       NA       NA        NA          24.2707\n",
      "     4 │  80724     49        4  2         4         3             2019  50        2         NA            3  NA        NA       NA       NA       NA        NA          37.3915\n",
      "     5 │  80732     39        6  NA        1         1             2019  0         NA        NA            5  NA        NA       NA       NA       NA        NA          24.2707\n",
      "     6 │  80734     37        1  2         2         2             2018  3         1         NA            1  NA        NA       NA       NA       NA        NA          34.7219\n",
      "     7 │  80735     17        6  1         3         4             2019  0         NA        2             5  NA        NA       NA       NA       NA        NA          24.2707\n",
      "     8 │  80736     40        2  NA        1         1             2019  22        NA        NA            5  NA        NA       NA       NA       NA        NA          29.8544\n",
      "     9 │  80738     46        4  2         3         2             2018  30        1         NA            3  NA        NA       NA       NA       NA        NA          37.3915\n",
      "    10 │  80739     40        1  NA        1         1             2019  5         1         NA            1  NA        NA       NA       NA       NA        NA          34.7219\n",
      "    11 │  80740     31        6  NA        1         1             2017  0         NA        NA            5  NA        NA       NA       NA       NA        NA          24.2707\n",
      "   ⋮   │   ⋮       ⋮       ⋮        ⋮         ⋮         ⋮         ⋮         ⋮         ⋮         ⋮       ⋮        ⋮         ⋮        ⋮        ⋮        ⋮         ⋮         ⋮\n",
      " 72455 │  11640     20        6  2         3         2             2002  4         NA        2             5  2         4        2        2        NA        3           24.2707\n",
      " 72456 │   5515     18        6  1         3         2             2002  0         NA        1             5  3         NA       3        4        NA        2           24.2707\n",
      " 72457 │   1551     23        6  1         3         1             2002  0         NA        2             5  4         NA       4        4        NA        2           24.2707\n",
      " 72458 │   9358     27        1  1         3         1             2002  1         1         NA            1  4         1        4        3        NA        3           34.7219\n",
      " 72459 │   2417     21        6  1         3         3             2002  1         NA        3             5  2         1        4        2        NA        3           24.2707\n",
      " 72460 │   1074     15        6  2         3         2             2002  0         NA        4             5  3         NA       3        3        NA        2           24.2707\n",
      " 72461 │   8877     37        4  1         3         1             2002  5         1         NA            3  4         5        3        1        NA        3           37.3915\n",
      " 72462 │  11658     28        1  NA        1         4             2002  7         1         NA            1  2         7        2        3        NA        3           34.7219\n",
      " 72463 │   2780     24        4  NA        1         2             2002  5         1         5             3  4         5        2        2        NA        1           37.3915\n",
      " 72464 │   5758     28        1  NA        NA        NA            2002  NA        1         NA            1  NA        1        NA       NA       NA        NA          34.7219\n",
      "\u001b[36m                                                                                                                                                               72443 rows omitted\u001b[0m"
     ]
    }
   ],
   "source": [
    "show(transform(df_gp, \"age_a\" => mean), allcols=true)"
   ]
  },
  {
   "cell_type": "markdown",
   "id": "0b7b9c3f-7cde-4906-a8d7-a9452a8f02cd",
   "metadata": {},
   "source": [
    "More information on split-apply-combine can be found [here](https://dataframes.juliadata.org/stable/man/split_apply_combine/).\n",
    "\n",
    "\n",
    "--- \n",
    "\n",
    "## Exercises\n",
    "\n",
    "For the set of exercises below, we will continue using the NSFG data set. Remember the labels are stored in the `img/labels` directory.\n",
    "\n",
    "1. Filter data to get all respondents older than 40 years old who have been married twice. Sort the obtained data by interview year."
   ]
  },
  {
   "cell_type": "code",
   "execution_count": 121,
   "id": "360ed84d-8260-42ff-b4fe-f3652495276c",
   "metadata": {
    "collapsed": true,
    "jupyter": {
     "outputs_hidden": true
    },
    "tags": []
   },
   "outputs": [
    {
     "data": {
      "text/html": [
       "<div class=\"data-frame\"><p>1,638 rows × 17 columns (omitted printing of 8 columns)</p><table class=\"data-frame\"><thead><tr><th></th><th>caseid</th><th>age_a</th><th>marstat</th><th>reldlife</th><th>religion</th><th>samesex</th><th>intvwyear</th><th>lifprtnr</th><th>timesmar</th></tr><tr><th></th><th title=\"Int64\">Int64</th><th title=\"Int64\">Int64</th><th title=\"Int64\">Int64</th><th title=\"String3\">String3</th><th title=\"String3\">String3</th><th title=\"String3\">String3</th><th title=\"Int64\">Int64</th><th title=\"String3\">String3</th><th title=\"String3\">String3</th></tr></thead><tbody><tr><th>1</th><td>5012</td><td>42</td><td>1</td><td>NA</td><td>1</td><td>2</td><td>2002</td><td>12</td><td>2</td></tr><tr><th>2</th><td>1511</td><td>42</td><td>1</td><td>1</td><td>3</td><td>3</td><td>2002</td><td>10</td><td>2</td></tr><tr><th>3</th><td>11058</td><td>42</td><td>1</td><td>NA</td><td>1</td><td>4</td><td>2002</td><td>2</td><td>2</td></tr><tr><th>4</th><td>12031</td><td>42</td><td>1</td><td>NA</td><td>1</td><td>2</td><td>2002</td><td>5</td><td>2</td></tr><tr><th>5</th><td>11470</td><td>41</td><td>1</td><td>3</td><td>3</td><td>2</td><td>2002</td><td>30</td><td>2</td></tr><tr><th>6</th><td>11333</td><td>41</td><td>1</td><td>1</td><td>2</td><td>4</td><td>2002</td><td>2</td><td>2</td></tr><tr><th>7</th><td>3570</td><td>41</td><td>1</td><td>2</td><td>2</td><td>2</td><td>2002</td><td>8</td><td>2</td></tr><tr><th>8</th><td>5378</td><td>43</td><td>1</td><td>1</td><td>2</td><td>2</td><td>2002</td><td>6</td><td>2</td></tr><tr><th>9</th><td>1611</td><td>42</td><td>1</td><td>1</td><td>3</td><td>2</td><td>2002</td><td>3</td><td>2</td></tr><tr><th>10</th><td>657</td><td>43</td><td>1</td><td>1</td><td>2</td><td>5</td><td>2002</td><td>4</td><td>2</td></tr><tr><th>11</th><td>7046</td><td>43</td><td>1</td><td>1</td><td>3</td><td>4</td><td>2002</td><td>9</td><td>2</td></tr><tr><th>12</th><td>5898</td><td>44</td><td>1</td><td>NA</td><td>1</td><td>2</td><td>2002</td><td>4</td><td>2</td></tr><tr><th>13</th><td>2798</td><td>42</td><td>1</td><td>2</td><td>2</td><td>1</td><td>2002</td><td>15</td><td>2</td></tr><tr><th>14</th><td>3463</td><td>42</td><td>1</td><td>1</td><td>4</td><td>1</td><td>2002</td><td>10</td><td>2</td></tr><tr><th>15</th><td>8252</td><td>43</td><td>1</td><td>1</td><td>2</td><td>2</td><td>2002</td><td>5</td><td>2</td></tr><tr><th>16</th><td>2306</td><td>42</td><td>1</td><td>3</td><td>3</td><td>2</td><td>2002</td><td>5</td><td>2</td></tr><tr><th>17</th><td>8802</td><td>41</td><td>1</td><td>3</td><td>2</td><td>2</td><td>2002</td><td>6</td><td>2</td></tr><tr><th>18</th><td>7343</td><td>43</td><td>1</td><td>1</td><td>2</td><td>2</td><td>2002</td><td>2</td><td>2</td></tr><tr><th>19</th><td>7153</td><td>41</td><td>1</td><td>1</td><td>3</td><td>3</td><td>2002</td><td>15</td><td>2</td></tr><tr><th>20</th><td>8639</td><td>42</td><td>1</td><td>1</td><td>3</td><td>3</td><td>2002</td><td>10</td><td>2</td></tr><tr><th>21</th><td>10524</td><td>42</td><td>1</td><td>1</td><td>2</td><td>2</td><td>2002</td><td>15</td><td>2</td></tr><tr><th>22</th><td>7807</td><td>42</td><td>1</td><td>2</td><td>2</td><td>4</td><td>2002</td><td>2</td><td>2</td></tr><tr><th>23</th><td>5809</td><td>41</td><td>1</td><td>1</td><td>3</td><td>4</td><td>2002</td><td>4</td><td>2</td></tr><tr><th>24</th><td>7226</td><td>43</td><td>1</td><td>2</td><td>2</td><td>3</td><td>2002</td><td>4</td><td>2</td></tr><tr><th>25</th><td>9728</td><td>43</td><td>1</td><td>1</td><td>2</td><td>3</td><td>2002</td><td>3</td><td>2</td></tr><tr><th>26</th><td>6156</td><td>43</td><td>1</td><td>1</td><td>2</td><td>4</td><td>2002</td><td>2</td><td>2</td></tr><tr><th>27</th><td>8724</td><td>43</td><td>1</td><td>2</td><td>2</td><td>3</td><td>2002</td><td>3</td><td>2</td></tr><tr><th>28</th><td>4991</td><td>41</td><td>1</td><td>2</td><td>2</td><td>3</td><td>2002</td><td>5</td><td>2</td></tr><tr><th>29</th><td>5462</td><td>41</td><td>1</td><td>3</td><td>2</td><td>2</td><td>2002</td><td>9</td><td>2</td></tr><tr><th>30</th><td>4545</td><td>44</td><td>1</td><td>2</td><td>3</td><td>3</td><td>2002</td><td>10</td><td>2</td></tr><tr><th>&vellip;</th><td>&vellip;</td><td>&vellip;</td><td>&vellip;</td><td>&vellip;</td><td>&vellip;</td><td>&vellip;</td><td>&vellip;</td><td>&vellip;</td><td>&vellip;</td></tr></tbody></table></div>"
      ],
      "text/latex": [
       "\\begin{tabular}{r|cccccccccc}\n",
       "\t& caseid & age\\_a & marstat & reldlife & religion & samesex & intvwyear & lifprtnr & timesmar & \\\\\n",
       "\t\\hline\n",
       "\t& Int64 & Int64 & Int64 & String3 & String3 & String3 & Int64 & String3 & String3 & \\\\\n",
       "\t\\hline\n",
       "\t1 & 5012 & 42 & 1 & NA & 1 & 2 & 2002 & 12 & 2 & $\\dots$ \\\\\n",
       "\t2 & 1511 & 42 & 1 & 1 & 3 & 3 & 2002 & 10 & 2 & $\\dots$ \\\\\n",
       "\t3 & 11058 & 42 & 1 & NA & 1 & 4 & 2002 & 2 & 2 & $\\dots$ \\\\\n",
       "\t4 & 12031 & 42 & 1 & NA & 1 & 2 & 2002 & 5 & 2 & $\\dots$ \\\\\n",
       "\t5 & 11470 & 41 & 1 & 3 & 3 & 2 & 2002 & 30 & 2 & $\\dots$ \\\\\n",
       "\t6 & 11333 & 41 & 1 & 1 & 2 & 4 & 2002 & 2 & 2 & $\\dots$ \\\\\n",
       "\t7 & 3570 & 41 & 1 & 2 & 2 & 2 & 2002 & 8 & 2 & $\\dots$ \\\\\n",
       "\t8 & 5378 & 43 & 1 & 1 & 2 & 2 & 2002 & 6 & 2 & $\\dots$ \\\\\n",
       "\t9 & 1611 & 42 & 1 & 1 & 3 & 2 & 2002 & 3 & 2 & $\\dots$ \\\\\n",
       "\t10 & 657 & 43 & 1 & 1 & 2 & 5 & 2002 & 4 & 2 & $\\dots$ \\\\\n",
       "\t11 & 7046 & 43 & 1 & 1 & 3 & 4 & 2002 & 9 & 2 & $\\dots$ \\\\\n",
       "\t12 & 5898 & 44 & 1 & NA & 1 & 2 & 2002 & 4 & 2 & $\\dots$ \\\\\n",
       "\t13 & 2798 & 42 & 1 & 2 & 2 & 1 & 2002 & 15 & 2 & $\\dots$ \\\\\n",
       "\t14 & 3463 & 42 & 1 & 1 & 4 & 1 & 2002 & 10 & 2 & $\\dots$ \\\\\n",
       "\t15 & 8252 & 43 & 1 & 1 & 2 & 2 & 2002 & 5 & 2 & $\\dots$ \\\\\n",
       "\t16 & 2306 & 42 & 1 & 3 & 3 & 2 & 2002 & 5 & 2 & $\\dots$ \\\\\n",
       "\t17 & 8802 & 41 & 1 & 3 & 2 & 2 & 2002 & 6 & 2 & $\\dots$ \\\\\n",
       "\t18 & 7343 & 43 & 1 & 1 & 2 & 2 & 2002 & 2 & 2 & $\\dots$ \\\\\n",
       "\t19 & 7153 & 41 & 1 & 1 & 3 & 3 & 2002 & 15 & 2 & $\\dots$ \\\\\n",
       "\t20 & 8639 & 42 & 1 & 1 & 3 & 3 & 2002 & 10 & 2 & $\\dots$ \\\\\n",
       "\t21 & 10524 & 42 & 1 & 1 & 2 & 2 & 2002 & 15 & 2 & $\\dots$ \\\\\n",
       "\t22 & 7807 & 42 & 1 & 2 & 2 & 4 & 2002 & 2 & 2 & $\\dots$ \\\\\n",
       "\t23 & 5809 & 41 & 1 & 1 & 3 & 4 & 2002 & 4 & 2 & $\\dots$ \\\\\n",
       "\t24 & 7226 & 43 & 1 & 2 & 2 & 3 & 2002 & 4 & 2 & $\\dots$ \\\\\n",
       "\t25 & 9728 & 43 & 1 & 1 & 2 & 3 & 2002 & 3 & 2 & $\\dots$ \\\\\n",
       "\t26 & 6156 & 43 & 1 & 1 & 2 & 4 & 2002 & 2 & 2 & $\\dots$ \\\\\n",
       "\t27 & 8724 & 43 & 1 & 2 & 2 & 3 & 2002 & 3 & 2 & $\\dots$ \\\\\n",
       "\t28 & 4991 & 41 & 1 & 2 & 2 & 3 & 2002 & 5 & 2 & $\\dots$ \\\\\n",
       "\t29 & 5462 & 41 & 1 & 3 & 2 & 2 & 2002 & 9 & 2 & $\\dots$ \\\\\n",
       "\t30 & 4545 & 44 & 1 & 2 & 3 & 3 & 2002 & 10 & 2 & $\\dots$ \\\\\n",
       "\t$\\dots$ & $\\dots$ & $\\dots$ & $\\dots$ & $\\dots$ & $\\dots$ & $\\dots$ & $\\dots$ & $\\dots$ & $\\dots$ &  \\\\\n",
       "\\end{tabular}\n"
      ],
      "text/plain": [
       "\u001b[1m1638×17 DataFrame\u001b[0m\n",
       "\u001b[1m  Row \u001b[0m│\u001b[1m caseid \u001b[0m\u001b[1m age_a \u001b[0m\u001b[1m marstat \u001b[0m\u001b[1m reldlife \u001b[0m\u001b[1m religion \u001b[0m\u001b[1m samesex \u001b[0m\u001b[1m intvwyear \u001b[0m\u001b[1m lifprt\u001b[0m ⋯\n",
       "\u001b[1m      \u001b[0m│\u001b[90m Int64  \u001b[0m\u001b[90m Int64 \u001b[0m\u001b[90m Int64   \u001b[0m\u001b[90m String3  \u001b[0m\u001b[90m String3  \u001b[0m\u001b[90m String3 \u001b[0m\u001b[90m Int64     \u001b[0m\u001b[90m String\u001b[0m ⋯\n",
       "──────┼─────────────────────────────────────────────────────────────────────────\n",
       "    1 │   5012     42        1  NA        1         2             2002  12     ⋯\n",
       "    2 │   1511     42        1  1         3         3             2002  10\n",
       "    3 │  11058     42        1  NA        1         4             2002  2\n",
       "    4 │  12031     42        1  NA        1         2             2002  5\n",
       "    5 │  11470     41        1  3         3         2             2002  30     ⋯\n",
       "    6 │  11333     41        1  1         2         4             2002  2\n",
       "    7 │   3570     41        1  2         2         2             2002  8\n",
       "    8 │   5378     43        1  1         2         2             2002  6\n",
       "    9 │   1611     42        1  1         3         2             2002  3      ⋯\n",
       "   10 │    657     43        1  1         2         5             2002  4\n",
       "   11 │   7046     43        1  1         3         4             2002  9\n",
       "  ⋮   │   ⋮       ⋮       ⋮        ⋮         ⋮         ⋮         ⋮         ⋮   ⋱\n",
       " 1629 │  91004     44        1  2         3         3             2019  50\n",
       " 1630 │  91205     49        1  NA        1         2             2019  50     ⋯\n",
       " 1631 │  91216     42        1  2         2         2             2019  5\n",
       " 1632 │  91260     49        1  3         4         2             2019  4\n",
       " 1633 │  91271     49        1  1         3         4             2019  5\n",
       " 1634 │  91318     46        1  1         3         4             2019  10     ⋯\n",
       " 1635 │  91357     42        1  1         3         3             2019  5\n",
       " 1636 │  91907     43        1  3         3         1             2019  20\n",
       " 1637 │  91966     48        1  2         4         1             2019  6\n",
       " 1638 │  92002     41        1  1         3         4             2019  10     ⋯\n",
       "\u001b[36m                                                10 columns and 1617 rows omitted\u001b[0m"
      ]
     },
     "execution_count": 121,
     "metadata": {},
     "output_type": "execute_result"
    }
   ],
   "source": [
    "sort(dataframe[(dataframe.age_a .> 40) .& (dataframe.timesmar .== \"2\"), :], \"intvwyear\")"
   ]
  },
  {
   "cell_type": "markdown",
   "id": "d3d61b43-48eb-452f-9569-2c1a843c93ce",
   "metadata": {},
   "source": [
    "2. Get the number of respondents grouped by religion."
   ]
  },
  {
   "cell_type": "code",
   "execution_count": 128,
   "id": "616d4789-0b99-443a-9a31-55b193859695",
   "metadata": {
    "collapsed": true,
    "jupyter": {
     "outputs_hidden": true
    },
    "tags": []
   },
   "outputs": [
    {
     "data": {
      "text/html": [
       "<p><b>GroupedDataFrame with 5 groups based on key: religion</b></p><p><i>First Group (16929 rows): religion = &quot;1&quot;</i></p><div class=\"data-frame\"><table class=\"data-frame\"><thead><tr><th></th><th>caseid</th><th>age_a</th><th>marstat</th><th>reldlife</th><th>religion</th><th>samesex</th><th>intvwyear</th><th>lifprtnr</th><th>timesmar</th></tr><tr><th></th><th title=\"Int64\">Int64</th><th title=\"Int64\">Int64</th><th title=\"Int64\">Int64</th><th title=\"String3\">String3</th><th title=\"String3\">String3</th><th title=\"String3\">String3</th><th title=\"Int64\">Int64</th><th title=\"String3\">String3</th><th title=\"String3\">String3</th></tr></thead><tbody><tr><th>1</th><td>80717</td><td>31</td><td>1</td><td>NA</td><td>1</td><td>1</td><td>2018</td><td>15</td><td>NA</td></tr><tr><th>2</th><td>80722</td><td>16</td><td>1</td><td>NA</td><td>1</td><td>2</td><td>2019</td><td>2</td><td>NA</td></tr><tr><th>3</th><td>80732</td><td>39</td><td>1</td><td>NA</td><td>1</td><td>1</td><td>2019</td><td>0</td><td>NA</td></tr><tr><th>4</th><td>80736</td><td>40</td><td>1</td><td>NA</td><td>1</td><td>1</td><td>2019</td><td>22</td><td>NA</td></tr><tr><th>5</th><td>80739</td><td>40</td><td>1</td><td>NA</td><td>1</td><td>1</td><td>2019</td><td>5</td><td>1</td></tr><tr><th>6</th><td>80740</td><td>31</td><td>1</td><td>NA</td><td>1</td><td>1</td><td>2017</td><td>0</td><td>NA</td></tr><tr><th>7</th><td>80746</td><td>17</td><td>1</td><td>NA</td><td>1</td><td>1</td><td>2019</td><td>6</td><td>NA</td></tr><tr><th>8</th><td>80757</td><td>28</td><td>1</td><td>NA</td><td>1</td><td>4</td><td>2019</td><td>6</td><td>NA</td></tr><tr><th>9</th><td>80758</td><td>18</td><td>1</td><td>NA</td><td>1</td><td>3</td><td>2018</td><td>10</td><td>NA</td></tr><tr><th>10</th><td>80759</td><td>40</td><td>1</td><td>NA</td><td>1</td><td>3</td><td>2018</td><td>26</td><td>NA</td></tr><tr><th>11</th><td>80762</td><td>45</td><td>1</td><td>NA</td><td>1</td><td>5</td><td>2019</td><td>50</td><td>2</td></tr><tr><th>12</th><td>80767</td><td>31</td><td>1</td><td>NA</td><td>1</td><td>1</td><td>2017</td><td>12</td><td>NA</td></tr><tr><th>13</th><td>80771</td><td>16</td><td>1</td><td>NA</td><td>1</td><td>2</td><td>2019</td><td>1</td><td>NA</td></tr><tr><th>14</th><td>80774</td><td>26</td><td>1</td><td>NA</td><td>1</td><td>2</td><td>2019</td><td>5</td><td>NA</td></tr><tr><th>15</th><td>80780</td><td>36</td><td>1</td><td>NA</td><td>1</td><td>1</td><td>2018</td><td>9</td><td>1</td></tr><tr><th>16</th><td>80781</td><td>26</td><td>1</td><td>NA</td><td>1</td><td>3</td><td>2018</td><td>50</td><td>NA</td></tr><tr><th>17</th><td>80782</td><td>33</td><td>1</td><td>NA</td><td>1</td><td>1</td><td>2018</td><td>9</td><td>NA</td></tr><tr><th>18</th><td>80794</td><td>35</td><td>1</td><td>NA</td><td>1</td><td>1</td><td>2018</td><td>2</td><td>1</td></tr><tr><th>19</th><td>80798</td><td>46</td><td>1</td><td>NA</td><td>1</td><td>1</td><td>2017</td><td>9</td><td>NA</td></tr><tr><th>20</th><td>80809</td><td>23</td><td>1</td><td>NA</td><td>1</td><td>1</td><td>2019</td><td>4</td><td>NA</td></tr><tr><th>21</th><td>80814</td><td>22</td><td>1</td><td>NA</td><td>1</td><td>1</td><td>2018</td><td>0</td><td>NA</td></tr><tr><th>22</th><td>80825</td><td>27</td><td>1</td><td>NA</td><td>1</td><td>1</td><td>2019</td><td>7</td><td>1</td></tr><tr><th>23</th><td>80835</td><td>26</td><td>1</td><td>NA</td><td>1</td><td>2</td><td>2018</td><td>5</td><td>NA</td></tr><tr><th>24</th><td>80841</td><td>31</td><td>1</td><td>NA</td><td>1</td><td>2</td><td>2018</td><td>16</td><td>NA</td></tr><tr><th>25</th><td>80844</td><td>18</td><td>1</td><td>NA</td><td>1</td><td>1</td><td>2018</td><td>8</td><td>NA</td></tr><tr><th>26</th><td>80846</td><td>15</td><td>1</td><td>NA</td><td>1</td><td>1</td><td>2019</td><td>0</td><td>NA</td></tr><tr><th>27</th><td>80850</td><td>33</td><td>1</td><td>NA</td><td>1</td><td>2</td><td>2018</td><td>20</td><td>2</td></tr><tr><th>28</th><td>80856</td><td>37</td><td>1</td><td>NA</td><td>1</td><td>1</td><td>2019</td><td>6</td><td>1</td></tr><tr><th>29</th><td>80860</td><td>30</td><td>1</td><td>NA</td><td>1</td><td>1</td><td>2018</td><td>5</td><td>NA</td></tr><tr><th>30</th><td>80861</td><td>16</td><td>1</td><td>NA</td><td>1</td><td>2</td><td>2017</td><td>5</td><td>NA</td></tr><tr><th>&vellip;</th><td>&vellip;</td><td>&vellip;</td><td>&vellip;</td><td>&vellip;</td><td>&vellip;</td><td>&vellip;</td><td>&vellip;</td><td>&vellip;</td><td>&vellip;</td></tr></tbody></table></div><p>&vellip;</p><p><i>Last Group (1 row): religion = &quot;NA&quot;</i></p><div class=\"data-frame\"><table class=\"data-frame\"><thead><tr><th></th><th>caseid</th><th>age_a</th><th>marstat</th><th>reldlife</th><th>religion</th><th>samesex</th><th>intvwyear</th><th>lifprtnr</th><th>timesmar</th></tr><tr><th></th><th title=\"Int64\">Int64</th><th title=\"Int64\">Int64</th><th title=\"Int64\">Int64</th><th title=\"String3\">String3</th><th title=\"String3\">String3</th><th title=\"String3\">String3</th><th title=\"Int64\">Int64</th><th title=\"String3\">String3</th><th title=\"String3\">String3</th></tr></thead><tbody><tr><th>1</th><td>5758</td><td>28</td><td>1</td><td>NA</td><td>NA</td><td>NA</td><td>2002</td><td>NA</td><td>1</td></tr></tbody></table></div>"
      ],
      "text/latex": [
       "GroupedDataFrame with 5 groups based on key: religion\n",
       "\n",
       "First Group (16929 rows): religion = \"1\"\n",
       "\n",
       "\\begin{tabular}{r|cccccccccc}\n",
       "\t& caseid & age\\_a & marstat & reldlife & religion & samesex & intvwyear & lifprtnr & timesmar & \\\\\n",
       "\t\\hline\n",
       "\t& Int64 & Int64 & Int64 & String3 & String3 & String3 & Int64 & String3 & String3 & \\\\\n",
       "\t\\hline\n",
       "\t1 & 80717 & 31 & 1 & NA & 1 & 1 & 2018 & 15 & NA & $\\dots$ \\\\\n",
       "\t2 & 80722 & 16 & 1 & NA & 1 & 2 & 2019 & 2 & NA & $\\dots$ \\\\\n",
       "\t3 & 80732 & 39 & 1 & NA & 1 & 1 & 2019 & 0 & NA & $\\dots$ \\\\\n",
       "\t4 & 80736 & 40 & 1 & NA & 1 & 1 & 2019 & 22 & NA & $\\dots$ \\\\\n",
       "\t5 & 80739 & 40 & 1 & NA & 1 & 1 & 2019 & 5 & 1 & $\\dots$ \\\\\n",
       "\t6 & 80740 & 31 & 1 & NA & 1 & 1 & 2017 & 0 & NA & $\\dots$ \\\\\n",
       "\t7 & 80746 & 17 & 1 & NA & 1 & 1 & 2019 & 6 & NA & $\\dots$ \\\\\n",
       "\t8 & 80757 & 28 & 1 & NA & 1 & 4 & 2019 & 6 & NA & $\\dots$ \\\\\n",
       "\t9 & 80758 & 18 & 1 & NA & 1 & 3 & 2018 & 10 & NA & $\\dots$ \\\\\n",
       "\t10 & 80759 & 40 & 1 & NA & 1 & 3 & 2018 & 26 & NA & $\\dots$ \\\\\n",
       "\t11 & 80762 & 45 & 1 & NA & 1 & 5 & 2019 & 50 & 2 & $\\dots$ \\\\\n",
       "\t12 & 80767 & 31 & 1 & NA & 1 & 1 & 2017 & 12 & NA & $\\dots$ \\\\\n",
       "\t13 & 80771 & 16 & 1 & NA & 1 & 2 & 2019 & 1 & NA & $\\dots$ \\\\\n",
       "\t14 & 80774 & 26 & 1 & NA & 1 & 2 & 2019 & 5 & NA & $\\dots$ \\\\\n",
       "\t15 & 80780 & 36 & 1 & NA & 1 & 1 & 2018 & 9 & 1 & $\\dots$ \\\\\n",
       "\t16 & 80781 & 26 & 1 & NA & 1 & 3 & 2018 & 50 & NA & $\\dots$ \\\\\n",
       "\t17 & 80782 & 33 & 1 & NA & 1 & 1 & 2018 & 9 & NA & $\\dots$ \\\\\n",
       "\t18 & 80794 & 35 & 1 & NA & 1 & 1 & 2018 & 2 & 1 & $\\dots$ \\\\\n",
       "\t19 & 80798 & 46 & 1 & NA & 1 & 1 & 2017 & 9 & NA & $\\dots$ \\\\\n",
       "\t20 & 80809 & 23 & 1 & NA & 1 & 1 & 2019 & 4 & NA & $\\dots$ \\\\\n",
       "\t21 & 80814 & 22 & 1 & NA & 1 & 1 & 2018 & 0 & NA & $\\dots$ \\\\\n",
       "\t22 & 80825 & 27 & 1 & NA & 1 & 1 & 2019 & 7 & 1 & $\\dots$ \\\\\n",
       "\t23 & 80835 & 26 & 1 & NA & 1 & 2 & 2018 & 5 & NA & $\\dots$ \\\\\n",
       "\t24 & 80841 & 31 & 1 & NA & 1 & 2 & 2018 & 16 & NA & $\\dots$ \\\\\n",
       "\t25 & 80844 & 18 & 1 & NA & 1 & 1 & 2018 & 8 & NA & $\\dots$ \\\\\n",
       "\t26 & 80846 & 15 & 1 & NA & 1 & 1 & 2019 & 0 & NA & $\\dots$ \\\\\n",
       "\t27 & 80850 & 33 & 1 & NA & 1 & 2 & 2018 & 20 & 2 & $\\dots$ \\\\\n",
       "\t28 & 80856 & 37 & 1 & NA & 1 & 1 & 2019 & 6 & 1 & $\\dots$ \\\\\n",
       "\t29 & 80860 & 30 & 1 & NA & 1 & 1 & 2018 & 5 & NA & $\\dots$ \\\\\n",
       "\t30 & 80861 & 16 & 1 & NA & 1 & 2 & 2017 & 5 & NA & $\\dots$ \\\\\n",
       "\t$\\dots$ & $\\dots$ & $\\dots$ & $\\dots$ & $\\dots$ & $\\dots$ & $\\dots$ & $\\dots$ & $\\dots$ & $\\dots$ &  \\\\\n",
       "\\end{tabular}\n",
       "\n",
       "$\\dots$\n",
       "\n",
       "Last Group (1 row): religion = \"NA\"\n",
       "\n",
       "\\begin{tabular}{r|cccccccccc}\n",
       "\t& caseid & age\\_a & marstat & reldlife & religion & samesex & intvwyear & lifprtnr & timesmar & \\\\\n",
       "\t\\hline\n",
       "\t& Int64 & Int64 & Int64 & String3 & String3 & String3 & Int64 & String3 & String3 & \\\\\n",
       "\t\\hline\n",
       "\t1 & 5758 & 28 & 1 & NA & NA & NA & 2002 & NA & 1 & $\\dots$ \\\\\n",
       "\\end{tabular}\n"
      ],
      "text/plain": [
       "GroupedDataFrame with 5 groups based on key: religion\n",
       "First Group (16929 rows): religion = \"1\"\n",
       "\u001b[1m   Row \u001b[0m│\u001b[1m caseid \u001b[0m\u001b[1m age_a \u001b[0m\u001b[1m marstat \u001b[0m\u001b[1m reldlife \u001b[0m\u001b[1m religion \u001b[0m\u001b[1m samesex \u001b[0m\u001b[1m intvwyear \u001b[0m\u001b[1m lifpr\u001b[0m ⋯\n",
       "\u001b[1m       \u001b[0m│\u001b[90m Int64  \u001b[0m\u001b[90m Int64 \u001b[0m\u001b[90m Int64   \u001b[0m\u001b[90m String3  \u001b[0m\u001b[90m String3  \u001b[0m\u001b[90m String3 \u001b[0m\u001b[90m Int64     \u001b[0m\u001b[90m Strin\u001b[0m ⋯\n",
       "───────┼────────────────────────────────────────────────────────────────────────\n",
       "     1 │  80717     31        1  NA        1         1             2018  15    ⋯\n",
       "     2 │  80722     16        1  NA        1         2             2019  2\n",
       "     3 │  80732     39        1  NA        1         1             2019  0\n",
       "     4 │  80736     40        1  NA        1         1             2019  22\n",
       "     5 │  80739     40        1  NA        1         1             2019  5     ⋯\n",
       "     6 │  80740     31        1  NA        1         1             2017  0\n",
       "     7 │  80746     17        1  NA        1         1             2019  6\n",
       "     8 │  80757     28        1  NA        1         4             2019  6\n",
       "     9 │  80758     18        1  NA        1         3             2018  10    ⋯\n",
       "    10 │  80759     40        1  NA        1         3             2018  26\n",
       "    11 │  80762     45        1  NA        1         5             2019  50\n",
       "   ⋮   │   ⋮       ⋮       ⋮        ⋮         ⋮         ⋮         ⋮         ⋮  ⋱\n",
       " 16919 │   6365     17        1  NA        1         2             2002  0\n",
       " 16920 │   4213     40        1  NA        1         3             2002  4     ⋯\n",
       " 16921 │   2954     30        1  NA        1         3             2002  3\n",
       " 16922 │   8974     20        1  NA        1         4             2002  0\n",
       " 16923 │   3359     22        1  NA        1         1             2002  4\n",
       " 16924 │    527     23        1  NA        1         3             2002  40    ⋯\n",
       " 16925 │   3368     27        1  NA        1         2             2002  10\n",
       " 16926 │   6961     38        1  NA        1         1             2002  29\n",
       " 16927 │    363     19        1  NA        1         1             2002  6\n",
       " 16928 │  11658     28        1  NA        1         4             2002  7     ⋯\n",
       " 16929 │   2780     24        1  NA        1         2             2002  5\n",
       "\u001b[36m                                               10 columns and 16907 rows omitted\u001b[0m\n",
       "⋮\n",
       "Last Group (1 row): religion = \"NA\"\n",
       "\u001b[1m Row \u001b[0m│\u001b[1m caseid \u001b[0m\u001b[1m age_a \u001b[0m\u001b[1m marstat \u001b[0m\u001b[1m reldlife \u001b[0m\u001b[1m religion \u001b[0m\u001b[1m samesex \u001b[0m\u001b[1m intvwyear \u001b[0m\u001b[1m lifprtn\u001b[0m ⋯\n",
       "\u001b[1m     \u001b[0m│\u001b[90m Int64  \u001b[0m\u001b[90m Int64 \u001b[0m\u001b[90m Int64   \u001b[0m\u001b[90m String3  \u001b[0m\u001b[90m String3  \u001b[0m\u001b[90m String3 \u001b[0m\u001b[90m Int64     \u001b[0m\u001b[90m String3\u001b[0m ⋯\n",
       "─────┼──────────────────────────────────────────────────────────────────────────\n",
       "   1 │   5758     28        1  NA        NA        NA            2002  NA      ⋯\n",
       "\u001b[36m                                                              10 columns omitted\u001b[0m"
      ]
     },
     "execution_count": 128,
     "metadata": {},
     "output_type": "execute_result"
    }
   ],
   "source": [
    "df_gp = groupby(dataframe, \"religion\")"
   ]
  },
  {
   "cell_type": "code",
   "execution_count": 129,
   "id": "6a362b7c-9f7a-475e-85ed-eaedaf0f8fc7",
   "metadata": {},
   "outputs": [
    {
     "data": {
      "text/html": [
       "<div class=\"data-frame\"><p>5 rows × 2 columns</p><table class=\"data-frame\"><thead><tr><th></th><th>religion</th><th>nrow</th></tr><tr><th></th><th title=\"String3\">String3</th><th title=\"Int64\">Int64</th></tr></thead><tbody><tr><th>1</th><td>1</td><td>16929</td></tr><tr><th>2</th><td>3</td><td>32695</td></tr><tr><th>3</th><td>4</td><td>5799</td></tr><tr><th>4</th><td>2</td><td>17040</td></tr><tr><th>5</th><td>NA</td><td>1</td></tr></tbody></table></div>"
      ],
      "text/latex": [
       "\\begin{tabular}{r|cc}\n",
       "\t& religion & nrow\\\\\n",
       "\t\\hline\n",
       "\t& String3 & Int64\\\\\n",
       "\t\\hline\n",
       "\t1 & 1 & 16929 \\\\\n",
       "\t2 & 3 & 32695 \\\\\n",
       "\t3 & 4 & 5799 \\\\\n",
       "\t4 & 2 & 17040 \\\\\n",
       "\t5 & NA & 1 \\\\\n",
       "\\end{tabular}\n"
      ],
      "text/plain": [
       "\u001b[1m5×2 DataFrame\u001b[0m\n",
       "\u001b[1m Row \u001b[0m│\u001b[1m religion \u001b[0m\u001b[1m nrow  \u001b[0m\n",
       "\u001b[1m     \u001b[0m│\u001b[90m String3  \u001b[0m\u001b[90m Int64 \u001b[0m\n",
       "─────┼─────────────────\n",
       "   1 │ 1         16929\n",
       "   2 │ 3         32695\n",
       "   3 │ 4          5799\n",
       "   4 │ 2         17040\n",
       "   5 │ NA            1"
      ]
     },
     "execution_count": 129,
     "metadata": {},
     "output_type": "execute_result"
    }
   ],
   "source": [
    "combine(df_gp, nrow)"
   ]
  },
  {
   "cell_type": "code",
   "execution_count": null,
   "id": "aa7cc731-a716-402f-b420-34b19891200d",
   "metadata": {},
   "outputs": [],
   "source": []
  }
 ],
 "metadata": {
  "kernelspec": {
   "display_name": "Julia 1.7.3",
   "language": "julia",
   "name": "julia-1.7"
  },
  "language_info": {
   "file_extension": ".jl",
   "mimetype": "application/julia",
   "name": "julia",
   "version": "1.7.3"
  }
 },
 "nbformat": 4,
 "nbformat_minor": 5
}
