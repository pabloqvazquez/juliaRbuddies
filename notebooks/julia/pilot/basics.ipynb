{
 "cells": [
  {
   "cell_type": "markdown",
   "metadata": {},
   "source": [
    "Basics on Julia\n",
    "===============\n",
    "\n",
    "**Author:** Marco Mendoza\n",
    "\n"
   ]
  },
  {
   "cell_type": "markdown",
   "metadata": {},
   "source": [
    "## Introduction\n",
    "\n"
   ]
  },
  {
   "cell_type": "markdown",
   "metadata": {},
   "source": [
    "Programming goes hand in hand with mathematics, statistics, data science, and many other fields. Scientists, engineers, data scientists, and statisticians often need to automate computation that would otherwise take too long or be infeasible to carry out. This is for the purpose of prediction, planning, analysis, design, control, visualization, or as an aid for theoretical research. Often, general programming languages such as *Fortran, Python, Go, C++*, are used. Fore more mathematical statistical purposes other languages such as *Mathematica, MATLAB/Octave, R and Maple* also are used. The process of coding involves analyzing a problem &ldquo;by hand&rdquo;, witring the first version of the code, analyzing behavior and output, re-factoring, iterating and improving the model/code. At the end of the day a critical component is **speed**, specifically the amount of time taken by solving the problem fomr the very beginning to its final solution.\n",
    "\n",
    "![img](run_speed.png)\n",
    "\n"
   ]
  },
  {
   "cell_type": "markdown",
   "metadata": {},
   "source": [
    "## About Julia\n",
    "\n"
   ]
  },
  {
   "cell_type": "markdown",
   "metadata": {},
   "source": [
    "Julia is first and foremost a scientific programming language. It is perfectly suited for statistics, machine learning, data science, as well as for light and heavy numerical computational tasks. It can also be integrated in user-level applications; however, one would not typically use it for front-end interfaces or game creation. It is an open-source language and platform, and the Julia community brings together contributors from the scientific computing, statistics, and data-science worlds. This puts the Julia language and package system in a good place for combining mainstream statistical methods with methods and trends of the scientific computing world.\n",
    "\n"
   ]
  },
  {
   "cell_type": "markdown",
   "metadata": {},
   "source": [
    "## Setup and Interface\n",
    "\n"
   ]
  },
  {
   "cell_type": "markdown",
   "metadata": {},
   "source": [
    "### REPL Command Line Interface\n",
    "\n"
   ]
  },
  {
   "cell_type": "markdown",
   "metadata": {},
   "source": [
    "The **Read Evaluate Print Loop** (REPL) commmand line interfae is a simple and straightforward way to use Julia. To install it, just run in your Mac, in case you have some problems intalling it by brew package-manager, go [here](https://julialang.org/downloads/) and follow the instructions.\n",
    "\n",
    "    brew intall julia\n",
    "\n",
    "once you succesfully download and install Julia in your machine, you can now launch the REPL in your shell/command lkne environment just typing `Julia` on it. What you will see then is the main interface for  Julia programming. When using the REPL, tipycaly one will also work with Julia files, which will have the `.jl` extentention.\n",
    "\n"
   ]
  },
  {
   "cell_type": "markdown",
   "metadata": {},
   "source": [
    "### The Package Manager\n",
    "\n"
   ]
  },
  {
   "cell_type": "markdown",
   "metadata": {},
   "source": [
    "#### The Standar way\n",
    "\n"
   ]
  },
  {
   "cell_type": "markdown",
   "metadata": {},
   "source": [
    "The simples and most used way to install packages in Julia (we will see in the next section why) is using the package `Pkg`. Inside the REPL or in a notebook, you must &ldquo;import&rdquo; the package in the first line and following the installation of the desired package. For example:\n",
    "\n"
   ]
  },
  {
   "cell_type": "code",
   "execution_count": 1,
   "metadata": {},
   "outputs": [
    {
     "name": "stderr",
     "output_type": "stream",
     "text": [
      "\u001b[32m\u001b[1m    Updating\u001b[22m\u001b[39m registry at `~/.julia/registries/General.toml`\n"
     ]
    },
    {
     "ename": "LoadError",
     "evalue": "The following package names could not be resolved:\n * Foo (not found in project, manifest or registry)\n",
     "output_type": "error",
     "traceback": [
      "The following package names could not be resolved:\n * Foo (not found in project, manifest or registry)\n",
      "",
      "Stacktrace:",
      "  [1] pkgerror(msg::String)",
      "    @ Pkg.Types /usr/local/Cellar/julia/1.7.2/share/julia/stdlib/v1.7/Pkg/src/Types.jl:68",
      "  [2] ensure_resolved(manifest::Pkg.Types.Manifest, pkgs::Vector{Pkg.Types.PackageSpec}; registry::Bool)",
      "    @ Pkg.Types /usr/local/Cellar/julia/1.7.2/share/julia/stdlib/v1.7/Pkg/src/Types.jl:915",
      "  [3] add(ctx::Pkg.Types.Context, pkgs::Vector{Pkg.Types.PackageSpec}; preserve::Pkg.Types.PreserveLevel, platform::Base.BinaryPlatforms.Platform, kwargs::Base.Pairs{Symbol, IJulia.IJuliaStdio{Base.PipeEndpoint}, Tuple{Symbol}, NamedTuple{(:io,), Tuple{IJulia.IJuliaStdio{Base.PipeEndpoint}}}})",
      "    @ Pkg.API /usr/local/Cellar/julia/1.7.2/share/julia/stdlib/v1.7/Pkg/src/API.jl:257",
      "  [4] add(pkgs::Vector{Pkg.Types.PackageSpec}; io::IJulia.IJuliaStdio{Base.PipeEndpoint}, kwargs::Base.Pairs{Symbol, Union{}, Tuple{}, NamedTuple{(), Tuple{}}})",
      "    @ Pkg.API /usr/local/Cellar/julia/1.7.2/share/julia/stdlib/v1.7/Pkg/src/API.jl:149",
      "  [5] add(pkgs::Vector{Pkg.Types.PackageSpec})",
      "    @ Pkg.API /usr/local/Cellar/julia/1.7.2/share/julia/stdlib/v1.7/Pkg/src/API.jl:144",
      "  [6] #add#27",
      "    @ /usr/local/Cellar/julia/1.7.2/share/julia/stdlib/v1.7/Pkg/src/API.jl:142 [inlined]",
      "  [7] add",
      "    @ /usr/local/Cellar/julia/1.7.2/share/julia/stdlib/v1.7/Pkg/src/API.jl:142 [inlined]",
      "  [8] #add#26",
      "    @ /usr/local/Cellar/julia/1.7.2/share/julia/stdlib/v1.7/Pkg/src/API.jl:141 [inlined]",
      "  [9] add(pkg::String)",
      "    @ Pkg.API /usr/local/Cellar/julia/1.7.2/share/julia/stdlib/v1.7/Pkg/src/API.jl:141",
      " [10] top-level scope",
      "    @ In[1]:2",
      " [11] eval",
      "    @ ./boot.jl:373 [inlined]",
      " [12] include_string(mapexpr::typeof(REPL.softscope), mod::Module, code::String, filename::String)",
      "    @ Base ./loading.jl:1196"
     ]
    }
   ],
   "source": [
    "using Pkg\n",
    "Pkg.add(\"Foo\")"
   ]
  },
  {
   "cell_type": "markdown",
   "metadata": {},
   "source": [
    "which will add the package `Foo.jl` to your current Julia build.\n",
    "\n"
   ]
  },
  {
   "cell_type": "markdown",
   "metadata": {},
   "source": [
    "#### The Package manager\n",
    "\n"
   ]
  },
  {
   "cell_type": "markdown",
   "metadata": {},
   "source": [
    "When using REPL you can enter the *package manager mode* by typing &ldquo;]&rdquo;. This mode can be exited by hitting the backspace key. In this mode you can see\n",
    "\n",
    "-   `add Foo` adds the package `Foo.jl` to the current Julia build\n",
    "-   `status` lists what packages and versions are currently installed\n",
    "-   `update` updates existing packages\n",
    "-   `remove Foo` removes package `Foo,jl` from current Julia build.\n",
    "\n"
   ]
  },
  {
   "cell_type": "markdown",
   "metadata": {},
   "source": [
    "#### Most used packages\n",
    "\n"
   ]
  },
  {
   "cell_type": "markdown",
   "metadata": {},
   "source": [
    "-   `Base.jl` is the basics Julia package\n",
    "-   `Calculus.jl` calculus operatoins including differential and integration both numerically and symbolically\n",
    "-   `CSV.jl` for working with CSV and other delimited files\n",
    "-   `DataFrames.jl` for brush your elephant\n",
    "-   `Dates.jl` provides support for working with dates/time\n",
    "-   `Plots.jl` the main plotting package\n",
    "-   `PyPlot.jl` in case you cannot forget your ex\n",
    "-   `Statistics.jl`\n",
    "-   `Random.jl`\n",
    "-   `LinearAlgebra.jl`\n",
    "-   `IJulia.jl` The most important package of all\n",
    "\n"
   ]
  },
  {
   "cell_type": "markdown",
   "metadata": {},
   "source": [
    "### Jupyter notebooks\n",
    "\n"
   ]
  },
  {
   "cell_type": "markdown",
   "metadata": {},
   "source": [
    "An alternative for those who loves the noteboks is the usage of the package `IJulia`, in order to use it correctly you need to have installed in your system the *Jupyter Notebook*. When you install the package mentioned above, just run your notebook as always and when you clikc on *new* you will now have the option of create a Julia-notebok.\n",
    "\n"
   ]
  },
  {
   "cell_type": "markdown",
   "metadata": {},
   "source": [
    "## Basic Sintax\n",
    "\n"
   ]
  },
  {
   "cell_type": "markdown",
   "metadata": {},
   "source": [
    "Quite similar than Python, there are a lot of different ways to says hello.\n",
    "\n"
   ]
  },
  {
   "cell_type": "code",
   "execution_count": 2,
   "metadata": {},
   "outputs": [
    {
     "name": "stdout",
     "output_type": "stream",
     "text": [
      "Hello world\n"
     ]
    }
   ],
   "source": [
    "println(\"Hello world\")"
   ]
  },
  {
   "cell_type": "markdown",
   "metadata": {},
   "source": [
    "in this particular case, the sintax is quite commmon to Python, the only difference is the `println` statement which includes the `ln` sufix.\n",
    "\n",
    "For cicles, there are also the same general structures than python, for example, vector/lists. Here are two different ways to set a for statement in Julia, the most common and the python-object way.\n",
    "\n"
   ]
  },
  {
   "cell_type": "code",
   "execution_count": 3,
   "metadata": {},
   "outputs": [
    {
     "name": "stdout",
     "output_type": "stream",
     "text": [
      "hello\n",
      "world\n",
      "---------------------\n",
      "hello\n",
      "world\n",
      "---------------------\n",
      "hello\n",
      "world\n"
     ]
    }
   ],
   "source": [
    "hello_array = [\"hello\", \"world\"]\n",
    "\n",
    "for i in 1:length(hello_array)\n",
    "    println(hello_array[i])\n",
    "end\n",
    "\n",
    "println(\"---------------------\")\n",
    "\n",
    "for i in 1:2\n",
    "    println(hello_array[i])\n",
    "end\n",
    "\n",
    "println(\"---------------------\")\n",
    "\n",
    "for word in hello_array\n",
    "    println(word)\n",
    "end"
   ]
  },
  {
   "cell_type": "markdown",
   "metadata": {},
   "source": [
    "You can also write comprehension lists in Julia\n",
    "\n"
   ]
  },
  {
   "cell_type": "code",
   "execution_count": 6,
   "metadata": {},
   "outputs": [
    {
     "name": "stdout",
     "output_type": "stream",
     "text": [
      "[0, 1, 4, 9, 16, 25, 36, 49, 64, 81, 100]\n"
     ]
    }
   ],
   "source": [
    "squares = [i^2 for i in 0:10]\n",
    "\n",
    "println(squares)"
   ]
  },
  {
   "cell_type": "markdown",
   "metadata": {},
   "source": [
    "The `function` definition and the `if` statement is also pretty similar to python. The next code is an example shows us a bubbleSort function.\n",
    "\n"
   ]
  },
  {
   "cell_type": "code",
   "execution_count": 7,
   "metadata": {},
   "outputs": [
    {
     "data": {
      "text/plain": [
       "8-element Vector{Int64}:\n",
       "  1\n",
       " 12\n",
       " 23\n",
       " 32\n",
       " 51\n",
       " 65\n",
       " 68\n",
       " 84"
      ]
     },
     "execution_count": 7,
     "metadata": {},
     "output_type": "execute_result"
    }
   ],
   "source": [
    "function bubbleSort!(a)\n",
    "    n = length(a)\n",
    "    for i in 1:n-1\n",
    "        for j in 1:n-i\n",
    "            if a[j] > a[j+1]\n",
    "                a[j], a[j+1] = a[j+1], a[j]\n",
    "            end\n",
    "        end\n",
    "    end\n",
    "    return a\n",
    "end\n",
    "\n",
    "data = [65, 51, 32, 12, 23, 84, 68, 1]\n",
    "bubbleSort!(data)"
   ]
  },
  {
   "cell_type": "markdown",
   "metadata": {},
   "source": [
    "Note that the input argument `a` is implicitly expected to be an array. The function sorts `a` in place and returns a reference to the array. Also note that in this case, the function-name ends with a `!` by convention, this mark decorates the name of the function, letting us know that the function argument `a`, will be <u>modified</u>.\n",
    "\n"
   ]
  },
  {
   "cell_type": "markdown",
   "metadata": {},
   "source": [
    "## Types nd Multiple dispatch\n",
    "\n"
   ]
  },
  {
   "cell_type": "markdown",
   "metadata": {},
   "source": [
    "Functions in Julia are invoked via multiple dispatch. This means the way a function is executed, i.e. its method is based on the type of its inputs, i.e. its argument types. Indeed functions can have multiple methods of execution, which can be checked using the `methods()` command.\n",
    "\n",
    "Julia has a powerful type system which allows for user-defined types. One can check the type of a variable using the `typeof()` function, while the functions `subtypes()` and `supertype()` return the subtypes and supertype of a particular type, respectively. As an example, Bool is a subtype of Integer, while Real is the supertype of Integer. This is illustrated in the next Figure, which shows the type hierarchy of numbers in Julia.\n",
    "\n",
    "![img](julia.png)\n",
    "\n",
    "for more information, you can follow this [link](https://docs.julialang.org/en/v1/base/numbers/).\n",
    "\n"
   ]
  }
 ],
 "metadata": {
  "kernelspec": {
   "display_name": "Julia 1.7.2",
   "language": "julia",
   "name": "julia-1.7"
  },
  "language_info": {
   "file_extension": ".jl",
   "mimetype": "application/julia",
   "name": "julia",
   "version": "1.7.2"
  },
  "org": null
 },
 "nbformat": 4,
 "nbformat_minor": 1
}
