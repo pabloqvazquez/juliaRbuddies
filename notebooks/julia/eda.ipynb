{
 "cells": [
  {
   "cell_type": "markdown",
   "metadata": {},
   "source": [
    "# **Exploratory Data Analysis**\n",
    "\n",
    "**Content**:\n",
    "1. What is Exploratory Data Analysis?\n",
    "2. Why is exploratory data analysis important in data science?\n",
    "3. A Statistical Approach\n",
    "4. Hands on!\n"
   ]
  },
  {
   "cell_type": "markdown",
   "metadata": {},
   "source": [
    "### **What is Exploratory Data Analysis?**"
   ]
  },
  {
   "cell_type": "markdown",
   "metadata": {},
   "source": [
    "Exploratory Data Analysis refers to the critical process of performing **initial investigations on data** so as to discover **patterns**, to **spot anomalies**, to test hypothesis and to **check assumptions** with the help of summary statistics and graphical representations.\n",
    "\n",
    "Exploratory Data Analysis (**EDA**) is used by data scientists to **analyze** and **investigate** data sets and **summarize their main characteristics**."
   ]
  },
  {
   "cell_type": "markdown",
   "metadata": {},
   "source": [
    "> ##### **EDA** is all about making sense of data in hand, before getting them dirty with it. <br><br>\n",
    "> "
   ]
  },
  {
   "cell_type": "markdown",
   "metadata": {},
   "source": [
    "### **Why is exploratory data analysis important in data science?**"
   ]
  },
  {
   "cell_type": "markdown",
   "metadata": {},
   "source": [
    "The main purpose of EDA is to help look at data before making any assumptions. \n",
    "It can help identify obvious errors, as well as better understand patterns within the data, detect outliers or anomalous events, \n",
    "find interesting relations among the variables.\n",
    "\n",
    "- Data scientists can use exploratory analysis to ensure the results they produce are valid and applicable to any desired business outcomes and goals. \n",
    "- EDA also helps stakeholders by confirming they are asking the right questions. \n",
    "\n",
    "EDA can help answer questions about standard deviations, categorical variables, and confidence intervals.\n",
    "\n",
    " Once EDA is complete and insights are drawn, its features can then be used for more sophisticated data analysis or modeling, including machine learning."
   ]
  },
  {
   "cell_type": "markdown",
   "metadata": {},
   "source": [
    "> **\"Data combined with practical methods can answer questions and guide decisions under uncertainty\"** "
   ]
  },
  {
   "cell_type": "markdown",
   "metadata": {},
   "source": [
    "### **A Statistical Approach**\n"
   ]
  },
  {
   "cell_type": "markdown",
   "metadata": {},
   "source": [
    "When doing EDA, we might want **evidence** that is more persuasive and an answer that is more reliable.\n",
    "\n",
    "To face limitations of **anecdotal evidence** and other non-reliable sources of data, we will use some helpful tool of statistics:\n",
    "1. Data Collection\n",
    "2. Descriptive statistics\n",
    "3. Exploratory Data Analysis\n",
    "4. Estimation\n",
    "5. Hyphotesis testing\n",
    "\n",
    "> **Anecdotal evidence**: Evidence, often personal, that is collected casually rather than by a well-designed study. <br><br>\n",
    "> Learn more about how Anecdotal Evidence can beat you: https://statisticsbyjim.com/basics/anecdotal-evidence/\n",
    "\n",
    "Anecdotal evidence usually fails, because: \n",
    "\n",
    "- **Small number of observations**  \n",
    "- **Selection bias:** Individuals or groups in a study differ systematically from the population of interest leading to a systematic error in an association or outcome.\n",
    "- **Confirmation bias:** People who believe the claim might be more likely to contribute examples that confrm it. People who doubt the claim are more likely to cite counterexamples.\n",
    "- **Inaccuracy:** Anecdotes are often personal stories, and often misremem- bered, misrepresented, repeated inaccurately, etc.\n",
    "\n",
    "More types of bias: https://catalogofbias.org/biases/"
   ]
  },
  {
   "cell_type": "markdown",
   "metadata": {},
   "source": [
    "### **Hands On**"
   ]
  },
  {
   "cell_type": "markdown",
   "metadata": {},
   "source": [
    "We are going to work with Data on COVID-19 (coronavirus) by **Our World in Data**.\n",
    "\n",
    "Download the complete [COVID-19 dataset](https://covid.ourworldindata.org/data/owid-covid-data.csv).\n",
    "\n",
    "Take a look into this site for [more details](https://github.com/owid/covid-19-data/tree/master/public/data)."
   ]
  },
  {
   "cell_type": "markdown",
   "metadata": {},
   "source": [
    "Importing the neccesary libraries to perform our analysis:"
   ]
  },
  {
   "cell_type": "code",
   "execution_count": 3,
   "metadata": {},
   "outputs": [
    {
     "name": "stderr",
     "output_type": "stream",
     "text": [
      "\u001b[32m\u001b[1m    Updating\u001b[22m\u001b[39m registry at `~/.julia/registries/General.toml`\n",
      "\u001b[32m\u001b[1m   Resolving\u001b[22m\u001b[39m package versions...\n",
      "\u001b[32m\u001b[1m  No Changes\u001b[22m\u001b[39m to `~/.julia/environments/v1.7/Project.toml`\n",
      "\u001b[32m\u001b[1m  No Changes\u001b[22m\u001b[39m to `~/.julia/environments/v1.7/Manifest.toml`\n",
      "\u001b[32m\u001b[1m   Resolving\u001b[22m\u001b[39m package versions...\n",
      "\u001b[32m\u001b[1m  No Changes\u001b[22m\u001b[39m to `~/.julia/environments/v1.7/Project.toml`\n",
      "\u001b[32m\u001b[1m  No Changes\u001b[22m\u001b[39m to `~/.julia/environments/v1.7/Manifest.toml`\n"
     ]
    }
   ],
   "source": [
    "using Pkg\n",
    "\n",
    "Pkg.add(\"CSV\")\n",
    "Pkg.add(\"DataFrames\")"
   ]
  },
  {
   "cell_type": "code",
   "execution_count": 4,
   "metadata": {},
   "outputs": [],
   "source": [
    "using CSV, DataFrames"
   ]
  },
  {
   "cell_type": "code",
   "execution_count": 5,
   "metadata": {},
   "outputs": [
    {
     "data": {
      "text/html": [
       "<div class=\"data-frame\"><p>217,278 rows × 67 columns (omitted printing of 60 columns)</p><table class=\"data-frame\"><thead><tr><th></th><th>iso_code</th><th>continent</th><th>location</th><th>date</th><th>total_cases</th><th>new_cases</th><th>new_cases_smoothed</th></tr><tr><th></th><th title=\"String15\">String15</th><th title=\"Union{Missing, String15}\">String15?</th><th title=\"String\">String</th><th title=\"Dates.Date\">Date</th><th title=\"Union{Missing, Float64}\">Float64?</th><th title=\"Union{Missing, Float64}\">Float64?</th><th title=\"Union{Missing, Float64}\">Float64?</th></tr></thead><tbody><tr><th>1</th><td>AFG</td><td>Asia</td><td>Afghanistan</td><td>2020-02-24</td><td>5.0</td><td>5.0</td><td><em>missing</em></td></tr><tr><th>2</th><td>AFG</td><td>Asia</td><td>Afghanistan</td><td>2020-02-25</td><td>5.0</td><td>0.0</td><td><em>missing</em></td></tr><tr><th>3</th><td>AFG</td><td>Asia</td><td>Afghanistan</td><td>2020-02-26</td><td>5.0</td><td>0.0</td><td><em>missing</em></td></tr><tr><th>4</th><td>AFG</td><td>Asia</td><td>Afghanistan</td><td>2020-02-27</td><td>5.0</td><td>0.0</td><td><em>missing</em></td></tr><tr><th>5</th><td>AFG</td><td>Asia</td><td>Afghanistan</td><td>2020-02-28</td><td>5.0</td><td>0.0</td><td><em>missing</em></td></tr><tr><th>6</th><td>AFG</td><td>Asia</td><td>Afghanistan</td><td>2020-02-29</td><td>5.0</td><td>0.0</td><td>0.714</td></tr><tr><th>7</th><td>AFG</td><td>Asia</td><td>Afghanistan</td><td>2020-03-01</td><td>5.0</td><td>0.0</td><td>0.714</td></tr><tr><th>8</th><td>AFG</td><td>Asia</td><td>Afghanistan</td><td>2020-03-02</td><td>5.0</td><td>0.0</td><td>0.0</td></tr><tr><th>9</th><td>AFG</td><td>Asia</td><td>Afghanistan</td><td>2020-03-03</td><td>5.0</td><td>0.0</td><td>0.0</td></tr><tr><th>10</th><td>AFG</td><td>Asia</td><td>Afghanistan</td><td>2020-03-04</td><td>5.0</td><td>0.0</td><td>0.0</td></tr><tr><th>11</th><td>AFG</td><td>Asia</td><td>Afghanistan</td><td>2020-03-05</td><td>5.0</td><td>0.0</td><td>0.0</td></tr><tr><th>12</th><td>AFG</td><td>Asia</td><td>Afghanistan</td><td>2020-03-06</td><td>5.0</td><td>0.0</td><td>0.0</td></tr><tr><th>13</th><td>AFG</td><td>Asia</td><td>Afghanistan</td><td>2020-03-07</td><td>8.0</td><td>3.0</td><td>0.429</td></tr><tr><th>14</th><td>AFG</td><td>Asia</td><td>Afghanistan</td><td>2020-03-08</td><td>8.0</td><td>0.0</td><td>0.429</td></tr><tr><th>15</th><td>AFG</td><td>Asia</td><td>Afghanistan</td><td>2020-03-09</td><td>8.0</td><td>0.0</td><td>0.429</td></tr><tr><th>16</th><td>AFG</td><td>Asia</td><td>Afghanistan</td><td>2020-03-10</td><td>8.0</td><td>0.0</td><td>0.429</td></tr><tr><th>17</th><td>AFG</td><td>Asia</td><td>Afghanistan</td><td>2020-03-11</td><td>11.0</td><td>3.0</td><td>0.857</td></tr><tr><th>18</th><td>AFG</td><td>Asia</td><td>Afghanistan</td><td>2020-03-12</td><td>11.0</td><td>0.0</td><td>0.857</td></tr><tr><th>19</th><td>AFG</td><td>Asia</td><td>Afghanistan</td><td>2020-03-13</td><td>11.0</td><td>0.0</td><td>0.857</td></tr><tr><th>20</th><td>AFG</td><td>Asia</td><td>Afghanistan</td><td>2020-03-14</td><td>14.0</td><td>3.0</td><td>0.857</td></tr><tr><th>21</th><td>AFG</td><td>Asia</td><td>Afghanistan</td><td>2020-03-15</td><td>20.0</td><td>6.0</td><td>1.714</td></tr><tr><th>22</th><td>AFG</td><td>Asia</td><td>Afghanistan</td><td>2020-03-16</td><td>25.0</td><td>5.0</td><td>2.429</td></tr><tr><th>23</th><td>AFG</td><td>Asia</td><td>Afghanistan</td><td>2020-03-17</td><td>26.0</td><td>1.0</td><td>2.571</td></tr><tr><th>24</th><td>AFG</td><td>Asia</td><td>Afghanistan</td><td>2020-03-18</td><td>26.0</td><td>0.0</td><td>2.143</td></tr><tr><th>25</th><td>AFG</td><td>Asia</td><td>Afghanistan</td><td>2020-03-19</td><td>26.0</td><td>0.0</td><td>2.143</td></tr><tr><th>26</th><td>AFG</td><td>Asia</td><td>Afghanistan</td><td>2020-03-20</td><td>24.0</td><td><em>missing</em></td><td><em>missing</em></td></tr><tr><th>27</th><td>AFG</td><td>Asia</td><td>Afghanistan</td><td>2020-03-21</td><td>24.0</td><td>0.0</td><td>1.714</td></tr><tr><th>28</th><td>AFG</td><td>Asia</td><td>Afghanistan</td><td>2020-03-22</td><td>34.0</td><td>10.0</td><td>2.286</td></tr><tr><th>29</th><td>AFG</td><td>Asia</td><td>Afghanistan</td><td>2020-03-23</td><td>40.0</td><td>6.0</td><td>2.429</td></tr><tr><th>30</th><td>AFG</td><td>Asia</td><td>Afghanistan</td><td>2020-03-24</td><td>42.0</td><td>2.0</td><td>2.571</td></tr><tr><th>&vellip;</th><td>&vellip;</td><td>&vellip;</td><td>&vellip;</td><td>&vellip;</td><td>&vellip;</td><td>&vellip;</td><td>&vellip;</td></tr></tbody></table></div>"
      ],
      "text/latex": [
       "\\begin{tabular}{r|cccccccc}\n",
       "\t& iso\\_code & continent & location & date & total\\_cases & new\\_cases & new\\_cases\\_smoothed & \\\\\n",
       "\t\\hline\n",
       "\t& String15 & String15? & String & Date & Float64? & Float64? & Float64? & \\\\\n",
       "\t\\hline\n",
       "\t1 & AFG & Asia & Afghanistan & 2020-02-24 & 5.0 & 5.0 & \\emph{missing} & $\\dots$ \\\\\n",
       "\t2 & AFG & Asia & Afghanistan & 2020-02-25 & 5.0 & 0.0 & \\emph{missing} & $\\dots$ \\\\\n",
       "\t3 & AFG & Asia & Afghanistan & 2020-02-26 & 5.0 & 0.0 & \\emph{missing} & $\\dots$ \\\\\n",
       "\t4 & AFG & Asia & Afghanistan & 2020-02-27 & 5.0 & 0.0 & \\emph{missing} & $\\dots$ \\\\\n",
       "\t5 & AFG & Asia & Afghanistan & 2020-02-28 & 5.0 & 0.0 & \\emph{missing} & $\\dots$ \\\\\n",
       "\t6 & AFG & Asia & Afghanistan & 2020-02-29 & 5.0 & 0.0 & 0.714 & $\\dots$ \\\\\n",
       "\t7 & AFG & Asia & Afghanistan & 2020-03-01 & 5.0 & 0.0 & 0.714 & $\\dots$ \\\\\n",
       "\t8 & AFG & Asia & Afghanistan & 2020-03-02 & 5.0 & 0.0 & 0.0 & $\\dots$ \\\\\n",
       "\t9 & AFG & Asia & Afghanistan & 2020-03-03 & 5.0 & 0.0 & 0.0 & $\\dots$ \\\\\n",
       "\t10 & AFG & Asia & Afghanistan & 2020-03-04 & 5.0 & 0.0 & 0.0 & $\\dots$ \\\\\n",
       "\t11 & AFG & Asia & Afghanistan & 2020-03-05 & 5.0 & 0.0 & 0.0 & $\\dots$ \\\\\n",
       "\t12 & AFG & Asia & Afghanistan & 2020-03-06 & 5.0 & 0.0 & 0.0 & $\\dots$ \\\\\n",
       "\t13 & AFG & Asia & Afghanistan & 2020-03-07 & 8.0 & 3.0 & 0.429 & $\\dots$ \\\\\n",
       "\t14 & AFG & Asia & Afghanistan & 2020-03-08 & 8.0 & 0.0 & 0.429 & $\\dots$ \\\\\n",
       "\t15 & AFG & Asia & Afghanistan & 2020-03-09 & 8.0 & 0.0 & 0.429 & $\\dots$ \\\\\n",
       "\t16 & AFG & Asia & Afghanistan & 2020-03-10 & 8.0 & 0.0 & 0.429 & $\\dots$ \\\\\n",
       "\t17 & AFG & Asia & Afghanistan & 2020-03-11 & 11.0 & 3.0 & 0.857 & $\\dots$ \\\\\n",
       "\t18 & AFG & Asia & Afghanistan & 2020-03-12 & 11.0 & 0.0 & 0.857 & $\\dots$ \\\\\n",
       "\t19 & AFG & Asia & Afghanistan & 2020-03-13 & 11.0 & 0.0 & 0.857 & $\\dots$ \\\\\n",
       "\t20 & AFG & Asia & Afghanistan & 2020-03-14 & 14.0 & 3.0 & 0.857 & $\\dots$ \\\\\n",
       "\t21 & AFG & Asia & Afghanistan & 2020-03-15 & 20.0 & 6.0 & 1.714 & $\\dots$ \\\\\n",
       "\t22 & AFG & Asia & Afghanistan & 2020-03-16 & 25.0 & 5.0 & 2.429 & $\\dots$ \\\\\n",
       "\t23 & AFG & Asia & Afghanistan & 2020-03-17 & 26.0 & 1.0 & 2.571 & $\\dots$ \\\\\n",
       "\t24 & AFG & Asia & Afghanistan & 2020-03-18 & 26.0 & 0.0 & 2.143 & $\\dots$ \\\\\n",
       "\t25 & AFG & Asia & Afghanistan & 2020-03-19 & 26.0 & 0.0 & 2.143 & $\\dots$ \\\\\n",
       "\t26 & AFG & Asia & Afghanistan & 2020-03-20 & 24.0 & \\emph{missing} & \\emph{missing} & $\\dots$ \\\\\n",
       "\t27 & AFG & Asia & Afghanistan & 2020-03-21 & 24.0 & 0.0 & 1.714 & $\\dots$ \\\\\n",
       "\t28 & AFG & Asia & Afghanistan & 2020-03-22 & 34.0 & 10.0 & 2.286 & $\\dots$ \\\\\n",
       "\t29 & AFG & Asia & Afghanistan & 2020-03-23 & 40.0 & 6.0 & 2.429 & $\\dots$ \\\\\n",
       "\t30 & AFG & Asia & Afghanistan & 2020-03-24 & 42.0 & 2.0 & 2.571 & $\\dots$ \\\\\n",
       "\t$\\dots$ & $\\dots$ & $\\dots$ & $\\dots$ & $\\dots$ & $\\dots$ & $\\dots$ & $\\dots$ &  \\\\\n",
       "\\end{tabular}\n"
      ],
      "text/plain": [
       "\u001b[1m217278×67 DataFrame\u001b[0m\n",
       "\u001b[1m    Row \u001b[0m│\u001b[1m iso_code \u001b[0m\u001b[1m continent \u001b[0m\u001b[1m location    \u001b[0m\u001b[1m date       \u001b[0m\u001b[1m total_cases \u001b[0m\u001b[1m new_cases\u001b[0m ⋯\n",
       "\u001b[1m        \u001b[0m│\u001b[90m String15 \u001b[0m\u001b[90m String15? \u001b[0m\u001b[90m String      \u001b[0m\u001b[90m Date       \u001b[0m\u001b[90m Float64?    \u001b[0m\u001b[90m Float64? \u001b[0m ⋯\n",
       "────────┼───────────────────────────────────────────────────────────────────────\n",
       "      1 │ AFG       Asia       Afghanistan  2020-02-24          5.0        5.0 ⋯\n",
       "      2 │ AFG       Asia       Afghanistan  2020-02-25          5.0        0.0\n",
       "      3 │ AFG       Asia       Afghanistan  2020-02-26          5.0        0.0\n",
       "      4 │ AFG       Asia       Afghanistan  2020-02-27          5.0        0.0\n",
       "      5 │ AFG       Asia       Afghanistan  2020-02-28          5.0        0.0 ⋯\n",
       "      6 │ AFG       Asia       Afghanistan  2020-02-29          5.0        0.0\n",
       "      7 │ AFG       Asia       Afghanistan  2020-03-01          5.0        0.0\n",
       "      8 │ AFG       Asia       Afghanistan  2020-03-02          5.0        0.0\n",
       "      9 │ AFG       Asia       Afghanistan  2020-03-03          5.0        0.0 ⋯\n",
       "     10 │ AFG       Asia       Afghanistan  2020-03-04          5.0        0.0\n",
       "     11 │ AFG       Asia       Afghanistan  2020-03-05          5.0        0.0\n",
       "   ⋮    │    ⋮          ⋮           ⋮           ⋮            ⋮           ⋮     ⋱\n",
       " 217269 │ ZWE       Africa     Zimbabwe     2022-09-08     256834.0        9.0\n",
       " 217270 │ ZWE       Africa     Zimbabwe     2022-09-09     256859.0       25.0 ⋯\n",
       " 217271 │ ZWE       Africa     Zimbabwe     2022-09-10     256870.0       11.0\n",
       " 217272 │ ZWE       Africa     Zimbabwe     2022-09-11     256870.0        0.0\n",
       " 217273 │ ZWE       Africa     Zimbabwe     2022-09-12     256888.0       18.0\n",
       " 217274 │ ZWE       Africa     Zimbabwe     2022-09-13     256904.0       16.0 ⋯\n",
       " 217275 │ ZWE       Africa     Zimbabwe     2022-09-14     256939.0       35.0\n",
       " 217276 │ ZWE       Africa     Zimbabwe     2022-09-15     256939.0        0.0\n",
       " 217277 │ ZWE       Africa     Zimbabwe     2022-09-16     256939.0        0.0\n",
       " 217278 │ ZWE       Africa     Zimbabwe     2022-09-17     256988.0       49.0 ⋯\n",
       "\u001b[36m                                              61 columns and 217257 rows omitted\u001b[0m"
      ]
     },
     "execution_count": 5,
     "metadata": {},
     "output_type": "execute_result"
    }
   ],
   "source": [
    "df = DataFrame(CSV.File(\"../data/owid-covid-data.csv\"))\n",
    "df"
   ]
  },
  {
   "cell_type": "code",
   "execution_count": 6,
   "metadata": {},
   "outputs": [
    {
     "data": {
      "text/plain": [
       "(217278, 67)"
      ]
     },
     "execution_count": 6,
     "metadata": {},
     "output_type": "execute_result"
    }
   ],
   "source": [
    "size(df)"
   ]
  },
  {
   "cell_type": "markdown",
   "metadata": {},
   "source": [
    "This dataset contains  217,278 observations and 67 columns."
   ]
  },
  {
   "cell_type": "code",
   "execution_count": 7,
   "metadata": {},
   "outputs": [
    {
     "data": {
      "text/plain": [
       "67-element Vector{String}:\n",
       " \"iso_code\"\n",
       " \"continent\"\n",
       " \"location\"\n",
       " \"date\"\n",
       " \"total_cases\"\n",
       " \"new_cases\"\n",
       " \"new_cases_smoothed\"\n",
       " \"total_deaths\"\n",
       " \"new_deaths\"\n",
       " \"new_deaths_smoothed\"\n",
       " \"total_cases_per_million\"\n",
       " \"new_cases_per_million\"\n",
       " \"new_cases_smoothed_per_million\"\n",
       " ⋮\n",
       " \"cardiovasc_death_rate\"\n",
       " \"diabetes_prevalence\"\n",
       " \"female_smokers\"\n",
       " \"male_smokers\"\n",
       " \"handwashing_facilities\"\n",
       " \"hospital_beds_per_thousand\"\n",
       " \"life_expectancy\"\n",
       " \"human_development_index\"\n",
       " \"excess_mortality_cumulative_absolute\"\n",
       " \"excess_mortality_cumulative\"\n",
       " \"excess_mortality\"\n",
       " \"excess_mortality_cumulative_per_million\""
      ]
     },
     "execution_count": 7,
     "metadata": {},
     "output_type": "execute_result"
    }
   ],
   "source": [
    "names(df)"
   ]
  },
  {
   "cell_type": "markdown",
   "metadata": {},
   "source": [
    "Missing values are represented in Julia using `missing` that has type `Missing`.\n",
    "\n",
    "Julia provides support for representing missing values in the statistical sense, that is for situations where no value is available for a variable in an observation, but a valid value theoretically exists."
   ]
  },
  {
   "cell_type": "markdown",
   "metadata": {},
   "source": [
    "The `describe` method is also available to get summary statistics:"
   ]
  },
  {
   "cell_type": "code",
   "execution_count": 8,
   "metadata": {},
   "outputs": [
    {
     "data": {
      "text/html": [
       "<div class=\"data-frame\"><p>67 rows × 2 columns</p><table class=\"data-frame\"><thead><tr><th></th><th>variable</th><th>nmissing</th></tr><tr><th></th><th title=\"Symbol\">Symbol</th><th title=\"Int64\">Int64</th></tr></thead><tbody><tr><th>1</th><td>iso_code</td><td>0</td></tr><tr><th>2</th><td>continent</td><td>12504</td></tr><tr><th>3</th><td>location</td><td>0</td></tr><tr><th>4</th><td>date</td><td>0</td></tr><tr><th>5</th><td>total_cases</td><td>8904</td></tr><tr><th>6</th><td>new_cases</td><td>9194</td></tr><tr><th>7</th><td>new_cases_smoothed</td><td>10386</td></tr><tr><th>8</th><td>total_deaths</td><td>27956</td></tr><tr><th>9</th><td>new_deaths</td><td>28030</td></tr><tr><th>10</th><td>new_deaths_smoothed</td><td>29210</td></tr><tr><th>11</th><td>total_cases_per_million</td><td>9858</td></tr><tr><th>12</th><td>new_cases_per_million</td><td>10148</td></tr><tr><th>13</th><td>new_cases_smoothed_per_million</td><td>11335</td></tr><tr><th>14</th><td>total_deaths_per_million</td><td>28897</td></tr><tr><th>15</th><td>new_deaths_per_million</td><td>28971</td></tr><tr><th>16</th><td>new_deaths_smoothed_per_million</td><td>30146</td></tr><tr><th>17</th><td>reproduction_rate</td><td>53859</td></tr><tr><th>18</th><td>icu_patients</td><td>189599</td></tr><tr><th>19</th><td>icu_patients_per_million</td><td>189599</td></tr><tr><th>20</th><td>hosp_patients</td><td>186885</td></tr><tr><th>21</th><td>hosp_patients_per_million</td><td>186885</td></tr><tr><th>22</th><td>weekly_icu_admissions</td><td>210142</td></tr><tr><th>23</th><td>weekly_icu_admissions_per_million</td><td>210142</td></tr><tr><th>24</th><td>weekly_hosp_admissions</td><td>203162</td></tr><tr><th>25</th><td>weekly_hosp_admissions_per_million</td><td>203162</td></tr><tr><th>26</th><td>total_tests</td><td>137891</td></tr><tr><th>27</th><td>new_tests</td><td>141875</td></tr><tr><th>28</th><td>total_tests_per_thousand</td><td>137891</td></tr><tr><th>29</th><td>new_tests_per_thousand</td><td>141875</td></tr><tr><th>30</th><td>new_tests_smoothed</td><td>113313</td></tr><tr><th>&vellip;</th><td>&vellip;</td><td>&vellip;</td></tr></tbody></table></div>"
      ],
      "text/latex": [
       "\\begin{tabular}{r|cc}\n",
       "\t& variable & nmissing\\\\\n",
       "\t\\hline\n",
       "\t& Symbol & Int64\\\\\n",
       "\t\\hline\n",
       "\t1 & iso\\_code & 0 \\\\\n",
       "\t2 & continent & 12504 \\\\\n",
       "\t3 & location & 0 \\\\\n",
       "\t4 & date & 0 \\\\\n",
       "\t5 & total\\_cases & 8904 \\\\\n",
       "\t6 & new\\_cases & 9194 \\\\\n",
       "\t7 & new\\_cases\\_smoothed & 10386 \\\\\n",
       "\t8 & total\\_deaths & 27956 \\\\\n",
       "\t9 & new\\_deaths & 28030 \\\\\n",
       "\t10 & new\\_deaths\\_smoothed & 29210 \\\\\n",
       "\t11 & total\\_cases\\_per\\_million & 9858 \\\\\n",
       "\t12 & new\\_cases\\_per\\_million & 10148 \\\\\n",
       "\t13 & new\\_cases\\_smoothed\\_per\\_million & 11335 \\\\\n",
       "\t14 & total\\_deaths\\_per\\_million & 28897 \\\\\n",
       "\t15 & new\\_deaths\\_per\\_million & 28971 \\\\\n",
       "\t16 & new\\_deaths\\_smoothed\\_per\\_million & 30146 \\\\\n",
       "\t17 & reproduction\\_rate & 53859 \\\\\n",
       "\t18 & icu\\_patients & 189599 \\\\\n",
       "\t19 & icu\\_patients\\_per\\_million & 189599 \\\\\n",
       "\t20 & hosp\\_patients & 186885 \\\\\n",
       "\t21 & hosp\\_patients\\_per\\_million & 186885 \\\\\n",
       "\t22 & weekly\\_icu\\_admissions & 210142 \\\\\n",
       "\t23 & weekly\\_icu\\_admissions\\_per\\_million & 210142 \\\\\n",
       "\t24 & weekly\\_hosp\\_admissions & 203162 \\\\\n",
       "\t25 & weekly\\_hosp\\_admissions\\_per\\_million & 203162 \\\\\n",
       "\t26 & total\\_tests & 137891 \\\\\n",
       "\t27 & new\\_tests & 141875 \\\\\n",
       "\t28 & total\\_tests\\_per\\_thousand & 137891 \\\\\n",
       "\t29 & new\\_tests\\_per\\_thousand & 141875 \\\\\n",
       "\t30 & new\\_tests\\_smoothed & 113313 \\\\\n",
       "\t$\\dots$ & $\\dots$ & $\\dots$ \\\\\n",
       "\\end{tabular}\n"
      ],
      "text/plain": [
       "\u001b[1m67×2 DataFrame\u001b[0m\n",
       "\u001b[1m Row \u001b[0m│\u001b[1m variable                          \u001b[0m\u001b[1m nmissing \u001b[0m\n",
       "\u001b[1m     \u001b[0m│\u001b[90m Symbol                            \u001b[0m\u001b[90m Int64    \u001b[0m\n",
       "─────┼─────────────────────────────────────────────\n",
       "   1 │ iso_code                                  0\n",
       "   2 │ continent                             12504\n",
       "   3 │ location                                  0\n",
       "   4 │ date                                      0\n",
       "   5 │ total_cases                            8904\n",
       "   6 │ new_cases                              9194\n",
       "   7 │ new_cases_smoothed                    10386\n",
       "   8 │ total_deaths                          27956\n",
       "   9 │ new_deaths                            28030\n",
       "  10 │ new_deaths_smoothed                   29210\n",
       "  11 │ total_cases_per_million                9858\n",
       "  ⋮  │                 ⋮                     ⋮\n",
       "  58 │ female_smokers                        82393\n",
       "  59 │ male_smokers                          84240\n",
       "  60 │ handwashing_facilities               129731\n",
       "  61 │ hospital_beds_per_thousand            58856\n",
       "  62 │ life_expectancy                       14292\n",
       "  63 │ human_development_index               43641\n",
       "  64 │ excess_mortality_cumulative_abso…    210007\n",
       "  65 │ excess_mortality_cumulative          210007\n",
       "  66 │ excess_mortality                     209962\n",
       "  67 │ excess_mortality_cumulative_per_…    210007\n",
       "\u001b[36m                                    46 rows omitted\u001b[0m"
      ]
     },
     "execution_count": 8,
     "metadata": {},
     "output_type": "execute_result"
    }
   ],
   "source": [
    "missing_values = describe(df, :nmissing)\n",
    "missing_values"
   ]
  },
  {
   "cell_type": "code",
   "execution_count": 9,
   "metadata": {},
   "outputs": [
    {
     "data": {
      "text/plain": [
       "6545978"
      ]
     },
     "execution_count": 9,
     "metadata": {},
     "output_type": "execute_result"
    }
   ],
   "source": [
    "total_missing = sum(missing_values[:, :nmissing])\n",
    "total_missing"
   ]
  },
  {
   "cell_type": "markdown",
   "metadata": {},
   "source": [
    "The total number of missing values in the df is: 6,545,978\n",
    "\n"
   ]
  },
  {
   "cell_type": "code",
   "execution_count": 10,
   "metadata": {},
   "outputs": [
    {
     "data": {
      "text/html": [
       "<div class=\"data-frame\"><p>67 rows × 2 columns</p><table class=\"data-frame\"><thead><tr><th></th><th>variable</th><th>nmissing</th></tr><tr><th></th><th title=\"Symbol\">Symbol</th><th title=\"Int64\">Int64</th></tr></thead><tbody><tr><th>1</th><td>iso_code</td><td>0</td></tr><tr><th>2</th><td>continent</td><td>12504</td></tr><tr><th>3</th><td>location</td><td>0</td></tr><tr><th>4</th><td>date</td><td>0</td></tr><tr><th>5</th><td>total_cases</td><td>8904</td></tr><tr><th>6</th><td>new_cases</td><td>9194</td></tr><tr><th>7</th><td>new_cases_smoothed</td><td>10386</td></tr><tr><th>8</th><td>total_deaths</td><td>27956</td></tr><tr><th>9</th><td>new_deaths</td><td>28030</td></tr><tr><th>10</th><td>new_deaths_smoothed</td><td>29210</td></tr><tr><th>11</th><td>total_cases_per_million</td><td>9858</td></tr><tr><th>12</th><td>new_cases_per_million</td><td>10148</td></tr><tr><th>13</th><td>new_cases_smoothed_per_million</td><td>11335</td></tr><tr><th>14</th><td>total_deaths_per_million</td><td>28897</td></tr><tr><th>15</th><td>new_deaths_per_million</td><td>28971</td></tr><tr><th>16</th><td>new_deaths_smoothed_per_million</td><td>30146</td></tr><tr><th>17</th><td>reproduction_rate</td><td>53859</td></tr><tr><th>18</th><td>icu_patients</td><td>189599</td></tr><tr><th>19</th><td>icu_patients_per_million</td><td>189599</td></tr><tr><th>20</th><td>hosp_patients</td><td>186885</td></tr><tr><th>21</th><td>hosp_patients_per_million</td><td>186885</td></tr><tr><th>22</th><td>weekly_icu_admissions</td><td>210142</td></tr><tr><th>23</th><td>weekly_icu_admissions_per_million</td><td>210142</td></tr><tr><th>24</th><td>weekly_hosp_admissions</td><td>203162</td></tr><tr><th>25</th><td>weekly_hosp_admissions_per_million</td><td>203162</td></tr><tr><th>26</th><td>total_tests</td><td>137891</td></tr><tr><th>27</th><td>new_tests</td><td>141875</td></tr><tr><th>28</th><td>total_tests_per_thousand</td><td>137891</td></tr><tr><th>29</th><td>new_tests_per_thousand</td><td>141875</td></tr><tr><th>30</th><td>new_tests_smoothed</td><td>113313</td></tr><tr><th>&vellip;</th><td>&vellip;</td><td>&vellip;</td></tr></tbody></table></div>"
      ],
      "text/latex": [
       "\\begin{tabular}{r|cc}\n",
       "\t& variable & nmissing\\\\\n",
       "\t\\hline\n",
       "\t& Symbol & Int64\\\\\n",
       "\t\\hline\n",
       "\t1 & iso\\_code & 0 \\\\\n",
       "\t2 & continent & 12504 \\\\\n",
       "\t3 & location & 0 \\\\\n",
       "\t4 & date & 0 \\\\\n",
       "\t5 & total\\_cases & 8904 \\\\\n",
       "\t6 & new\\_cases & 9194 \\\\\n",
       "\t7 & new\\_cases\\_smoothed & 10386 \\\\\n",
       "\t8 & total\\_deaths & 27956 \\\\\n",
       "\t9 & new\\_deaths & 28030 \\\\\n",
       "\t10 & new\\_deaths\\_smoothed & 29210 \\\\\n",
       "\t11 & total\\_cases\\_per\\_million & 9858 \\\\\n",
       "\t12 & new\\_cases\\_per\\_million & 10148 \\\\\n",
       "\t13 & new\\_cases\\_smoothed\\_per\\_million & 11335 \\\\\n",
       "\t14 & total\\_deaths\\_per\\_million & 28897 \\\\\n",
       "\t15 & new\\_deaths\\_per\\_million & 28971 \\\\\n",
       "\t16 & new\\_deaths\\_smoothed\\_per\\_million & 30146 \\\\\n",
       "\t17 & reproduction\\_rate & 53859 \\\\\n",
       "\t18 & icu\\_patients & 189599 \\\\\n",
       "\t19 & icu\\_patients\\_per\\_million & 189599 \\\\\n",
       "\t20 & hosp\\_patients & 186885 \\\\\n",
       "\t21 & hosp\\_patients\\_per\\_million & 186885 \\\\\n",
       "\t22 & weekly\\_icu\\_admissions & 210142 \\\\\n",
       "\t23 & weekly\\_icu\\_admissions\\_per\\_million & 210142 \\\\\n",
       "\t24 & weekly\\_hosp\\_admissions & 203162 \\\\\n",
       "\t25 & weekly\\_hosp\\_admissions\\_per\\_million & 203162 \\\\\n",
       "\t26 & total\\_tests & 137891 \\\\\n",
       "\t27 & new\\_tests & 141875 \\\\\n",
       "\t28 & total\\_tests\\_per\\_thousand & 137891 \\\\\n",
       "\t29 & new\\_tests\\_per\\_thousand & 141875 \\\\\n",
       "\t30 & new\\_tests\\_smoothed & 113313 \\\\\n",
       "\t$\\dots$ & $\\dots$ & $\\dots$ \\\\\n",
       "\\end{tabular}\n"
      ],
      "text/plain": [
       "\u001b[1m67×2 DataFrame\u001b[0m\n",
       "\u001b[1m Row \u001b[0m│\u001b[1m variable                          \u001b[0m\u001b[1m nmissing \u001b[0m\n",
       "\u001b[1m     \u001b[0m│\u001b[90m Symbol                            \u001b[0m\u001b[90m Int64    \u001b[0m\n",
       "─────┼─────────────────────────────────────────────\n",
       "   1 │ iso_code                                  0\n",
       "   2 │ continent                             12504\n",
       "   3 │ location                                  0\n",
       "   4 │ date                                      0\n",
       "   5 │ total_cases                            8904\n",
       "   6 │ new_cases                              9194\n",
       "   7 │ new_cases_smoothed                    10386\n",
       "   8 │ total_deaths                          27956\n",
       "   9 │ new_deaths                            28030\n",
       "  10 │ new_deaths_smoothed                   29210\n",
       "  11 │ total_cases_per_million                9858\n",
       "  ⋮  │                 ⋮                     ⋮\n",
       "  58 │ female_smokers                        82393\n",
       "  59 │ male_smokers                          84240\n",
       "  60 │ handwashing_facilities               129731\n",
       "  61 │ hospital_beds_per_thousand            58856\n",
       "  62 │ life_expectancy                       14292\n",
       "  63 │ human_development_index               43641\n",
       "  64 │ excess_mortality_cumulative_abso…    210007\n",
       "  65 │ excess_mortality_cumulative          210007\n",
       "  66 │ excess_mortality                     209962\n",
       "  67 │ excess_mortality_cumulative_per_…    210007\n",
       "\u001b[36m                                    46 rows omitted\u001b[0m"
      ]
     },
     "execution_count": 10,
     "metadata": {},
     "output_type": "execute_result"
    }
   ],
   "source": [
    "missing_values[:, [:variable, :nmissing]]"
   ]
  },
  {
   "cell_type": "markdown",
   "metadata": {},
   "source": [
    "**Vectorized Operators**\n",
    "Vectorized Operators operators are the vectorized versions of the any binary arithmetic operation. This is represented by a dot in front of the operator. These are of course meant to be used on an iterable vector or array. The vectorized versions of these operators are as follows: `.+ .- .* ./ .\\ .% .^`\n",
    "\n",
    "`transform()` function create a new data frame that contains columns from `df` plus columns specified by args and return it. The result is guaranteed to have the same number of rows as `df`.\n",
    "- `transform!` is an in-place version of transform.\n"
   ]
  },
  {
   "cell_type": "code",
   "execution_count": 30,
   "metadata": {},
   "outputs": [
    {
     "data": {
      "text/html": [
       "<div class=\"data-frame\"><p>67 rows × 3 columns</p><table class=\"data-frame\"><thead><tr><th></th><th>variable</th><th>nmissing</th><th>percentaje</th></tr><tr><th></th><th title=\"Symbol\">Symbol</th><th title=\"Int64\">Int64</th><th title=\"Float64\">Float64</th></tr></thead><tbody><tr><th>1</th><td>iso_code</td><td>0</td><td>0.0</td></tr><tr><th>2</th><td>continent</td><td>12504</td><td>0.00191018</td></tr><tr><th>3</th><td>location</td><td>0</td><td>0.0</td></tr><tr><th>4</th><td>date</td><td>0</td><td>0.0</td></tr><tr><th>5</th><td>total_cases</td><td>8904</td><td>0.00136022</td></tr><tr><th>6</th><td>new_cases</td><td>9194</td><td>0.00140453</td></tr><tr><th>7</th><td>new_cases_smoothed</td><td>10386</td><td>0.00158662</td></tr><tr><th>8</th><td>total_deaths</td><td>27956</td><td>0.00427071</td></tr><tr><th>9</th><td>new_deaths</td><td>28030</td><td>0.00428202</td></tr><tr><th>10</th><td>new_deaths_smoothed</td><td>29210</td><td>0.00446228</td></tr><tr><th>11</th><td>total_cases_per_million</td><td>9858</td><td>0.00150596</td></tr><tr><th>12</th><td>new_cases_per_million</td><td>10148</td><td>0.00155026</td></tr><tr><th>13</th><td>new_cases_smoothed_per_million</td><td>11335</td><td>0.0017316</td></tr><tr><th>14</th><td>total_deaths_per_million</td><td>28897</td><td>0.00441447</td></tr><tr><th>15</th><td>new_deaths_per_million</td><td>28971</td><td>0.00442577</td></tr><tr><th>16</th><td>new_deaths_smoothed_per_million</td><td>30146</td><td>0.00460527</td></tr><tr><th>17</th><td>reproduction_rate</td><td>53859</td><td>0.0082278</td></tr><tr><th>18</th><td>icu_patients</td><td>189599</td><td>0.0289642</td></tr><tr><th>19</th><td>icu_patients_per_million</td><td>189599</td><td>0.0289642</td></tr><tr><th>20</th><td>hosp_patients</td><td>186885</td><td>0.0285496</td></tr><tr><th>21</th><td>hosp_patients_per_million</td><td>186885</td><td>0.0285496</td></tr><tr><th>22</th><td>weekly_icu_admissions</td><td>210142</td><td>0.0321025</td></tr><tr><th>23</th><td>weekly_icu_admissions_per_million</td><td>210142</td><td>0.0321025</td></tr><tr><th>24</th><td>weekly_hosp_admissions</td><td>203162</td><td>0.0310362</td></tr><tr><th>25</th><td>weekly_hosp_admissions_per_million</td><td>203162</td><td>0.0310362</td></tr><tr><th>26</th><td>total_tests</td><td>137891</td><td>0.021065</td></tr><tr><th>27</th><td>new_tests</td><td>141875</td><td>0.0216736</td></tr><tr><th>28</th><td>total_tests_per_thousand</td><td>137891</td><td>0.021065</td></tr><tr><th>29</th><td>new_tests_per_thousand</td><td>141875</td><td>0.0216736</td></tr><tr><th>30</th><td>new_tests_smoothed</td><td>113313</td><td>0.0173103</td></tr><tr><th>&vellip;</th><td>&vellip;</td><td>&vellip;</td><td>&vellip;</td></tr></tbody></table></div>"
      ],
      "text/latex": [
       "\\begin{tabular}{r|ccc}\n",
       "\t& variable & nmissing & percentaje\\\\\n",
       "\t\\hline\n",
       "\t& Symbol & Int64 & Float64\\\\\n",
       "\t\\hline\n",
       "\t1 & iso\\_code & 0 & 0.0 \\\\\n",
       "\t2 & continent & 12504 & 0.00191018 \\\\\n",
       "\t3 & location & 0 & 0.0 \\\\\n",
       "\t4 & date & 0 & 0.0 \\\\\n",
       "\t5 & total\\_cases & 8904 & 0.00136022 \\\\\n",
       "\t6 & new\\_cases & 9194 & 0.00140453 \\\\\n",
       "\t7 & new\\_cases\\_smoothed & 10386 & 0.00158662 \\\\\n",
       "\t8 & total\\_deaths & 27956 & 0.00427071 \\\\\n",
       "\t9 & new\\_deaths & 28030 & 0.00428202 \\\\\n",
       "\t10 & new\\_deaths\\_smoothed & 29210 & 0.00446228 \\\\\n",
       "\t11 & total\\_cases\\_per\\_million & 9858 & 0.00150596 \\\\\n",
       "\t12 & new\\_cases\\_per\\_million & 10148 & 0.00155026 \\\\\n",
       "\t13 & new\\_cases\\_smoothed\\_per\\_million & 11335 & 0.0017316 \\\\\n",
       "\t14 & total\\_deaths\\_per\\_million & 28897 & 0.00441447 \\\\\n",
       "\t15 & new\\_deaths\\_per\\_million & 28971 & 0.00442577 \\\\\n",
       "\t16 & new\\_deaths\\_smoothed\\_per\\_million & 30146 & 0.00460527 \\\\\n",
       "\t17 & reproduction\\_rate & 53859 & 0.0082278 \\\\\n",
       "\t18 & icu\\_patients & 189599 & 0.0289642 \\\\\n",
       "\t19 & icu\\_patients\\_per\\_million & 189599 & 0.0289642 \\\\\n",
       "\t20 & hosp\\_patients & 186885 & 0.0285496 \\\\\n",
       "\t21 & hosp\\_patients\\_per\\_million & 186885 & 0.0285496 \\\\\n",
       "\t22 & weekly\\_icu\\_admissions & 210142 & 0.0321025 \\\\\n",
       "\t23 & weekly\\_icu\\_admissions\\_per\\_million & 210142 & 0.0321025 \\\\\n",
       "\t24 & weekly\\_hosp\\_admissions & 203162 & 0.0310362 \\\\\n",
       "\t25 & weekly\\_hosp\\_admissions\\_per\\_million & 203162 & 0.0310362 \\\\\n",
       "\t26 & total\\_tests & 137891 & 0.021065 \\\\\n",
       "\t27 & new\\_tests & 141875 & 0.0216736 \\\\\n",
       "\t28 & total\\_tests\\_per\\_thousand & 137891 & 0.021065 \\\\\n",
       "\t29 & new\\_tests\\_per\\_thousand & 141875 & 0.0216736 \\\\\n",
       "\t30 & new\\_tests\\_smoothed & 113313 & 0.0173103 \\\\\n",
       "\t$\\dots$ & $\\dots$ & $\\dots$ & $\\dots$ \\\\\n",
       "\\end{tabular}\n"
      ],
      "text/plain": [
       "\u001b[1m67×3 DataFrame\u001b[0m\n",
       "\u001b[1m Row \u001b[0m│\u001b[1m variable                          \u001b[0m\u001b[1m nmissing \u001b[0m\u001b[1m percentaje \u001b[0m\n",
       "\u001b[1m     \u001b[0m│\u001b[90m Symbol                            \u001b[0m\u001b[90m Int64    \u001b[0m\u001b[90m Float64    \u001b[0m\n",
       "─────┼─────────────────────────────────────────────────────────\n",
       "   1 │ iso_code                                  0  0.0\n",
       "   2 │ continent                             12504  0.00191018\n",
       "   3 │ location                                  0  0.0\n",
       "   4 │ date                                      0  0.0\n",
       "   5 │ total_cases                            8904  0.00136022\n",
       "   6 │ new_cases                              9194  0.00140453\n",
       "   7 │ new_cases_smoothed                    10386  0.00158662\n",
       "   8 │ total_deaths                          27956  0.00427071\n",
       "   9 │ new_deaths                            28030  0.00428202\n",
       "  10 │ new_deaths_smoothed                   29210  0.00446228\n",
       "  11 │ total_cases_per_million                9858  0.00150596\n",
       "  ⋮  │                 ⋮                     ⋮          ⋮\n",
       "  58 │ female_smokers                        82393  0.0125868\n",
       "  59 │ male_smokers                          84240  0.012869\n",
       "  60 │ handwashing_facilities               129731  0.0198184\n",
       "  61 │ hospital_beds_per_thousand            58856  0.00899117\n",
       "  62 │ life_expectancy                       14292  0.00218333\n",
       "  63 │ human_development_index               43641  0.00666684\n",
       "  64 │ excess_mortality_cumulative_abso…    210007  0.0320818\n",
       "  65 │ excess_mortality_cumulative          210007  0.0320818\n",
       "  66 │ excess_mortality                     209962  0.032075\n",
       "  67 │ excess_mortality_cumulative_per_…    210007  0.0320818\n",
       "\u001b[36m                                                46 rows omitted\u001b[0m"
      ]
     },
     "execution_count": 30,
     "metadata": {},
     "output_type": "execute_result"
    }
   ],
   "source": [
    "transform(missing_values, :nmissing => (v -> v / total_missing) => :percentaje)"
   ]
  },
  {
   "cell_type": "markdown",
   "metadata": {},
   "source": [
    "- `Dict` function creates a dictionary, a collection of key-value pairs, where each value in the dictionary can be accessed with its key. \n",
    "    - These key-value pairs need not be of the same data type, which means a `String` typed key can hold a value of any type like `Integer`, `String`, `float`, etc. \n",
    "    - Keys of a dictionary can never be same, each key must be unique. This doesn’t apply to the values, values can be same, as per need. \n",
    "    - Dictionaries by default are an unordered collection of data.\n",
    "\n",
    "- `eltype`: Determine the type of the elements generated by iterating a collection of the given type. \n",
    "\n",
    "- `eachcol`: Return a DataFrameColumns object that is a vector-like that allows iterating an AbstractDataFrame column by column.\n",
    "\n"
   ]
  },
  {
   "cell_type": "code",
   "execution_count": 12,
   "metadata": {},
   "outputs": [
    {
     "data": {
      "text/plain": [
       "Dict{String, Type} with 67 entries:\n",
       "  \"aged_65_older\"                           => Union{Missing, Float64}\n",
       "  \"people_vaccinated_per_hundred\"           => Union{Missing, Float64}\n",
       "  \"new_deaths_smoothed_per_million\"         => Union{Missing, Float64}\n",
       "  \"hosp_patients_per_million\"               => Union{Missing, Float64}\n",
       "  \"life_expectancy\"                         => Union{Missing, Float64}\n",
       "  \"hospital_beds_per_thousand\"              => Union{Missing, Float64}\n",
       "  \"tests_per_case\"                          => Union{Missing, Float64}\n",
       "  \"new_cases_per_million\"                   => Union{Missing, Float64}\n",
       "  \"iso_code\"                                => String15\n",
       "  \"new_deaths\"                              => Union{Missing, Float64}\n",
       "  \"total_tests_per_thousand\"                => Union{Missing, Float64}\n",
       "  \"weekly_icu_admissions_per_million\"       => Union{Missing, Float64}\n",
       "  \"female_smokers\"                          => Union{Missing, Float64}\n",
       "  \"new_tests_smoothed\"                      => Union{Missing, Float64}\n",
       "  \"male_smokers\"                            => Union{Missing, Float64}\n",
       "  \"aged_70_older\"                           => Union{Missing, Float64}\n",
       "  \"icu_patients\"                            => Union{Missing, Float64}\n",
       "  \"continent\"                               => Union{Missing, String15}\n",
       "  \"icu_patients_per_million\"                => Union{Missing, Float64}\n",
       "  \"median_age\"                              => Union{Missing, Float64}\n",
       "  \"new_deaths_smoothed\"                     => Union{Missing, Float64}\n",
       "  \"new_people_vaccinated_smoothed\"          => Union{Missing, Float64}\n",
       "  \"total_cases_per_million\"                 => Union{Missing, Float64}\n",
       "  \"excess_mortality_cumulative_per_million\" => Union{Missing, Float64}\n",
       "  \"total_deaths\"                            => Union{Missing, Float64}\n",
       "  ⋮                                         => ⋮"
      ]
     },
     "execution_count": 12,
     "metadata": {},
     "output_type": "execute_result"
    }
   ],
   "source": [
    "Dict(names(df) .=> eltype.(eachcol(df)))"
   ]
  },
  {
   "cell_type": "markdown",
   "metadata": {},
   "source": [
    "For practicity, we are going to work with a subset of the entire dataset, this subset contains all variables that are related to **Confirmed cases** and **Confirmed deaths** in America.\n",
    "- Recall the `!` notation: This is similar to the `in_place` argument in some of the methods in Python Pandas library, modifying the dataframe inplace."
   ]
  },
  {
   "cell_type": "code",
   "execution_count": 13,
   "metadata": {},
   "outputs": [
    {
     "data": {
      "text/html": [
       "<div class=\"data-frame\"><p>42,753 rows × 15 columns (omitted printing of 8 columns)</p><table class=\"data-frame\"><thead><tr><th></th><th>iso_code</th><th>continent</th><th>location</th><th>date</th><th>total_cases</th><th>new_cases</th><th>total_cases_per_million</th></tr><tr><th></th><th title=\"String15\">String15</th><th title=\"String15\">String15</th><th title=\"String\">String</th><th title=\"Dates.Date\">Date</th><th title=\"Float64\">Float64</th><th title=\"Float64\">Float64</th><th title=\"Float64\">Float64</th></tr></thead><tbody><tr><th>1</th><td>AFG</td><td>Asia</td><td>Afghanistan</td><td>2021-05-11</td><td>62403.0</td><td>340.0</td><td>1556.2</td></tr><tr><th>2</th><td>AFG</td><td>Asia</td><td>Afghanistan</td><td>2021-05-20</td><td>64575.0</td><td>453.0</td><td>1610.37</td></tr><tr><th>3</th><td>AFG</td><td>Asia</td><td>Afghanistan</td><td>2021-05-24</td><td>66275.0</td><td>547.0</td><td>1652.77</td></tr><tr><th>4</th><td>AFG</td><td>Asia</td><td>Afghanistan</td><td>2021-05-26</td><td>67743.0</td><td>840.0</td><td>1689.37</td></tr><tr><th>5</th><td>AFG</td><td>Asia</td><td>Afghanistan</td><td>2021-05-27</td><td>68366.0</td><td>623.0</td><td>1704.91</td></tr><tr><th>6</th><td>AFG</td><td>Asia</td><td>Afghanistan</td><td>2021-05-30</td><td>70761.0</td><td>650.0</td><td>1764.64</td></tr><tr><th>7</th><td>AFG</td><td>Asia</td><td>Afghanistan</td><td>2021-06-02</td><td>74026.0</td><td>1049.0</td><td>1846.06</td></tr><tr><th>8</th><td>AFG</td><td>Asia</td><td>Afghanistan</td><td>2021-06-03</td><td>75119.0</td><td>1093.0</td><td>1873.32</td></tr><tr><th>9</th><td>AFG</td><td>Asia</td><td>Afghanistan</td><td>2021-06-08</td><td>82326.0</td><td>1485.0</td><td>2053.05</td></tr><tr><th>10</th><td>AFG</td><td>Asia</td><td>Afghanistan</td><td>2021-06-14</td><td>91458.0</td><td>1597.0</td><td>2280.78</td></tr><tr><th>11</th><td>AFG</td><td>Asia</td><td>Afghanistan</td><td>2021-06-22</td><td>105749.0</td><td>1847.0</td><td>2637.17</td></tr><tr><th>12</th><td>AFG</td><td>Asia</td><td>Afghanistan</td><td>2021-06-27</td><td>114220.0</td><td>1096.0</td><td>2848.42</td></tr><tr><th>13</th><td>AFG</td><td>Asia</td><td>Afghanistan</td><td>2021-06-30</td><td>118659.0</td><td>1501.0</td><td>2959.12</td></tr><tr><th>14</th><td>AFG</td><td>Asia</td><td>Afghanistan</td><td>2021-07-05</td><td>125937.0</td><td>1189.0</td><td>3140.62</td></tr><tr><th>15</th><td>AFG</td><td>Asia</td><td>Afghanistan</td><td>2021-07-07</td><td>129021.0</td><td>1557.0</td><td>3217.52</td></tr><tr><th>16</th><td>AFG</td><td>Asia</td><td>Afghanistan</td><td>2021-07-11</td><td>133578.0</td><td>801.0</td><td>3331.17</td></tr><tr><th>17</th><td>AFG</td><td>Asia</td><td>Afghanistan</td><td>2021-08-20</td><td>152448.0</td><td>37.0</td><td>3801.75</td></tr><tr><th>18</th><td>AFG</td><td>Asia</td><td>Afghanistan</td><td>2021-11-14</td><td>156552.0</td><td>42.0</td><td>3904.09</td></tr><tr><th>19</th><td>AFG</td><td>Asia</td><td>Afghanistan</td><td>2021-12-27</td><td>157967.0</td><td>16.0</td><td>3939.38</td></tr><tr><th>20</th><td>AFG</td><td>Asia</td><td>Afghanistan</td><td>2022-01-09</td><td>158381.0</td><td>72.0</td><td>3949.7</td></tr><tr><th>21</th><td>AFG</td><td>Asia</td><td>Afghanistan</td><td>2022-01-11</td><td>158471.0</td><td>77.0</td><td>3951.95</td></tr><tr><th>22</th><td>AFG</td><td>Asia</td><td>Afghanistan</td><td>2022-01-13</td><td>158602.0</td><td>91.0</td><td>3955.22</td></tr><tr><th>23</th><td>AFG</td><td>Asia</td><td>Afghanistan</td><td>2022-01-17</td><td>158826.0</td><td>109.0</td><td>3960.8</td></tr><tr><th>24</th><td>AFG</td><td>Asia</td><td>Afghanistan</td><td>2022-01-19</td><td>159070.0</td><td>96.0</td><td>3966.89</td></tr><tr><th>25</th><td>AFG</td><td>Asia</td><td>Afghanistan</td><td>2022-01-24</td><td>159896.0</td><td>247.0</td><td>3987.49</td></tr><tr><th>26</th><td>AFG</td><td>Asia</td><td>Afghanistan</td><td>2022-01-26</td><td>160692.0</td><td>440.0</td><td>4007.34</td></tr><tr><th>27</th><td>AFG</td><td>Asia</td><td>Afghanistan</td><td>2022-01-27</td><td>161004.0</td><td>312.0</td><td>4015.12</td></tr><tr><th>28</th><td>AFG</td><td>Asia</td><td>Afghanistan</td><td>2022-01-31</td><td>162926.0</td><td>815.0</td><td>4063.05</td></tr><tr><th>29</th><td>AFG</td><td>Asia</td><td>Afghanistan</td><td>2022-02-02</td><td>164190.0</td><td>635.0</td><td>4094.57</td></tr><tr><th>30</th><td>AFG</td><td>Asia</td><td>Afghanistan</td><td>2022-02-07</td><td>166924.0</td><td>733.0</td><td>4162.75</td></tr><tr><th>&vellip;</th><td>&vellip;</td><td>&vellip;</td><td>&vellip;</td><td>&vellip;</td><td>&vellip;</td><td>&vellip;</td><td>&vellip;</td></tr></tbody></table></div>"
      ],
      "text/latex": [
       "\\begin{tabular}{r|cccccccc}\n",
       "\t& iso\\_code & continent & location & date & total\\_cases & new\\_cases & total\\_cases\\_per\\_million & \\\\\n",
       "\t\\hline\n",
       "\t& String15 & String15 & String & Date & Float64 & Float64 & Float64 & \\\\\n",
       "\t\\hline\n",
       "\t1 & AFG & Asia & Afghanistan & 2021-05-11 & 62403.0 & 340.0 & 1556.2 & $\\dots$ \\\\\n",
       "\t2 & AFG & Asia & Afghanistan & 2021-05-20 & 64575.0 & 453.0 & 1610.37 & $\\dots$ \\\\\n",
       "\t3 & AFG & Asia & Afghanistan & 2021-05-24 & 66275.0 & 547.0 & 1652.77 & $\\dots$ \\\\\n",
       "\t4 & AFG & Asia & Afghanistan & 2021-05-26 & 67743.0 & 840.0 & 1689.37 & $\\dots$ \\\\\n",
       "\t5 & AFG & Asia & Afghanistan & 2021-05-27 & 68366.0 & 623.0 & 1704.91 & $\\dots$ \\\\\n",
       "\t6 & AFG & Asia & Afghanistan & 2021-05-30 & 70761.0 & 650.0 & 1764.64 & $\\dots$ \\\\\n",
       "\t7 & AFG & Asia & Afghanistan & 2021-06-02 & 74026.0 & 1049.0 & 1846.06 & $\\dots$ \\\\\n",
       "\t8 & AFG & Asia & Afghanistan & 2021-06-03 & 75119.0 & 1093.0 & 1873.32 & $\\dots$ \\\\\n",
       "\t9 & AFG & Asia & Afghanistan & 2021-06-08 & 82326.0 & 1485.0 & 2053.05 & $\\dots$ \\\\\n",
       "\t10 & AFG & Asia & Afghanistan & 2021-06-14 & 91458.0 & 1597.0 & 2280.78 & $\\dots$ \\\\\n",
       "\t11 & AFG & Asia & Afghanistan & 2021-06-22 & 105749.0 & 1847.0 & 2637.17 & $\\dots$ \\\\\n",
       "\t12 & AFG & Asia & Afghanistan & 2021-06-27 & 114220.0 & 1096.0 & 2848.42 & $\\dots$ \\\\\n",
       "\t13 & AFG & Asia & Afghanistan & 2021-06-30 & 118659.0 & 1501.0 & 2959.12 & $\\dots$ \\\\\n",
       "\t14 & AFG & Asia & Afghanistan & 2021-07-05 & 125937.0 & 1189.0 & 3140.62 & $\\dots$ \\\\\n",
       "\t15 & AFG & Asia & Afghanistan & 2021-07-07 & 129021.0 & 1557.0 & 3217.52 & $\\dots$ \\\\\n",
       "\t16 & AFG & Asia & Afghanistan & 2021-07-11 & 133578.0 & 801.0 & 3331.17 & $\\dots$ \\\\\n",
       "\t17 & AFG & Asia & Afghanistan & 2021-08-20 & 152448.0 & 37.0 & 3801.75 & $\\dots$ \\\\\n",
       "\t18 & AFG & Asia & Afghanistan & 2021-11-14 & 156552.0 & 42.0 & 3904.09 & $\\dots$ \\\\\n",
       "\t19 & AFG & Asia & Afghanistan & 2021-12-27 & 157967.0 & 16.0 & 3939.38 & $\\dots$ \\\\\n",
       "\t20 & AFG & Asia & Afghanistan & 2022-01-09 & 158381.0 & 72.0 & 3949.7 & $\\dots$ \\\\\n",
       "\t21 & AFG & Asia & Afghanistan & 2022-01-11 & 158471.0 & 77.0 & 3951.95 & $\\dots$ \\\\\n",
       "\t22 & AFG & Asia & Afghanistan & 2022-01-13 & 158602.0 & 91.0 & 3955.22 & $\\dots$ \\\\\n",
       "\t23 & AFG & Asia & Afghanistan & 2022-01-17 & 158826.0 & 109.0 & 3960.8 & $\\dots$ \\\\\n",
       "\t24 & AFG & Asia & Afghanistan & 2022-01-19 & 159070.0 & 96.0 & 3966.89 & $\\dots$ \\\\\n",
       "\t25 & AFG & Asia & Afghanistan & 2022-01-24 & 159896.0 & 247.0 & 3987.49 & $\\dots$ \\\\\n",
       "\t26 & AFG & Asia & Afghanistan & 2022-01-26 & 160692.0 & 440.0 & 4007.34 & $\\dots$ \\\\\n",
       "\t27 & AFG & Asia & Afghanistan & 2022-01-27 & 161004.0 & 312.0 & 4015.12 & $\\dots$ \\\\\n",
       "\t28 & AFG & Asia & Afghanistan & 2022-01-31 & 162926.0 & 815.0 & 4063.05 & $\\dots$ \\\\\n",
       "\t29 & AFG & Asia & Afghanistan & 2022-02-02 & 164190.0 & 635.0 & 4094.57 & $\\dots$ \\\\\n",
       "\t30 & AFG & Asia & Afghanistan & 2022-02-07 & 166924.0 & 733.0 & 4162.75 & $\\dots$ \\\\\n",
       "\t$\\dots$ & $\\dots$ & $\\dots$ & $\\dots$ & $\\dots$ & $\\dots$ & $\\dots$ & $\\dots$ &  \\\\\n",
       "\\end{tabular}\n"
      ],
      "text/plain": [
       "\u001b[1m42753×15 DataFrame\u001b[0m\n",
       "\u001b[1m   Row \u001b[0m│\u001b[1m iso_code \u001b[0m\u001b[1m continent \u001b[0m\u001b[1m location    \u001b[0m\u001b[1m date       \u001b[0m\u001b[1m total_cases \u001b[0m\u001b[1m new_cases \u001b[0m\u001b[1m\u001b[0m ⋯\n",
       "\u001b[1m       \u001b[0m│\u001b[90m String15 \u001b[0m\u001b[90m String15  \u001b[0m\u001b[90m String      \u001b[0m\u001b[90m Date       \u001b[0m\u001b[90m Float64     \u001b[0m\u001b[90m Float64   \u001b[0m\u001b[90m\u001b[0m ⋯\n",
       "───────┼────────────────────────────────────────────────────────────────────────\n",
       "     1 │ AFG       Asia       Afghanistan  2021-05-11      62403.0      340.0  ⋯\n",
       "     2 │ AFG       Asia       Afghanistan  2021-05-20      64575.0      453.0\n",
       "     3 │ AFG       Asia       Afghanistan  2021-05-24      66275.0      547.0\n",
       "     4 │ AFG       Asia       Afghanistan  2021-05-26      67743.0      840.0\n",
       "     5 │ AFG       Asia       Afghanistan  2021-05-27      68366.0      623.0  ⋯\n",
       "     6 │ AFG       Asia       Afghanistan  2021-05-30      70761.0      650.0\n",
       "     7 │ AFG       Asia       Afghanistan  2021-06-02      74026.0     1049.0\n",
       "     8 │ AFG       Asia       Afghanistan  2021-06-03      75119.0     1093.0\n",
       "     9 │ AFG       Asia       Afghanistan  2021-06-08      82326.0     1485.0  ⋯\n",
       "    10 │ AFG       Asia       Afghanistan  2021-06-14      91458.0     1597.0\n",
       "    11 │ AFG       Asia       Afghanistan  2021-06-22     105749.0     1847.0\n",
       "   ⋮   │    ⋮          ⋮           ⋮           ⋮            ⋮           ⋮      ⋱\n",
       " 42744 │ ZWE       Africa     Zimbabwe     2022-08-16     256561.0       17.0\n",
       " 42745 │ ZWE       Africa     Zimbabwe     2022-08-17     256565.0        4.0  ⋯\n",
       " 42746 │ ZWE       Africa     Zimbabwe     2022-08-18     256579.0       14.0\n",
       " 42747 │ ZWE       Africa     Zimbabwe     2022-08-19     256596.0       17.0\n",
       " 42748 │ ZWE       Africa     Zimbabwe     2022-08-20     256616.0       20.0\n",
       " 42749 │ ZWE       Africa     Zimbabwe     2022-08-21     256624.0        8.0  ⋯\n",
       " 42750 │ ZWE       Africa     Zimbabwe     2022-08-24     256628.0        0.0\n",
       " 42751 │ ZWE       Africa     Zimbabwe     2022-08-25     256675.0       47.0\n",
       " 42752 │ ZWE       Africa     Zimbabwe     2022-08-27     256682.0        0.0\n",
       " 42753 │ ZWE       Africa     Zimbabwe     2022-09-08     256834.0        9.0  ⋯\n",
       "\u001b[36m                                                9 columns and 42732 rows omitted\u001b[0m"
      ]
     },
     "execution_count": 13,
     "metadata": {},
     "output_type": "execute_result"
    }
   ],
   "source": [
    "columns = [:iso_code, :continent, :location, :date, :total_cases, :new_cases, :total_cases_per_million, :gdp_per_capita, :new_cases_per_million, :total_deaths, :new_deaths, \n",
    " :total_deaths_per_million, :new_deaths_per_million, :people_vaccinated, :people_fully_vaccinated]\n",
    "cases_df = df[:, columns]\n",
    "\n",
    "dropmissing!(cases_df)\n",
    "cases_df"
   ]
  },
  {
   "cell_type": "markdown",
   "metadata": {},
   "source": [
    "`describe()` function generates descriptive statistics."
   ]
  },
  {
   "cell_type": "code",
   "execution_count": 14,
   "metadata": {},
   "outputs": [
    {
     "data": {
      "text/html": [
       "<div class=\"data-frame\"><p>15 rows × 7 columns (omitted printing of 1 columns)</p><table class=\"data-frame\"><thead><tr><th></th><th>variable</th><th>mean</th><th>min</th><th>median</th><th>max</th><th>nmissing</th></tr><tr><th></th><th title=\"Symbol\">Symbol</th><th title=\"Union{Nothing, Float64}\">Union…</th><th title=\"Any\">Any</th><th title=\"Any\">Any</th><th title=\"Any\">Any</th><th title=\"Int64\">Int64</th></tr></thead><tbody><tr><th>1</th><td>iso_code</td><td></td><td>ABW</td><td></td><td>ZWE</td><td>0</td></tr><tr><th>2</th><td>continent</td><td></td><td>Africa</td><td></td><td>South America</td><td>0</td></tr><tr><th>3</th><td>location</td><td></td><td>Afghanistan</td><td></td><td>Zimbabwe</td><td>0</td></tr><tr><th>4</th><td>date</td><td></td><td>2020-12-13</td><td>2021-10-29</td><td>2022-09-17</td><td>0</td></tr><tr><th>5</th><td>total_cases</td><td>3.57576e6</td><td>4.0</td><td>663813.0</td><td>9.53532e7</td><td>0</td></tr><tr><th>6</th><td>new_cases</td><td>10199.5</td><td>0.0</td><td>891.0</td><td>1.35536e6</td><td>0</td></tr><tr><th>7</th><td>total_cases_per_million</td><td>1.04667e5</td><td>12.534</td><td>67482.4</td><td>6.40758e5</td><td>0</td></tr><tr><th>8</th><td>gdp_per_capita</td><td>26573.5</td><td>661.24</td><td>24055.6</td><td>1.16936e5</td><td>0</td></tr><tr><th>9</th><td>new_cases_per_million</td><td>351.145</td><td>0.0</td><td>89.812</td><td>35195.4</td><td>0</td></tr><tr><th>10</th><td>total_deaths</td><td>53682.6</td><td>1.0</td><td>8580.0</td><td>1.05138e6</td><td>0</td></tr><tr><th>11</th><td>new_deaths</td><td>85.7686</td><td>0.0</td><td>8.0</td><td>4529.0</td><td>0</td></tr><tr><th>12</th><td>total_deaths_per_million</td><td>1246.29</td><td>0.06</td><td>1009.72</td><td>6411.03</td><td>0</td></tr><tr><th>13</th><td>new_deaths_per_million</td><td>2.31032</td><td>0.0</td><td>0.666</td><td>553.803</td><td>0</td></tr><tr><th>14</th><td>people_vaccinated</td><td>2.72703e7</td><td>1.0</td><td>4.31324e6</td><td>1.30277e9</td><td>0</td></tr><tr><th>15</th><td>people_fully_vaccinated</td><td>2.18196e7</td><td>1.0</td><td>3.26224e6</td><td>1.27066e9</td><td>0</td></tr></tbody></table></div>"
      ],
      "text/latex": [
       "\\begin{tabular}{r|ccccccc}\n",
       "\t& variable & mean & min & median & max & nmissing & \\\\\n",
       "\t\\hline\n",
       "\t& Symbol & Union… & Any & Any & Any & Int64 & \\\\\n",
       "\t\\hline\n",
       "\t1 & iso\\_code &  & ABW &  & ZWE & 0 & $\\dots$ \\\\\n",
       "\t2 & continent &  & Africa &  & South America & 0 & $\\dots$ \\\\\n",
       "\t3 & location &  & Afghanistan &  & Zimbabwe & 0 & $\\dots$ \\\\\n",
       "\t4 & date &  & 2020-12-13 & 2021-10-29 & 2022-09-17 & 0 & $\\dots$ \\\\\n",
       "\t5 & total\\_cases & 3.57576e6 & 4.0 & 663813.0 & 9.53532e7 & 0 & $\\dots$ \\\\\n",
       "\t6 & new\\_cases & 10199.5 & 0.0 & 891.0 & 1.35536e6 & 0 & $\\dots$ \\\\\n",
       "\t7 & total\\_cases\\_per\\_million & 1.04667e5 & 12.534 & 67482.4 & 6.40758e5 & 0 & $\\dots$ \\\\\n",
       "\t8 & gdp\\_per\\_capita & 26573.5 & 661.24 & 24055.6 & 1.16936e5 & 0 & $\\dots$ \\\\\n",
       "\t9 & new\\_cases\\_per\\_million & 351.145 & 0.0 & 89.812 & 35195.4 & 0 & $\\dots$ \\\\\n",
       "\t10 & total\\_deaths & 53682.6 & 1.0 & 8580.0 & 1.05138e6 & 0 & $\\dots$ \\\\\n",
       "\t11 & new\\_deaths & 85.7686 & 0.0 & 8.0 & 4529.0 & 0 & $\\dots$ \\\\\n",
       "\t12 & total\\_deaths\\_per\\_million & 1246.29 & 0.06 & 1009.72 & 6411.03 & 0 & $\\dots$ \\\\\n",
       "\t13 & new\\_deaths\\_per\\_million & 2.31032 & 0.0 & 0.666 & 553.803 & 0 & $\\dots$ \\\\\n",
       "\t14 & people\\_vaccinated & 2.72703e7 & 1.0 & 4.31324e6 & 1.30277e9 & 0 & $\\dots$ \\\\\n",
       "\t15 & people\\_fully\\_vaccinated & 2.18196e7 & 1.0 & 3.26224e6 & 1.27066e9 & 0 & $\\dots$ \\\\\n",
       "\\end{tabular}\n"
      ],
      "text/plain": [
       "\u001b[1m15×7 DataFrame\u001b[0m\n",
       "\u001b[1m Row \u001b[0m│\u001b[1m variable                 \u001b[0m\u001b[1m mean      \u001b[0m\u001b[1m min         \u001b[0m\u001b[1m median     \u001b[0m\u001b[1m max      \u001b[0m ⋯\n",
       "\u001b[1m     \u001b[0m│\u001b[90m Symbol                   \u001b[0m\u001b[90m Union…    \u001b[0m\u001b[90m Any         \u001b[0m\u001b[90m Any        \u001b[0m\u001b[90m Any      \u001b[0m ⋯\n",
       "─────┼──────────────────────────────────────────────────────────────────────────\n",
       "   1 │ iso_code                 \u001b[90m           \u001b[0m ABW         \u001b[90m            \u001b[0m ZWE       ⋯\n",
       "   2 │ continent                \u001b[90m           \u001b[0m Africa      \u001b[90m            \u001b[0m South Ame\n",
       "   3 │ location                 \u001b[90m           \u001b[0m Afghanistan \u001b[90m            \u001b[0m Zimbabwe\n",
       "   4 │ date                     \u001b[90m           \u001b[0m 2020-12-13   2021-10-29  2022-09-1\n",
       "   5 │ total_cases               3.57576e6  4.0          663813.0    9.53532e7 ⋯\n",
       "   6 │ new_cases                 10199.5    0.0          891.0       1.35536e6\n",
       "   7 │ total_cases_per_million   1.04667e5  12.534       67482.4     6.40758e5\n",
       "   8 │ gdp_per_capita            26573.5    661.24       24055.6     1.16936e5\n",
       "   9 │ new_cases_per_million     351.145    0.0          89.812      35195.4   ⋯\n",
       "  10 │ total_deaths              53682.6    1.0          8580.0      1.05138e6\n",
       "  11 │ new_deaths                85.7686    0.0          8.0         4529.0\n",
       "  12 │ total_deaths_per_million  1246.29    0.06         1009.72     6411.03\n",
       "  13 │ new_deaths_per_million    2.31032    0.0          0.666       553.803   ⋯\n",
       "  14 │ people_vaccinated         2.72703e7  1.0          4.31324e6   1.30277e9\n",
       "  15 │ people_fully_vaccinated   2.18196e7  1.0          3.26224e6   1.27066e9\n",
       "\u001b[36m                                                               3 columns omitted\u001b[0m"
      ]
     },
     "execution_count": 14,
     "metadata": {},
     "output_type": "execute_result"
    }
   ],
   "source": [
    "describe(cases_df)"
   ]
  },
  {
   "cell_type": "code",
   "execution_count": 15,
   "metadata": {},
   "outputs": [],
   "source": [
    "using Statistics"
   ]
  },
  {
   "cell_type": "markdown",
   "metadata": {},
   "source": [
    "`combine` function let us apply transformations to a grouped dataframe.\n",
    "- The pair operator `=>`: Construct a Pair object with type `Pair{typeof(x), typeof(y)}`. The elements are stored in the fields first and second. They can also be accessed via iteration. \n",
    "    - In this case  `=>` operator maps the column and the function we want to apply\n",
    "    -   `.=>` is it's vectorized form"
   ]
  },
  {
   "cell_type": "code",
   "execution_count": 35,
   "metadata": {},
   "outputs": [
    {
     "data": {
      "text/html": [
       "<div class=\"data-frame\"><p>187 rows × 12 columns (omitted printing of 8 columns)</p><table class=\"data-frame\"><thead><tr><th></th><th>location</th><th>total_cases_mean</th><th>new_cases_mean</th><th>total_cases_per_million_mean</th></tr><tr><th></th><th title=\"String\">String</th><th title=\"Float64\">Float64</th><th title=\"Float64\">Float64</th><th title=\"Float64\">Float64</th></tr></thead><tbody><tr><th>1</th><td>Afghanistan</td><td>1.52939e5</td><td>415.541</td><td>3814.0</td></tr><tr><th>2</th><td>Albania</td><td>1.76725e5</td><td>359.276</td><td>61906.4</td></tr><tr><th>3</th><td>Algeria</td><td>2.22632e5</td><td>179.391</td><td>5039.44</td></tr><tr><th>4</th><td>Angola</td><td>69851.6</td><td>180.846</td><td>2024.46</td></tr><tr><th>5</th><td>Antigua and Barbuda</td><td>2889.68</td><td>24.475</td><td>30998.4</td></tr><tr><th>6</th><td>Argentina</td><td>5.97984e6</td><td>13034.2</td><td>1.32073e5</td></tr><tr><th>7</th><td>Armenia</td><td>3.14121e5</td><td>562.282</td><td>1.12549e5</td></tr><tr><th>8</th><td>Aruba</td><td>24079.2</td><td>65.1867</td><td>2.26019e5</td></tr><tr><th>9</th><td>Australia</td><td>2.56336e6</td><td>18107.7</td><td>98890.8</td></tr><tr><th>10</th><td>Austria</td><td>7.47331e5</td><td>3754.08</td><td>83761.9</td></tr><tr><th>11</th><td>Azerbaijan</td><td>5.46772e5</td><td>1169.13</td><td>53017.8</td></tr><tr><th>12</th><td>Bahamas</td><td>23647.0</td><td>55.4</td><td>57971.6</td></tr><tr><th>13</th><td>Bahrain</td><td>3.49784e5</td><td>888.893</td><td>2.39043e5</td></tr><tr><th>14</th><td>Bangladesh</td><td>1.48775e6</td><td>2818.84</td><td>8784.75</td></tr><tr><th>15</th><td>Barbados</td><td>39489.3</td><td>188.356</td><td>1.40431e5</td></tr><tr><th>16</th><td>Belarus</td><td>6.53793e5</td><td>1570.71</td><td>68258.7</td></tr><tr><th>17</th><td>Belgium</td><td>2.25115e6</td><td>6202.84</td><td>1.93874e5</td></tr><tr><th>18</th><td>Belize</td><td>30480.7</td><td>122.462</td><td>76195.8</td></tr><tr><th>19</th><td>Benin</td><td>22048.9</td><td>1.21429</td><td>1696.47</td></tr><tr><th>20</th><td>Bermuda</td><td>5591.71</td><td>31.8036</td><td>87118.7</td></tr><tr><th>21</th><td>Bhutan</td><td>19041.9</td><td>109.0</td><td>24491.6</td></tr><tr><th>22</th><td>Bolivia</td><td>6.37973e5</td><td>1563.63</td><td>52814.6</td></tr><tr><th>23</th><td>Bosnia and Herzegovina</td><td>2.2404e5</td><td>397.5</td><td>68493.9</td></tr><tr><th>24</th><td>Botswana</td><td>1.66602e5</td><td>869.167</td><td>64364.2</td></tr><tr><th>25</th><td>Brazil</td><td>2.2625e7</td><td>44004.6</td><td>1.05563e5</td></tr><tr><th>26</th><td>Brunei</td><td>18729.4</td><td>129.423</td><td>42053.3</td></tr><tr><th>27</th><td>Bulgaria</td><td>3.52766e5</td><td>1125.22</td><td>51230.5</td></tr><tr><th>28</th><td>Burkina Faso</td><td>18671.8</td><td>46.2</td><td>844.85</td></tr><tr><th>29</th><td>Burundi</td><td>32597.3</td><td>49.1562</td><td>2597.14</td></tr><tr><th>30</th><td>Cambodia</td><td>87321.5</td><td>324.066</td><td>5263.81</td></tr><tr><th>&vellip;</th><td>&vellip;</td><td>&vellip;</td><td>&vellip;</td><td>&vellip;</td></tr></tbody></table></div>"
      ],
      "text/latex": [
       "\\begin{tabular}{r|ccccc}\n",
       "\t& location & total\\_cases\\_mean & new\\_cases\\_mean & total\\_cases\\_per\\_million\\_mean & \\\\\n",
       "\t\\hline\n",
       "\t& String & Float64 & Float64 & Float64 & \\\\\n",
       "\t\\hline\n",
       "\t1 & Afghanistan & 1.52939e5 & 415.541 & 3814.0 & $\\dots$ \\\\\n",
       "\t2 & Albania & 1.76725e5 & 359.276 & 61906.4 & $\\dots$ \\\\\n",
       "\t3 & Algeria & 2.22632e5 & 179.391 & 5039.44 & $\\dots$ \\\\\n",
       "\t4 & Angola & 69851.6 & 180.846 & 2024.46 & $\\dots$ \\\\\n",
       "\t5 & Antigua and Barbuda & 2889.68 & 24.475 & 30998.4 & $\\dots$ \\\\\n",
       "\t6 & Argentina & 5.97984e6 & 13034.2 & 1.32073e5 & $\\dots$ \\\\\n",
       "\t7 & Armenia & 3.14121e5 & 562.282 & 1.12549e5 & $\\dots$ \\\\\n",
       "\t8 & Aruba & 24079.2 & 65.1867 & 2.26019e5 & $\\dots$ \\\\\n",
       "\t9 & Australia & 2.56336e6 & 18107.7 & 98890.8 & $\\dots$ \\\\\n",
       "\t10 & Austria & 7.47331e5 & 3754.08 & 83761.9 & $\\dots$ \\\\\n",
       "\t11 & Azerbaijan & 5.46772e5 & 1169.13 & 53017.8 & $\\dots$ \\\\\n",
       "\t12 & Bahamas & 23647.0 & 55.4 & 57971.6 & $\\dots$ \\\\\n",
       "\t13 & Bahrain & 3.49784e5 & 888.893 & 2.39043e5 & $\\dots$ \\\\\n",
       "\t14 & Bangladesh & 1.48775e6 & 2818.84 & 8784.75 & $\\dots$ \\\\\n",
       "\t15 & Barbados & 39489.3 & 188.356 & 1.40431e5 & $\\dots$ \\\\\n",
       "\t16 & Belarus & 6.53793e5 & 1570.71 & 68258.7 & $\\dots$ \\\\\n",
       "\t17 & Belgium & 2.25115e6 & 6202.84 & 1.93874e5 & $\\dots$ \\\\\n",
       "\t18 & Belize & 30480.7 & 122.462 & 76195.8 & $\\dots$ \\\\\n",
       "\t19 & Benin & 22048.9 & 1.21429 & 1696.47 & $\\dots$ \\\\\n",
       "\t20 & Bermuda & 5591.71 & 31.8036 & 87118.7 & $\\dots$ \\\\\n",
       "\t21 & Bhutan & 19041.9 & 109.0 & 24491.6 & $\\dots$ \\\\\n",
       "\t22 & Bolivia & 6.37973e5 & 1563.63 & 52814.6 & $\\dots$ \\\\\n",
       "\t23 & Bosnia and Herzegovina & 2.2404e5 & 397.5 & 68493.9 & $\\dots$ \\\\\n",
       "\t24 & Botswana & 1.66602e5 & 869.167 & 64364.2 & $\\dots$ \\\\\n",
       "\t25 & Brazil & 2.2625e7 & 44004.6 & 1.05563e5 & $\\dots$ \\\\\n",
       "\t26 & Brunei & 18729.4 & 129.423 & 42053.3 & $\\dots$ \\\\\n",
       "\t27 & Bulgaria & 3.52766e5 & 1125.22 & 51230.5 & $\\dots$ \\\\\n",
       "\t28 & Burkina Faso & 18671.8 & 46.2 & 844.85 & $\\dots$ \\\\\n",
       "\t29 & Burundi & 32597.3 & 49.1562 & 2597.14 & $\\dots$ \\\\\n",
       "\t30 & Cambodia & 87321.5 & 324.066 & 5263.81 & $\\dots$ \\\\\n",
       "\t$\\dots$ & $\\dots$ & $\\dots$ & $\\dots$ & $\\dots$ &  \\\\\n",
       "\\end{tabular}\n"
      ],
      "text/plain": [
       "\u001b[1m187×12 DataFrame\u001b[0m\n",
       "\u001b[1m Row \u001b[0m│\u001b[1m location             \u001b[0m\u001b[1m total_cases_mean \u001b[0m\u001b[1m new_cases_mean \u001b[0m\u001b[1m total_cases_per\u001b[0m ⋯\n",
       "\u001b[1m     \u001b[0m│\u001b[90m String               \u001b[0m\u001b[90m Float64          \u001b[0m\u001b[90m Float64        \u001b[0m\u001b[90m Float64        \u001b[0m ⋯\n",
       "─────┼──────────────────────────────────────────────────────────────────────────\n",
       "   1 │ Afghanistan                  1.52939e5     415.541                      ⋯\n",
       "   2 │ Albania                      1.76725e5     359.276\n",
       "   3 │ Algeria                      2.22632e5     179.391\n",
       "   4 │ Angola                   69851.6           180.846\n",
       "   5 │ Antigua and Barbuda       2889.68           24.475                      ⋯\n",
       "   6 │ Argentina                    5.97984e6   13034.2\n",
       "   7 │ Armenia                      3.14121e5     562.282\n",
       "   8 │ Aruba                    24079.2            65.1867\n",
       "   9 │ Australia                    2.56336e6   18107.7                        ⋯\n",
       "  10 │ Austria                      7.47331e5    3754.08\n",
       "  11 │ Azerbaijan                   5.46772e5    1169.13\n",
       "  ⋮  │          ⋮                   ⋮                ⋮                      ⋮  ⋱\n",
       " 178 │ United Kingdom               1.2146e7    32622.1\n",
       " 179 │ United States                5.42518e7       1.23518e5                  ⋯\n",
       " 180 │ Uruguay                      5.73473e5    1738.52\n",
       " 181 │ Uzbekistan                   1.90416e5     311.804\n",
       " 182 │ Vanuatu                   2275.81            8.7037\n",
       " 183 │ Venezuela                    3.75928e5     976.0                        ⋯\n",
       " 184 │ Vietnam                      3.81844e6   25376.4\n",
       " 185 │ Yemen                    10825.4            29.48\n",
       " 186 │ Zambia                       1.76349e5     953.648\n",
       " 187 │ Zimbabwe                     1.65072e5     413.262                      ⋯\n",
       "\u001b[36m                                                  9 columns and 166 rows omitted\u001b[0m"
      ]
     },
     "execution_count": 35,
     "metadata": {},
     "output_type": "execute_result"
    }
   ],
   "source": [
    "df_gp = groupby(cases_df, \"location\")\n",
    "numeric_columns = [:total_cases, :new_cases, :total_cases_per_million, :gdp_per_capita, :new_cases_per_million, :total_deaths, :new_deaths, \n",
    "    :total_deaths_per_million, :new_deaths_per_million, :people_vaccinated, :people_fully_vaccinated]\n",
    "\n",
    "combine(df_gp, numeric_columns .=> mean)"
   ]
  },
  {
   "cell_type": "code",
   "execution_count": 17,
   "metadata": {},
   "outputs": [
    {
     "data": {
      "text/html": [
       "<div class=\"data-frame\"><p>187 rows × 12 columns (omitted printing of 8 columns)</p><table class=\"data-frame\"><thead><tr><th></th><th>location</th><th>total_cases_std</th><th>new_cases_std</th><th>total_cases_per_million_std</th></tr><tr><th></th><th title=\"String\">String</th><th title=\"Float64\">Float64</th><th title=\"Float64\">Float64</th><th title=\"Float64\">Float64</th></tr></thead><tbody><tr><th>1</th><td>Afghanistan</td><td>40967.5</td><td>473.064</td><td>1021.65</td></tr><tr><th>2</th><td>Albania</td><td>53761.7</td><td>390.59</td><td>18832.6</td></tr><tr><th>3</th><td>Algeria</td><td>26490.0</td><td>168.441</td><td>599.621</td></tr><tr><th>4</th><td>Angola</td><td>25910.6</td><td>283.207</td><td>750.949</td></tr><tr><th>5</th><td>Antigua and Barbuda</td><td>2049.94</td><td>68.8101</td><td>21990.3</td></tr><tr><th>6</th><td>Argentina</td><td>2.74436e6</td><td>21581.6</td><td>60613.0</td></tr><tr><th>7</th><td>Armenia</td><td>69704.4</td><td>688.071</td><td>24974.9</td></tr><tr><th>8</th><td>Aruba</td><td>12230.5</td><td>150.505</td><td>1.14802e5</td></tr><tr><th>9</th><td>Australia</td><td>3.38666e6</td><td>24098.4</td><td>1.30653e5</td></tr><tr><th>10</th><td>Austria</td><td>3.06559e5</td><td>5927.84</td><td>34359.6</td></tr><tr><th>11</th><td>Azerbaijan</td><td>1.91519e5</td><td>1561.63</td><td>18570.7</td></tr><tr><th>12</th><td>Bahamas</td><td>9163.07</td><td>88.9488</td><td>22463.7</td></tr><tr><th>13</th><td>Bahrain</td><td>1.7447e5</td><td>1366.38</td><td>1.19234e5</td></tr><tr><th>14</th><td>Bangladesh</td><td>4.33245e5</td><td>3904.73</td><td>2558.19</td></tr><tr><th>15</th><td>Barbados</td><td>33964.0</td><td>189.321</td><td>1.20782e5</td></tr><tr><th>16</th><td>Belarus</td><td>2.30437e5</td><td>1801.23</td><td>24058.5</td></tr><tr><th>17</th><td>Belgium</td><td>1.43036e6</td><td>12424.4</td><td>1.23185e5</td></tr><tr><th>18</th><td>Belize</td><td>20854.8</td><td>164.269</td><td>52132.9</td></tr><tr><th>19</th><td>Benin</td><td>7424.94</td><td>6.4254</td><td>571.285</td></tr><tr><th>20</th><td>Bermuda</td><td>4632.73</td><td>96.5112</td><td>72177.8</td></tr><tr><th>21</th><td>Bhutan</td><td>24388.7</td><td>293.708</td><td>31368.6</td></tr><tr><th>22</th><td>Bolivia</td><td>2.55542e5</td><td>2683.93</td><td>21155.1</td></tr><tr><th>23</th><td>Bosnia and Herzegovina</td><td>43499.0</td><td>669.883</td><td>13298.6</td></tr><tr><th>24</th><td>Botswana</td><td>80669.8</td><td>1764.23</td><td>31165.6</td></tr><tr><th>25</th><td>Brazil</td><td>7.07409e6</td><td>41974.9</td><td>33006.2</td></tr><tr><th>26</th><td>Brunei</td><td>42301.4</td><td>385.309</td><td>94979.8</td></tr><tr><th>27</th><td>Bulgaria</td><td>80823.1</td><td>1343.69</td><td>11737.5</td></tr><tr><th>28</th><td>Burkina Faso</td><td>2901.55</td><td>200.527</td><td>131.288</td></tr><tr><th>29</th><td>Burundi</td><td>11808.7</td><td>133.523</td><td>940.84</td></tr><tr><th>30</th><td>Cambodia</td><td>46041.6</td><td>304.438</td><td>2775.42</td></tr><tr><th>&vellip;</th><td>&vellip;</td><td>&vellip;</td><td>&vellip;</td><td>&vellip;</td></tr></tbody></table></div>"
      ],
      "text/latex": [
       "\\begin{tabular}{r|ccccc}\n",
       "\t& location & total\\_cases\\_std & new\\_cases\\_std & total\\_cases\\_per\\_million\\_std & \\\\\n",
       "\t\\hline\n",
       "\t& String & Float64 & Float64 & Float64 & \\\\\n",
       "\t\\hline\n",
       "\t1 & Afghanistan & 40967.5 & 473.064 & 1021.65 & $\\dots$ \\\\\n",
       "\t2 & Albania & 53761.7 & 390.59 & 18832.6 & $\\dots$ \\\\\n",
       "\t3 & Algeria & 26490.0 & 168.441 & 599.621 & $\\dots$ \\\\\n",
       "\t4 & Angola & 25910.6 & 283.207 & 750.949 & $\\dots$ \\\\\n",
       "\t5 & Antigua and Barbuda & 2049.94 & 68.8101 & 21990.3 & $\\dots$ \\\\\n",
       "\t6 & Argentina & 2.74436e6 & 21581.6 & 60613.0 & $\\dots$ \\\\\n",
       "\t7 & Armenia & 69704.4 & 688.071 & 24974.9 & $\\dots$ \\\\\n",
       "\t8 & Aruba & 12230.5 & 150.505 & 1.14802e5 & $\\dots$ \\\\\n",
       "\t9 & Australia & 3.38666e6 & 24098.4 & 1.30653e5 & $\\dots$ \\\\\n",
       "\t10 & Austria & 3.06559e5 & 5927.84 & 34359.6 & $\\dots$ \\\\\n",
       "\t11 & Azerbaijan & 1.91519e5 & 1561.63 & 18570.7 & $\\dots$ \\\\\n",
       "\t12 & Bahamas & 9163.07 & 88.9488 & 22463.7 & $\\dots$ \\\\\n",
       "\t13 & Bahrain & 1.7447e5 & 1366.38 & 1.19234e5 & $\\dots$ \\\\\n",
       "\t14 & Bangladesh & 4.33245e5 & 3904.73 & 2558.19 & $\\dots$ \\\\\n",
       "\t15 & Barbados & 33964.0 & 189.321 & 1.20782e5 & $\\dots$ \\\\\n",
       "\t16 & Belarus & 2.30437e5 & 1801.23 & 24058.5 & $\\dots$ \\\\\n",
       "\t17 & Belgium & 1.43036e6 & 12424.4 & 1.23185e5 & $\\dots$ \\\\\n",
       "\t18 & Belize & 20854.8 & 164.269 & 52132.9 & $\\dots$ \\\\\n",
       "\t19 & Benin & 7424.94 & 6.4254 & 571.285 & $\\dots$ \\\\\n",
       "\t20 & Bermuda & 4632.73 & 96.5112 & 72177.8 & $\\dots$ \\\\\n",
       "\t21 & Bhutan & 24388.7 & 293.708 & 31368.6 & $\\dots$ \\\\\n",
       "\t22 & Bolivia & 2.55542e5 & 2683.93 & 21155.1 & $\\dots$ \\\\\n",
       "\t23 & Bosnia and Herzegovina & 43499.0 & 669.883 & 13298.6 & $\\dots$ \\\\\n",
       "\t24 & Botswana & 80669.8 & 1764.23 & 31165.6 & $\\dots$ \\\\\n",
       "\t25 & Brazil & 7.07409e6 & 41974.9 & 33006.2 & $\\dots$ \\\\\n",
       "\t26 & Brunei & 42301.4 & 385.309 & 94979.8 & $\\dots$ \\\\\n",
       "\t27 & Bulgaria & 80823.1 & 1343.69 & 11737.5 & $\\dots$ \\\\\n",
       "\t28 & Burkina Faso & 2901.55 & 200.527 & 131.288 & $\\dots$ \\\\\n",
       "\t29 & Burundi & 11808.7 & 133.523 & 940.84 & $\\dots$ \\\\\n",
       "\t30 & Cambodia & 46041.6 & 304.438 & 2775.42 & $\\dots$ \\\\\n",
       "\t$\\dots$ & $\\dots$ & $\\dots$ & $\\dots$ & $\\dots$ &  \\\\\n",
       "\\end{tabular}\n"
      ],
      "text/plain": [
       "\u001b[1m187×12 DataFrame\u001b[0m\n",
       "\u001b[1m Row \u001b[0m│\u001b[1m location             \u001b[0m\u001b[1m total_cases_std \u001b[0m\u001b[1m new_cases_std \u001b[0m\u001b[1m total_cases_per_m\u001b[0m ⋯\n",
       "\u001b[1m     \u001b[0m│\u001b[90m String               \u001b[0m\u001b[90m Float64         \u001b[0m\u001b[90m Float64       \u001b[0m\u001b[90m Float64          \u001b[0m ⋯\n",
       "─────┼──────────────────────────────────────────────────────────────────────────\n",
       "   1 │ Afghanistan             40967.5          473.064                     10 ⋯\n",
       "   2 │ Albania                 53761.7          390.59                     188\n",
       "   3 │ Algeria                 26490.0          168.441                      5\n",
       "   4 │ Angola                  25910.6          283.207                      7\n",
       "   5 │ Antigua and Barbuda      2049.94          68.8101                   219 ⋯\n",
       "   6 │ Argentina                   2.74436e6  21581.6                      606\n",
       "   7 │ Armenia                 69704.4          688.071                    249\n",
       "   8 │ Aruba                   12230.5          150.505\n",
       "   9 │ Australia                   3.38666e6  24098.4                          ⋯\n",
       "  10 │ Austria                     3.06559e5   5927.84                     343\n",
       "  11 │ Azerbaijan                  1.91519e5   1561.63                     185\n",
       "  ⋮  │          ⋮                   ⋮               ⋮                     ⋮    ⋱\n",
       " 178 │ United Kingdom              7.62736e6  39094.6\n",
       " 179 │ United States               2.46761e7      1.56425e5                732 ⋯\n",
       " 180 │ Uruguay                     2.82189e5   2701.3                      823\n",
       " 181 │ Uzbekistan              49031.9          261.172                     14\n",
       " 182 │ Vanuatu                  4182.91          37.2154                   131\n",
       " 183 │ Venezuela               90968.0          684.014                     32 ⋯\n",
       " 184 │ Vietnam                     4.66075e6  64263.0                      478\n",
       " 185 │ Yemen                    1495.49          53.405\n",
       " 186 │ Zambia                  39914.4          906.932                     20\n",
       " 187 │ Zimbabwe                82305.8          960.787                     51 ⋯\n",
       "\u001b[36m                                                  9 columns and 166 rows omitted\u001b[0m"
      ]
     },
     "execution_count": 17,
     "metadata": {},
     "output_type": "execute_result"
    }
   ],
   "source": [
    "combine(df_gp, numeric_columns .=> std)"
   ]
  },
  {
   "cell_type": "code",
   "execution_count": 18,
   "metadata": {},
   "outputs": [
    {
     "data": {
      "text/html": [
       "<div class=\"data-frame\"><p>187 rows × 12 columns (omitted printing of 8 columns)</p><table class=\"data-frame\"><thead><tr><th></th><th>location</th><th>total_cases_maximum</th><th>new_cases_maximum</th><th>total_cases_per_million_maximum</th></tr><tr><th></th><th title=\"String\">String</th><th title=\"Float64\">Float64</th><th title=\"Float64\">Float64</th><th title=\"Float64\">Float64</th></tr></thead><tbody><tr><th>1</th><td>Afghanistan</td><td>196182.0</td><td>1847.0</td><td>4892.39</td></tr><tr><th>2</th><td>Albania</td><td>330193.0</td><td>2177.0</td><td>115666.0</td></tr><tr><th>3</th><td>Algeria</td><td>270443.0</td><td>610.0</td><td>6121.67</td></tr><tr><th>4</th><td>Angola</td><td>102636.0</td><td>1396.0</td><td>2974.63</td></tr><tr><th>5</th><td>Antigua and Barbuda</td><td>8555.0</td><td>419.0</td><td>91772.2</td></tr><tr><th>6</th><td>Argentina</td><td>9.69776e6</td><td>139853.0</td><td>2.14188e5</td></tr><tr><th>7</th><td>Armenia</td><td>422917.0</td><td>2467.0</td><td>1.5153e5</td></tr><tr><th>8</th><td>Aruba</td><td>42970.0</td><td>1162.0</td><td>4.03338e5</td></tr><tr><th>9</th><td>Australia</td><td>1.01506e7</td><td>175271.0</td><td>3.91598e5</td></tr><tr><th>10</th><td>Austria</td><td>1.8356e6</td><td>38141.0</td><td>205737.0</td></tr><tr><th>11</th><td>Azerbaijan</td><td>812116.0</td><td>7779.0</td><td>78746.9</td></tr><tr><th>12</th><td>Bahamas</td><td>37125.0</td><td>315.0</td><td>91013.6</td></tr><tr><th>13</th><td>Bahrain</td><td>675741.0</td><td>8173.0</td><td>4.61804e5</td></tr><tr><th>14</th><td>Bangladesh</td><td>2.01709e6</td><td>16230.0</td><td>11910.3</td></tr><tr><th>15</th><td>Barbados</td><td>102119.0</td><td>1329.0</td><td>3.63154e5</td></tr><tr><th>16</th><td>Belarus</td><td>994037.0</td><td>8921.0</td><td>1.03782e5</td></tr><tr><th>17</th><td>Belgium</td><td>4.50411e6</td><td>133480.0</td><td>3.87903e5</td></tr><tr><th>18</th><td>Belize</td><td>68473.0</td><td>794.0</td><td>1.71169e5</td></tr><tr><th>19</th><td>Benin</td><td>27490.0</td><td>34.0</td><td>2115.12</td></tr><tr><th>20</th><td>Bermuda</td><td>16401.0</td><td>661.0</td><td>255527.0</td></tr><tr><th>21</th><td>Bhutan</td><td>61233.0</td><td>1593.0</td><td>78757.7</td></tr><tr><th>22</th><td>Bolivia</td><td>1.09562e6</td><td>23611.0</td><td>90701.2</td></tr><tr><th>23</th><td>Bosnia and Herzegovina</td><td>343986.0</td><td>2539.0</td><td>1.05164e5</td></tr><tr><th>24</th><td>Botswana</td><td>325864.0</td><td>8530.0</td><td>1.25893e5</td></tr><tr><th>25</th><td>Brazil</td><td>3.45688e7</td><td>287149.0</td><td>1.61291e5</td></tr><tr><th>26</th><td>Brunei</td><td>220245.0</td><td>3461.0</td><td>4.94518e5</td></tr><tr><th>27</th><td>Bulgaria</td><td>435940.0</td><td>7560.0</td><td>63309.4</td></tr><tr><th>28</th><td>Burkina Faso</td><td>21128.0</td><td>1005.0</td><td>955.989</td></tr><tr><th>29</th><td>Burundi</td><td>49370.0</td><td>648.0</td><td>3933.48</td></tr><tr><th>30</th><td>Cambodia</td><td>137637.0</td><td>1130.0</td><td>8296.87</td></tr><tr><th>&vellip;</th><td>&vellip;</td><td>&vellip;</td><td>&vellip;</td><td>&vellip;</td></tr></tbody></table></div>"
      ],
      "text/latex": [
       "\\begin{tabular}{r|ccccc}\n",
       "\t& location & total\\_cases\\_maximum & new\\_cases\\_maximum & total\\_cases\\_per\\_million\\_maximum & \\\\\n",
       "\t\\hline\n",
       "\t& String & Float64 & Float64 & Float64 & \\\\\n",
       "\t\\hline\n",
       "\t1 & Afghanistan & 196182.0 & 1847.0 & 4892.39 & $\\dots$ \\\\\n",
       "\t2 & Albania & 330193.0 & 2177.0 & 115666.0 & $\\dots$ \\\\\n",
       "\t3 & Algeria & 270443.0 & 610.0 & 6121.67 & $\\dots$ \\\\\n",
       "\t4 & Angola & 102636.0 & 1396.0 & 2974.63 & $\\dots$ \\\\\n",
       "\t5 & Antigua and Barbuda & 8555.0 & 419.0 & 91772.2 & $\\dots$ \\\\\n",
       "\t6 & Argentina & 9.69776e6 & 139853.0 & 2.14188e5 & $\\dots$ \\\\\n",
       "\t7 & Armenia & 422917.0 & 2467.0 & 1.5153e5 & $\\dots$ \\\\\n",
       "\t8 & Aruba & 42970.0 & 1162.0 & 4.03338e5 & $\\dots$ \\\\\n",
       "\t9 & Australia & 1.01506e7 & 175271.0 & 3.91598e5 & $\\dots$ \\\\\n",
       "\t10 & Austria & 1.8356e6 & 38141.0 & 205737.0 & $\\dots$ \\\\\n",
       "\t11 & Azerbaijan & 812116.0 & 7779.0 & 78746.9 & $\\dots$ \\\\\n",
       "\t12 & Bahamas & 37125.0 & 315.0 & 91013.6 & $\\dots$ \\\\\n",
       "\t13 & Bahrain & 675741.0 & 8173.0 & 4.61804e5 & $\\dots$ \\\\\n",
       "\t14 & Bangladesh & 2.01709e6 & 16230.0 & 11910.3 & $\\dots$ \\\\\n",
       "\t15 & Barbados & 102119.0 & 1329.0 & 3.63154e5 & $\\dots$ \\\\\n",
       "\t16 & Belarus & 994037.0 & 8921.0 & 1.03782e5 & $\\dots$ \\\\\n",
       "\t17 & Belgium & 4.50411e6 & 133480.0 & 3.87903e5 & $\\dots$ \\\\\n",
       "\t18 & Belize & 68473.0 & 794.0 & 1.71169e5 & $\\dots$ \\\\\n",
       "\t19 & Benin & 27490.0 & 34.0 & 2115.12 & $\\dots$ \\\\\n",
       "\t20 & Bermuda & 16401.0 & 661.0 & 255527.0 & $\\dots$ \\\\\n",
       "\t21 & Bhutan & 61233.0 & 1593.0 & 78757.7 & $\\dots$ \\\\\n",
       "\t22 & Bolivia & 1.09562e6 & 23611.0 & 90701.2 & $\\dots$ \\\\\n",
       "\t23 & Bosnia and Herzegovina & 343986.0 & 2539.0 & 1.05164e5 & $\\dots$ \\\\\n",
       "\t24 & Botswana & 325864.0 & 8530.0 & 1.25893e5 & $\\dots$ \\\\\n",
       "\t25 & Brazil & 3.45688e7 & 287149.0 & 1.61291e5 & $\\dots$ \\\\\n",
       "\t26 & Brunei & 220245.0 & 3461.0 & 4.94518e5 & $\\dots$ \\\\\n",
       "\t27 & Bulgaria & 435940.0 & 7560.0 & 63309.4 & $\\dots$ \\\\\n",
       "\t28 & Burkina Faso & 21128.0 & 1005.0 & 955.989 & $\\dots$ \\\\\n",
       "\t29 & Burundi & 49370.0 & 648.0 & 3933.48 & $\\dots$ \\\\\n",
       "\t30 & Cambodia & 137637.0 & 1130.0 & 8296.87 & $\\dots$ \\\\\n",
       "\t$\\dots$ & $\\dots$ & $\\dots$ & $\\dots$ & $\\dots$ &  \\\\\n",
       "\\end{tabular}\n"
      ],
      "text/plain": [
       "\u001b[1m187×12 DataFrame\u001b[0m\n",
       "\u001b[1m Row \u001b[0m│\u001b[1m location             \u001b[0m\u001b[1m total_cases_maximum \u001b[0m\u001b[1m new_cases_maximum \u001b[0m\u001b[1m total_cas\u001b[0m ⋯\n",
       "\u001b[1m     \u001b[0m│\u001b[90m String               \u001b[0m\u001b[90m Float64             \u001b[0m\u001b[90m Float64           \u001b[0m\u001b[90m Float64  \u001b[0m ⋯\n",
       "─────┼──────────────────────────────────────────────────────────────────────────\n",
       "   1 │ Afghanistan                196182.0             1847.0                  ⋯\n",
       "   2 │ Albania                    330193.0             2177.0\n",
       "   3 │ Algeria                    270443.0              610.0\n",
       "   4 │ Angola                     102636.0             1396.0\n",
       "   5 │ Antigua and Barbuda          8555.0              419.0                  ⋯\n",
       "   6 │ Argentina                       9.69776e6     139853.0\n",
       "   7 │ Armenia                    422917.0             2467.0\n",
       "   8 │ Aruba                       42970.0             1162.0\n",
       "   9 │ Australia                       1.01506e7     175271.0                  ⋯\n",
       "  10 │ Austria                         1.8356e6       38141.0\n",
       "  11 │ Azerbaijan                 812116.0             7779.0\n",
       "  ⋮  │          ⋮                     ⋮                   ⋮                    ⋱\n",
       " 178 │ United Kingdom                  2.35218e7     225672.0\n",
       " 179 │ United States                   9.53532e7          1.35536e6            ⋯\n",
       " 180 │ Uruguay                    982846.0            13612.0\n",
       " 181 │ Uzbekistan                 243830.0             1104.0\n",
       " 182 │ Vanuatu                     11753.0              194.0\n",
       " 183 │ Venezuela                  520038.0             2168.0                  ⋯\n",
       " 184 │ Vietnam                         1.14144e7     454212.0\n",
       " 185 │ Yemen                       11926.0              236.0\n",
       " 186 │ Zambia                     312707.0             3594.0\n",
       " 187 │ Zimbabwe                   256834.0             9185.0                  ⋯\n",
       "\u001b[36m                                                  9 columns and 166 rows omitted\u001b[0m"
      ]
     },
     "execution_count": 18,
     "metadata": {},
     "output_type": "execute_result"
    }
   ],
   "source": [
    "combine(df_gp, numeric_columns .=> maximum)"
   ]
  },
  {
   "cell_type": "code",
   "execution_count": 37,
   "metadata": {},
   "outputs": [
    {
     "data": {
      "text/html": [
       "<div class=\"data-frame\"><p>187 rows × 12 columns (omitted printing of 8 columns)</p><table class=\"data-frame\"><thead><tr><th></th><th>location</th><th>total_cases_minimum</th><th>new_cases_minimum</th><th>total_cases_per_million_minimum</th></tr><tr><th></th><th title=\"String\">String</th><th title=\"Float64\">Float64</th><th title=\"Float64\">Float64</th><th title=\"Float64\">Float64</th></tr></thead><tbody><tr><th>1</th><td>Afghanistan</td><td>62403.0</td><td>0.0</td><td>1556.2</td></tr><tr><th>2</th><td>Albania</td><td>79934.0</td><td>0.0</td><td>28000.7</td></tr><tr><th>3</th><td>Algeria</td><td>190656.0</td><td>2.0</td><td>4315.64</td></tr><tr><th>4</th><td>Angola</td><td>29405.0</td><td>0.0</td><td>852.226</td></tr><tr><th>5</th><td>Antigua and Barbuda</td><td>1251.0</td><td>0.0</td><td>13419.9</td></tr><tr><th>6</th><td>Argentina</td><td>1.60216e6</td><td>0.0</td><td>35386.0</td></tr><tr><th>7</th><td>Armenia</td><td>224227.0</td><td>0.0</td><td>80340.1</td></tr><tr><th>8</th><td>Aruba</td><td>9294.0</td><td>0.0</td><td>87238.1</td></tr><tr><th>9</th><td>Australia</td><td>28939.0</td><td>2.0</td><td>1116.43</td></tr><tr><th>10</th><td>Austria</td><td>365898.0</td><td>66.0</td><td>41010.4</td></tr><tr><th>11</th><td>Azerbaijan</td><td>263961.0</td><td>0.0</td><td>25595.0</td></tr><tr><th>12</th><td>Bahamas</td><td>11396.0</td><td>0.0</td><td>27937.8</td></tr><tr><th>13</th><td>Bahrain</td><td>126126.0</td><td>0.0</td><td>86194.9</td></tr><tr><th>14</th><td>Bangladesh</td><td>666132.0</td><td>0.0</td><td>3933.32</td></tr><tr><th>15</th><td>Barbados</td><td>3863.0</td><td>0.0</td><td>13737.6</td></tr><tr><th>16</th><td>Belarus</td><td>300146.0</td><td>0.0</td><td>31336.5</td></tr><tr><th>17</th><td>Belgium</td><td>641411.0</td><td>0.0</td><td>55239.7</td></tr><tr><th>18</th><td>Belize</td><td>12745.0</td><td>0.0</td><td>31860.0</td></tr><tr><th>19</th><td>Benin</td><td>8025.0</td><td>0.0</td><td>617.455</td></tr><tr><th>20</th><td>Bermuda</td><td>692.0</td><td>0.0</td><td>10781.3</td></tr><tr><th>21</th><td>Bhutan</td><td>2169.0</td><td>0.0</td><td>2789.76</td></tr><tr><th>22</th><td>Bolivia</td><td>241771.0</td><td>0.0</td><td>20015.0</td></tr><tr><th>23</th><td>Bosnia and Herzegovina</td><td>186372.0</td><td>0.0</td><td>56978.1</td></tr><tr><th>24</th><td>Botswana</td><td>61457.0</td><td>0.0</td><td>23743.0</td></tr><tr><th>25</th><td>Brazil</td><td>9.4565e6</td><td>0.0</td><td>44122.0</td></tr><tr><th>26</th><td>Brunei</td><td>223.0</td><td>0.0</td><td>500.704</td></tr><tr><th>27</th><td>Bulgaria</td><td>212383.0</td><td>0.0</td><td>30843.3</td></tr><tr><th>28</th><td>Burkina Faso</td><td>13777.0</td><td>0.0</td><td>623.374</td></tr><tr><th>29</th><td>Burundi</td><td>20170.0</td><td>0.0</td><td>1607.02</td></tr><tr><th>30</th><td>Cambodia</td><td>1225.0</td><td>0.0</td><td>73.844</td></tr><tr><th>&vellip;</th><td>&vellip;</td><td>&vellip;</td><td>&vellip;</td><td>&vellip;</td></tr></tbody></table></div>"
      ],
      "text/latex": [
       "\\begin{tabular}{r|ccccc}\n",
       "\t& location & total\\_cases\\_minimum & new\\_cases\\_minimum & total\\_cases\\_per\\_million\\_minimum & \\\\\n",
       "\t\\hline\n",
       "\t& String & Float64 & Float64 & Float64 & \\\\\n",
       "\t\\hline\n",
       "\t1 & Afghanistan & 62403.0 & 0.0 & 1556.2 & $\\dots$ \\\\\n",
       "\t2 & Albania & 79934.0 & 0.0 & 28000.7 & $\\dots$ \\\\\n",
       "\t3 & Algeria & 190656.0 & 2.0 & 4315.64 & $\\dots$ \\\\\n",
       "\t4 & Angola & 29405.0 & 0.0 & 852.226 & $\\dots$ \\\\\n",
       "\t5 & Antigua and Barbuda & 1251.0 & 0.0 & 13419.9 & $\\dots$ \\\\\n",
       "\t6 & Argentina & 1.60216e6 & 0.0 & 35386.0 & $\\dots$ \\\\\n",
       "\t7 & Armenia & 224227.0 & 0.0 & 80340.1 & $\\dots$ \\\\\n",
       "\t8 & Aruba & 9294.0 & 0.0 & 87238.1 & $\\dots$ \\\\\n",
       "\t9 & Australia & 28939.0 & 2.0 & 1116.43 & $\\dots$ \\\\\n",
       "\t10 & Austria & 365898.0 & 66.0 & 41010.4 & $\\dots$ \\\\\n",
       "\t11 & Azerbaijan & 263961.0 & 0.0 & 25595.0 & $\\dots$ \\\\\n",
       "\t12 & Bahamas & 11396.0 & 0.0 & 27937.8 & $\\dots$ \\\\\n",
       "\t13 & Bahrain & 126126.0 & 0.0 & 86194.9 & $\\dots$ \\\\\n",
       "\t14 & Bangladesh & 666132.0 & 0.0 & 3933.32 & $\\dots$ \\\\\n",
       "\t15 & Barbados & 3863.0 & 0.0 & 13737.6 & $\\dots$ \\\\\n",
       "\t16 & Belarus & 300146.0 & 0.0 & 31336.5 & $\\dots$ \\\\\n",
       "\t17 & Belgium & 641411.0 & 0.0 & 55239.7 & $\\dots$ \\\\\n",
       "\t18 & Belize & 12745.0 & 0.0 & 31860.0 & $\\dots$ \\\\\n",
       "\t19 & Benin & 8025.0 & 0.0 & 617.455 & $\\dots$ \\\\\n",
       "\t20 & Bermuda & 692.0 & 0.0 & 10781.3 & $\\dots$ \\\\\n",
       "\t21 & Bhutan & 2169.0 & 0.0 & 2789.76 & $\\dots$ \\\\\n",
       "\t22 & Bolivia & 241771.0 & 0.0 & 20015.0 & $\\dots$ \\\\\n",
       "\t23 & Bosnia and Herzegovina & 186372.0 & 0.0 & 56978.1 & $\\dots$ \\\\\n",
       "\t24 & Botswana & 61457.0 & 0.0 & 23743.0 & $\\dots$ \\\\\n",
       "\t25 & Brazil & 9.4565e6 & 0.0 & 44122.0 & $\\dots$ \\\\\n",
       "\t26 & Brunei & 223.0 & 0.0 & 500.704 & $\\dots$ \\\\\n",
       "\t27 & Bulgaria & 212383.0 & 0.0 & 30843.3 & $\\dots$ \\\\\n",
       "\t28 & Burkina Faso & 13777.0 & 0.0 & 623.374 & $\\dots$ \\\\\n",
       "\t29 & Burundi & 20170.0 & 0.0 & 1607.02 & $\\dots$ \\\\\n",
       "\t30 & Cambodia & 1225.0 & 0.0 & 73.844 & $\\dots$ \\\\\n",
       "\t$\\dots$ & $\\dots$ & $\\dots$ & $\\dots$ & $\\dots$ &  \\\\\n",
       "\\end{tabular}\n"
      ],
      "text/plain": [
       "\u001b[1m187×12 DataFrame\u001b[0m\n",
       "\u001b[1m Row \u001b[0m│\u001b[1m location             \u001b[0m\u001b[1m total_cases_minimum \u001b[0m\u001b[1m new_cases_minimum \u001b[0m\u001b[1m total_cas\u001b[0m ⋯\n",
       "\u001b[1m     \u001b[0m│\u001b[90m String               \u001b[0m\u001b[90m Float64             \u001b[0m\u001b[90m Float64           \u001b[0m\u001b[90m Float64  \u001b[0m ⋯\n",
       "─────┼──────────────────────────────────────────────────────────────────────────\n",
       "   1 │ Afghanistan                 62403.0                      0.0            ⋯\n",
       "   2 │ Albania                     79934.0                      0.0\n",
       "   3 │ Algeria                    190656.0                      2.0\n",
       "   4 │ Angola                      29405.0                      0.0\n",
       "   5 │ Antigua and Barbuda          1251.0                      0.0            ⋯\n",
       "   6 │ Argentina                       1.60216e6                0.0\n",
       "   7 │ Armenia                    224227.0                      0.0\n",
       "   8 │ Aruba                        9294.0                      0.0\n",
       "   9 │ Australia                   28939.0                      2.0            ⋯\n",
       "  10 │ Austria                    365898.0                     66.0\n",
       "  11 │ Azerbaijan                 263961.0                      0.0\n",
       "  ⋮  │          ⋮                     ⋮                   ⋮                    ⋱\n",
       " 178 │ United Kingdom                  3.07235e6                0.0\n",
       " 179 │ United States                   1.64431e7             4265.0            ⋯\n",
       " 180 │ Uruguay                     99584.0                      0.0\n",
       " 181 │ Uzbekistan                  94759.0                      0.0\n",
       " 182 │ Vanuatu                         4.0                      0.0\n",
       " 183 │ Venezuela                  248820.0                      0.0            ⋯\n",
       " 184 │ Vietnam                      2928.0                      0.0\n",
       " 185 │ Yemen                        6952.0                      0.0\n",
       " 186 │ Zambia                      92920.0                     14.0\n",
       " 187 │ Zimbabwe                    36684.0                      0.0            ⋯\n",
       "\u001b[36m                                                  9 columns and 166 rows omitted\u001b[0m"
      ]
     },
     "execution_count": 37,
     "metadata": {},
     "output_type": "execute_result"
    }
   ],
   "source": [
    "combine(df_gp, numeric_columns .=> minimum)"
   ]
  },
  {
   "cell_type": "markdown",
   "metadata": {},
   "source": [
    "### **Dive into the American continent Data**\n"
   ]
  },
  {
   "cell_type": "markdown",
   "metadata": {},
   "source": [
    "Lets go deeper, and analyze data only from America"
   ]
  },
  {
   "cell_type": "markdown",
   "metadata": {},
   "source": [
    "`filter`: Return a data frame containing only rows from `df` for which fun returns true."
   ]
  },
  {
   "cell_type": "code",
   "execution_count": 20,
   "metadata": {},
   "outputs": [
    {
     "data": {
      "text/html": [
       "<div class=\"data-frame\"><p>10,107 rows × 15 columns (omitted printing of 9 columns)</p><table class=\"data-frame\"><thead><tr><th></th><th>iso_code</th><th>continent</th><th>location</th><th>date</th><th>total_cases</th><th>new_cases</th></tr><tr><th></th><th title=\"String15\">String15</th><th title=\"String15\">String15</th><th title=\"String\">String</th><th title=\"Dates.Date\">Date</th><th title=\"Float64\">Float64</th><th title=\"Float64\">Float64</th></tr></thead><tbody><tr><th>1</th><td>ATG</td><td>North America</td><td>Antigua and Barbuda</td><td>2021-05-17</td><td>1251.0</td><td>10.0</td></tr><tr><th>2</th><td>ATG</td><td>North America</td><td>Antigua and Barbuda</td><td>2021-05-21</td><td>1255.0</td><td>0.0</td></tr><tr><th>3</th><td>ATG</td><td>North America</td><td>Antigua and Barbuda</td><td>2021-05-25</td><td>1258.0</td><td>0.0</td></tr><tr><th>4</th><td>ATG</td><td>North America</td><td>Antigua and Barbuda</td><td>2021-05-26</td><td>1258.0</td><td>0.0</td></tr><tr><th>5</th><td>ATG</td><td>North America</td><td>Antigua and Barbuda</td><td>2021-05-27</td><td>1258.0</td><td>0.0</td></tr><tr><th>6</th><td>ATG</td><td>North America</td><td>Antigua and Barbuda</td><td>2021-05-29</td><td>1259.0</td><td>0.0</td></tr><tr><th>7</th><td>ATG</td><td>North America</td><td>Antigua and Barbuda</td><td>2021-05-31</td><td>1260.0</td><td>1.0</td></tr><tr><th>8</th><td>ATG</td><td>North America</td><td>Antigua and Barbuda</td><td>2021-06-03</td><td>1262.0</td><td>0.0</td></tr><tr><th>9</th><td>ATG</td><td>North America</td><td>Antigua and Barbuda</td><td>2021-06-06</td><td>1263.0</td><td>0.0</td></tr><tr><th>10</th><td>ATG</td><td>North America</td><td>Antigua and Barbuda</td><td>2021-06-07</td><td>1263.0</td><td>0.0</td></tr><tr><th>11</th><td>ATG</td><td>North America</td><td>Antigua and Barbuda</td><td>2021-06-09</td><td>1263.0</td><td>0.0</td></tr><tr><th>12</th><td>ATG</td><td>North America</td><td>Antigua and Barbuda</td><td>2021-06-12</td><td>1263.0</td><td>0.0</td></tr><tr><th>13</th><td>ATG</td><td>North America</td><td>Antigua and Barbuda</td><td>2021-06-15</td><td>1263.0</td><td>0.0</td></tr><tr><th>14</th><td>ATG</td><td>North America</td><td>Antigua and Barbuda</td><td>2021-06-17</td><td>1263.0</td><td>0.0</td></tr><tr><th>15</th><td>ATG</td><td>North America</td><td>Antigua and Barbuda</td><td>2021-06-20</td><td>1263.0</td><td>0.0</td></tr><tr><th>16</th><td>ATG</td><td>North America</td><td>Antigua and Barbuda</td><td>2021-06-29</td><td>1263.0</td><td>0.0</td></tr><tr><th>17</th><td>ATG</td><td>North America</td><td>Antigua and Barbuda</td><td>2021-07-01</td><td>1264.0</td><td>1.0</td></tr><tr><th>18</th><td>ATG</td><td>North America</td><td>Antigua and Barbuda</td><td>2021-07-04</td><td>1264.0</td><td>0.0</td></tr><tr><th>19</th><td>ATG</td><td>North America</td><td>Antigua and Barbuda</td><td>2021-07-06</td><td>1265.0</td><td>1.0</td></tr><tr><th>20</th><td>ATG</td><td>North America</td><td>Antigua and Barbuda</td><td>2021-07-08</td><td>1266.0</td><td>1.0</td></tr><tr><th>21</th><td>ATG</td><td>North America</td><td>Antigua and Barbuda</td><td>2021-07-09</td><td>1266.0</td><td>0.0</td></tr><tr><th>22</th><td>ATG</td><td>North America</td><td>Antigua and Barbuda</td><td>2021-07-13</td><td>1266.0</td><td>0.0</td></tr><tr><th>23</th><td>ATG</td><td>North America</td><td>Antigua and Barbuda</td><td>2021-07-15</td><td>1267.0</td><td>0.0</td></tr><tr><th>24</th><td>ATG</td><td>North America</td><td>Antigua and Barbuda</td><td>2021-07-18</td><td>1268.0</td><td>0.0</td></tr><tr><th>25</th><td>ATG</td><td>North America</td><td>Antigua and Barbuda</td><td>2021-07-20</td><td>1275.0</td><td>0.0</td></tr><tr><th>26</th><td>ATG</td><td>North America</td><td>Antigua and Barbuda</td><td>2021-07-21</td><td>1275.0</td><td>0.0</td></tr><tr><th>27</th><td>ATG</td><td>North America</td><td>Antigua and Barbuda</td><td>2021-07-22</td><td>1277.0</td><td>2.0</td></tr><tr><th>28</th><td>ATG</td><td>North America</td><td>Antigua and Barbuda</td><td>2021-07-25</td><td>1280.0</td><td>0.0</td></tr><tr><th>29</th><td>ATG</td><td>North America</td><td>Antigua and Barbuda</td><td>2021-07-28</td><td>1288.0</td><td>0.0</td></tr><tr><th>30</th><td>ATG</td><td>North America</td><td>Antigua and Barbuda</td><td>2021-07-29</td><td>1295.0</td><td>7.0</td></tr><tr><th>&vellip;</th><td>&vellip;</td><td>&vellip;</td><td>&vellip;</td><td>&vellip;</td><td>&vellip;</td><td>&vellip;</td></tr></tbody></table></div>"
      ],
      "text/latex": [
       "\\begin{tabular}{r|ccccccc}\n",
       "\t& iso\\_code & continent & location & date & total\\_cases & new\\_cases & \\\\\n",
       "\t\\hline\n",
       "\t& String15 & String15 & String & Date & Float64 & Float64 & \\\\\n",
       "\t\\hline\n",
       "\t1 & ATG & North America & Antigua and Barbuda & 2021-05-17 & 1251.0 & 10.0 & $\\dots$ \\\\\n",
       "\t2 & ATG & North America & Antigua and Barbuda & 2021-05-21 & 1255.0 & 0.0 & $\\dots$ \\\\\n",
       "\t3 & ATG & North America & Antigua and Barbuda & 2021-05-25 & 1258.0 & 0.0 & $\\dots$ \\\\\n",
       "\t4 & ATG & North America & Antigua and Barbuda & 2021-05-26 & 1258.0 & 0.0 & $\\dots$ \\\\\n",
       "\t5 & ATG & North America & Antigua and Barbuda & 2021-05-27 & 1258.0 & 0.0 & $\\dots$ \\\\\n",
       "\t6 & ATG & North America & Antigua and Barbuda & 2021-05-29 & 1259.0 & 0.0 & $\\dots$ \\\\\n",
       "\t7 & ATG & North America & Antigua and Barbuda & 2021-05-31 & 1260.0 & 1.0 & $\\dots$ \\\\\n",
       "\t8 & ATG & North America & Antigua and Barbuda & 2021-06-03 & 1262.0 & 0.0 & $\\dots$ \\\\\n",
       "\t9 & ATG & North America & Antigua and Barbuda & 2021-06-06 & 1263.0 & 0.0 & $\\dots$ \\\\\n",
       "\t10 & ATG & North America & Antigua and Barbuda & 2021-06-07 & 1263.0 & 0.0 & $\\dots$ \\\\\n",
       "\t11 & ATG & North America & Antigua and Barbuda & 2021-06-09 & 1263.0 & 0.0 & $\\dots$ \\\\\n",
       "\t12 & ATG & North America & Antigua and Barbuda & 2021-06-12 & 1263.0 & 0.0 & $\\dots$ \\\\\n",
       "\t13 & ATG & North America & Antigua and Barbuda & 2021-06-15 & 1263.0 & 0.0 & $\\dots$ \\\\\n",
       "\t14 & ATG & North America & Antigua and Barbuda & 2021-06-17 & 1263.0 & 0.0 & $\\dots$ \\\\\n",
       "\t15 & ATG & North America & Antigua and Barbuda & 2021-06-20 & 1263.0 & 0.0 & $\\dots$ \\\\\n",
       "\t16 & ATG & North America & Antigua and Barbuda & 2021-06-29 & 1263.0 & 0.0 & $\\dots$ \\\\\n",
       "\t17 & ATG & North America & Antigua and Barbuda & 2021-07-01 & 1264.0 & 1.0 & $\\dots$ \\\\\n",
       "\t18 & ATG & North America & Antigua and Barbuda & 2021-07-04 & 1264.0 & 0.0 & $\\dots$ \\\\\n",
       "\t19 & ATG & North America & Antigua and Barbuda & 2021-07-06 & 1265.0 & 1.0 & $\\dots$ \\\\\n",
       "\t20 & ATG & North America & Antigua and Barbuda & 2021-07-08 & 1266.0 & 1.0 & $\\dots$ \\\\\n",
       "\t21 & ATG & North America & Antigua and Barbuda & 2021-07-09 & 1266.0 & 0.0 & $\\dots$ \\\\\n",
       "\t22 & ATG & North America & Antigua and Barbuda & 2021-07-13 & 1266.0 & 0.0 & $\\dots$ \\\\\n",
       "\t23 & ATG & North America & Antigua and Barbuda & 2021-07-15 & 1267.0 & 0.0 & $\\dots$ \\\\\n",
       "\t24 & ATG & North America & Antigua and Barbuda & 2021-07-18 & 1268.0 & 0.0 & $\\dots$ \\\\\n",
       "\t25 & ATG & North America & Antigua and Barbuda & 2021-07-20 & 1275.0 & 0.0 & $\\dots$ \\\\\n",
       "\t26 & ATG & North America & Antigua and Barbuda & 2021-07-21 & 1275.0 & 0.0 & $\\dots$ \\\\\n",
       "\t27 & ATG & North America & Antigua and Barbuda & 2021-07-22 & 1277.0 & 2.0 & $\\dots$ \\\\\n",
       "\t28 & ATG & North America & Antigua and Barbuda & 2021-07-25 & 1280.0 & 0.0 & $\\dots$ \\\\\n",
       "\t29 & ATG & North America & Antigua and Barbuda & 2021-07-28 & 1288.0 & 0.0 & $\\dots$ \\\\\n",
       "\t30 & ATG & North America & Antigua and Barbuda & 2021-07-29 & 1295.0 & 7.0 & $\\dots$ \\\\\n",
       "\t$\\dots$ & $\\dots$ & $\\dots$ & $\\dots$ & $\\dots$ & $\\dots$ & $\\dots$ &  \\\\\n",
       "\\end{tabular}\n"
      ],
      "text/plain": [
       "\u001b[1m10107×15 DataFrame\u001b[0m\n",
       "\u001b[1m   Row \u001b[0m│\u001b[1m iso_code \u001b[0m\u001b[1m continent     \u001b[0m\u001b[1m location            \u001b[0m\u001b[1m date       \u001b[0m\u001b[1m total_cases\u001b[0m ⋯\n",
       "\u001b[1m       \u001b[0m│\u001b[90m String15 \u001b[0m\u001b[90m String15      \u001b[0m\u001b[90m String              \u001b[0m\u001b[90m Date       \u001b[0m\u001b[90m Float64    \u001b[0m ⋯\n",
       "───────┼────────────────────────────────────────────────────────────────────────\n",
       "     1 │ ATG       North America  Antigua and Barbuda  2021-05-17       1251.0 ⋯\n",
       "     2 │ ATG       North America  Antigua and Barbuda  2021-05-21       1255.0\n",
       "     3 │ ATG       North America  Antigua and Barbuda  2021-05-25       1258.0\n",
       "     4 │ ATG       North America  Antigua and Barbuda  2021-05-26       1258.0\n",
       "     5 │ ATG       North America  Antigua and Barbuda  2021-05-27       1258.0 ⋯\n",
       "     6 │ ATG       North America  Antigua and Barbuda  2021-05-29       1259.0\n",
       "     7 │ ATG       North America  Antigua and Barbuda  2021-05-31       1260.0\n",
       "     8 │ ATG       North America  Antigua and Barbuda  2021-06-03       1262.0\n",
       "     9 │ ATG       North America  Antigua and Barbuda  2021-06-06       1263.0 ⋯\n",
       "    10 │ ATG       North America  Antigua and Barbuda  2021-06-07       1263.0\n",
       "    11 │ ATG       North America  Antigua and Barbuda  2021-06-09       1263.0\n",
       "   ⋮   │    ⋮            ⋮                 ⋮               ⋮            ⋮      ⋱\n",
       " 10098 │ VEN       South America  Venezuela            2021-09-21     356262.0\n",
       " 10099 │ VEN       South America  Venezuela            2021-09-27     363300.0 ⋯\n",
       " 10100 │ VEN       South America  Venezuela            2021-10-08     380856.0\n",
       " 10101 │ VEN       South America  Venezuela            2021-11-05     411574.0\n",
       " 10102 │ VEN       South America  Venezuela            2021-11-29     431296.0\n",
       " 10103 │ VEN       South America  Venezuela            2021-12-17     440398.0 ⋯\n",
       " 10104 │ VEN       South America  Venezuela            2022-01-28     479011.0\n",
       " 10105 │ VEN       South America  Venezuela            2022-02-04     492678.0\n",
       " 10106 │ VEN       South America  Venezuela            2022-02-11     501586.0\n",
       " 10107 │ VEN       South America  Venezuela            2022-03-25     520038.0 ⋯\n",
       "\u001b[36m                                               10 columns and 10086 rows omitted\u001b[0m"
      ]
     },
     "execution_count": 20,
     "metadata": {},
     "output_type": "execute_result"
    }
   ],
   "source": [
    "america_df = filter(row -> (row[:continent] == \"North America\") | (row[:continent] == \"South America\"), cases_df)"
   ]
  },
  {
   "cell_type": "code",
   "execution_count": 21,
   "metadata": {},
   "outputs": [
    {
     "data": {
      "text/html": [
       "<div class=\"data-frame\"><p>37 rows × 2 columns</p><table class=\"data-frame\"><thead><tr><th></th><th>location</th><th>new_cases_maximum</th></tr><tr><th></th><th title=\"String\">String</th><th title=\"Float64\">Float64</th></tr></thead><tbody><tr><th>1</th><td>Antigua and Barbuda</td><td>419.0</td></tr><tr><th>2</th><td>Argentina</td><td>139853.0</td></tr><tr><th>3</th><td>Aruba</td><td>1162.0</td></tr><tr><th>4</th><td>Bahamas</td><td>315.0</td></tr><tr><th>5</th><td>Barbados</td><td>1329.0</td></tr><tr><th>6</th><td>Belize</td><td>794.0</td></tr><tr><th>7</th><td>Bermuda</td><td>661.0</td></tr><tr><th>8</th><td>Bolivia</td><td>23611.0</td></tr><tr><th>9</th><td>Brazil</td><td>287149.0</td></tr><tr><th>10</th><td>Canada</td><td>63678.0</td></tr><tr><th>11</th><td>Cayman Islands</td><td>472.0</td></tr><tr><th>12</th><td>Chile</td><td>41651.0</td></tr><tr><th>13</th><td>Colombia</td><td>35575.0</td></tr><tr><th>14</th><td>Costa Rica</td><td>18188.0</td></tr><tr><th>15</th><td>Dominica</td><td>321.0</td></tr><tr><th>16</th><td>Dominican Republic</td><td>7439.0</td></tr><tr><th>17</th><td>Ecuador</td><td>17670.0</td></tr><tr><th>18</th><td>El Salvador</td><td>11324.0</td></tr><tr><th>19</th><td>Grenada</td><td>293.0</td></tr><tr><th>20</th><td>Guatemala</td><td>9946.0</td></tr><tr><th>21</th><td>Guyana</td><td>892.0</td></tr><tr><th>22</th><td>Haiti</td><td>121.0</td></tr><tr><th>23</th><td>Honduras</td><td>3812.0</td></tr><tr><th>24</th><td>Jamaica</td><td>1968.0</td></tr><tr><th>25</th><td>Mexico</td><td>109895.0</td></tr><tr><th>26</th><td>Nicaragua</td><td>85.0</td></tr><tr><th>27</th><td>Panama</td><td>17793.0</td></tr><tr><th>28</th><td>Paraguay</td><td>6049.0</td></tr><tr><th>29</th><td>Peru</td><td>59470.0</td></tr><tr><th>30</th><td>Saint Kitts and Nevis</td><td>238.0</td></tr><tr><th>&vellip;</th><td>&vellip;</td><td>&vellip;</td></tr></tbody></table></div>"
      ],
      "text/latex": [
       "\\begin{tabular}{r|cc}\n",
       "\t& location & new\\_cases\\_maximum\\\\\n",
       "\t\\hline\n",
       "\t& String & Float64\\\\\n",
       "\t\\hline\n",
       "\t1 & Antigua and Barbuda & 419.0 \\\\\n",
       "\t2 & Argentina & 139853.0 \\\\\n",
       "\t3 & Aruba & 1162.0 \\\\\n",
       "\t4 & Bahamas & 315.0 \\\\\n",
       "\t5 & Barbados & 1329.0 \\\\\n",
       "\t6 & Belize & 794.0 \\\\\n",
       "\t7 & Bermuda & 661.0 \\\\\n",
       "\t8 & Bolivia & 23611.0 \\\\\n",
       "\t9 & Brazil & 287149.0 \\\\\n",
       "\t10 & Canada & 63678.0 \\\\\n",
       "\t11 & Cayman Islands & 472.0 \\\\\n",
       "\t12 & Chile & 41651.0 \\\\\n",
       "\t13 & Colombia & 35575.0 \\\\\n",
       "\t14 & Costa Rica & 18188.0 \\\\\n",
       "\t15 & Dominica & 321.0 \\\\\n",
       "\t16 & Dominican Republic & 7439.0 \\\\\n",
       "\t17 & Ecuador & 17670.0 \\\\\n",
       "\t18 & El Salvador & 11324.0 \\\\\n",
       "\t19 & Grenada & 293.0 \\\\\n",
       "\t20 & Guatemala & 9946.0 \\\\\n",
       "\t21 & Guyana & 892.0 \\\\\n",
       "\t22 & Haiti & 121.0 \\\\\n",
       "\t23 & Honduras & 3812.0 \\\\\n",
       "\t24 & Jamaica & 1968.0 \\\\\n",
       "\t25 & Mexico & 109895.0 \\\\\n",
       "\t26 & Nicaragua & 85.0 \\\\\n",
       "\t27 & Panama & 17793.0 \\\\\n",
       "\t28 & Paraguay & 6049.0 \\\\\n",
       "\t29 & Peru & 59470.0 \\\\\n",
       "\t30 & Saint Kitts and Nevis & 238.0 \\\\\n",
       "\t$\\dots$ & $\\dots$ & $\\dots$ \\\\\n",
       "\\end{tabular}\n"
      ],
      "text/plain": [
       "\u001b[1m37×2 DataFrame\u001b[0m\n",
       "\u001b[1m Row \u001b[0m│\u001b[1m location                         \u001b[0m\u001b[1m new_cases_maximum \u001b[0m\n",
       "\u001b[1m     \u001b[0m│\u001b[90m String                           \u001b[0m\u001b[90m Float64           \u001b[0m\n",
       "─────┼─────────────────────────────────────────────────────\n",
       "   1 │ Antigua and Barbuda                     419.0\n",
       "   2 │ Argentina                            139853.0\n",
       "   3 │ Aruba                                  1162.0\n",
       "   4 │ Bahamas                                 315.0\n",
       "   5 │ Barbados                               1329.0\n",
       "   6 │ Belize                                  794.0\n",
       "   7 │ Bermuda                                 661.0\n",
       "   8 │ Bolivia                               23611.0\n",
       "   9 │ Brazil                               287149.0\n",
       "  10 │ Canada                                63678.0\n",
       "  11 │ Cayman Islands                          472.0\n",
       "  ⋮  │                ⋮                          ⋮\n",
       "  28 │ Paraguay                               6049.0\n",
       "  29 │ Peru                                  59470.0\n",
       "  30 │ Saint Kitts and Nevis                   238.0\n",
       "  31 │ Saint Lucia                             722.0\n",
       "  32 │ Saint Vincent and the Grenadines        205.0\n",
       "  33 │ Suriname                               1351.0\n",
       "  34 │ Trinidad and Tobago                    1259.0\n",
       "  35 │ United States                             1.35536e6\n",
       "  36 │ Uruguay                               13612.0\n",
       "  37 │ Venezuela                              2168.0\n",
       "\u001b[36m                                            16 rows omitted\u001b[0m"
      ]
     },
     "execution_count": 21,
     "metadata": {},
     "output_type": "execute_result"
    }
   ],
   "source": [
    "max_cases = groupby(america_df, :location)\n",
    "combine(max_cases, \"new_cases\" => maximum)"
   ]
  },
  {
   "cell_type": "code",
   "execution_count": 39,
   "metadata": {},
   "outputs": [
    {
     "data": {
      "text/html": [
       "<div class=\"data-frame\"><p>37 rows × 2 columns</p><table class=\"data-frame\"><thead><tr><th></th><th>location</th><th>new_cases_minimum</th></tr><tr><th></th><th title=\"String\">String</th><th title=\"Float64\">Float64</th></tr></thead><tbody><tr><th>1</th><td>Antigua and Barbuda</td><td>0.0</td></tr><tr><th>2</th><td>Argentina</td><td>0.0</td></tr><tr><th>3</th><td>Aruba</td><td>0.0</td></tr><tr><th>4</th><td>Bahamas</td><td>0.0</td></tr><tr><th>5</th><td>Barbados</td><td>0.0</td></tr><tr><th>6</th><td>Belize</td><td>0.0</td></tr><tr><th>7</th><td>Bermuda</td><td>0.0</td></tr><tr><th>8</th><td>Bolivia</td><td>0.0</td></tr><tr><th>9</th><td>Brazil</td><td>0.0</td></tr><tr><th>10</th><td>Canada</td><td>0.0</td></tr><tr><th>11</th><td>Cayman Islands</td><td>0.0</td></tr><tr><th>12</th><td>Chile</td><td>0.0</td></tr><tr><th>13</th><td>Colombia</td><td>0.0</td></tr><tr><th>14</th><td>Costa Rica</td><td>0.0</td></tr><tr><th>15</th><td>Dominica</td><td>0.0</td></tr><tr><th>16</th><td>Dominican Republic</td><td>0.0</td></tr><tr><th>17</th><td>Ecuador</td><td>0.0</td></tr><tr><th>18</th><td>El Salvador</td><td>0.0</td></tr><tr><th>19</th><td>Grenada</td><td>0.0</td></tr><tr><th>20</th><td>Guatemala</td><td>0.0</td></tr><tr><th>21</th><td>Guyana</td><td>0.0</td></tr><tr><th>22</th><td>Haiti</td><td>0.0</td></tr><tr><th>23</th><td>Honduras</td><td>0.0</td></tr><tr><th>24</th><td>Jamaica</td><td>0.0</td></tr><tr><th>25</th><td>Mexico</td><td>0.0</td></tr><tr><th>26</th><td>Nicaragua</td><td>0.0</td></tr><tr><th>27</th><td>Panama</td><td>0.0</td></tr><tr><th>28</th><td>Paraguay</td><td>0.0</td></tr><tr><th>29</th><td>Peru</td><td>0.0</td></tr><tr><th>30</th><td>Saint Kitts and Nevis</td><td>0.0</td></tr><tr><th>&vellip;</th><td>&vellip;</td><td>&vellip;</td></tr></tbody></table></div>"
      ],
      "text/latex": [
       "\\begin{tabular}{r|cc}\n",
       "\t& location & new\\_cases\\_minimum\\\\\n",
       "\t\\hline\n",
       "\t& String & Float64\\\\\n",
       "\t\\hline\n",
       "\t1 & Antigua and Barbuda & 0.0 \\\\\n",
       "\t2 & Argentina & 0.0 \\\\\n",
       "\t3 & Aruba & 0.0 \\\\\n",
       "\t4 & Bahamas & 0.0 \\\\\n",
       "\t5 & Barbados & 0.0 \\\\\n",
       "\t6 & Belize & 0.0 \\\\\n",
       "\t7 & Bermuda & 0.0 \\\\\n",
       "\t8 & Bolivia & 0.0 \\\\\n",
       "\t9 & Brazil & 0.0 \\\\\n",
       "\t10 & Canada & 0.0 \\\\\n",
       "\t11 & Cayman Islands & 0.0 \\\\\n",
       "\t12 & Chile & 0.0 \\\\\n",
       "\t13 & Colombia & 0.0 \\\\\n",
       "\t14 & Costa Rica & 0.0 \\\\\n",
       "\t15 & Dominica & 0.0 \\\\\n",
       "\t16 & Dominican Republic & 0.0 \\\\\n",
       "\t17 & Ecuador & 0.0 \\\\\n",
       "\t18 & El Salvador & 0.0 \\\\\n",
       "\t19 & Grenada & 0.0 \\\\\n",
       "\t20 & Guatemala & 0.0 \\\\\n",
       "\t21 & Guyana & 0.0 \\\\\n",
       "\t22 & Haiti & 0.0 \\\\\n",
       "\t23 & Honduras & 0.0 \\\\\n",
       "\t24 & Jamaica & 0.0 \\\\\n",
       "\t25 & Mexico & 0.0 \\\\\n",
       "\t26 & Nicaragua & 0.0 \\\\\n",
       "\t27 & Panama & 0.0 \\\\\n",
       "\t28 & Paraguay & 0.0 \\\\\n",
       "\t29 & Peru & 0.0 \\\\\n",
       "\t30 & Saint Kitts and Nevis & 0.0 \\\\\n",
       "\t$\\dots$ & $\\dots$ & $\\dots$ \\\\\n",
       "\\end{tabular}\n"
      ],
      "text/plain": [
       "\u001b[1m37×2 DataFrame\u001b[0m\n",
       "\u001b[1m Row \u001b[0m│\u001b[1m location                         \u001b[0m\u001b[1m new_cases_minimum \u001b[0m\n",
       "\u001b[1m     \u001b[0m│\u001b[90m String                           \u001b[0m\u001b[90m Float64           \u001b[0m\n",
       "─────┼─────────────────────────────────────────────────────\n",
       "   1 │ Antigua and Barbuda                             0.0\n",
       "   2 │ Argentina                                       0.0\n",
       "   3 │ Aruba                                           0.0\n",
       "   4 │ Bahamas                                         0.0\n",
       "   5 │ Barbados                                        0.0\n",
       "   6 │ Belize                                          0.0\n",
       "   7 │ Bermuda                                         0.0\n",
       "   8 │ Bolivia                                         0.0\n",
       "   9 │ Brazil                                          0.0\n",
       "  10 │ Canada                                          0.0\n",
       "  11 │ Cayman Islands                                  0.0\n",
       "  ⋮  │                ⋮                          ⋮\n",
       "  28 │ Paraguay                                        0.0\n",
       "  29 │ Peru                                            0.0\n",
       "  30 │ Saint Kitts and Nevis                           0.0\n",
       "  31 │ Saint Lucia                                     0.0\n",
       "  32 │ Saint Vincent and the Grenadines                0.0\n",
       "  33 │ Suriname                                        0.0\n",
       "  34 │ Trinidad and Tobago                             0.0\n",
       "  35 │ United States                                4265.0\n",
       "  36 │ Uruguay                                         0.0\n",
       "  37 │ Venezuela                                       0.0\n",
       "\u001b[36m                                            16 rows omitted\u001b[0m"
      ]
     },
     "execution_count": 39,
     "metadata": {},
     "output_type": "execute_result"
    }
   ],
   "source": [
    "min_cases = groupby(america_df, :location)\n",
    "combine(min_cases, :new_cases => minimum)"
   ]
  },
  {
   "cell_type": "code",
   "execution_count": 23,
   "metadata": {},
   "outputs": [
    {
     "data": {
      "text/html": [
       "<div class=\"data-frame\"><p>37 rows × 2 columns</p><table class=\"data-frame\"><thead><tr><th></th><th>location</th><th>total_deaths_per_country</th></tr><tr><th></th><th title=\"String\">String</th><th title=\"Float64\">Float64</th></tr></thead><tbody><tr><th>1</th><td>Antigua and Barbuda</td><td>140.0</td></tr><tr><th>2</th><td>Argentina</td><td>129830.0</td></tr><tr><th>3</th><td>Aruba</td><td>271.0</td></tr><tr><th>4</th><td>Bahamas</td><td>823.0</td></tr><tr><th>5</th><td>Barbados</td><td>559.0</td></tr><tr><th>6</th><td>Belize</td><td>680.0</td></tr><tr><th>7</th><td>Bermuda</td><td>140.0</td></tr><tr><th>8</th><td>Bolivia</td><td>22177.0</td></tr><tr><th>9</th><td>Brazil</td><td>685203.0</td></tr><tr><th>10</th><td>Canada</td><td>44662.0</td></tr><tr><th>11</th><td>Cayman Islands</td><td>29.0</td></tr><tr><th>12</th><td>Chile</td><td>60822.0</td></tr><tr><th>13</th><td>Colombia</td><td>141406.0</td></tr><tr><th>14</th><td>Costa Rica</td><td>8808.0</td></tr><tr><th>15</th><td>Dominica</td><td>68.0</td></tr><tr><th>16</th><td>Dominican Republic</td><td>4384.0</td></tr><tr><th>17</th><td>Ecuador</td><td>35815.0</td></tr><tr><th>18</th><td>El Salvador</td><td>4190.0</td></tr><tr><th>19</th><td>Grenada</td><td>236.0</td></tr><tr><th>20</th><td>Guatemala</td><td>19644.0</td></tr><tr><th>21</th><td>Guyana</td><td>1271.0</td></tr><tr><th>22</th><td>Haiti</td><td>841.0</td></tr><tr><th>23</th><td>Honduras</td><td>10989.0</td></tr><tr><th>24</th><td>Jamaica</td><td>3290.0</td></tr><tr><th>25</th><td>Mexico</td><td>329572.0</td></tr><tr><th>26</th><td>Nicaragua</td><td>244.0</td></tr><tr><th>27</th><td>Panama</td><td>8480.0</td></tr><tr><th>28</th><td>Paraguay</td><td>19530.0</td></tr><tr><th>29</th><td>Peru</td><td>216151.0</td></tr><tr><th>30</th><td>Saint Kitts and Nevis</td><td>46.0</td></tr><tr><th>&vellip;</th><td>&vellip;</td><td>&vellip;</td></tr></tbody></table></div>"
      ],
      "text/latex": [
       "\\begin{tabular}{r|cc}\n",
       "\t& location & total\\_deaths\\_per\\_country\\\\\n",
       "\t\\hline\n",
       "\t& String & Float64\\\\\n",
       "\t\\hline\n",
       "\t1 & Antigua and Barbuda & 140.0 \\\\\n",
       "\t2 & Argentina & 129830.0 \\\\\n",
       "\t3 & Aruba & 271.0 \\\\\n",
       "\t4 & Bahamas & 823.0 \\\\\n",
       "\t5 & Barbados & 559.0 \\\\\n",
       "\t6 & Belize & 680.0 \\\\\n",
       "\t7 & Bermuda & 140.0 \\\\\n",
       "\t8 & Bolivia & 22177.0 \\\\\n",
       "\t9 & Brazil & 685203.0 \\\\\n",
       "\t10 & Canada & 44662.0 \\\\\n",
       "\t11 & Cayman Islands & 29.0 \\\\\n",
       "\t12 & Chile & 60822.0 \\\\\n",
       "\t13 & Colombia & 141406.0 \\\\\n",
       "\t14 & Costa Rica & 8808.0 \\\\\n",
       "\t15 & Dominica & 68.0 \\\\\n",
       "\t16 & Dominican Republic & 4384.0 \\\\\n",
       "\t17 & Ecuador & 35815.0 \\\\\n",
       "\t18 & El Salvador & 4190.0 \\\\\n",
       "\t19 & Grenada & 236.0 \\\\\n",
       "\t20 & Guatemala & 19644.0 \\\\\n",
       "\t21 & Guyana & 1271.0 \\\\\n",
       "\t22 & Haiti & 841.0 \\\\\n",
       "\t23 & Honduras & 10989.0 \\\\\n",
       "\t24 & Jamaica & 3290.0 \\\\\n",
       "\t25 & Mexico & 329572.0 \\\\\n",
       "\t26 & Nicaragua & 244.0 \\\\\n",
       "\t27 & Panama & 8480.0 \\\\\n",
       "\t28 & Paraguay & 19530.0 \\\\\n",
       "\t29 & Peru & 216151.0 \\\\\n",
       "\t30 & Saint Kitts and Nevis & 46.0 \\\\\n",
       "\t$\\dots$ & $\\dots$ & $\\dots$ \\\\\n",
       "\\end{tabular}\n"
      ],
      "text/plain": [
       "\u001b[1m37×2 DataFrame\u001b[0m\n",
       "\u001b[1m Row \u001b[0m│\u001b[1m location                         \u001b[0m\u001b[1m total_deaths_per_country \u001b[0m\n",
       "\u001b[1m     \u001b[0m│\u001b[90m String                           \u001b[0m\u001b[90m Float64                  \u001b[0m\n",
       "─────┼────────────────────────────────────────────────────────────\n",
       "   1 │ Antigua and Barbuda                            140.0\n",
       "   2 │ Argentina                                   129830.0\n",
       "   3 │ Aruba                                          271.0\n",
       "   4 │ Bahamas                                        823.0\n",
       "   5 │ Barbados                                       559.0\n",
       "   6 │ Belize                                         680.0\n",
       "   7 │ Bermuda                                        140.0\n",
       "   8 │ Bolivia                                      22177.0\n",
       "   9 │ Brazil                                      685203.0\n",
       "  10 │ Canada                                       44662.0\n",
       "  11 │ Cayman Islands                                  29.0\n",
       "  ⋮  │                ⋮                             ⋮\n",
       "  28 │ Paraguay                                     19530.0\n",
       "  29 │ Peru                                        216151.0\n",
       "  30 │ Saint Kitts and Nevis                           46.0\n",
       "  31 │ Saint Lucia                                    391.0\n",
       "  32 │ Saint Vincent and the Grenadines               115.0\n",
       "  33 │ Suriname                                      1339.0\n",
       "  34 │ Trinidad and Tobago                           4189.0\n",
       "  35 │ United States                                    1.05138e6\n",
       "  36 │ Uruguay                                       7462.0\n",
       "  37 │ Venezuela                                     5676.0\n",
       "\u001b[36m                                                   16 rows omitted\u001b[0m"
      ]
     },
     "execution_count": 23,
     "metadata": {},
     "output_type": "execute_result"
    }
   ],
   "source": [
    "max_deaths = groupby(america_df, :location)\n",
    "combine(max_deaths, \"total_deaths\" => maximum => \"total_deaths_per_country\")"
   ]
  },
  {
   "cell_type": "code",
   "execution_count": 24,
   "metadata": {},
   "outputs": [
    {
     "data": {
      "text/html": [
       "<div class=\"data-frame\"><p>37 rows × 2 columns</p><table class=\"data-frame\"><thead><tr><th></th><th>location</th><th>new_cases_per_million_median</th></tr><tr><th></th><th title=\"String\">String</th><th title=\"Float64\">Float64</th></tr></thead><tbody><tr><th>1</th><td>Antigua and Barbuda</td><td>0.0</td></tr><tr><th>2</th><td>Argentina</td><td>132.529</td></tr><tr><th>3</th><td>Aruba</td><td>150.184</td></tr><tr><th>4</th><td>Bahamas</td><td>34.322</td></tr><tr><th>5</th><td>Barbados</td><td>522.76</td></tr><tr><th>6</th><td>Belize</td><td>153.738</td></tr><tr><th>7</th><td>Bermuda</td><td>0.0</td></tr><tr><th>8</th><td>Bolivia</td><td>55.714</td></tr><tr><th>9</th><td>Brazil</td><td>156.43</td></tr><tr><th>10</th><td>Canada</td><td>95.636</td></tr><tr><th>11</th><td>Cayman Islands</td><td>14.677</td></tr><tr><th>12</th><td>Chile</td><td>227.413</td></tr><tr><th>13</th><td>Colombia</td><td>157.289</td></tr><tr><th>14</th><td>Costa Rica</td><td>244.666</td></tr><tr><th>15</th><td>Dominica</td><td>0.0</td></tr><tr><th>16</th><td>Dominican Republic</td><td>35.753</td></tr><tr><th>17</th><td>Ecuador</td><td>31.689</td></tr><tr><th>18</th><td>El Salvador</td><td>0.0</td></tr><tr><th>19</th><td>Grenada</td><td>0.0</td></tr><tr><th>20</th><td>Guatemala</td><td>75.759</td></tr><tr><th>21</th><td>Guyana</td><td>106.89</td></tr><tr><th>22</th><td>Haiti</td><td>2.359</td></tr><tr><th>23</th><td>Honduras</td><td>58.1315</td></tr><tr><th>24</th><td>Jamaica</td><td>34.127</td></tr><tr><th>25</th><td>Mexico</td><td>41.561</td></tr><tr><th>26</th><td>Nicaragua</td><td>0.0</td></tr><tr><th>27</th><td>Panama</td><td>111.347</td></tr><tr><th>28</th><td>Paraguay</td><td>223.903</td></tr><tr><th>29</th><td>Peru</td><td>44.92</td></tr><tr><th>30</th><td>Saint Kitts and Nevis</td><td>84.023</td></tr><tr><th>&vellip;</th><td>&vellip;</td><td>&vellip;</td></tr></tbody></table></div>"
      ],
      "text/latex": [
       "\\begin{tabular}{r|cc}\n",
       "\t& location & new\\_cases\\_per\\_million\\_median\\\\\n",
       "\t\\hline\n",
       "\t& String & Float64\\\\\n",
       "\t\\hline\n",
       "\t1 & Antigua and Barbuda & 0.0 \\\\\n",
       "\t2 & Argentina & 132.529 \\\\\n",
       "\t3 & Aruba & 150.184 \\\\\n",
       "\t4 & Bahamas & 34.322 \\\\\n",
       "\t5 & Barbados & 522.76 \\\\\n",
       "\t6 & Belize & 153.738 \\\\\n",
       "\t7 & Bermuda & 0.0 \\\\\n",
       "\t8 & Bolivia & 55.714 \\\\\n",
       "\t9 & Brazil & 156.43 \\\\\n",
       "\t10 & Canada & 95.636 \\\\\n",
       "\t11 & Cayman Islands & 14.677 \\\\\n",
       "\t12 & Chile & 227.413 \\\\\n",
       "\t13 & Colombia & 157.289 \\\\\n",
       "\t14 & Costa Rica & 244.666 \\\\\n",
       "\t15 & Dominica & 0.0 \\\\\n",
       "\t16 & Dominican Republic & 35.753 \\\\\n",
       "\t17 & Ecuador & 31.689 \\\\\n",
       "\t18 & El Salvador & 0.0 \\\\\n",
       "\t19 & Grenada & 0.0 \\\\\n",
       "\t20 & Guatemala & 75.759 \\\\\n",
       "\t21 & Guyana & 106.89 \\\\\n",
       "\t22 & Haiti & 2.359 \\\\\n",
       "\t23 & Honduras & 58.1315 \\\\\n",
       "\t24 & Jamaica & 34.127 \\\\\n",
       "\t25 & Mexico & 41.561 \\\\\n",
       "\t26 & Nicaragua & 0.0 \\\\\n",
       "\t27 & Panama & 111.347 \\\\\n",
       "\t28 & Paraguay & 223.903 \\\\\n",
       "\t29 & Peru & 44.92 \\\\\n",
       "\t30 & Saint Kitts and Nevis & 84.023 \\\\\n",
       "\t$\\dots$ & $\\dots$ & $\\dots$ \\\\\n",
       "\\end{tabular}\n"
      ],
      "text/plain": [
       "\u001b[1m37×2 DataFrame\u001b[0m\n",
       "\u001b[1m Row \u001b[0m│\u001b[1m location                         \u001b[0m\u001b[1m new_cases_per_million_median \u001b[0m\n",
       "\u001b[1m     \u001b[0m│\u001b[90m String                           \u001b[0m\u001b[90m Float64                      \u001b[0m\n",
       "─────┼────────────────────────────────────────────────────────────────\n",
       "   1 │ Antigua and Barbuda                                      0.0\n",
       "   2 │ Argentina                                              132.529\n",
       "   3 │ Aruba                                                  150.184\n",
       "   4 │ Bahamas                                                 34.322\n",
       "   5 │ Barbados                                               522.76\n",
       "   6 │ Belize                                                 153.738\n",
       "   7 │ Bermuda                                                  0.0\n",
       "   8 │ Bolivia                                                 55.714\n",
       "   9 │ Brazil                                                 156.43\n",
       "  10 │ Canada                                                  95.636\n",
       "  11 │ Cayman Islands                                          14.677\n",
       "  ⋮  │                ⋮                               ⋮\n",
       "  28 │ Paraguay                                               223.903\n",
       "  29 │ Peru                                                    44.92\n",
       "  30 │ Saint Kitts and Nevis                                   84.023\n",
       "  31 │ Saint Lucia                                            116.893\n",
       "  32 │ Saint Vincent and the Grenadines                        38.339\n",
       "  33 │ Suriname                                               223.497\n",
       "  34 │ Trinidad and Tobago                                    198.602\n",
       "  35 │ United States                                          237.012\n",
       "  36 │ Uruguay                                                 85.808\n",
       "  37 │ Venezuela                                               36.525\n",
       "\u001b[36m                                                       16 rows omitted\u001b[0m"
      ]
     },
     "execution_count": 24,
     "metadata": {},
     "output_type": "execute_result"
    }
   ],
   "source": [
    "new_cases_per_million = groupby(america_df, :location)\n",
    "combine(max_deaths, \"new_cases_per_million\" => median)"
   ]
  },
  {
   "cell_type": "code",
   "execution_count": 40,
   "metadata": {},
   "outputs": [
    {
     "data": {
      "text/html": [
       "<div class=\"data-frame\"><p>37 rows × 3 columns</p><table class=\"data-frame\"><thead><tr><th></th><th>location</th><th>total_deaths_per_million_mean</th><th>gdp_per_capita_mean</th></tr><tr><th></th><th title=\"String\">String</th><th title=\"Float64\">Float64</th><th title=\"Float64\">Float64</th></tr></thead><tbody><tr><th>1</th><td>Antigua and Barbuda</td><td>769.282</td><td>21490.9</td></tr><tr><th>2</th><td>Argentina</td><td>2275.03</td><td>18933.9</td></tr><tr><th>3</th><td>Aruba</td><td>1596.83</td><td>35973.8</td></tr><tr><th>4</th><td>Bahamas</td><td>1353.69</td><td>27717.8</td></tr><tr><th>5</th><td>Barbados</td><td>876.544</td><td>16978.1</td></tr><tr><th>6</th><td>Belize</td><td>1165.61</td><td>7824.36</td></tr><tr><th>7</th><td>Bermuda</td><td>1004.07</td><td>50669.3</td></tr><tr><th>8</th><td>Bolivia</td><td>1549.42</td><td>6885.83</td></tr><tr><th>9</th><td>Brazil</td><td>2592.49</td><td>14103.5</td></tr><tr><th>10</th><td>Canada</td><td>775.443</td><td>44017.6</td></tr><tr><th>11</th><td>Cayman Islands</td><td>100.438</td><td>49903.0</td></tr><tr><th>12</th><td>Chile</td><td>2069.76</td><td>22767.0</td></tr><tr><th>13</th><td>Colombia</td><td>2160.06</td><td>13254.9</td></tr><tr><th>14</th><td>Costa Rica</td><td>1130.21</td><td>15525.0</td></tr><tr><th>15</th><td>Dominica</td><td>672.704</td><td>9673.37</td></tr><tr><th>16</th><td>Dominican Republic</td><td>372.765</td><td>14600.9</td></tr><tr><th>17</th><td>Ecuador</td><td>1662.87</td><td>10581.9</td></tr><tr><th>18</th><td>El Salvador</td><td>483.862</td><td>7292.46</td></tr><tr><th>19</th><td>Grenada</td><td>1154.91</td><td>13593.9</td></tr><tr><th>20</th><td>Guatemala</td><td>734.865</td><td>7423.81</td></tr><tr><th>21</th><td>Guyana</td><td>1088.1</td><td>7435.05</td></tr><tr><th>22</th><td>Haiti</td><td>60.7814</td><td>1653.17</td></tr><tr><th>23</th><td>Honduras</td><td>854.411</td><td>4541.8</td></tr><tr><th>24</th><td>Jamaica</td><td>915.377</td><td>8193.57</td></tr><tr><th>25</th><td>Mexico</td><td>1989.65</td><td>17336.5</td></tr><tr><th>26</th><td>Nicaragua</td><td>33.171</td><td>5321.44</td></tr><tr><th>27</th><td>Panama</td><td>1640.04</td><td>22267.0</td></tr><tr><th>28</th><td>Paraguay</td><td>1652.27</td><td>8827.01</td></tr><tr><th>29</th><td>Peru</td><td>5845.09</td><td>12236.7</td></tr><tr><th>30</th><td>Saint Kitts and Nevis</td><td>332.525</td><td>24654.4</td></tr><tr><th>&vellip;</th><td>&vellip;</td><td>&vellip;</td><td>&vellip;</td></tr></tbody></table></div>"
      ],
      "text/latex": [
       "\\begin{tabular}{r|ccc}\n",
       "\t& location & total\\_deaths\\_per\\_million\\_mean & gdp\\_per\\_capita\\_mean\\\\\n",
       "\t\\hline\n",
       "\t& String & Float64 & Float64\\\\\n",
       "\t\\hline\n",
       "\t1 & Antigua and Barbuda & 769.282 & 21490.9 \\\\\n",
       "\t2 & Argentina & 2275.03 & 18933.9 \\\\\n",
       "\t3 & Aruba & 1596.83 & 35973.8 \\\\\n",
       "\t4 & Bahamas & 1353.69 & 27717.8 \\\\\n",
       "\t5 & Barbados & 876.544 & 16978.1 \\\\\n",
       "\t6 & Belize & 1165.61 & 7824.36 \\\\\n",
       "\t7 & Bermuda & 1004.07 & 50669.3 \\\\\n",
       "\t8 & Bolivia & 1549.42 & 6885.83 \\\\\n",
       "\t9 & Brazil & 2592.49 & 14103.5 \\\\\n",
       "\t10 & Canada & 775.443 & 44017.6 \\\\\n",
       "\t11 & Cayman Islands & 100.438 & 49903.0 \\\\\n",
       "\t12 & Chile & 2069.76 & 22767.0 \\\\\n",
       "\t13 & Colombia & 2160.06 & 13254.9 \\\\\n",
       "\t14 & Costa Rica & 1130.21 & 15525.0 \\\\\n",
       "\t15 & Dominica & 672.704 & 9673.37 \\\\\n",
       "\t16 & Dominican Republic & 372.765 & 14600.9 \\\\\n",
       "\t17 & Ecuador & 1662.87 & 10581.9 \\\\\n",
       "\t18 & El Salvador & 483.862 & 7292.46 \\\\\n",
       "\t19 & Grenada & 1154.91 & 13593.9 \\\\\n",
       "\t20 & Guatemala & 734.865 & 7423.81 \\\\\n",
       "\t21 & Guyana & 1088.1 & 7435.05 \\\\\n",
       "\t22 & Haiti & 60.7814 & 1653.17 \\\\\n",
       "\t23 & Honduras & 854.411 & 4541.8 \\\\\n",
       "\t24 & Jamaica & 915.377 & 8193.57 \\\\\n",
       "\t25 & Mexico & 1989.65 & 17336.5 \\\\\n",
       "\t26 & Nicaragua & 33.171 & 5321.44 \\\\\n",
       "\t27 & Panama & 1640.04 & 22267.0 \\\\\n",
       "\t28 & Paraguay & 1652.27 & 8827.01 \\\\\n",
       "\t29 & Peru & 5845.09 & 12236.7 \\\\\n",
       "\t30 & Saint Kitts and Nevis & 332.525 & 24654.4 \\\\\n",
       "\t$\\dots$ & $\\dots$ & $\\dots$ & $\\dots$ \\\\\n",
       "\\end{tabular}\n"
      ],
      "text/plain": [
       "\u001b[1m37×3 DataFrame\u001b[0m\n",
       "\u001b[1m Row \u001b[0m│\u001b[1m location                         \u001b[0m\u001b[1m total_deaths_per_million_mean \u001b[0m\u001b[1m gdp_pe\u001b[0m ⋯\n",
       "\u001b[1m     \u001b[0m│\u001b[90m String                           \u001b[0m\u001b[90m Float64                       \u001b[0m\u001b[90m Float6\u001b[0m ⋯\n",
       "─────┼──────────────────────────────────────────────────────────────────────────\n",
       "   1 │ Antigua and Barbuda                                     769.282         ⋯\n",
       "   2 │ Argentina                                              2275.03\n",
       "   3 │ Aruba                                                  1596.83\n",
       "   4 │ Bahamas                                                1353.69\n",
       "   5 │ Barbados                                                876.544         ⋯\n",
       "   6 │ Belize                                                 1165.61\n",
       "   7 │ Bermuda                                                1004.07\n",
       "   8 │ Bolivia                                                1549.42\n",
       "   9 │ Brazil                                                 2592.49          ⋯\n",
       "  10 │ Canada                                                  775.443\n",
       "  11 │ Cayman Islands                                          100.438\n",
       "  ⋮  │                ⋮                                ⋮                       ⋱\n",
       "  28 │ Paraguay                                               1652.27\n",
       "  29 │ Peru                                                   5845.09          ⋯\n",
       "  30 │ Saint Kitts and Nevis                                   332.525\n",
       "  31 │ Saint Lucia                                            1260.76\n",
       "  32 │ Saint Vincent and the Grenadines                        740.598\n",
       "  33 │ Suriname                                               1339.6           ⋯\n",
       "  34 │ Trinidad and Tobago                                    1592.23\n",
       "  35 │ United States                                          2227.29\n",
       "  36 │ Uruguay                                                1754.81\n",
       "  37 │ Venezuela                                               154.728         ⋯\n",
       "\u001b[36m                                                    1 column and 16 rows omitted\u001b[0m"
      ]
     },
     "execution_count": 40,
     "metadata": {},
     "output_type": "execute_result"
    }
   ],
   "source": [
    "gdp_analysis =  combine(groupby(america_df, :location), \"total_deaths_per_million\" => mean, \"gdp_per_capita\" => mean)"
   ]
  },
  {
   "cell_type": "markdown",
   "metadata": {},
   "source": [
    "Is there is a linear relationship between the **GDP per capita** and the **total deaths per million**?\n",
    "\n",
    "Let's make some statistics and take a look into the correlation matrix"
   ]
  },
  {
   "cell_type": "markdown",
   "metadata": {},
   "source": [
    "> Correlation is a statistical measure that expresses the extent to which two variables are linearly related (meaning they change together at a constant rate)."
   ]
  },
  {
   "cell_type": "markdown",
   "metadata": {},
   "source": [
    "- `Matrix`: Converts a dataframe into a matrix object.\n",
    "- `cor`: Returns the correlation matrix of the given data matrix."
   ]
  },
  {
   "cell_type": "code",
   "execution_count": 26,
   "metadata": {},
   "outputs": [
    {
     "data": {
      "text/plain": [
       "2×2 Matrix{Float64}:\n",
       " 1.0        0.0312768\n",
       " 0.0312768  1.0"
      ]
     },
     "execution_count": 26,
     "metadata": {},
     "output_type": "execute_result"
    }
   ],
   "source": [
    "gdp_analysis_matrix = gdp_analysis[:, [:total_deaths_per_million_mean, :gdp_per_capita_mean]]\n",
    "cor(Matrix(gdp_analysis_matrix))"
   ]
  },
  {
   "cell_type": "markdown",
   "metadata": {},
   "source": [
    "Note there is not linear relationship between `gdp_per_capita` and `total_deaths_per_million` as the correlation coefficient is close to zero.\n",
    "\n",
    "Is there a linear relation between all variables of our dataframe?\n",
    "\n",
    "Compute the correlation matrix of our dataframe and see:"
   ]
  },
  {
   "cell_type": "code",
   "execution_count": 27,
   "metadata": {},
   "outputs": [
    {
     "data": {
      "text/plain": [
       "11×11 Matrix{Float64}:\n",
       "  1.0         0.547456    0.369614   …  -0.00802082   0.930433    0.922082\n",
       "  0.547456    1.0         0.164437       0.0732822    0.512536    0.504659\n",
       "  0.369614    0.164437    1.0           -0.0195805    0.320807    0.333145\n",
       "  0.529093    0.360233    0.339168       0.00751575   0.47609     0.475993\n",
       "  0.0401668   0.265761    0.269526       0.184045     0.0134125   0.0181569\n",
       "  0.930491    0.528857    0.289463   …   0.00462507   0.957009    0.932798\n",
       "  0.47292     0.622901    0.0531288      0.203894     0.40829     0.367467\n",
       "  0.254573    0.108984    0.361777       0.0222548    0.307137    0.307339\n",
       " -0.00802082  0.0732822  -0.0195805      1.0         -0.0420967  -0.0502304\n",
       "  0.930433    0.512536    0.320807      -0.0420967    1.0         0.991881\n",
       "  0.922082    0.504659    0.333145   …  -0.0502304    0.991881    1.0"
      ]
     },
     "execution_count": 27,
     "metadata": {},
     "output_type": "execute_result"
    }
   ],
   "source": [
    "america_df_matrix = america_df[:, numeric_columns]\n",
    "cor(Matrix(america_df_matrix))"
   ]
  }
 ],
 "metadata": {
  "kernelspec": {
   "display_name": "Julia 1.7.3",
   "language": "julia",
   "name": "julia-1.7"
  },
  "language_info": {
   "file_extension": ".jl",
   "mimetype": "application/julia",
   "name": "julia",
   "version": "1.7.3"
  },
  "orig_nbformat": 4
 },
 "nbformat": 4,
 "nbformat_minor": 2
}
