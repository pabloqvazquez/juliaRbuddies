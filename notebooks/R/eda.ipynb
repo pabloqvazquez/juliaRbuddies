{
 "cells": [
  {
   "cell_type": "markdown",
   "metadata": {},
   "source": [
    "# **Exploratory Data Analysis**\n",
    "\n",
    "**Content**:\n",
    "1. What is Exploratory Data Analysis?\n",
    "2. Why is exploratory data analysis important in data science?\n",
    "3. A Statistical Approach\n",
    "4. Hands on!\n"
   ]
  },
  {
   "cell_type": "markdown",
   "metadata": {},
   "source": [
    "Exploratory Data Analysis refers to the critical process of performing **initial investigations on data** so as to discover **patterns**, to **spot anomalies**, to test hypothesis and to **check assumptions** with the help of summary statistics and graphical representations.\n",
    "\n",
    "Exploratory Data Analysis (**EDA**) is used by data scientists to **analyze** and **investigate** data sets and **summarize their main characteristics**."
   ]
  },
  {
   "cell_type": "markdown",
   "metadata": {},
   "source": [
    "> ##### **EDA** is all about making sense of data in hand, before getting them dirty with it. <br><br>\n"
   ]
  },
  {
   "cell_type": "markdown",
   "metadata": {},
   "source": [
    "### **Why is exploratory data analysis important in data science?**"
   ]
  },
  {
   "cell_type": "markdown",
   "metadata": {},
   "source": [
    "The main purpose of EDA is to help look at data before making any assumptions. \n",
    "It can help identify obvious errors, as well as better understand patterns within the data, detect outliers or anomalous events, \n",
    "find interesting relations among the variables.\n",
    "\n",
    "- Data scientists can use exploratory analysis to ensure the results they produce are valid and applicable to any desired business outcomes and goals. \n",
    "- EDA also helps stakeholders by confirming they are asking the right questions. \n",
    "\n",
    "EDA can help answer questions about standard deviations, categorical variables, and confidence intervals.\n",
    "\n",
    " Once EDA is complete and insights are drawn, its features can then be used for more sophisticated data analysis or modeling, including machine learning."
   ]
  },
  {
   "cell_type": "markdown",
   "metadata": {},
   "source": [
    "> **\"Data combined with practical methods can answer questions and guide decisions under uncertainty\"** "
   ]
  },
  {
   "cell_type": "markdown",
   "metadata": {},
   "source": [
    "### **A Statistical Approach**\n"
   ]
  },
  {
   "cell_type": "markdown",
   "metadata": {},
   "source": [
    "When doing EDA, we might want **evidence** that is more persuasive and an answer that is more reliable.\n",
    "\n",
    "To face limitations of **anecdotal evidence** and other non-reliable sources of data, we will use some helpful tool of statistics:\n",
    "1. Data Collection\n",
    "2. Descriptive statistics\n",
    "3. Exploratory Data Analysis\n",
    "4. Estimation\n",
    "5. Hyphotesis testing\n",
    "\n",
    "> **Anecdotal evidence**: Evidence, often personal, that is collected casually rather than by a well-designed study. <br><br>\n",
    "> Learn more about how Anecdotal Evidence can beat you: https://statisticsbyjim.com/basics/anecdotal-evidence/\n",
    "\n",
    "Anecdotal evidence usually fails, because: \n",
    "\n",
    "- **Small number of observations**  \n",
    "- **Selection bias:** Individuals or groups in a study differ systematically from the population of interest leading to a systematic error in an association or outcome.\n",
    "- **Confirmation bias:** People who believe the claim might be more likely to contribute examples that confrm it. People who doubt the claim are more likely to cite counterexamples.\n",
    "- **Inaccuracy:** Anecdotes are often personal stories, and often misremem- bered, misrepresented, repeated inaccurately, etc.\n",
    "\n",
    "More types of bias: https://catalogofbias.org/biases/"
   ]
  },
  {
   "cell_type": "markdown",
   "metadata": {},
   "source": [
    "### **Hands On**"
   ]
  },
  {
   "cell_type": "markdown",
   "metadata": {},
   "source": [
    "We are going to work with Data on COVID-19 (coronavirus) by **Our World in Data**.\n",
    "\n",
    "Download the complete [COVID-19 dataset](https://covid.ourworldindata.org/data/owid-covid-data.csv).\n",
    "\n",
    "Take a look into this site for [more details](https://github.com/owid/covid-19-data/tree/master/public/data)."
   ]
  },
  {
   "cell_type": "markdown",
   "metadata": {},
   "source": [
    "Importing the neccesary libraries to perform our analysis:"
   ]
  },
  {
   "cell_type": "code",
   "execution_count": 2,
   "metadata": {
    "vscode": {
     "languageId": "r"
    }
   },
   "outputs": [
    {
     "name": "stderr",
     "output_type": "stream",
     "text": [
      "\n",
      "Attaching package: 'dplyr'\n",
      "\n",
      "\n",
      "The following objects are masked from 'package:stats':\n",
      "\n",
      "    filter, lag\n",
      "\n",
      "\n",
      "The following objects are masked from 'package:base':\n",
      "\n",
      "    intersect, setdiff, setequal, union\n",
      "\n",
      "\n",
      "\n",
      "Attaching package: 'tidyr'\n",
      "\n",
      "\n",
      "The following object is masked from 'package:magrittr':\n",
      "\n",
      "    extract\n",
      "\n",
      "\n"
     ]
    }
   ],
   "source": [
    "library(readr)\n",
    "library(magrittr)\n",
    "library(dplyr)\n",
    "library(tidyr)"
   ]
  },
  {
   "cell_type": "code",
   "execution_count": 3,
   "metadata": {
    "vscode": {
     "languageId": "r"
    }
   },
   "outputs": [
    {
     "data": {
      "text/html": [
       "<table class=\"dataframe\">\n",
       "<caption>A tibble: 6 × 67</caption>\n",
       "<thead>\n",
       "\t<tr><th scope=col>iso_code</th><th scope=col>continent</th><th scope=col>location</th><th scope=col>date</th><th scope=col>total_cases</th><th scope=col>new_cases</th><th scope=col>new_cases_smoothed</th><th scope=col>total_deaths</th><th scope=col>new_deaths</th><th scope=col>new_deaths_smoothed</th><th scope=col>⋯</th><th scope=col>female_smokers</th><th scope=col>male_smokers</th><th scope=col>handwashing_facilities</th><th scope=col>hospital_beds_per_thousand</th><th scope=col>life_expectancy</th><th scope=col>human_development_index</th><th scope=col>excess_mortality_cumulative_absolute</th><th scope=col>excess_mortality_cumulative</th><th scope=col>excess_mortality</th><th scope=col>excess_mortality_cumulative_per_million</th></tr>\n",
       "\t<tr><th scope=col>&lt;chr&gt;</th><th scope=col>&lt;chr&gt;</th><th scope=col>&lt;chr&gt;</th><th scope=col>&lt;date&gt;</th><th scope=col>&lt;dbl&gt;</th><th scope=col>&lt;dbl&gt;</th><th scope=col>&lt;dbl&gt;</th><th scope=col>&lt;dbl&gt;</th><th scope=col>&lt;dbl&gt;</th><th scope=col>&lt;dbl&gt;</th><th scope=col>⋯</th><th scope=col>&lt;dbl&gt;</th><th scope=col>&lt;dbl&gt;</th><th scope=col>&lt;dbl&gt;</th><th scope=col>&lt;dbl&gt;</th><th scope=col>&lt;dbl&gt;</th><th scope=col>&lt;dbl&gt;</th><th scope=col>&lt;dbl&gt;</th><th scope=col>&lt;dbl&gt;</th><th scope=col>&lt;dbl&gt;</th><th scope=col>&lt;dbl&gt;</th></tr>\n",
       "</thead>\n",
       "<tbody>\n",
       "\t<tr><td>AFG</td><td>Asia</td><td>Afghanistan</td><td>2020-02-24</td><td>5</td><td>5</td><td>   NA</td><td>NA</td><td>NA</td><td>NA</td><td>⋯</td><td>NA</td><td>NA</td><td>37.746</td><td>0.5</td><td>64.83</td><td>0.511</td><td>NA</td><td>NA</td><td>NA</td><td>NA</td></tr>\n",
       "\t<tr><td>AFG</td><td>Asia</td><td>Afghanistan</td><td>2020-02-25</td><td>5</td><td>0</td><td>   NA</td><td>NA</td><td>NA</td><td>NA</td><td>⋯</td><td>NA</td><td>NA</td><td>37.746</td><td>0.5</td><td>64.83</td><td>0.511</td><td>NA</td><td>NA</td><td>NA</td><td>NA</td></tr>\n",
       "\t<tr><td>AFG</td><td>Asia</td><td>Afghanistan</td><td>2020-02-26</td><td>5</td><td>0</td><td>   NA</td><td>NA</td><td>NA</td><td>NA</td><td>⋯</td><td>NA</td><td>NA</td><td>37.746</td><td>0.5</td><td>64.83</td><td>0.511</td><td>NA</td><td>NA</td><td>NA</td><td>NA</td></tr>\n",
       "\t<tr><td>AFG</td><td>Asia</td><td>Afghanistan</td><td>2020-02-27</td><td>5</td><td>0</td><td>   NA</td><td>NA</td><td>NA</td><td>NA</td><td>⋯</td><td>NA</td><td>NA</td><td>37.746</td><td>0.5</td><td>64.83</td><td>0.511</td><td>NA</td><td>NA</td><td>NA</td><td>NA</td></tr>\n",
       "\t<tr><td>AFG</td><td>Asia</td><td>Afghanistan</td><td>2020-02-28</td><td>5</td><td>0</td><td>   NA</td><td>NA</td><td>NA</td><td>NA</td><td>⋯</td><td>NA</td><td>NA</td><td>37.746</td><td>0.5</td><td>64.83</td><td>0.511</td><td>NA</td><td>NA</td><td>NA</td><td>NA</td></tr>\n",
       "\t<tr><td>AFG</td><td>Asia</td><td>Afghanistan</td><td>2020-02-29</td><td>5</td><td>0</td><td>0.714</td><td>NA</td><td>NA</td><td>NA</td><td>⋯</td><td>NA</td><td>NA</td><td>37.746</td><td>0.5</td><td>64.83</td><td>0.511</td><td>NA</td><td>NA</td><td>NA</td><td>NA</td></tr>\n",
       "</tbody>\n",
       "</table>\n"
      ],
      "text/latex": [
       "A tibble: 6 × 67\n",
       "\\begin{tabular}{lllllllllllllllllllll}\n",
       " iso\\_code & continent & location & date & total\\_cases & new\\_cases & new\\_cases\\_smoothed & total\\_deaths & new\\_deaths & new\\_deaths\\_smoothed & ⋯ & female\\_smokers & male\\_smokers & handwashing\\_facilities & hospital\\_beds\\_per\\_thousand & life\\_expectancy & human\\_development\\_index & excess\\_mortality\\_cumulative\\_absolute & excess\\_mortality\\_cumulative & excess\\_mortality & excess\\_mortality\\_cumulative\\_per\\_million\\\\\n",
       " <chr> & <chr> & <chr> & <date> & <dbl> & <dbl> & <dbl> & <dbl> & <dbl> & <dbl> & ⋯ & <dbl> & <dbl> & <dbl> & <dbl> & <dbl> & <dbl> & <dbl> & <dbl> & <dbl> & <dbl>\\\\\n",
       "\\hline\n",
       "\t AFG & Asia & Afghanistan & 2020-02-24 & 5 & 5 &    NA & NA & NA & NA & ⋯ & NA & NA & 37.746 & 0.5 & 64.83 & 0.511 & NA & NA & NA & NA\\\\\n",
       "\t AFG & Asia & Afghanistan & 2020-02-25 & 5 & 0 &    NA & NA & NA & NA & ⋯ & NA & NA & 37.746 & 0.5 & 64.83 & 0.511 & NA & NA & NA & NA\\\\\n",
       "\t AFG & Asia & Afghanistan & 2020-02-26 & 5 & 0 &    NA & NA & NA & NA & ⋯ & NA & NA & 37.746 & 0.5 & 64.83 & 0.511 & NA & NA & NA & NA\\\\\n",
       "\t AFG & Asia & Afghanistan & 2020-02-27 & 5 & 0 &    NA & NA & NA & NA & ⋯ & NA & NA & 37.746 & 0.5 & 64.83 & 0.511 & NA & NA & NA & NA\\\\\n",
       "\t AFG & Asia & Afghanistan & 2020-02-28 & 5 & 0 &    NA & NA & NA & NA & ⋯ & NA & NA & 37.746 & 0.5 & 64.83 & 0.511 & NA & NA & NA & NA\\\\\n",
       "\t AFG & Asia & Afghanistan & 2020-02-29 & 5 & 0 & 0.714 & NA & NA & NA & ⋯ & NA & NA & 37.746 & 0.5 & 64.83 & 0.511 & NA & NA & NA & NA\\\\\n",
       "\\end{tabular}\n"
      ],
      "text/markdown": [
       "\n",
       "A tibble: 6 × 67\n",
       "\n",
       "| iso_code &lt;chr&gt; | continent &lt;chr&gt; | location &lt;chr&gt; | date &lt;date&gt; | total_cases &lt;dbl&gt; | new_cases &lt;dbl&gt; | new_cases_smoothed &lt;dbl&gt; | total_deaths &lt;dbl&gt; | new_deaths &lt;dbl&gt; | new_deaths_smoothed &lt;dbl&gt; | ⋯ ⋯ | female_smokers &lt;dbl&gt; | male_smokers &lt;dbl&gt; | handwashing_facilities &lt;dbl&gt; | hospital_beds_per_thousand &lt;dbl&gt; | life_expectancy &lt;dbl&gt; | human_development_index &lt;dbl&gt; | excess_mortality_cumulative_absolute &lt;dbl&gt; | excess_mortality_cumulative &lt;dbl&gt; | excess_mortality &lt;dbl&gt; | excess_mortality_cumulative_per_million &lt;dbl&gt; |\n",
       "|---|---|---|---|---|---|---|---|---|---|---|---|---|---|---|---|---|---|---|---|---|\n",
       "| AFG | Asia | Afghanistan | 2020-02-24 | 5 | 5 |    NA | NA | NA | NA | ⋯ | NA | NA | 37.746 | 0.5 | 64.83 | 0.511 | NA | NA | NA | NA |\n",
       "| AFG | Asia | Afghanistan | 2020-02-25 | 5 | 0 |    NA | NA | NA | NA | ⋯ | NA | NA | 37.746 | 0.5 | 64.83 | 0.511 | NA | NA | NA | NA |\n",
       "| AFG | Asia | Afghanistan | 2020-02-26 | 5 | 0 |    NA | NA | NA | NA | ⋯ | NA | NA | 37.746 | 0.5 | 64.83 | 0.511 | NA | NA | NA | NA |\n",
       "| AFG | Asia | Afghanistan | 2020-02-27 | 5 | 0 |    NA | NA | NA | NA | ⋯ | NA | NA | 37.746 | 0.5 | 64.83 | 0.511 | NA | NA | NA | NA |\n",
       "| AFG | Asia | Afghanistan | 2020-02-28 | 5 | 0 |    NA | NA | NA | NA | ⋯ | NA | NA | 37.746 | 0.5 | 64.83 | 0.511 | NA | NA | NA | NA |\n",
       "| AFG | Asia | Afghanistan | 2020-02-29 | 5 | 0 | 0.714 | NA | NA | NA | ⋯ | NA | NA | 37.746 | 0.5 | 64.83 | 0.511 | NA | NA | NA | NA |\n",
       "\n"
      ],
      "text/plain": [
       "  iso_code continent location    date       total_cases new_cases\n",
       "1 AFG      Asia      Afghanistan 2020-02-24 5           5        \n",
       "2 AFG      Asia      Afghanistan 2020-02-25 5           0        \n",
       "3 AFG      Asia      Afghanistan 2020-02-26 5           0        \n",
       "4 AFG      Asia      Afghanistan 2020-02-27 5           0        \n",
       "5 AFG      Asia      Afghanistan 2020-02-28 5           0        \n",
       "6 AFG      Asia      Afghanistan 2020-02-29 5           0        \n",
       "  new_cases_smoothed total_deaths new_deaths new_deaths_smoothed <U+22EF>       \n",
       "1    NA              NA           NA         NA                  <U+22EF>\n",
       "2    NA              NA           NA         NA                  <U+22EF>\n",
       "3    NA              NA           NA         NA                  <U+22EF>\n",
       "4    NA              NA           NA         NA                  <U+22EF>\n",
       "5    NA              NA           NA         NA                  <U+22EF>\n",
       "6 0.714              NA           NA         NA                  <U+22EF>\n",
       "  female_smokers male_smokers handwashing_facilities hospital_beds_per_thousand\n",
       "1 NA             NA           37.746                 0.5                       \n",
       "2 NA             NA           37.746                 0.5                       \n",
       "3 NA             NA           37.746                 0.5                       \n",
       "4 NA             NA           37.746                 0.5                       \n",
       "5 NA             NA           37.746                 0.5                       \n",
       "6 NA             NA           37.746                 0.5                       \n",
       "  life_expectancy human_development_index excess_mortality_cumulative_absolute\n",
       "1 64.83           0.511                   NA                                  \n",
       "2 64.83           0.511                   NA                                  \n",
       "3 64.83           0.511                   NA                                  \n",
       "4 64.83           0.511                   NA                                  \n",
       "5 64.83           0.511                   NA                                  \n",
       "6 64.83           0.511                   NA                                  \n",
       "  excess_mortality_cumulative excess_mortality\n",
       "1 NA                          NA              \n",
       "2 NA                          NA              \n",
       "3 NA                          NA              \n",
       "4 NA                          NA              \n",
       "5 NA                          NA              \n",
       "6 NA                          NA              \n",
       "  excess_mortality_cumulative_per_million\n",
       "1 NA                                     \n",
       "2 NA                                     \n",
       "3 NA                                     \n",
       "4 NA                                     \n",
       "5 NA                                     \n",
       "6 NA                                     "
      ]
     },
     "metadata": {},
     "output_type": "display_data"
    }
   ],
   "source": [
    "df <- read_csv('https://covid.ourworldindata.org/data/owid-covid-data.csv', show_col_types = FALSE)\n",
    "head(df)\n"
   ]
  },
  {
   "cell_type": "markdown",
   "metadata": {},
   "source": [
    "This data set contains 215,638 observations and 67 columns."
   ]
  },
  {
   "cell_type": "code",
   "execution_count": 21,
   "metadata": {
    "vscode": {
     "languageId": "r"
    }
   },
   "outputs": [
    {
     "data": {
      "text/html": [
       "<style>\n",
       ".list-inline {list-style: none; margin:0; padding: 0}\n",
       ".list-inline>li {display: inline-block}\n",
       ".list-inline>li:not(:last-child)::after {content: \"\\00b7\"; padding: 0 .5ex}\n",
       "</style>\n",
       "<ol class=list-inline><li>215858</li><li>67</li></ol>\n"
      ],
      "text/latex": [
       "\\begin{enumerate*}\n",
       "\\item 215858\n",
       "\\item 67\n",
       "\\end{enumerate*}\n"
      ],
      "text/markdown": [
       "1. 215858\n",
       "2. 67\n",
       "\n",
       "\n"
      ],
      "text/plain": [
       "[1] 215858     67"
      ]
     },
     "metadata": {},
     "output_type": "display_data"
    }
   ],
   "source": [
    "dim(df)"
   ]
  },
  {
   "cell_type": "code",
   "execution_count": 22,
   "metadata": {
    "vscode": {
     "languageId": "r"
    }
   },
   "outputs": [
    {
     "data": {
      "text/html": [
       "<style>\n",
       ".list-inline {list-style: none; margin:0; padding: 0}\n",
       ".list-inline>li {display: inline-block}\n",
       ".list-inline>li:not(:last-child)::after {content: \"\\00b7\"; padding: 0 .5ex}\n",
       "</style>\n",
       "<ol class=list-inline><li>'iso_code'</li><li>'continent'</li><li>'location'</li><li>'date'</li><li>'total_cases'</li><li>'new_cases'</li><li>'new_cases_smoothed'</li><li>'total_deaths'</li><li>'new_deaths'</li><li>'new_deaths_smoothed'</li><li>'total_cases_per_million'</li><li>'new_cases_per_million'</li><li>'new_cases_smoothed_per_million'</li><li>'total_deaths_per_million'</li><li>'new_deaths_per_million'</li><li>'new_deaths_smoothed_per_million'</li><li>'reproduction_rate'</li><li>'icu_patients'</li><li>'icu_patients_per_million'</li><li>'hosp_patients'</li><li>'hosp_patients_per_million'</li><li>'weekly_icu_admissions'</li><li>'weekly_icu_admissions_per_million'</li><li>'weekly_hosp_admissions'</li><li>'weekly_hosp_admissions_per_million'</li><li>'total_tests'</li><li>'new_tests'</li><li>'total_tests_per_thousand'</li><li>'new_tests_per_thousand'</li><li>'new_tests_smoothed'</li><li>'new_tests_smoothed_per_thousand'</li><li>'positive_rate'</li><li>'tests_per_case'</li><li>'tests_units'</li><li>'total_vaccinations'</li><li>'people_vaccinated'</li><li>'people_fully_vaccinated'</li><li>'total_boosters'</li><li>'new_vaccinations'</li><li>'new_vaccinations_smoothed'</li><li>'total_vaccinations_per_hundred'</li><li>'people_vaccinated_per_hundred'</li><li>'people_fully_vaccinated_per_hundred'</li><li>'total_boosters_per_hundred'</li><li>'new_vaccinations_smoothed_per_million'</li><li>'new_people_vaccinated_smoothed'</li><li>'new_people_vaccinated_smoothed_per_hundred'</li><li>'stringency_index'</li><li>'population'</li><li>'population_density'</li><li>'median_age'</li><li>'aged_65_older'</li><li>'aged_70_older'</li><li>'gdp_per_capita'</li><li>'extreme_poverty'</li><li>'cardiovasc_death_rate'</li><li>'diabetes_prevalence'</li><li>'female_smokers'</li><li>'male_smokers'</li><li>'handwashing_facilities'</li><li>'hospital_beds_per_thousand'</li><li>'life_expectancy'</li><li>'human_development_index'</li><li>'excess_mortality_cumulative_absolute'</li><li>'excess_mortality_cumulative'</li><li>'excess_mortality'</li><li>'excess_mortality_cumulative_per_million'</li></ol>\n"
      ],
      "text/latex": [
       "\\begin{enumerate*}\n",
       "\\item 'iso\\_code'\n",
       "\\item 'continent'\n",
       "\\item 'location'\n",
       "\\item 'date'\n",
       "\\item 'total\\_cases'\n",
       "\\item 'new\\_cases'\n",
       "\\item 'new\\_cases\\_smoothed'\n",
       "\\item 'total\\_deaths'\n",
       "\\item 'new\\_deaths'\n",
       "\\item 'new\\_deaths\\_smoothed'\n",
       "\\item 'total\\_cases\\_per\\_million'\n",
       "\\item 'new\\_cases\\_per\\_million'\n",
       "\\item 'new\\_cases\\_smoothed\\_per\\_million'\n",
       "\\item 'total\\_deaths\\_per\\_million'\n",
       "\\item 'new\\_deaths\\_per\\_million'\n",
       "\\item 'new\\_deaths\\_smoothed\\_per\\_million'\n",
       "\\item 'reproduction\\_rate'\n",
       "\\item 'icu\\_patients'\n",
       "\\item 'icu\\_patients\\_per\\_million'\n",
       "\\item 'hosp\\_patients'\n",
       "\\item 'hosp\\_patients\\_per\\_million'\n",
       "\\item 'weekly\\_icu\\_admissions'\n",
       "\\item 'weekly\\_icu\\_admissions\\_per\\_million'\n",
       "\\item 'weekly\\_hosp\\_admissions'\n",
       "\\item 'weekly\\_hosp\\_admissions\\_per\\_million'\n",
       "\\item 'total\\_tests'\n",
       "\\item 'new\\_tests'\n",
       "\\item 'total\\_tests\\_per\\_thousand'\n",
       "\\item 'new\\_tests\\_per\\_thousand'\n",
       "\\item 'new\\_tests\\_smoothed'\n",
       "\\item 'new\\_tests\\_smoothed\\_per\\_thousand'\n",
       "\\item 'positive\\_rate'\n",
       "\\item 'tests\\_per\\_case'\n",
       "\\item 'tests\\_units'\n",
       "\\item 'total\\_vaccinations'\n",
       "\\item 'people\\_vaccinated'\n",
       "\\item 'people\\_fully\\_vaccinated'\n",
       "\\item 'total\\_boosters'\n",
       "\\item 'new\\_vaccinations'\n",
       "\\item 'new\\_vaccinations\\_smoothed'\n",
       "\\item 'total\\_vaccinations\\_per\\_hundred'\n",
       "\\item 'people\\_vaccinated\\_per\\_hundred'\n",
       "\\item 'people\\_fully\\_vaccinated\\_per\\_hundred'\n",
       "\\item 'total\\_boosters\\_per\\_hundred'\n",
       "\\item 'new\\_vaccinations\\_smoothed\\_per\\_million'\n",
       "\\item 'new\\_people\\_vaccinated\\_smoothed'\n",
       "\\item 'new\\_people\\_vaccinated\\_smoothed\\_per\\_hundred'\n",
       "\\item 'stringency\\_index'\n",
       "\\item 'population'\n",
       "\\item 'population\\_density'\n",
       "\\item 'median\\_age'\n",
       "\\item 'aged\\_65\\_older'\n",
       "\\item 'aged\\_70\\_older'\n",
       "\\item 'gdp\\_per\\_capita'\n",
       "\\item 'extreme\\_poverty'\n",
       "\\item 'cardiovasc\\_death\\_rate'\n",
       "\\item 'diabetes\\_prevalence'\n",
       "\\item 'female\\_smokers'\n",
       "\\item 'male\\_smokers'\n",
       "\\item 'handwashing\\_facilities'\n",
       "\\item 'hospital\\_beds\\_per\\_thousand'\n",
       "\\item 'life\\_expectancy'\n",
       "\\item 'human\\_development\\_index'\n",
       "\\item 'excess\\_mortality\\_cumulative\\_absolute'\n",
       "\\item 'excess\\_mortality\\_cumulative'\n",
       "\\item 'excess\\_mortality'\n",
       "\\item 'excess\\_mortality\\_cumulative\\_per\\_million'\n",
       "\\end{enumerate*}\n"
      ],
      "text/markdown": [
       "1. 'iso_code'\n",
       "2. 'continent'\n",
       "3. 'location'\n",
       "4. 'date'\n",
       "5. 'total_cases'\n",
       "6. 'new_cases'\n",
       "7. 'new_cases_smoothed'\n",
       "8. 'total_deaths'\n",
       "9. 'new_deaths'\n",
       "10. 'new_deaths_smoothed'\n",
       "11. 'total_cases_per_million'\n",
       "12. 'new_cases_per_million'\n",
       "13. 'new_cases_smoothed_per_million'\n",
       "14. 'total_deaths_per_million'\n",
       "15. 'new_deaths_per_million'\n",
       "16. 'new_deaths_smoothed_per_million'\n",
       "17. 'reproduction_rate'\n",
       "18. 'icu_patients'\n",
       "19. 'icu_patients_per_million'\n",
       "20. 'hosp_patients'\n",
       "21. 'hosp_patients_per_million'\n",
       "22. 'weekly_icu_admissions'\n",
       "23. 'weekly_icu_admissions_per_million'\n",
       "24. 'weekly_hosp_admissions'\n",
       "25. 'weekly_hosp_admissions_per_million'\n",
       "26. 'total_tests'\n",
       "27. 'new_tests'\n",
       "28. 'total_tests_per_thousand'\n",
       "29. 'new_tests_per_thousand'\n",
       "30. 'new_tests_smoothed'\n",
       "31. 'new_tests_smoothed_per_thousand'\n",
       "32. 'positive_rate'\n",
       "33. 'tests_per_case'\n",
       "34. 'tests_units'\n",
       "35. 'total_vaccinations'\n",
       "36. 'people_vaccinated'\n",
       "37. 'people_fully_vaccinated'\n",
       "38. 'total_boosters'\n",
       "39. 'new_vaccinations'\n",
       "40. 'new_vaccinations_smoothed'\n",
       "41. 'total_vaccinations_per_hundred'\n",
       "42. 'people_vaccinated_per_hundred'\n",
       "43. 'people_fully_vaccinated_per_hundred'\n",
       "44. 'total_boosters_per_hundred'\n",
       "45. 'new_vaccinations_smoothed_per_million'\n",
       "46. 'new_people_vaccinated_smoothed'\n",
       "47. 'new_people_vaccinated_smoothed_per_hundred'\n",
       "48. 'stringency_index'\n",
       "49. 'population'\n",
       "50. 'population_density'\n",
       "51. 'median_age'\n",
       "52. 'aged_65_older'\n",
       "53. 'aged_70_older'\n",
       "54. 'gdp_per_capita'\n",
       "55. 'extreme_poverty'\n",
       "56. 'cardiovasc_death_rate'\n",
       "57. 'diabetes_prevalence'\n",
       "58. 'female_smokers'\n",
       "59. 'male_smokers'\n",
       "60. 'handwashing_facilities'\n",
       "61. 'hospital_beds_per_thousand'\n",
       "62. 'life_expectancy'\n",
       "63. 'human_development_index'\n",
       "64. 'excess_mortality_cumulative_absolute'\n",
       "65. 'excess_mortality_cumulative'\n",
       "66. 'excess_mortality'\n",
       "67. 'excess_mortality_cumulative_per_million'\n",
       "\n",
       "\n"
      ],
      "text/plain": [
       " [1] \"iso_code\"                                  \n",
       " [2] \"continent\"                                 \n",
       " [3] \"location\"                                  \n",
       " [4] \"date\"                                      \n",
       " [5] \"total_cases\"                               \n",
       " [6] \"new_cases\"                                 \n",
       " [7] \"new_cases_smoothed\"                        \n",
       " [8] \"total_deaths\"                              \n",
       " [9] \"new_deaths\"                                \n",
       "[10] \"new_deaths_smoothed\"                       \n",
       "[11] \"total_cases_per_million\"                   \n",
       "[12] \"new_cases_per_million\"                     \n",
       "[13] \"new_cases_smoothed_per_million\"            \n",
       "[14] \"total_deaths_per_million\"                  \n",
       "[15] \"new_deaths_per_million\"                    \n",
       "[16] \"new_deaths_smoothed_per_million\"           \n",
       "[17] \"reproduction_rate\"                         \n",
       "[18] \"icu_patients\"                              \n",
       "[19] \"icu_patients_per_million\"                  \n",
       "[20] \"hosp_patients\"                             \n",
       "[21] \"hosp_patients_per_million\"                 \n",
       "[22] \"weekly_icu_admissions\"                     \n",
       "[23] \"weekly_icu_admissions_per_million\"         \n",
       "[24] \"weekly_hosp_admissions\"                    \n",
       "[25] \"weekly_hosp_admissions_per_million\"        \n",
       "[26] \"total_tests\"                               \n",
       "[27] \"new_tests\"                                 \n",
       "[28] \"total_tests_per_thousand\"                  \n",
       "[29] \"new_tests_per_thousand\"                    \n",
       "[30] \"new_tests_smoothed\"                        \n",
       "[31] \"new_tests_smoothed_per_thousand\"           \n",
       "[32] \"positive_rate\"                             \n",
       "[33] \"tests_per_case\"                            \n",
       "[34] \"tests_units\"                               \n",
       "[35] \"total_vaccinations\"                        \n",
       "[36] \"people_vaccinated\"                         \n",
       "[37] \"people_fully_vaccinated\"                   \n",
       "[38] \"total_boosters\"                            \n",
       "[39] \"new_vaccinations\"                          \n",
       "[40] \"new_vaccinations_smoothed\"                 \n",
       "[41] \"total_vaccinations_per_hundred\"            \n",
       "[42] \"people_vaccinated_per_hundred\"             \n",
       "[43] \"people_fully_vaccinated_per_hundred\"       \n",
       "[44] \"total_boosters_per_hundred\"                \n",
       "[45] \"new_vaccinations_smoothed_per_million\"     \n",
       "[46] \"new_people_vaccinated_smoothed\"            \n",
       "[47] \"new_people_vaccinated_smoothed_per_hundred\"\n",
       "[48] \"stringency_index\"                          \n",
       "[49] \"population\"                                \n",
       "[50] \"population_density\"                        \n",
       "[51] \"median_age\"                                \n",
       "[52] \"aged_65_older\"                             \n",
       "[53] \"aged_70_older\"                             \n",
       "[54] \"gdp_per_capita\"                            \n",
       "[55] \"extreme_poverty\"                           \n",
       "[56] \"cardiovasc_death_rate\"                     \n",
       "[57] \"diabetes_prevalence\"                       \n",
       "[58] \"female_smokers\"                            \n",
       "[59] \"male_smokers\"                              \n",
       "[60] \"handwashing_facilities\"                    \n",
       "[61] \"hospital_beds_per_thousand\"                \n",
       "[62] \"life_expectancy\"                           \n",
       "[63] \"human_development_index\"                   \n",
       "[64] \"excess_mortality_cumulative_absolute\"      \n",
       "[65] \"excess_mortality_cumulative\"               \n",
       "[66] \"excess_mortality\"                          \n",
       "[67] \"excess_mortality_cumulative_per_million\"   "
      ]
     },
     "metadata": {},
     "output_type": "display_data"
    }
   ],
   "source": [
    "colnames(df)"
   ]
  },
  {
   "cell_type": "markdown",
   "metadata": {},
   "source": [
    "`summarise_all()` function make it easy to apply the same transformation to multiple variables, it affects every variable of our dataframe.\n",
    "\n",
    "Usage: \n",
    "```r\n",
    "summarise_all(.tbl, .funs, ...)\n",
    "```"
   ]
  },
  {
   "cell_type": "code",
   "execution_count": 24,
   "metadata": {
    "vscode": {
     "languageId": "r"
    }
   },
   "outputs": [
    {
     "data": {
      "text/html": [
       "<table class=\"dataframe\">\n",
       "<caption>A tibble: 1 × 67</caption>\n",
       "<thead>\n",
       "\t<tr><th scope=col>iso_code</th><th scope=col>continent</th><th scope=col>location</th><th scope=col>date</th><th scope=col>total_cases</th><th scope=col>new_cases</th><th scope=col>new_cases_smoothed</th><th scope=col>total_deaths</th><th scope=col>new_deaths</th><th scope=col>new_deaths_smoothed</th><th scope=col>⋯</th><th scope=col>female_smokers</th><th scope=col>male_smokers</th><th scope=col>handwashing_facilities</th><th scope=col>hospital_beds_per_thousand</th><th scope=col>life_expectancy</th><th scope=col>human_development_index</th><th scope=col>excess_mortality_cumulative_absolute</th><th scope=col>excess_mortality_cumulative</th><th scope=col>excess_mortality</th><th scope=col>excess_mortality_cumulative_per_million</th></tr>\n",
       "\t<tr><th scope=col>&lt;int&gt;</th><th scope=col>&lt;int&gt;</th><th scope=col>&lt;int&gt;</th><th scope=col>&lt;int&gt;</th><th scope=col>&lt;int&gt;</th><th scope=col>&lt;int&gt;</th><th scope=col>&lt;int&gt;</th><th scope=col>&lt;int&gt;</th><th scope=col>&lt;int&gt;</th><th scope=col>&lt;int&gt;</th><th scope=col>⋯</th><th scope=col>&lt;int&gt;</th><th scope=col>&lt;int&gt;</th><th scope=col>&lt;int&gt;</th><th scope=col>&lt;int&gt;</th><th scope=col>&lt;int&gt;</th><th scope=col>&lt;int&gt;</th><th scope=col>&lt;int&gt;</th><th scope=col>&lt;int&gt;</th><th scope=col>&lt;int&gt;</th><th scope=col>&lt;int&gt;</th></tr>\n",
       "</thead>\n",
       "<tbody>\n",
       "\t<tr><td>0</td><td>12439</td><td>0</td><td>0</td><td>8914</td><td>9186</td><td>10368</td><td>27744</td><td>27821</td><td>28999</td><td>⋯</td><td>81771</td><td>83608</td><td>128786</td><td>58359</td><td>14220</td><td>43166</td><td>208712</td><td>208712</td><td>208669</td><td>208712</td></tr>\n",
       "</tbody>\n",
       "</table>\n"
      ],
      "text/latex": [
       "A tibble: 1 × 67\n",
       "\\begin{tabular}{lllllllllllllllllllll}\n",
       " iso\\_code & continent & location & date & total\\_cases & new\\_cases & new\\_cases\\_smoothed & total\\_deaths & new\\_deaths & new\\_deaths\\_smoothed & ⋯ & female\\_smokers & male\\_smokers & handwashing\\_facilities & hospital\\_beds\\_per\\_thousand & life\\_expectancy & human\\_development\\_index & excess\\_mortality\\_cumulative\\_absolute & excess\\_mortality\\_cumulative & excess\\_mortality & excess\\_mortality\\_cumulative\\_per\\_million\\\\\n",
       " <int> & <int> & <int> & <int> & <int> & <int> & <int> & <int> & <int> & <int> & ⋯ & <int> & <int> & <int> & <int> & <int> & <int> & <int> & <int> & <int> & <int>\\\\\n",
       "\\hline\n",
       "\t 0 & 12439 & 0 & 0 & 8914 & 9186 & 10368 & 27744 & 27821 & 28999 & ⋯ & 81771 & 83608 & 128786 & 58359 & 14220 & 43166 & 208712 & 208712 & 208669 & 208712\\\\\n",
       "\\end{tabular}\n"
      ],
      "text/markdown": [
       "\n",
       "A tibble: 1 × 67\n",
       "\n",
       "| iso_code &lt;int&gt; | continent &lt;int&gt; | location &lt;int&gt; | date &lt;int&gt; | total_cases &lt;int&gt; | new_cases &lt;int&gt; | new_cases_smoothed &lt;int&gt; | total_deaths &lt;int&gt; | new_deaths &lt;int&gt; | new_deaths_smoothed &lt;int&gt; | ⋯ ⋯ | female_smokers &lt;int&gt; | male_smokers &lt;int&gt; | handwashing_facilities &lt;int&gt; | hospital_beds_per_thousand &lt;int&gt; | life_expectancy &lt;int&gt; | human_development_index &lt;int&gt; | excess_mortality_cumulative_absolute &lt;int&gt; | excess_mortality_cumulative &lt;int&gt; | excess_mortality &lt;int&gt; | excess_mortality_cumulative_per_million &lt;int&gt; |\n",
       "|---|---|---|---|---|---|---|---|---|---|---|---|---|---|---|---|---|---|---|---|---|\n",
       "| 0 | 12439 | 0 | 0 | 8914 | 9186 | 10368 | 27744 | 27821 | 28999 | ⋯ | 81771 | 83608 | 128786 | 58359 | 14220 | 43166 | 208712 | 208712 | 208669 | 208712 |\n",
       "\n"
      ],
      "text/plain": [
       "  iso_code continent location date total_cases new_cases new_cases_smoothed\n",
       "1 0        12439     0        0    8914        9186      10368             \n",
       "  total_deaths new_deaths new_deaths_smoothed <U+22EF>        female_smokers\n",
       "1 27744        27821      28999               <U+22EF> 81771         \n",
       "  male_smokers handwashing_facilities hospital_beds_per_thousand\n",
       "1 83608        128786                 58359                     \n",
       "  life_expectancy human_development_index excess_mortality_cumulative_absolute\n",
       "1 14220           43166                   208712                              \n",
       "  excess_mortality_cumulative excess_mortality\n",
       "1 208712                      208669          \n",
       "  excess_mortality_cumulative_per_million\n",
       "1 208712                                 "
      ]
     },
     "metadata": {},
     "output_type": "display_data"
    }
   ],
   "source": [
    "df %>% summarise_all(funs(sum(is.na(.))))\n"
   ]
  },
  {
   "cell_type": "code",
   "execution_count": 51,
   "metadata": {
    "vscode": {
     "languageId": "r"
    }
   },
   "outputs": [
    {
     "data": {
      "text/html": [
       "6498620"
      ],
      "text/latex": [
       "6498620"
      ],
      "text/markdown": [
       "6498620"
      ],
      "text/plain": [
       "[1] 6498620"
      ]
     },
     "metadata": {},
     "output_type": "display_data"
    }
   ],
   "source": [
    "sum(is.na(df))"
   ]
  },
  {
   "cell_type": "markdown",
   "metadata": {},
   "source": [
    "The total number of missing values in the df is: 6498620"
   ]
  },
  {
   "cell_type": "markdown",
   "metadata": {},
   "source": [
    "The percentage of missing values per column:"
   ]
  },
  {
   "cell_type": "code",
   "execution_count": 26,
   "metadata": {
    "vscode": {
     "languageId": "r"
    }
   },
   "outputs": [
    {
     "data": {
      "text/html": [
       "<table class=\"dataframe\">\n",
       "<caption>A tibble: 1 × 67</caption>\n",
       "<thead>\n",
       "\t<tr><th scope=col>iso_code</th><th scope=col>continent</th><th scope=col>location</th><th scope=col>date</th><th scope=col>total_cases</th><th scope=col>new_cases</th><th scope=col>new_cases_smoothed</th><th scope=col>total_deaths</th><th scope=col>new_deaths</th><th scope=col>new_deaths_smoothed</th><th scope=col>⋯</th><th scope=col>female_smokers</th><th scope=col>male_smokers</th><th scope=col>handwashing_facilities</th><th scope=col>hospital_beds_per_thousand</th><th scope=col>life_expectancy</th><th scope=col>human_development_index</th><th scope=col>excess_mortality_cumulative_absolute</th><th scope=col>excess_mortality_cumulative</th><th scope=col>excess_mortality</th><th scope=col>excess_mortality_cumulative_per_million</th></tr>\n",
       "\t<tr><th scope=col>&lt;dbl&gt;</th><th scope=col>&lt;dbl&gt;</th><th scope=col>&lt;dbl&gt;</th><th scope=col>&lt;dbl&gt;</th><th scope=col>&lt;dbl&gt;</th><th scope=col>&lt;dbl&gt;</th><th scope=col>&lt;dbl&gt;</th><th scope=col>&lt;dbl&gt;</th><th scope=col>&lt;dbl&gt;</th><th scope=col>&lt;dbl&gt;</th><th scope=col>⋯</th><th scope=col>&lt;dbl&gt;</th><th scope=col>&lt;dbl&gt;</th><th scope=col>&lt;dbl&gt;</th><th scope=col>&lt;dbl&gt;</th><th scope=col>&lt;dbl&gt;</th><th scope=col>&lt;dbl&gt;</th><th scope=col>&lt;dbl&gt;</th><th scope=col>&lt;dbl&gt;</th><th scope=col>&lt;dbl&gt;</th><th scope=col>&lt;dbl&gt;</th></tr>\n",
       "</thead>\n",
       "<tbody>\n",
       "\t<tr><td>0</td><td>0.05762585</td><td>0</td><td>0</td><td>0.04129567</td><td>0.04255575</td><td>0.04803158</td><td>0.1285289</td><td>0.1288857</td><td>0.1343429</td><td>⋯</td><td>0.3788185</td><td>0.3873287</td><td>0.5966237</td><td>0.2703583</td><td>0.06587664</td><td>0.1999741</td><td>0.9668949</td><td>0.9668949</td><td>0.9666957</td><td>0.9668949</td></tr>\n",
       "</tbody>\n",
       "</table>\n"
      ],
      "text/latex": [
       "A tibble: 1 × 67\n",
       "\\begin{tabular}{lllllllllllllllllllll}\n",
       " iso\\_code & continent & location & date & total\\_cases & new\\_cases & new\\_cases\\_smoothed & total\\_deaths & new\\_deaths & new\\_deaths\\_smoothed & ⋯ & female\\_smokers & male\\_smokers & handwashing\\_facilities & hospital\\_beds\\_per\\_thousand & life\\_expectancy & human\\_development\\_index & excess\\_mortality\\_cumulative\\_absolute & excess\\_mortality\\_cumulative & excess\\_mortality & excess\\_mortality\\_cumulative\\_per\\_million\\\\\n",
       " <dbl> & <dbl> & <dbl> & <dbl> & <dbl> & <dbl> & <dbl> & <dbl> & <dbl> & <dbl> & ⋯ & <dbl> & <dbl> & <dbl> & <dbl> & <dbl> & <dbl> & <dbl> & <dbl> & <dbl> & <dbl>\\\\\n",
       "\\hline\n",
       "\t 0 & 0.05762585 & 0 & 0 & 0.04129567 & 0.04255575 & 0.04803158 & 0.1285289 & 0.1288857 & 0.1343429 & ⋯ & 0.3788185 & 0.3873287 & 0.5966237 & 0.2703583 & 0.06587664 & 0.1999741 & 0.9668949 & 0.9668949 & 0.9666957 & 0.9668949\\\\\n",
       "\\end{tabular}\n"
      ],
      "text/markdown": [
       "\n",
       "A tibble: 1 × 67\n",
       "\n",
       "| iso_code &lt;dbl&gt; | continent &lt;dbl&gt; | location &lt;dbl&gt; | date &lt;dbl&gt; | total_cases &lt;dbl&gt; | new_cases &lt;dbl&gt; | new_cases_smoothed &lt;dbl&gt; | total_deaths &lt;dbl&gt; | new_deaths &lt;dbl&gt; | new_deaths_smoothed &lt;dbl&gt; | ⋯ ⋯ | female_smokers &lt;dbl&gt; | male_smokers &lt;dbl&gt; | handwashing_facilities &lt;dbl&gt; | hospital_beds_per_thousand &lt;dbl&gt; | life_expectancy &lt;dbl&gt; | human_development_index &lt;dbl&gt; | excess_mortality_cumulative_absolute &lt;dbl&gt; | excess_mortality_cumulative &lt;dbl&gt; | excess_mortality &lt;dbl&gt; | excess_mortality_cumulative_per_million &lt;dbl&gt; |\n",
       "|---|---|---|---|---|---|---|---|---|---|---|---|---|---|---|---|---|---|---|---|---|\n",
       "| 0 | 0.05762585 | 0 | 0 | 0.04129567 | 0.04255575 | 0.04803158 | 0.1285289 | 0.1288857 | 0.1343429 | ⋯ | 0.3788185 | 0.3873287 | 0.5966237 | 0.2703583 | 0.06587664 | 0.1999741 | 0.9668949 | 0.9668949 | 0.9666957 | 0.9668949 |\n",
       "\n"
      ],
      "text/plain": [
       "  iso_code continent  location date total_cases new_cases  new_cases_smoothed\n",
       "1 0        0.05762585 0        0    0.04129567  0.04255575 0.04803158        \n",
       "  total_deaths new_deaths new_deaths_smoothed <U+22EF>        female_smokers\n",
       "1 0.1285289    0.1288857  0.1343429           <U+22EF> 0.3788185     \n",
       "  male_smokers handwashing_facilities hospital_beds_per_thousand\n",
       "1 0.3873287    0.5966237              0.2703583                 \n",
       "  life_expectancy human_development_index excess_mortality_cumulative_absolute\n",
       "1 0.06587664      0.1999741               0.9668949                           \n",
       "  excess_mortality_cumulative excess_mortality\n",
       "1 0.9668949                   0.9666957       \n",
       "  excess_mortality_cumulative_per_million\n",
       "1 0.9668949                              "
      ]
     },
     "metadata": {},
     "output_type": "display_data"
    }
   ],
   "source": [
    "df %>% summarise_all(funs(sum(is.na(.)) / nrow(df)))"
   ]
  },
  {
   "cell_type": "markdown",
   "metadata": {},
   "source": [
    "To check the data type per column we can follow these approaches:\n",
    "- The `sapply()` function applies a function to a vector or list and returns a vector, a matrix or an array.\n",
    "- The `str()` function is used for compactly displaying the internal structure of a R object. It can display even the internal structure of large lists which are nested"
   ]
  },
  {
   "cell_type": "code",
   "execution_count": 27,
   "metadata": {
    "vscode": {
     "languageId": "r"
    }
   },
   "outputs": [
    {
     "data": {
      "text/html": [
       "<style>\n",
       ".dl-inline {width: auto; margin:0; padding: 0}\n",
       ".dl-inline>dt, .dl-inline>dd {float: none; width: auto; display: inline-block}\n",
       ".dl-inline>dt::after {content: \":\\0020\"; padding-right: .5ex}\n",
       ".dl-inline>dt:not(:first-of-type) {padding-left: .5ex}\n",
       "</style><dl class=dl-inline><dt>iso_code</dt><dd>'character'</dd><dt>continent</dt><dd>'character'</dd><dt>location</dt><dd>'character'</dd><dt>date</dt><dd>'Date'</dd><dt>total_cases</dt><dd>'numeric'</dd><dt>new_cases</dt><dd>'numeric'</dd><dt>new_cases_smoothed</dt><dd>'numeric'</dd><dt>total_deaths</dt><dd>'numeric'</dd><dt>new_deaths</dt><dd>'numeric'</dd><dt>new_deaths_smoothed</dt><dd>'numeric'</dd><dt>total_cases_per_million</dt><dd>'numeric'</dd><dt>new_cases_per_million</dt><dd>'numeric'</dd><dt>new_cases_smoothed_per_million</dt><dd>'numeric'</dd><dt>total_deaths_per_million</dt><dd>'numeric'</dd><dt>new_deaths_per_million</dt><dd>'numeric'</dd><dt>new_deaths_smoothed_per_million</dt><dd>'numeric'</dd><dt>reproduction_rate</dt><dd>'numeric'</dd><dt>icu_patients</dt><dd>'numeric'</dd><dt>icu_patients_per_million</dt><dd>'numeric'</dd><dt>hosp_patients</dt><dd>'numeric'</dd><dt>hosp_patients_per_million</dt><dd>'numeric'</dd><dt>weekly_icu_admissions</dt><dd>'numeric'</dd><dt>weekly_icu_admissions_per_million</dt><dd>'numeric'</dd><dt>weekly_hosp_admissions</dt><dd>'numeric'</dd><dt>weekly_hosp_admissions_per_million</dt><dd>'numeric'</dd><dt>total_tests</dt><dd>'numeric'</dd><dt>new_tests</dt><dd>'numeric'</dd><dt>total_tests_per_thousand</dt><dd>'numeric'</dd><dt>new_tests_per_thousand</dt><dd>'numeric'</dd><dt>new_tests_smoothed</dt><dd>'numeric'</dd><dt>new_tests_smoothed_per_thousand</dt><dd>'numeric'</dd><dt>positive_rate</dt><dd>'numeric'</dd><dt>tests_per_case</dt><dd>'numeric'</dd><dt>tests_units</dt><dd>'character'</dd><dt>total_vaccinations</dt><dd>'numeric'</dd><dt>people_vaccinated</dt><dd>'numeric'</dd><dt>people_fully_vaccinated</dt><dd>'numeric'</dd><dt>total_boosters</dt><dd>'numeric'</dd><dt>new_vaccinations</dt><dd>'numeric'</dd><dt>new_vaccinations_smoothed</dt><dd>'numeric'</dd><dt>total_vaccinations_per_hundred</dt><dd>'numeric'</dd><dt>people_vaccinated_per_hundred</dt><dd>'numeric'</dd><dt>people_fully_vaccinated_per_hundred</dt><dd>'numeric'</dd><dt>total_boosters_per_hundred</dt><dd>'numeric'</dd><dt>new_vaccinations_smoothed_per_million</dt><dd>'numeric'</dd><dt>new_people_vaccinated_smoothed</dt><dd>'numeric'</dd><dt>new_people_vaccinated_smoothed_per_hundred</dt><dd>'numeric'</dd><dt>stringency_index</dt><dd>'numeric'</dd><dt>population</dt><dd>'numeric'</dd><dt>population_density</dt><dd>'numeric'</dd><dt>median_age</dt><dd>'numeric'</dd><dt>aged_65_older</dt><dd>'numeric'</dd><dt>aged_70_older</dt><dd>'numeric'</dd><dt>gdp_per_capita</dt><dd>'numeric'</dd><dt>extreme_poverty</dt><dd>'numeric'</dd><dt>cardiovasc_death_rate</dt><dd>'numeric'</dd><dt>diabetes_prevalence</dt><dd>'numeric'</dd><dt>female_smokers</dt><dd>'numeric'</dd><dt>male_smokers</dt><dd>'numeric'</dd><dt>handwashing_facilities</dt><dd>'numeric'</dd><dt>hospital_beds_per_thousand</dt><dd>'numeric'</dd><dt>life_expectancy</dt><dd>'numeric'</dd><dt>human_development_index</dt><dd>'numeric'</dd><dt>excess_mortality_cumulative_absolute</dt><dd>'numeric'</dd><dt>excess_mortality_cumulative</dt><dd>'numeric'</dd><dt>excess_mortality</dt><dd>'numeric'</dd><dt>excess_mortality_cumulative_per_million</dt><dd>'numeric'</dd></dl>\n"
      ],
      "text/latex": [
       "\\begin{description*}\n",
       "\\item[iso\\textbackslash{}\\_code] 'character'\n",
       "\\item[continent] 'character'\n",
       "\\item[location] 'character'\n",
       "\\item[date] 'Date'\n",
       "\\item[total\\textbackslash{}\\_cases] 'numeric'\n",
       "\\item[new\\textbackslash{}\\_cases] 'numeric'\n",
       "\\item[new\\textbackslash{}\\_cases\\textbackslash{}\\_smoothed] 'numeric'\n",
       "\\item[total\\textbackslash{}\\_deaths] 'numeric'\n",
       "\\item[new\\textbackslash{}\\_deaths] 'numeric'\n",
       "\\item[new\\textbackslash{}\\_deaths\\textbackslash{}\\_smoothed] 'numeric'\n",
       "\\item[total\\textbackslash{}\\_cases\\textbackslash{}\\_per\\textbackslash{}\\_million] 'numeric'\n",
       "\\item[new\\textbackslash{}\\_cases\\textbackslash{}\\_per\\textbackslash{}\\_million] 'numeric'\n",
       "\\item[new\\textbackslash{}\\_cases\\textbackslash{}\\_smoothed\\textbackslash{}\\_per\\textbackslash{}\\_million] 'numeric'\n",
       "\\item[total\\textbackslash{}\\_deaths\\textbackslash{}\\_per\\textbackslash{}\\_million] 'numeric'\n",
       "\\item[new\\textbackslash{}\\_deaths\\textbackslash{}\\_per\\textbackslash{}\\_million] 'numeric'\n",
       "\\item[new\\textbackslash{}\\_deaths\\textbackslash{}\\_smoothed\\textbackslash{}\\_per\\textbackslash{}\\_million] 'numeric'\n",
       "\\item[reproduction\\textbackslash{}\\_rate] 'numeric'\n",
       "\\item[icu\\textbackslash{}\\_patients] 'numeric'\n",
       "\\item[icu\\textbackslash{}\\_patients\\textbackslash{}\\_per\\textbackslash{}\\_million] 'numeric'\n",
       "\\item[hosp\\textbackslash{}\\_patients] 'numeric'\n",
       "\\item[hosp\\textbackslash{}\\_patients\\textbackslash{}\\_per\\textbackslash{}\\_million] 'numeric'\n",
       "\\item[weekly\\textbackslash{}\\_icu\\textbackslash{}\\_admissions] 'numeric'\n",
       "\\item[weekly\\textbackslash{}\\_icu\\textbackslash{}\\_admissions\\textbackslash{}\\_per\\textbackslash{}\\_million] 'numeric'\n",
       "\\item[weekly\\textbackslash{}\\_hosp\\textbackslash{}\\_admissions] 'numeric'\n",
       "\\item[weekly\\textbackslash{}\\_hosp\\textbackslash{}\\_admissions\\textbackslash{}\\_per\\textbackslash{}\\_million] 'numeric'\n",
       "\\item[total\\textbackslash{}\\_tests] 'numeric'\n",
       "\\item[new\\textbackslash{}\\_tests] 'numeric'\n",
       "\\item[total\\textbackslash{}\\_tests\\textbackslash{}\\_per\\textbackslash{}\\_thousand] 'numeric'\n",
       "\\item[new\\textbackslash{}\\_tests\\textbackslash{}\\_per\\textbackslash{}\\_thousand] 'numeric'\n",
       "\\item[new\\textbackslash{}\\_tests\\textbackslash{}\\_smoothed] 'numeric'\n",
       "\\item[new\\textbackslash{}\\_tests\\textbackslash{}\\_smoothed\\textbackslash{}\\_per\\textbackslash{}\\_thousand] 'numeric'\n",
       "\\item[positive\\textbackslash{}\\_rate] 'numeric'\n",
       "\\item[tests\\textbackslash{}\\_per\\textbackslash{}\\_case] 'numeric'\n",
       "\\item[tests\\textbackslash{}\\_units] 'character'\n",
       "\\item[total\\textbackslash{}\\_vaccinations] 'numeric'\n",
       "\\item[people\\textbackslash{}\\_vaccinated] 'numeric'\n",
       "\\item[people\\textbackslash{}\\_fully\\textbackslash{}\\_vaccinated] 'numeric'\n",
       "\\item[total\\textbackslash{}\\_boosters] 'numeric'\n",
       "\\item[new\\textbackslash{}\\_vaccinations] 'numeric'\n",
       "\\item[new\\textbackslash{}\\_vaccinations\\textbackslash{}\\_smoothed] 'numeric'\n",
       "\\item[total\\textbackslash{}\\_vaccinations\\textbackslash{}\\_per\\textbackslash{}\\_hundred] 'numeric'\n",
       "\\item[people\\textbackslash{}\\_vaccinated\\textbackslash{}\\_per\\textbackslash{}\\_hundred] 'numeric'\n",
       "\\item[people\\textbackslash{}\\_fully\\textbackslash{}\\_vaccinated\\textbackslash{}\\_per\\textbackslash{}\\_hundred] 'numeric'\n",
       "\\item[total\\textbackslash{}\\_boosters\\textbackslash{}\\_per\\textbackslash{}\\_hundred] 'numeric'\n",
       "\\item[new\\textbackslash{}\\_vaccinations\\textbackslash{}\\_smoothed\\textbackslash{}\\_per\\textbackslash{}\\_million] 'numeric'\n",
       "\\item[new\\textbackslash{}\\_people\\textbackslash{}\\_vaccinated\\textbackslash{}\\_smoothed] 'numeric'\n",
       "\\item[new\\textbackslash{}\\_people\\textbackslash{}\\_vaccinated\\textbackslash{}\\_smoothed\\textbackslash{}\\_per\\textbackslash{}\\_hundred] 'numeric'\n",
       "\\item[stringency\\textbackslash{}\\_index] 'numeric'\n",
       "\\item[population] 'numeric'\n",
       "\\item[population\\textbackslash{}\\_density] 'numeric'\n",
       "\\item[median\\textbackslash{}\\_age] 'numeric'\n",
       "\\item[aged\\textbackslash{}\\_65\\textbackslash{}\\_older] 'numeric'\n",
       "\\item[aged\\textbackslash{}\\_70\\textbackslash{}\\_older] 'numeric'\n",
       "\\item[gdp\\textbackslash{}\\_per\\textbackslash{}\\_capita] 'numeric'\n",
       "\\item[extreme\\textbackslash{}\\_poverty] 'numeric'\n",
       "\\item[cardiovasc\\textbackslash{}\\_death\\textbackslash{}\\_rate] 'numeric'\n",
       "\\item[diabetes\\textbackslash{}\\_prevalence] 'numeric'\n",
       "\\item[female\\textbackslash{}\\_smokers] 'numeric'\n",
       "\\item[male\\textbackslash{}\\_smokers] 'numeric'\n",
       "\\item[handwashing\\textbackslash{}\\_facilities] 'numeric'\n",
       "\\item[hospital\\textbackslash{}\\_beds\\textbackslash{}\\_per\\textbackslash{}\\_thousand] 'numeric'\n",
       "\\item[life\\textbackslash{}\\_expectancy] 'numeric'\n",
       "\\item[human\\textbackslash{}\\_development\\textbackslash{}\\_index] 'numeric'\n",
       "\\item[excess\\textbackslash{}\\_mortality\\textbackslash{}\\_cumulative\\textbackslash{}\\_absolute] 'numeric'\n",
       "\\item[excess\\textbackslash{}\\_mortality\\textbackslash{}\\_cumulative] 'numeric'\n",
       "\\item[excess\\textbackslash{}\\_mortality] 'numeric'\n",
       "\\item[excess\\textbackslash{}\\_mortality\\textbackslash{}\\_cumulative\\textbackslash{}\\_per\\textbackslash{}\\_million] 'numeric'\n",
       "\\end{description*}\n"
      ],
      "text/markdown": [
       "iso_code\n",
       ":   'character'continent\n",
       ":   'character'location\n",
       ":   'character'date\n",
       ":   'Date'total_cases\n",
       ":   'numeric'new_cases\n",
       ":   'numeric'new_cases_smoothed\n",
       ":   'numeric'total_deaths\n",
       ":   'numeric'new_deaths\n",
       ":   'numeric'new_deaths_smoothed\n",
       ":   'numeric'total_cases_per_million\n",
       ":   'numeric'new_cases_per_million\n",
       ":   'numeric'new_cases_smoothed_per_million\n",
       ":   'numeric'total_deaths_per_million\n",
       ":   'numeric'new_deaths_per_million\n",
       ":   'numeric'new_deaths_smoothed_per_million\n",
       ":   'numeric'reproduction_rate\n",
       ":   'numeric'icu_patients\n",
       ":   'numeric'icu_patients_per_million\n",
       ":   'numeric'hosp_patients\n",
       ":   'numeric'hosp_patients_per_million\n",
       ":   'numeric'weekly_icu_admissions\n",
       ":   'numeric'weekly_icu_admissions_per_million\n",
       ":   'numeric'weekly_hosp_admissions\n",
       ":   'numeric'weekly_hosp_admissions_per_million\n",
       ":   'numeric'total_tests\n",
       ":   'numeric'new_tests\n",
       ":   'numeric'total_tests_per_thousand\n",
       ":   'numeric'new_tests_per_thousand\n",
       ":   'numeric'new_tests_smoothed\n",
       ":   'numeric'new_tests_smoothed_per_thousand\n",
       ":   'numeric'positive_rate\n",
       ":   'numeric'tests_per_case\n",
       ":   'numeric'tests_units\n",
       ":   'character'total_vaccinations\n",
       ":   'numeric'people_vaccinated\n",
       ":   'numeric'people_fully_vaccinated\n",
       ":   'numeric'total_boosters\n",
       ":   'numeric'new_vaccinations\n",
       ":   'numeric'new_vaccinations_smoothed\n",
       ":   'numeric'total_vaccinations_per_hundred\n",
       ":   'numeric'people_vaccinated_per_hundred\n",
       ":   'numeric'people_fully_vaccinated_per_hundred\n",
       ":   'numeric'total_boosters_per_hundred\n",
       ":   'numeric'new_vaccinations_smoothed_per_million\n",
       ":   'numeric'new_people_vaccinated_smoothed\n",
       ":   'numeric'new_people_vaccinated_smoothed_per_hundred\n",
       ":   'numeric'stringency_index\n",
       ":   'numeric'population\n",
       ":   'numeric'population_density\n",
       ":   'numeric'median_age\n",
       ":   'numeric'aged_65_older\n",
       ":   'numeric'aged_70_older\n",
       ":   'numeric'gdp_per_capita\n",
       ":   'numeric'extreme_poverty\n",
       ":   'numeric'cardiovasc_death_rate\n",
       ":   'numeric'diabetes_prevalence\n",
       ":   'numeric'female_smokers\n",
       ":   'numeric'male_smokers\n",
       ":   'numeric'handwashing_facilities\n",
       ":   'numeric'hospital_beds_per_thousand\n",
       ":   'numeric'life_expectancy\n",
       ":   'numeric'human_development_index\n",
       ":   'numeric'excess_mortality_cumulative_absolute\n",
       ":   'numeric'excess_mortality_cumulative\n",
       ":   'numeric'excess_mortality\n",
       ":   'numeric'excess_mortality_cumulative_per_million\n",
       ":   'numeric'\n",
       "\n"
      ],
      "text/plain": [
       "                                  iso_code \n",
       "                               \"character\" \n",
       "                                 continent \n",
       "                               \"character\" \n",
       "                                  location \n",
       "                               \"character\" \n",
       "                                      date \n",
       "                                    \"Date\" \n",
       "                               total_cases \n",
       "                                 \"numeric\" \n",
       "                                 new_cases \n",
       "                                 \"numeric\" \n",
       "                        new_cases_smoothed \n",
       "                                 \"numeric\" \n",
       "                              total_deaths \n",
       "                                 \"numeric\" \n",
       "                                new_deaths \n",
       "                                 \"numeric\" \n",
       "                       new_deaths_smoothed \n",
       "                                 \"numeric\" \n",
       "                   total_cases_per_million \n",
       "                                 \"numeric\" \n",
       "                     new_cases_per_million \n",
       "                                 \"numeric\" \n",
       "            new_cases_smoothed_per_million \n",
       "                                 \"numeric\" \n",
       "                  total_deaths_per_million \n",
       "                                 \"numeric\" \n",
       "                    new_deaths_per_million \n",
       "                                 \"numeric\" \n",
       "           new_deaths_smoothed_per_million \n",
       "                                 \"numeric\" \n",
       "                         reproduction_rate \n",
       "                                 \"numeric\" \n",
       "                              icu_patients \n",
       "                                 \"numeric\" \n",
       "                  icu_patients_per_million \n",
       "                                 \"numeric\" \n",
       "                             hosp_patients \n",
       "                                 \"numeric\" \n",
       "                 hosp_patients_per_million \n",
       "                                 \"numeric\" \n",
       "                     weekly_icu_admissions \n",
       "                                 \"numeric\" \n",
       "         weekly_icu_admissions_per_million \n",
       "                                 \"numeric\" \n",
       "                    weekly_hosp_admissions \n",
       "                                 \"numeric\" \n",
       "        weekly_hosp_admissions_per_million \n",
       "                                 \"numeric\" \n",
       "                               total_tests \n",
       "                                 \"numeric\" \n",
       "                                 new_tests \n",
       "                                 \"numeric\" \n",
       "                  total_tests_per_thousand \n",
       "                                 \"numeric\" \n",
       "                    new_tests_per_thousand \n",
       "                                 \"numeric\" \n",
       "                        new_tests_smoothed \n",
       "                                 \"numeric\" \n",
       "           new_tests_smoothed_per_thousand \n",
       "                                 \"numeric\" \n",
       "                             positive_rate \n",
       "                                 \"numeric\" \n",
       "                            tests_per_case \n",
       "                                 \"numeric\" \n",
       "                               tests_units \n",
       "                               \"character\" \n",
       "                        total_vaccinations \n",
       "                                 \"numeric\" \n",
       "                         people_vaccinated \n",
       "                                 \"numeric\" \n",
       "                   people_fully_vaccinated \n",
       "                                 \"numeric\" \n",
       "                            total_boosters \n",
       "                                 \"numeric\" \n",
       "                          new_vaccinations \n",
       "                                 \"numeric\" \n",
       "                 new_vaccinations_smoothed \n",
       "                                 \"numeric\" \n",
       "            total_vaccinations_per_hundred \n",
       "                                 \"numeric\" \n",
       "             people_vaccinated_per_hundred \n",
       "                                 \"numeric\" \n",
       "       people_fully_vaccinated_per_hundred \n",
       "                                 \"numeric\" \n",
       "                total_boosters_per_hundred \n",
       "                                 \"numeric\" \n",
       "     new_vaccinations_smoothed_per_million \n",
       "                                 \"numeric\" \n",
       "            new_people_vaccinated_smoothed \n",
       "                                 \"numeric\" \n",
       "new_people_vaccinated_smoothed_per_hundred \n",
       "                                 \"numeric\" \n",
       "                          stringency_index \n",
       "                                 \"numeric\" \n",
       "                                population \n",
       "                                 \"numeric\" \n",
       "                        population_density \n",
       "                                 \"numeric\" \n",
       "                                median_age \n",
       "                                 \"numeric\" \n",
       "                             aged_65_older \n",
       "                                 \"numeric\" \n",
       "                             aged_70_older \n",
       "                                 \"numeric\" \n",
       "                            gdp_per_capita \n",
       "                                 \"numeric\" \n",
       "                           extreme_poverty \n",
       "                                 \"numeric\" \n",
       "                     cardiovasc_death_rate \n",
       "                                 \"numeric\" \n",
       "                       diabetes_prevalence \n",
       "                                 \"numeric\" \n",
       "                            female_smokers \n",
       "                                 \"numeric\" \n",
       "                              male_smokers \n",
       "                                 \"numeric\" \n",
       "                    handwashing_facilities \n",
       "                                 \"numeric\" \n",
       "                hospital_beds_per_thousand \n",
       "                                 \"numeric\" \n",
       "                           life_expectancy \n",
       "                                 \"numeric\" \n",
       "                   human_development_index \n",
       "                                 \"numeric\" \n",
       "      excess_mortality_cumulative_absolute \n",
       "                                 \"numeric\" \n",
       "               excess_mortality_cumulative \n",
       "                                 \"numeric\" \n",
       "                          excess_mortality \n",
       "                                 \"numeric\" \n",
       "   excess_mortality_cumulative_per_million \n",
       "                                 \"numeric\" "
      ]
     },
     "metadata": {},
     "output_type": "display_data"
    }
   ],
   "source": [
    "sapply(df, class)"
   ]
  },
  {
   "cell_type": "code",
   "execution_count": 28,
   "metadata": {
    "vscode": {
     "languageId": "r"
    }
   },
   "outputs": [
    {
     "name": "stdout",
     "output_type": "stream",
     "text": [
      "spec_tbl_df [215,858 x 67] (S3: spec_tbl_df/tbl_df/tbl/data.frame)\n",
      " $ iso_code                                  : chr [1:215858] \"AFG\" \"AFG\" \"AFG\" \"AFG\" ...\n",
      " $ continent                                 : chr [1:215858] \"Asia\" \"Asia\" \"Asia\" \"Asia\" ...\n",
      " $ location                                  : chr [1:215858] \"Afghanistan\" \"Afghanistan\" \"Afghanistan\" \"Afghanistan\" ...\n",
      " $ date                                      : Date[1:215858], format: \"2020-02-24\" \"2020-02-25\" ...\n",
      " $ total_cases                               : num [1:215858] 5 5 5 5 5 5 5 5 5 5 ...\n",
      " $ new_cases                                 : num [1:215858] 5 0 0 0 0 0 0 0 0 0 ...\n",
      " $ new_cases_smoothed                        : num [1:215858] NA NA NA NA NA 0.714 0.714 0 0 0 ...\n",
      " $ total_deaths                              : num [1:215858] NA NA NA NA NA NA NA NA NA NA ...\n",
      " $ new_deaths                                : num [1:215858] NA NA NA NA NA NA NA NA NA NA ...\n",
      " $ new_deaths_smoothed                       : num [1:215858] NA NA NA NA NA NA NA NA NA NA ...\n",
      " $ total_cases_per_million                   : num [1:215858] 0.125 0.125 0.125 0.125 0.125 0.125 0.125 0.125 0.125 0.125 ...\n",
      " $ new_cases_per_million                     : num [1:215858] 0.125 0 0 0 0 0 0 0 0 0 ...\n",
      " $ new_cases_smoothed_per_million            : num [1:215858] NA NA NA NA NA 0.018 0.018 0 0 0 ...\n",
      " $ total_deaths_per_million                  : num [1:215858] NA NA NA NA NA NA NA NA NA NA ...\n",
      " $ new_deaths_per_million                    : num [1:215858] NA NA NA NA NA NA NA NA NA NA ...\n",
      " $ new_deaths_smoothed_per_million           : num [1:215858] NA NA NA NA NA NA NA NA NA NA ...\n",
      " $ reproduction_rate                         : num [1:215858] NA NA NA NA NA NA NA NA NA NA ...\n",
      " $ icu_patients                              : num [1:215858] NA NA NA NA NA NA NA NA NA NA ...\n",
      " $ icu_patients_per_million                  : num [1:215858] NA NA NA NA NA NA NA NA NA NA ...\n",
      " $ hosp_patients                             : num [1:215858] NA NA NA NA NA NA NA NA NA NA ...\n",
      " $ hosp_patients_per_million                 : num [1:215858] NA NA NA NA NA NA NA NA NA NA ...\n",
      " $ weekly_icu_admissions                     : num [1:215858] NA NA NA NA NA NA NA NA NA NA ...\n",
      " $ weekly_icu_admissions_per_million         : num [1:215858] NA NA NA NA NA NA NA NA NA NA ...\n",
      " $ weekly_hosp_admissions                    : num [1:215858] NA NA NA NA NA NA NA NA NA NA ...\n",
      " $ weekly_hosp_admissions_per_million        : num [1:215858] NA NA NA NA NA NA NA NA NA NA ...\n",
      " $ total_tests                               : num [1:215858] NA NA NA NA NA NA NA NA NA NA ...\n",
      " $ new_tests                                 : num [1:215858] NA NA NA NA NA NA NA NA NA NA ...\n",
      " $ total_tests_per_thousand                  : num [1:215858] NA NA NA NA NA NA NA NA NA NA ...\n",
      " $ new_tests_per_thousand                    : num [1:215858] NA NA NA NA NA NA NA NA NA NA ...\n",
      " $ new_tests_smoothed                        : num [1:215858] NA NA NA NA NA NA NA NA NA NA ...\n",
      " $ new_tests_smoothed_per_thousand           : num [1:215858] NA NA NA NA NA NA NA NA NA NA ...\n",
      " $ positive_rate                             : num [1:215858] NA NA NA NA NA NA NA NA NA NA ...\n",
      " $ tests_per_case                            : num [1:215858] NA NA NA NA NA NA NA NA NA NA ...\n",
      " $ tests_units                               : chr [1:215858] NA NA NA NA ...\n",
      " $ total_vaccinations                        : num [1:215858] NA NA NA NA NA NA NA NA NA NA ...\n",
      " $ people_vaccinated                         : num [1:215858] NA NA NA NA NA NA NA NA NA NA ...\n",
      " $ people_fully_vaccinated                   : num [1:215858] NA NA NA NA NA NA NA NA NA NA ...\n",
      " $ total_boosters                            : num [1:215858] NA NA NA NA NA NA NA NA NA NA ...\n",
      " $ new_vaccinations                          : num [1:215858] NA NA NA NA NA NA NA NA NA NA ...\n",
      " $ new_vaccinations_smoothed                 : num [1:215858] NA NA NA NA NA NA NA NA NA NA ...\n",
      " $ total_vaccinations_per_hundred            : num [1:215858] NA NA NA NA NA NA NA NA NA NA ...\n",
      " $ people_vaccinated_per_hundred             : num [1:215858] NA NA NA NA NA NA NA NA NA NA ...\n",
      " $ people_fully_vaccinated_per_hundred       : num [1:215858] NA NA NA NA NA NA NA NA NA NA ...\n",
      " $ total_boosters_per_hundred                : num [1:215858] NA NA NA NA NA NA NA NA NA NA ...\n",
      " $ new_vaccinations_smoothed_per_million     : num [1:215858] NA NA NA NA NA NA NA NA NA NA ...\n",
      " $ new_people_vaccinated_smoothed            : num [1:215858] NA NA NA NA NA NA NA NA NA NA ...\n",
      " $ new_people_vaccinated_smoothed_per_hundred: num [1:215858] NA NA NA NA NA NA NA NA NA NA ...\n",
      " $ stringency_index                          : num [1:215858] 8.33 8.33 8.33 8.33 8.33 ...\n",
      " $ population                                : num [1:215858] 40099462 40099462 40099462 40099462 40099462 ...\n",
      " $ population_density                        : num [1:215858] 54.4 54.4 54.4 54.4 54.4 ...\n",
      " $ median_age                                : num [1:215858] 18.6 18.6 18.6 18.6 18.6 18.6 18.6 18.6 18.6 18.6 ...\n",
      " $ aged_65_older                             : num [1:215858] 2.58 2.58 2.58 2.58 2.58 ...\n",
      " $ aged_70_older                             : num [1:215858] 1.34 1.34 1.34 1.34 1.34 ...\n",
      " $ gdp_per_capita                            : num [1:215858] 1804 1804 1804 1804 1804 ...\n",
      " $ extreme_poverty                           : num [1:215858] NA NA NA NA NA NA NA NA NA NA ...\n",
      " $ cardiovasc_death_rate                     : num [1:215858] 597 597 597 597 597 ...\n",
      " $ diabetes_prevalence                       : num [1:215858] 9.59 9.59 9.59 9.59 9.59 9.59 9.59 9.59 9.59 9.59 ...\n",
      " $ female_smokers                            : num [1:215858] NA NA NA NA NA NA NA NA NA NA ...\n",
      " $ male_smokers                              : num [1:215858] NA NA NA NA NA NA NA NA NA NA ...\n",
      " $ handwashing_facilities                    : num [1:215858] 37.7 37.7 37.7 37.7 37.7 ...\n",
      " $ hospital_beds_per_thousand                : num [1:215858] 0.5 0.5 0.5 0.5 0.5 0.5 0.5 0.5 0.5 0.5 ...\n",
      " $ life_expectancy                           : num [1:215858] 64.8 64.8 64.8 64.8 64.8 ...\n",
      " $ human_development_index                   : num [1:215858] 0.511 0.511 0.511 0.511 0.511 0.511 0.511 0.511 0.511 0.511 ...\n",
      " $ excess_mortality_cumulative_absolute      : num [1:215858] NA NA NA NA NA NA NA NA NA NA ...\n",
      " $ excess_mortality_cumulative               : num [1:215858] NA NA NA NA NA NA NA NA NA NA ...\n",
      " $ excess_mortality                          : num [1:215858] NA NA NA NA NA NA NA NA NA NA ...\n",
      " $ excess_mortality_cumulative_per_million   : num [1:215858] NA NA NA NA NA NA NA NA NA NA ...\n",
      " - attr(*, \"spec\")=\n",
      "  .. cols(\n",
      "  ..   iso_code = \u001b[31mcol_character()\u001b[39m,\n",
      "  ..   continent = \u001b[31mcol_character()\u001b[39m,\n",
      "  ..   location = \u001b[31mcol_character()\u001b[39m,\n",
      "  ..   date = \u001b[34mcol_date(format = \"\")\u001b[39m,\n",
      "  ..   total_cases = \u001b[32mcol_double()\u001b[39m,\n",
      "  ..   new_cases = \u001b[32mcol_double()\u001b[39m,\n",
      "  ..   new_cases_smoothed = \u001b[32mcol_double()\u001b[39m,\n",
      "  ..   total_deaths = \u001b[32mcol_double()\u001b[39m,\n",
      "  ..   new_deaths = \u001b[32mcol_double()\u001b[39m,\n",
      "  ..   new_deaths_smoothed = \u001b[32mcol_double()\u001b[39m,\n",
      "  ..   total_cases_per_million = \u001b[32mcol_double()\u001b[39m,\n",
      "  ..   new_cases_per_million = \u001b[32mcol_double()\u001b[39m,\n",
      "  ..   new_cases_smoothed_per_million = \u001b[32mcol_double()\u001b[39m,\n",
      "  ..   total_deaths_per_million = \u001b[32mcol_double()\u001b[39m,\n",
      "  ..   new_deaths_per_million = \u001b[32mcol_double()\u001b[39m,\n",
      "  ..   new_deaths_smoothed_per_million = \u001b[32mcol_double()\u001b[39m,\n",
      "  ..   reproduction_rate = \u001b[32mcol_double()\u001b[39m,\n",
      "  ..   icu_patients = \u001b[32mcol_double()\u001b[39m,\n",
      "  ..   icu_patients_per_million = \u001b[32mcol_double()\u001b[39m,\n",
      "  ..   hosp_patients = \u001b[32mcol_double()\u001b[39m,\n",
      "  ..   hosp_patients_per_million = \u001b[32mcol_double()\u001b[39m,\n",
      "  ..   weekly_icu_admissions = \u001b[32mcol_double()\u001b[39m,\n",
      "  ..   weekly_icu_admissions_per_million = \u001b[32mcol_double()\u001b[39m,\n",
      "  ..   weekly_hosp_admissions = \u001b[32mcol_double()\u001b[39m,\n",
      "  ..   weekly_hosp_admissions_per_million = \u001b[32mcol_double()\u001b[39m,\n",
      "  ..   total_tests = \u001b[32mcol_double()\u001b[39m,\n",
      "  ..   new_tests = \u001b[32mcol_double()\u001b[39m,\n",
      "  ..   total_tests_per_thousand = \u001b[32mcol_double()\u001b[39m,\n",
      "  ..   new_tests_per_thousand = \u001b[32mcol_double()\u001b[39m,\n",
      "  ..   new_tests_smoothed = \u001b[32mcol_double()\u001b[39m,\n",
      "  ..   new_tests_smoothed_per_thousand = \u001b[32mcol_double()\u001b[39m,\n",
      "  ..   positive_rate = \u001b[32mcol_double()\u001b[39m,\n",
      "  ..   tests_per_case = \u001b[32mcol_double()\u001b[39m,\n",
      "  ..   tests_units = \u001b[31mcol_character()\u001b[39m,\n",
      "  ..   total_vaccinations = \u001b[32mcol_double()\u001b[39m,\n",
      "  ..   people_vaccinated = \u001b[32mcol_double()\u001b[39m,\n",
      "  ..   people_fully_vaccinated = \u001b[32mcol_double()\u001b[39m,\n",
      "  ..   total_boosters = \u001b[32mcol_double()\u001b[39m,\n",
      "  ..   new_vaccinations = \u001b[32mcol_double()\u001b[39m,\n",
      "  ..   new_vaccinations_smoothed = \u001b[32mcol_double()\u001b[39m,\n",
      "  ..   total_vaccinations_per_hundred = \u001b[32mcol_double()\u001b[39m,\n",
      "  ..   people_vaccinated_per_hundred = \u001b[32mcol_double()\u001b[39m,\n",
      "  ..   people_fully_vaccinated_per_hundred = \u001b[32mcol_double()\u001b[39m,\n",
      "  ..   total_boosters_per_hundred = \u001b[32mcol_double()\u001b[39m,\n",
      "  ..   new_vaccinations_smoothed_per_million = \u001b[32mcol_double()\u001b[39m,\n",
      "  ..   new_people_vaccinated_smoothed = \u001b[32mcol_double()\u001b[39m,\n",
      "  ..   new_people_vaccinated_smoothed_per_hundred = \u001b[32mcol_double()\u001b[39m,\n",
      "  ..   stringency_index = \u001b[32mcol_double()\u001b[39m,\n",
      "  ..   population = \u001b[32mcol_double()\u001b[39m,\n",
      "  ..   population_density = \u001b[32mcol_double()\u001b[39m,\n",
      "  ..   median_age = \u001b[32mcol_double()\u001b[39m,\n",
      "  ..   aged_65_older = \u001b[32mcol_double()\u001b[39m,\n",
      "  ..   aged_70_older = \u001b[32mcol_double()\u001b[39m,\n",
      "  ..   gdp_per_capita = \u001b[32mcol_double()\u001b[39m,\n",
      "  ..   extreme_poverty = \u001b[32mcol_double()\u001b[39m,\n",
      "  ..   cardiovasc_death_rate = \u001b[32mcol_double()\u001b[39m,\n",
      "  ..   diabetes_prevalence = \u001b[32mcol_double()\u001b[39m,\n",
      "  ..   female_smokers = \u001b[32mcol_double()\u001b[39m,\n",
      "  ..   male_smokers = \u001b[32mcol_double()\u001b[39m,\n",
      "  ..   handwashing_facilities = \u001b[32mcol_double()\u001b[39m,\n",
      "  ..   hospital_beds_per_thousand = \u001b[32mcol_double()\u001b[39m,\n",
      "  ..   life_expectancy = \u001b[32mcol_double()\u001b[39m,\n",
      "  ..   human_development_index = \u001b[32mcol_double()\u001b[39m,\n",
      "  ..   excess_mortality_cumulative_absolute = \u001b[32mcol_double()\u001b[39m,\n",
      "  ..   excess_mortality_cumulative = \u001b[32mcol_double()\u001b[39m,\n",
      "  ..   excess_mortality = \u001b[32mcol_double()\u001b[39m,\n",
      "  ..   excess_mortality_cumulative_per_million = \u001b[32mcol_double()\u001b[39m\n",
      "  .. )\n",
      " - attr(*, \"problems\")=<externalptr> \n"
     ]
    }
   ],
   "source": [
    "str(df)"
   ]
  },
  {
   "cell_type": "markdown",
   "metadata": {},
   "source": [
    "For practicity, we are going to work with a subset of the entire dataset, this subset contains variables that are related to **Confirmed cases** and **Confirmed deaths**, besides country details."
   ]
  },
  {
   "cell_type": "markdown",
   "metadata": {},
   "source": [
    "The `select()` function is used to choose whether a column of the data frame is selected or not.\n",
    "\n",
    "The `drop_na()` function drop rows containig missing values."
   ]
  },
  {
   "cell_type": "code",
   "execution_count": 29,
   "metadata": {
    "vscode": {
     "languageId": "r"
    }
   },
   "outputs": [
    {
     "data": {
      "text/html": [
       "<table class=\"dataframe\">\n",
       "<caption>A tibble: 6 × 15</caption>\n",
       "<thead>\n",
       "\t<tr><th scope=col>iso_code</th><th scope=col>continent</th><th scope=col>location</th><th scope=col>date</th><th scope=col>total_cases</th><th scope=col>new_cases</th><th scope=col>total_cases_per_million</th><th scope=col>gdp_per_capita</th><th scope=col>new_cases_per_million</th><th scope=col>total_deaths</th><th scope=col>new_deaths</th><th scope=col>total_deaths_per_million</th><th scope=col>new_deaths_per_million</th><th scope=col>people_vaccinated</th><th scope=col>people_fully_vaccinated</th></tr>\n",
       "\t<tr><th scope=col>&lt;chr&gt;</th><th scope=col>&lt;chr&gt;</th><th scope=col>&lt;chr&gt;</th><th scope=col>&lt;date&gt;</th><th scope=col>&lt;dbl&gt;</th><th scope=col>&lt;dbl&gt;</th><th scope=col>&lt;dbl&gt;</th><th scope=col>&lt;dbl&gt;</th><th scope=col>&lt;dbl&gt;</th><th scope=col>&lt;dbl&gt;</th><th scope=col>&lt;dbl&gt;</th><th scope=col>&lt;dbl&gt;</th><th scope=col>&lt;dbl&gt;</th><th scope=col>&lt;dbl&gt;</th><th scope=col>&lt;dbl&gt;</th></tr>\n",
       "</thead>\n",
       "<tbody>\n",
       "\t<tr><td>AFG</td><td>Asia</td><td>Afghanistan</td><td>2021-05-11</td><td>62403</td><td>340</td><td>1556.205</td><td>1803.987</td><td> 8.479</td><td>2710</td><td>12</td><td>67.582</td><td>0.299</td><td>448878</td><td> 55624</td></tr>\n",
       "\t<tr><td>AFG</td><td>Asia</td><td>Afghanistan</td><td>2021-05-20</td><td>64575</td><td>453</td><td>1610.371</td><td>1803.987</td><td>11.297</td><td>2772</td><td>10</td><td>69.128</td><td>0.249</td><td>470341</td><td> 77560</td></tr>\n",
       "\t<tr><td>AFG</td><td>Asia</td><td>Afghanistan</td><td>2021-05-24</td><td>66275</td><td>547</td><td>1652.765</td><td>1803.987</td><td>13.641</td><td>2812</td><td>10</td><td>70.126</td><td>0.249</td><td>476367</td><td> 96910</td></tr>\n",
       "\t<tr><td>AFG</td><td>Asia</td><td>Afghanistan</td><td>2021-05-26</td><td>67743</td><td>840</td><td>1689.374</td><td>1803.987</td><td>20.948</td><td>2855</td><td>19</td><td>71.198</td><td>0.474</td><td>479372</td><td>111082</td></tr>\n",
       "\t<tr><td>AFG</td><td>Asia</td><td>Afghanistan</td><td>2021-05-27</td><td>68366</td><td>623</td><td>1704.911</td><td>1803.987</td><td>15.536</td><td>2869</td><td>14</td><td>71.547</td><td>0.349</td><td>479574</td><td>113739</td></tr>\n",
       "\t<tr><td>AFG</td><td>Asia</td><td>Afghanistan</td><td>2021-05-30</td><td>70761</td><td>650</td><td>1764.637</td><td>1803.987</td><td>16.210</td><td>2919</td><td>20</td><td>72.794</td><td>0.499</td><td>480226</td><td>119926</td></tr>\n",
       "</tbody>\n",
       "</table>\n"
      ],
      "text/latex": [
       "A tibble: 6 × 15\n",
       "\\begin{tabular}{lllllllllllllll}\n",
       " iso\\_code & continent & location & date & total\\_cases & new\\_cases & total\\_cases\\_per\\_million & gdp\\_per\\_capita & new\\_cases\\_per\\_million & total\\_deaths & new\\_deaths & total\\_deaths\\_per\\_million & new\\_deaths\\_per\\_million & people\\_vaccinated & people\\_fully\\_vaccinated\\\\\n",
       " <chr> & <chr> & <chr> & <date> & <dbl> & <dbl> & <dbl> & <dbl> & <dbl> & <dbl> & <dbl> & <dbl> & <dbl> & <dbl> & <dbl>\\\\\n",
       "\\hline\n",
       "\t AFG & Asia & Afghanistan & 2021-05-11 & 62403 & 340 & 1556.205 & 1803.987 &  8.479 & 2710 & 12 & 67.582 & 0.299 & 448878 &  55624\\\\\n",
       "\t AFG & Asia & Afghanistan & 2021-05-20 & 64575 & 453 & 1610.371 & 1803.987 & 11.297 & 2772 & 10 & 69.128 & 0.249 & 470341 &  77560\\\\\n",
       "\t AFG & Asia & Afghanistan & 2021-05-24 & 66275 & 547 & 1652.765 & 1803.987 & 13.641 & 2812 & 10 & 70.126 & 0.249 & 476367 &  96910\\\\\n",
       "\t AFG & Asia & Afghanistan & 2021-05-26 & 67743 & 840 & 1689.374 & 1803.987 & 20.948 & 2855 & 19 & 71.198 & 0.474 & 479372 & 111082\\\\\n",
       "\t AFG & Asia & Afghanistan & 2021-05-27 & 68366 & 623 & 1704.911 & 1803.987 & 15.536 & 2869 & 14 & 71.547 & 0.349 & 479574 & 113739\\\\\n",
       "\t AFG & Asia & Afghanistan & 2021-05-30 & 70761 & 650 & 1764.637 & 1803.987 & 16.210 & 2919 & 20 & 72.794 & 0.499 & 480226 & 119926\\\\\n",
       "\\end{tabular}\n"
      ],
      "text/markdown": [
       "\n",
       "A tibble: 6 × 15\n",
       "\n",
       "| iso_code &lt;chr&gt; | continent &lt;chr&gt; | location &lt;chr&gt; | date &lt;date&gt; | total_cases &lt;dbl&gt; | new_cases &lt;dbl&gt; | total_cases_per_million &lt;dbl&gt; | gdp_per_capita &lt;dbl&gt; | new_cases_per_million &lt;dbl&gt; | total_deaths &lt;dbl&gt; | new_deaths &lt;dbl&gt; | total_deaths_per_million &lt;dbl&gt; | new_deaths_per_million &lt;dbl&gt; | people_vaccinated &lt;dbl&gt; | people_fully_vaccinated &lt;dbl&gt; |\n",
       "|---|---|---|---|---|---|---|---|---|---|---|---|---|---|---|\n",
       "| AFG | Asia | Afghanistan | 2021-05-11 | 62403 | 340 | 1556.205 | 1803.987 |  8.479 | 2710 | 12 | 67.582 | 0.299 | 448878 |  55624 |\n",
       "| AFG | Asia | Afghanistan | 2021-05-20 | 64575 | 453 | 1610.371 | 1803.987 | 11.297 | 2772 | 10 | 69.128 | 0.249 | 470341 |  77560 |\n",
       "| AFG | Asia | Afghanistan | 2021-05-24 | 66275 | 547 | 1652.765 | 1803.987 | 13.641 | 2812 | 10 | 70.126 | 0.249 | 476367 |  96910 |\n",
       "| AFG | Asia | Afghanistan | 2021-05-26 | 67743 | 840 | 1689.374 | 1803.987 | 20.948 | 2855 | 19 | 71.198 | 0.474 | 479372 | 111082 |\n",
       "| AFG | Asia | Afghanistan | 2021-05-27 | 68366 | 623 | 1704.911 | 1803.987 | 15.536 | 2869 | 14 | 71.547 | 0.349 | 479574 | 113739 |\n",
       "| AFG | Asia | Afghanistan | 2021-05-30 | 70761 | 650 | 1764.637 | 1803.987 | 16.210 | 2919 | 20 | 72.794 | 0.499 | 480226 | 119926 |\n",
       "\n"
      ],
      "text/plain": [
       "  iso_code continent location    date       total_cases new_cases\n",
       "1 AFG      Asia      Afghanistan 2021-05-11 62403       340      \n",
       "2 AFG      Asia      Afghanistan 2021-05-20 64575       453      \n",
       "3 AFG      Asia      Afghanistan 2021-05-24 66275       547      \n",
       "4 AFG      Asia      Afghanistan 2021-05-26 67743       840      \n",
       "5 AFG      Asia      Afghanistan 2021-05-27 68366       623      \n",
       "6 AFG      Asia      Afghanistan 2021-05-30 70761       650      \n",
       "  total_cases_per_million gdp_per_capita new_cases_per_million total_deaths\n",
       "1 1556.205                1803.987        8.479                2710        \n",
       "2 1610.371                1803.987       11.297                2772        \n",
       "3 1652.765                1803.987       13.641                2812        \n",
       "4 1689.374                1803.987       20.948                2855        \n",
       "5 1704.911                1803.987       15.536                2869        \n",
       "6 1764.637                1803.987       16.210                2919        \n",
       "  new_deaths total_deaths_per_million new_deaths_per_million people_vaccinated\n",
       "1 12         67.582                   0.299                  448878           \n",
       "2 10         69.128                   0.249                  470341           \n",
       "3 10         70.126                   0.249                  476367           \n",
       "4 19         71.198                   0.474                  479372           \n",
       "5 14         71.547                   0.349                  479574           \n",
       "6 20         72.794                   0.499                  480226           \n",
       "  people_fully_vaccinated\n",
       "1  55624                 \n",
       "2  77560                 \n",
       "3  96910                 \n",
       "4 111082                 \n",
       "5 113739                 \n",
       "6 119926                 "
      ]
     },
     "metadata": {},
     "output_type": "display_data"
    }
   ],
   "source": [
    "columns \n",
    "cases_df <- df %>% \n",
    "        select(iso_code, continent, location, date, total_cases, new_cases, total_cases_per_million, gdp_per_capita, \n",
    "        new_cases_per_million, total_deaths, new_deaths,  total_deaths_per_million,new_deaths_per_million,\n",
    "        people_vaccinated, people_fully_vaccinated) %>% \n",
    "        drop_na()\n",
    "head(cases_df)"
   ]
  },
  {
   "cell_type": "markdown",
   "metadata": {},
   "source": [
    "To get a better idea of the distribution of our variables in the dataset, we can use the `summary()` function.\n",
    "\n",
    "`summary()` is a built-in R function used to produce result summaries of various model fitting functions. This function implores specific methods that depend on the class of the first argument. \n",
    "\n",
    "When used in a data frame, the `summary()` function generates descriptive statistics, including central tendency measures, dispersion and shape of a dataset’s distribution, excluding NaN values. The output will vary depending on what is provided."
   ]
  },
  {
   "cell_type": "code",
   "execution_count": 30,
   "metadata": {
    "vscode": {
     "languageId": "r"
    }
   },
   "outputs": [
    {
     "data": {
      "text/plain": [
       "   iso_code          continent           location              date           \n",
       " Length:42503       Length:42503       Length:42503       Min.   :2020-12-13  \n",
       " Class :character   Class :character   Class :character   1st Qu.:2021-06-29  \n",
       " Mode  :character   Mode  :character   Mode  :character   Median :2021-10-28  \n",
       "                                                          Mean   :2021-11-05  \n",
       "                                                          3rd Qu.:2022-03-13  \n",
       "                                                          Max.   :2022-09-12  \n",
       "  total_cases         new_cases       total_cases_per_million\n",
       " Min.   :       4   Min.   :      0   Min.   :    12.5       \n",
       " 1st Qu.:  160581   1st Qu.:     96   1st Qu.: 26289.3       \n",
       " Median :  660788   Median :    899   Median : 67292.1       \n",
       " Mean   : 3544780   Mean   :  10216   Mean   :103855.8       \n",
       " 3rd Qu.: 2727732   3rd Qu.:   5242   3rd Qu.:132294.6       \n",
       " Max.   :94873418   Max.   :1355340   Max.   :640758.4       \n",
       " gdp_per_capita     new_cases_per_million  total_deaths       new_deaths     \n",
       " Min.   :   661.2   Min.   :    0.00      Min.   :      1   Min.   :   0.00  \n",
       " 1st Qu.: 11188.7   1st Qu.:   12.76      1st Qu.:   1956   1st Qu.:   0.00  \n",
       " Median : 24055.6   Median :   90.31      Median :   8565   Median :   8.00  \n",
       " Mean   : 26556.6   Mean   :  352.09      Mean   :  53508   Mean   :  86.11  \n",
       " 3rd Qu.: 37960.7   3rd Qu.:  331.34      3rd Qu.:  33703   3rd Qu.:  45.00  \n",
       " Max.   :116935.6   Max.   :35195.42      Max.   :1048287   Max.   :4529.00  \n",
       " total_deaths_per_million new_deaths_per_million people_vaccinated  \n",
       " Min.   :   0.06          Min.   :  0.000        Min.   :1.000e+00  \n",
       " 1st Qu.: 335.26          1st Qu.:  0.000        1st Qu.:8.191e+05  \n",
       " Median :1008.02          Median :  0.672        Median :4.301e+06  \n",
       " Mean   :1244.47          Mean   :  2.321        Mean   :2.715e+07  \n",
       " 3rd Qu.:1853.96          3rd Qu.:  2.726        3rd Qu.:1.767e+07  \n",
       " Max.   :6411.03          Max.   :553.803        Max.   :1.303e+09  \n",
       " people_fully_vaccinated\n",
       " Min.   :1.000e+00      \n",
       " 1st Qu.:4.854e+05      \n",
       " Median :3.244e+06      \n",
       " Mean   :2.169e+07      \n",
       " 3rd Qu.:1.367e+07      \n",
       " Max.   :1.271e+09      "
      ]
     },
     "metadata": {},
     "output_type": "display_data"
    }
   ],
   "source": [
    "summary(cases_df)"
   ]
  },
  {
   "cell_type": "markdown",
   "metadata": {},
   "source": [
    "**Grouping data**\n",
    "\n",
    "Most data operations are done on groups defined by variables. `group_by()` function takes an existing tbl and converts it into a grouped tbl where operations are performed \"by group\". `ungroup()`removes grouping.\n",
    "\n",
    "Once we have a grouped tbl, to perform an operation into the groups we can use the `summarise()` function:\n",
    "- `summmarise()`:  creates a new data frame. It will have one (or more) rows for each combination of grouping variables; if there are no grouping variables, the output will have a single row summarising all observations in the input. It will contain one column for each grouping variable and one column for each of the summary statistics that you have specified.\n",
    "\n",
    "Useful functions to use with summarise:\n",
    "- Center: `mean()`, `median()`\n",
    "- Spread: `sd()`, `IQR()`, `mad()`\n",
    "- Range: `min()`, `max()`, `quantile()`\n",
    "- Position: `first()`, `last()`, `nth()`,\n",
    "- Count: `n()`, `n_distinct()`\n",
    "- Logical: `any()`, `all()`\n",
    "\n",
    "Take a look to the [scoped variants](https://dplyr.tidyverse.org/reference/summarise_all.html) of  `summarise()`: \n",
    "- `summarise_all()` affects every variable.\n",
    "- `summarise_at()` affects variables selected with a character vector or vars().\n",
    "- `summarise_if()` affects variables selected with a predicate function."
   ]
  },
  {
   "cell_type": "markdown",
   "metadata": {},
   "source": [
    "In this example we use:\n",
    "- `select_if()`: Select columns using a predicate\n",
    "    - A predicate is a function that returns a single `TRUE` or `FALSE` , like `is.character`, or `is.NULL`. A predicate functional applies a predicate to each element of a list or data frame.\n",
    "    - The argument `na.rm = TRUE`  excludes missing values when performing operations"
   ]
  },
  {
   "cell_type": "code",
   "execution_count": 31,
   "metadata": {
    "vscode": {
     "languageId": "r"
    }
   },
   "outputs": [
    {
     "data": {
      "text/html": [
       "<table class=\"dataframe\">\n",
       "<caption>A tibble: 6 × 12</caption>\n",
       "<thead>\n",
       "\t<tr><th scope=col>location</th><th scope=col>total_cases</th><th scope=col>new_cases</th><th scope=col>total_cases_per_million</th><th scope=col>gdp_per_capita</th><th scope=col>new_cases_per_million</th><th scope=col>total_deaths</th><th scope=col>new_deaths</th><th scope=col>total_deaths_per_million</th><th scope=col>new_deaths_per_million</th><th scope=col>people_vaccinated</th><th scope=col>people_fully_vaccinated</th></tr>\n",
       "\t<tr><th scope=col>&lt;chr&gt;</th><th scope=col>&lt;dbl&gt;</th><th scope=col>&lt;dbl&gt;</th><th scope=col>&lt;dbl&gt;</th><th scope=col>&lt;dbl&gt;</th><th scope=col>&lt;dbl&gt;</th><th scope=col>&lt;dbl&gt;</th><th scope=col>&lt;dbl&gt;</th><th scope=col>&lt;dbl&gt;</th><th scope=col>&lt;dbl&gt;</th><th scope=col>&lt;dbl&gt;</th><th scope=col>&lt;dbl&gt;</th></tr>\n",
       "</thead>\n",
       "<tbody>\n",
       "\t<tr><td>Afghanistan        </td><td> 151477.661</td><td>  420.2881</td><td>  3777.548</td><td> 1803.987</td><td> 10.481119</td><td>  6545.1695</td><td> 13.847458</td><td> 163.22344</td><td>0.34540678</td><td> 4225927.98</td><td> 3643289.25</td></tr>\n",
       "\t<tr><td>Albania            </td><td> 175964.985</td><td>  360.4059</td><td> 61640.231</td><td>11803.431</td><td>126.249599</td><td>  2765.5396</td><td>  3.306931</td><td> 968.76382</td><td>1.15837129</td><td>  858982.64</td><td>  719275.34</td></tr>\n",
       "\t<tr><td>Algeria            </td><td> 222433.739</td><td>  178.6522</td><td>  5034.947</td><td>13913.839</td><td>  4.043870</td><td>  6154.4783</td><td>  7.217391</td><td> 139.31104</td><td>0.16343478</td><td> 6696578.74</td><td> 5152626.70</td></tr>\n",
       "\t<tr><td>Angola             </td><td>  69339.391</td><td>  183.6719</td><td>  2009.618</td><td> 5819.495</td><td>  5.323234</td><td>  1516.1406</td><td>  2.921875</td><td>  43.94119</td><td>0.08473438</td><td> 6139883.06</td><td> 3114444.34</td></tr>\n",
       "\t<tr><td>Antigua and Barbuda</td><td>   2889.675</td><td>   24.4750</td><td> 30998.445</td><td>21490.943</td><td>262.550950</td><td>    71.7125</td><td>  0.537500</td><td> 769.28224</td><td>5.76593750</td><td>   46642.47</td><td>   38263.51</td></tr>\n",
       "\t<tr><td>Argentina          </td><td>5967862.865</td><td>13063.4645</td><td>131808.465</td><td>18933.907</td><td>288.524568</td><td>102919.5645</td><td>140.162903</td><td>2273.12023</td><td>3.09569194</td><td>27314915.90</td><td>21425170.47</td></tr>\n",
       "</tbody>\n",
       "</table>\n"
      ],
      "text/latex": [
       "A tibble: 6 × 12\n",
       "\\begin{tabular}{llllllllllll}\n",
       " location & total\\_cases & new\\_cases & total\\_cases\\_per\\_million & gdp\\_per\\_capita & new\\_cases\\_per\\_million & total\\_deaths & new\\_deaths & total\\_deaths\\_per\\_million & new\\_deaths\\_per\\_million & people\\_vaccinated & people\\_fully\\_vaccinated\\\\\n",
       " <chr> & <dbl> & <dbl> & <dbl> & <dbl> & <dbl> & <dbl> & <dbl> & <dbl> & <dbl> & <dbl> & <dbl>\\\\\n",
       "\\hline\n",
       "\t Afghanistan         &  151477.661 &   420.2881 &   3777.548 &  1803.987 &  10.481119 &   6545.1695 &  13.847458 &  163.22344 & 0.34540678 &  4225927.98 &  3643289.25\\\\\n",
       "\t Albania             &  175964.985 &   360.4059 &  61640.231 & 11803.431 & 126.249599 &   2765.5396 &   3.306931 &  968.76382 & 1.15837129 &   858982.64 &   719275.34\\\\\n",
       "\t Algeria             &  222433.739 &   178.6522 &   5034.947 & 13913.839 &   4.043870 &   6154.4783 &   7.217391 &  139.31104 & 0.16343478 &  6696578.74 &  5152626.70\\\\\n",
       "\t Angola              &   69339.391 &   183.6719 &   2009.618 &  5819.495 &   5.323234 &   1516.1406 &   2.921875 &   43.94119 & 0.08473438 &  6139883.06 &  3114444.34\\\\\n",
       "\t Antigua and Barbuda &    2889.675 &    24.4750 &  30998.445 & 21490.943 & 262.550950 &     71.7125 &   0.537500 &  769.28224 & 5.76593750 &    46642.47 &    38263.51\\\\\n",
       "\t Argentina           & 5967862.865 & 13063.4645 & 131808.465 & 18933.907 & 288.524568 & 102919.5645 & 140.162903 & 2273.12023 & 3.09569194 & 27314915.90 & 21425170.47\\\\\n",
       "\\end{tabular}\n"
      ],
      "text/markdown": [
       "\n",
       "A tibble: 6 × 12\n",
       "\n",
       "| location &lt;chr&gt; | total_cases &lt;dbl&gt; | new_cases &lt;dbl&gt; | total_cases_per_million &lt;dbl&gt; | gdp_per_capita &lt;dbl&gt; | new_cases_per_million &lt;dbl&gt; | total_deaths &lt;dbl&gt; | new_deaths &lt;dbl&gt; | total_deaths_per_million &lt;dbl&gt; | new_deaths_per_million &lt;dbl&gt; | people_vaccinated &lt;dbl&gt; | people_fully_vaccinated &lt;dbl&gt; |\n",
       "|---|---|---|---|---|---|---|---|---|---|---|---|\n",
       "| Afghanistan         |  151477.661 |   420.2881 |   3777.548 |  1803.987 |  10.481119 |   6545.1695 |  13.847458 |  163.22344 | 0.34540678 |  4225927.98 |  3643289.25 |\n",
       "| Albania             |  175964.985 |   360.4059 |  61640.231 | 11803.431 | 126.249599 |   2765.5396 |   3.306931 |  968.76382 | 1.15837129 |   858982.64 |   719275.34 |\n",
       "| Algeria             |  222433.739 |   178.6522 |   5034.947 | 13913.839 |   4.043870 |   6154.4783 |   7.217391 |  139.31104 | 0.16343478 |  6696578.74 |  5152626.70 |\n",
       "| Angola              |   69339.391 |   183.6719 |   2009.618 |  5819.495 |   5.323234 |   1516.1406 |   2.921875 |   43.94119 | 0.08473438 |  6139883.06 |  3114444.34 |\n",
       "| Antigua and Barbuda |    2889.675 |    24.4750 |  30998.445 | 21490.943 | 262.550950 |     71.7125 |   0.537500 |  769.28224 | 5.76593750 |    46642.47 |    38263.51 |\n",
       "| Argentina           | 5967862.865 | 13063.4645 | 131808.465 | 18933.907 | 288.524568 | 102919.5645 | 140.162903 | 2273.12023 | 3.09569194 | 27314915.90 | 21425170.47 |\n",
       "\n"
      ],
      "text/plain": [
       "  location            total_cases new_cases  total_cases_per_million\n",
       "1 Afghanistan          151477.661   420.2881   3777.548             \n",
       "2 Albania              175964.985   360.4059  61640.231             \n",
       "3 Algeria              222433.739   178.6522   5034.947             \n",
       "4 Angola                69339.391   183.6719   2009.618             \n",
       "5 Antigua and Barbuda    2889.675    24.4750  30998.445             \n",
       "6 Argentina           5967862.865 13063.4645 131808.465             \n",
       "  gdp_per_capita new_cases_per_million total_deaths new_deaths\n",
       "1  1803.987       10.481119              6545.1695   13.847458\n",
       "2 11803.431      126.249599              2765.5396    3.306931\n",
       "3 13913.839        4.043870              6154.4783    7.217391\n",
       "4  5819.495        5.323234              1516.1406    2.921875\n",
       "5 21490.943      262.550950                71.7125    0.537500\n",
       "6 18933.907      288.524568            102919.5645  140.162903\n",
       "  total_deaths_per_million new_deaths_per_million people_vaccinated\n",
       "1  163.22344               0.34540678              4225927.98      \n",
       "2  968.76382               1.15837129               858982.64      \n",
       "3  139.31104               0.16343478              6696578.74      \n",
       "4   43.94119               0.08473438              6139883.06      \n",
       "5  769.28224               5.76593750                46642.47      \n",
       "6 2273.12023               3.09569194             27314915.90      \n",
       "  people_fully_vaccinated\n",
       "1  3643289.25            \n",
       "2   719275.34            \n",
       "3  5152626.70            \n",
       "4  3114444.34            \n",
       "5    38263.51            \n",
       "6 21425170.47            "
      ]
     },
     "metadata": {},
     "output_type": "display_data"
    }
   ],
   "source": [
    "cases_df %>% \n",
    "    group_by(location) %>%\n",
    "    select_if(is.numeric) %>%\n",
    "    summarise_all(mean) %>%\n",
    "    head()\n"
   ]
  },
  {
   "cell_type": "code",
   "execution_count": 32,
   "metadata": {
    "vscode": {
     "languageId": "r"
    }
   },
   "outputs": [
    {
     "data": {
      "text/html": [
       "<table class=\"dataframe\">\n",
       "<caption>A tibble: 6 × 12</caption>\n",
       "<thead>\n",
       "\t<tr><th scope=col>location</th><th scope=col>total_cases</th><th scope=col>new_cases</th><th scope=col>total_cases_per_million</th><th scope=col>gdp_per_capita</th><th scope=col>new_cases_per_million</th><th scope=col>total_deaths</th><th scope=col>new_deaths</th><th scope=col>total_deaths_per_million</th><th scope=col>new_deaths_per_million</th><th scope=col>people_vaccinated</th><th scope=col>people_fully_vaccinated</th></tr>\n",
       "\t<tr><th scope=col>&lt;chr&gt;</th><th scope=col>&lt;dbl&gt;</th><th scope=col>&lt;dbl&gt;</th><th scope=col>&lt;dbl&gt;</th><th scope=col>&lt;dbl&gt;</th><th scope=col>&lt;dbl&gt;</th><th scope=col>&lt;dbl&gt;</th><th scope=col>&lt;dbl&gt;</th><th scope=col>&lt;dbl&gt;</th><th scope=col>&lt;dbl&gt;</th><th scope=col>&lt;dbl&gt;</th><th scope=col>&lt;dbl&gt;</th></tr>\n",
       "</thead>\n",
       "<tbody>\n",
       "\t<tr><td>Afghanistan        </td><td>  40864.89</td><td>  480.41186</td><td> 1019.0882</td><td>0</td><td> 11.980452</td><td> 1810.34777</td><td> 25.002630</td><td> 45.14645</td><td> 0.6235356</td><td> 2822790.84</td><td> 2695161.17</td></tr>\n",
       "\t<tr><td>Albania            </td><td>  52791.46</td><td>  391.22755</td><td>18492.7581</td><td>0</td><td>137.046365</td><td>  431.50354</td><td>  3.974402</td><td>151.15492</td><td> 1.3922204</td><td>  307884.81</td><td>  333720.33</td></tr>\n",
       "\t<tr><td>Algeria            </td><td>  26129.82</td><td>  169.22191</td><td>  591.4673</td><td>0</td><td>  3.830434</td><td>  490.71070</td><td>  6.993221</td><td> 11.10772</td><td> 0.1583408</td><td>  995591.90</td><td> 1278764.41</td></tr>\n",
       "\t<tr><td>Angola             </td><td>  25781.54</td><td>  284.52060</td><td>  747.2092</td><td>0</td><td>  8.246044</td><td>  438.48994</td><td>  3.538023</td><td> 12.70840</td><td> 0.1026027</td><td> 4719576.07</td><td> 2541664.06</td></tr>\n",
       "\t<tr><td>Antigua and Barbuda</td><td>   2049.94</td><td>   68.81014</td><td>21990.3500</td><td>0</td><td>738.147801</td><td>   35.93813</td><td>  1.915584</td><td>385.51956</td><td>20.5490938</td><td>   11570.25</td><td>   15483.97</td></tr>\n",
       "\t<tr><td>Argentina          </td><td>2740645.47</td><td>21609.06334</td><td>60530.9271</td><td>0</td><td>477.265907</td><td>29375.23063</td><td>171.923662</td><td>648.79241</td><td> 3.7971698</td><td>15564439.97</td><td>15744760.27</td></tr>\n",
       "</tbody>\n",
       "</table>\n"
      ],
      "text/latex": [
       "A tibble: 6 × 12\n",
       "\\begin{tabular}{llllllllllll}\n",
       " location & total\\_cases & new\\_cases & total\\_cases\\_per\\_million & gdp\\_per\\_capita & new\\_cases\\_per\\_million & total\\_deaths & new\\_deaths & total\\_deaths\\_per\\_million & new\\_deaths\\_per\\_million & people\\_vaccinated & people\\_fully\\_vaccinated\\\\\n",
       " <chr> & <dbl> & <dbl> & <dbl> & <dbl> & <dbl> & <dbl> & <dbl> & <dbl> & <dbl> & <dbl> & <dbl>\\\\\n",
       "\\hline\n",
       "\t Afghanistan         &   40864.89 &   480.41186 &  1019.0882 & 0 &  11.980452 &  1810.34777 &  25.002630 &  45.14645 &  0.6235356 &  2822790.84 &  2695161.17\\\\\n",
       "\t Albania             &   52791.46 &   391.22755 & 18492.7581 & 0 & 137.046365 &   431.50354 &   3.974402 & 151.15492 &  1.3922204 &   307884.81 &   333720.33\\\\\n",
       "\t Algeria             &   26129.82 &   169.22191 &   591.4673 & 0 &   3.830434 &   490.71070 &   6.993221 &  11.10772 &  0.1583408 &   995591.90 &  1278764.41\\\\\n",
       "\t Angola              &   25781.54 &   284.52060 &   747.2092 & 0 &   8.246044 &   438.48994 &   3.538023 &  12.70840 &  0.1026027 &  4719576.07 &  2541664.06\\\\\n",
       "\t Antigua and Barbuda &    2049.94 &    68.81014 & 21990.3500 & 0 & 738.147801 &    35.93813 &   1.915584 & 385.51956 & 20.5490938 &    11570.25 &    15483.97\\\\\n",
       "\t Argentina           & 2740645.47 & 21609.06334 & 60530.9271 & 0 & 477.265907 & 29375.23063 & 171.923662 & 648.79241 &  3.7971698 & 15564439.97 & 15744760.27\\\\\n",
       "\\end{tabular}\n"
      ],
      "text/markdown": [
       "\n",
       "A tibble: 6 × 12\n",
       "\n",
       "| location &lt;chr&gt; | total_cases &lt;dbl&gt; | new_cases &lt;dbl&gt; | total_cases_per_million &lt;dbl&gt; | gdp_per_capita &lt;dbl&gt; | new_cases_per_million &lt;dbl&gt; | total_deaths &lt;dbl&gt; | new_deaths &lt;dbl&gt; | total_deaths_per_million &lt;dbl&gt; | new_deaths_per_million &lt;dbl&gt; | people_vaccinated &lt;dbl&gt; | people_fully_vaccinated &lt;dbl&gt; |\n",
       "|---|---|---|---|---|---|---|---|---|---|---|---|\n",
       "| Afghanistan         |   40864.89 |   480.41186 |  1019.0882 | 0 |  11.980452 |  1810.34777 |  25.002630 |  45.14645 |  0.6235356 |  2822790.84 |  2695161.17 |\n",
       "| Albania             |   52791.46 |   391.22755 | 18492.7581 | 0 | 137.046365 |   431.50354 |   3.974402 | 151.15492 |  1.3922204 |   307884.81 |   333720.33 |\n",
       "| Algeria             |   26129.82 |   169.22191 |   591.4673 | 0 |   3.830434 |   490.71070 |   6.993221 |  11.10772 |  0.1583408 |   995591.90 |  1278764.41 |\n",
       "| Angola              |   25781.54 |   284.52060 |   747.2092 | 0 |   8.246044 |   438.48994 |   3.538023 |  12.70840 |  0.1026027 |  4719576.07 |  2541664.06 |\n",
       "| Antigua and Barbuda |    2049.94 |    68.81014 | 21990.3500 | 0 | 738.147801 |    35.93813 |   1.915584 | 385.51956 | 20.5490938 |    11570.25 |    15483.97 |\n",
       "| Argentina           | 2740645.47 | 21609.06334 | 60530.9271 | 0 | 477.265907 | 29375.23063 | 171.923662 | 648.79241 |  3.7971698 | 15564439.97 | 15744760.27 |\n",
       "\n"
      ],
      "text/plain": [
       "  location            total_cases new_cases   total_cases_per_million\n",
       "1 Afghanistan           40864.89    480.41186  1019.0882             \n",
       "2 Albania               52791.46    391.22755 18492.7581             \n",
       "3 Algeria               26129.82    169.22191   591.4673             \n",
       "4 Angola                25781.54    284.52060   747.2092             \n",
       "5 Antigua and Barbuda    2049.94     68.81014 21990.3500             \n",
       "6 Argentina           2740645.47  21609.06334 60530.9271             \n",
       "  gdp_per_capita new_cases_per_million total_deaths new_deaths\n",
       "1 0               11.980452             1810.34777   25.002630\n",
       "2 0              137.046365              431.50354    3.974402\n",
       "3 0                3.830434              490.71070    6.993221\n",
       "4 0                8.246044              438.48994    3.538023\n",
       "5 0              738.147801               35.93813    1.915584\n",
       "6 0              477.265907            29375.23063  171.923662\n",
       "  total_deaths_per_million new_deaths_per_million people_vaccinated\n",
       "1  45.14645                 0.6235356              2822790.84      \n",
       "2 151.15492                 1.3922204               307884.81      \n",
       "3  11.10772                 0.1583408               995591.90      \n",
       "4  12.70840                 0.1026027              4719576.07      \n",
       "5 385.51956                20.5490938                11570.25      \n",
       "6 648.79241                 3.7971698             15564439.97      \n",
       "  people_fully_vaccinated\n",
       "1  2695161.17            \n",
       "2   333720.33            \n",
       "3  1278764.41            \n",
       "4  2541664.06            \n",
       "5    15483.97            \n",
       "6 15744760.27            "
      ]
     },
     "metadata": {},
     "output_type": "display_data"
    }
   ],
   "source": [
    "cases_df %>% \n",
    "    group_by(location) %>%\n",
    "    select_if(is.numeric) %>%\n",
    "    summarise_all(sd) %>%\n",
    "    head()"
   ]
  },
  {
   "cell_type": "code",
   "execution_count": 14,
   "metadata": {
    "vscode": {
     "languageId": "r"
    }
   },
   "outputs": [
    {
     "data": {
      "text/html": [
       "<table class=\"dataframe\">\n",
       "<caption>A tibble: 6 × 12</caption>\n",
       "<thead>\n",
       "\t<tr><th scope=col>location</th><th scope=col>total_cases</th><th scope=col>new_cases</th><th scope=col>total_cases_per_million</th><th scope=col>gdp_per_capita</th><th scope=col>new_cases_per_million</th><th scope=col>total_deaths</th><th scope=col>new_deaths</th><th scope=col>total_deaths_per_million</th><th scope=col>new_deaths_per_million</th><th scope=col>people_vaccinated</th><th scope=col>people_fully_vaccinated</th></tr>\n",
       "\t<tr><th scope=col>&lt;chr&gt;</th><th scope=col>&lt;dbl&gt;</th><th scope=col>&lt;dbl&gt;</th><th scope=col>&lt;dbl&gt;</th><th scope=col>&lt;dbl&gt;</th><th scope=col>&lt;dbl&gt;</th><th scope=col>&lt;dbl&gt;</th><th scope=col>&lt;dbl&gt;</th><th scope=col>&lt;dbl&gt;</th><th scope=col>&lt;dbl&gt;</th><th scope=col>&lt;dbl&gt;</th><th scope=col>&lt;dbl&gt;</th></tr>\n",
       "</thead>\n",
       "<tbody>\n",
       "\t<tr><td>Afghanistan        </td><td> 194163</td><td>  1847</td><td>  4842.035</td><td> 1803.987</td><td>  46.060</td><td>  7782</td><td> 86</td><td> 194.067</td><td>  2.145</td><td>10748257</td><td> 9963368</td></tr>\n",
       "\t<tr><td>Albania            </td><td> 326077</td><td>  2177</td><td>114224.212</td><td>11803.431</td><td> 762.599</td><td>  3576</td><td> 18</td><td>1252.667</td><td>  6.305</td><td> 1334091</td><td> 1258792</td></tr>\n",
       "\t<tr><td>Algeria            </td><td> 265873</td><td>   610</td><td>  6018.226</td><td>13913.839</td><td>  13.808</td><td>  6875</td><td> 28</td><td> 155.621</td><td>  0.634</td><td> 8210605</td><td> 6851660</td></tr>\n",
       "\t<tr><td>Angola             </td><td> 102636</td><td>  1396</td><td>  2974.631</td><td> 5819.495</td><td>  40.459</td><td>  1917</td><td> 14</td><td>  55.559</td><td>  0.406</td><td>14195788</td><td> 7795780</td></tr>\n",
       "\t<tr><td>Antigua and Barbuda</td><td>   8555</td><td>   419</td><td> 91772.152</td><td>21490.943</td><td>4494.744</td><td>   140</td><td> 12</td><td>1501.824</td><td>128.728</td><td>   64091</td><td>   62031</td></tr>\n",
       "\t<tr><td>Argentina          </td><td>9689861</td><td>139853</td><td>214013.916</td><td>18933.907</td><td>3088.846</td><td>129769</td><td>791</td><td>2866.127</td><td> 17.470</td><td>41276051</td><td>37765773</td></tr>\n",
       "</tbody>\n",
       "</table>\n"
      ],
      "text/latex": [
       "A tibble: 6 × 12\n",
       "\\begin{tabular}{llllllllllll}\n",
       " location & total\\_cases & new\\_cases & total\\_cases\\_per\\_million & gdp\\_per\\_capita & new\\_cases\\_per\\_million & total\\_deaths & new\\_deaths & total\\_deaths\\_per\\_million & new\\_deaths\\_per\\_million & people\\_vaccinated & people\\_fully\\_vaccinated\\\\\n",
       " <chr> & <dbl> & <dbl> & <dbl> & <dbl> & <dbl> & <dbl> & <dbl> & <dbl> & <dbl> & <dbl> & <dbl>\\\\\n",
       "\\hline\n",
       "\t Afghanistan         &  194163 &   1847 &   4842.035 &  1803.987 &   46.060 &   7782 &  86 &  194.067 &   2.145 & 10748257 &  9963368\\\\\n",
       "\t Albania             &  326077 &   2177 & 114224.212 & 11803.431 &  762.599 &   3576 &  18 & 1252.667 &   6.305 &  1334091 &  1258792\\\\\n",
       "\t Algeria             &  265873 &    610 &   6018.226 & 13913.839 &   13.808 &   6875 &  28 &  155.621 &   0.634 &  8210605 &  6851660\\\\\n",
       "\t Angola              &  102636 &   1396 &   2974.631 &  5819.495 &   40.459 &   1917 &  14 &   55.559 &   0.406 & 14195788 &  7795780\\\\\n",
       "\t Antigua and Barbuda &    8555 &    419 &  91772.152 & 21490.943 & 4494.744 &    140 &  12 & 1501.824 & 128.728 &    64091 &    62031\\\\\n",
       "\t Argentina           & 9689861 & 139853 & 214013.916 & 18933.907 & 3088.846 & 129769 & 791 & 2866.127 &  17.470 & 41276051 & 37765773\\\\\n",
       "\\end{tabular}\n"
      ],
      "text/markdown": [
       "\n",
       "A tibble: 6 × 12\n",
       "\n",
       "| location &lt;chr&gt; | total_cases &lt;dbl&gt; | new_cases &lt;dbl&gt; | total_cases_per_million &lt;dbl&gt; | gdp_per_capita &lt;dbl&gt; | new_cases_per_million &lt;dbl&gt; | total_deaths &lt;dbl&gt; | new_deaths &lt;dbl&gt; | total_deaths_per_million &lt;dbl&gt; | new_deaths_per_million &lt;dbl&gt; | people_vaccinated &lt;dbl&gt; | people_fully_vaccinated &lt;dbl&gt; |\n",
       "|---|---|---|---|---|---|---|---|---|---|---|---|\n",
       "| Afghanistan         |  194163 |   1847 |   4842.035 |  1803.987 |   46.060 |   7782 |  86 |  194.067 |   2.145 | 10748257 |  9963368 |\n",
       "| Albania             |  326077 |   2177 | 114224.212 | 11803.431 |  762.599 |   3576 |  18 | 1252.667 |   6.305 |  1334091 |  1258792 |\n",
       "| Algeria             |  265873 |    610 |   6018.226 | 13913.839 |   13.808 |   6875 |  28 |  155.621 |   0.634 |  8210605 |  6851660 |\n",
       "| Angola              |  102636 |   1396 |   2974.631 |  5819.495 |   40.459 |   1917 |  14 |   55.559 |   0.406 | 14195788 |  7795780 |\n",
       "| Antigua and Barbuda |    8555 |    419 |  91772.152 | 21490.943 | 4494.744 |    140 |  12 | 1501.824 | 128.728 |    64091 |    62031 |\n",
       "| Argentina           | 9689861 | 139853 | 214013.916 | 18933.907 | 3088.846 | 129769 | 791 | 2866.127 |  17.470 | 41276051 | 37765773 |\n",
       "\n"
      ],
      "text/plain": [
       "  location            total_cases new_cases total_cases_per_million\n",
       "1 Afghanistan          194163       1847      4842.035             \n",
       "2 Albania              326077       2177    114224.212             \n",
       "3 Algeria              265873        610      6018.226             \n",
       "4 Angola               102636       1396      2974.631             \n",
       "5 Antigua and Barbuda    8555        419     91772.152             \n",
       "6 Argentina           9689861     139853    214013.916             \n",
       "  gdp_per_capita new_cases_per_million total_deaths new_deaths\n",
       "1  1803.987        46.060                7782        86       \n",
       "2 11803.431       762.599                3576        18       \n",
       "3 13913.839        13.808                6875        28       \n",
       "4  5819.495        40.459                1917        14       \n",
       "5 21490.943      4494.744                 140        12       \n",
       "6 18933.907      3088.846              129769       791       \n",
       "  total_deaths_per_million new_deaths_per_million people_vaccinated\n",
       "1  194.067                   2.145                10748257         \n",
       "2 1252.667                   6.305                 1334091         \n",
       "3  155.621                   0.634                 8210605         \n",
       "4   55.559                   0.406                14195788         \n",
       "5 1501.824                 128.728                   64091         \n",
       "6 2866.127                  17.470                41276051         \n",
       "  people_fully_vaccinated\n",
       "1  9963368               \n",
       "2  1258792               \n",
       "3  6851660               \n",
       "4  7795780               \n",
       "5    62031               \n",
       "6 37765773               "
      ]
     },
     "metadata": {},
     "output_type": "display_data"
    }
   ],
   "source": [
    "cases_df %>% \n",
    "    group_by(location) %>%\n",
    "    select_if(is.numeric) %>%\n",
    "    summarise_all(max) %>%\n",
    "    head()"
   ]
  },
  {
   "cell_type": "code",
   "execution_count": 15,
   "metadata": {
    "vscode": {
     "languageId": "r"
    }
   },
   "outputs": [
    {
     "data": {
      "text/html": [
       "<table class=\"dataframe\">\n",
       "<caption>A tibble: 6 × 12</caption>\n",
       "<thead>\n",
       "\t<tr><th scope=col>location</th><th scope=col>total_cases</th><th scope=col>new_cases</th><th scope=col>total_cases_per_million</th><th scope=col>gdp_per_capita</th><th scope=col>new_cases_per_million</th><th scope=col>total_deaths</th><th scope=col>new_deaths</th><th scope=col>total_deaths_per_million</th><th scope=col>new_deaths_per_million</th><th scope=col>people_vaccinated</th><th scope=col>people_fully_vaccinated</th></tr>\n",
       "\t<tr><th scope=col>&lt;chr&gt;</th><th scope=col>&lt;dbl&gt;</th><th scope=col>&lt;dbl&gt;</th><th scope=col>&lt;dbl&gt;</th><th scope=col>&lt;dbl&gt;</th><th scope=col>&lt;dbl&gt;</th><th scope=col>&lt;dbl&gt;</th><th scope=col>&lt;dbl&gt;</th><th scope=col>&lt;dbl&gt;</th><th scope=col>&lt;dbl&gt;</th><th scope=col>&lt;dbl&gt;</th><th scope=col>&lt;dbl&gt;</th></tr>\n",
       "</thead>\n",
       "<tbody>\n",
       "\t<tr><td>Afghanistan        </td><td>  62403</td><td>0</td><td> 1556.205</td><td> 1803.987</td><td>0</td><td> 2710</td><td>0</td><td> 67.582</td><td>0</td><td> 448878</td><td> 55624</td></tr>\n",
       "\t<tr><td>Albania            </td><td>  79934</td><td>0</td><td>28000.743</td><td>11803.431</td><td>0</td><td> 1398</td><td>0</td><td>489.717</td><td>0</td><td>    549</td><td>     1</td></tr>\n",
       "\t<tr><td>Algeria            </td><td> 190656</td><td>0</td><td> 4315.635</td><td>13913.839</td><td>0</td><td> 4957</td><td>0</td><td>112.205</td><td>0</td><td>3421279</td><td>724812</td></tr>\n",
       "\t<tr><td>Angola             </td><td>  29405</td><td>0</td><td>  852.226</td><td> 5819.495</td><td>0</td><td>  645</td><td>0</td><td> 18.694</td><td>0</td><td> 586377</td><td> 40195</td></tr>\n",
       "\t<tr><td>Antigua and Barbuda</td><td>   1251</td><td>0</td><td>13419.867</td><td>21490.943</td><td>0</td><td>   42</td><td>0</td><td>450.547</td><td>0</td><td>  31860</td><td>  2581</td></tr>\n",
       "\t<tr><td>Argentina          </td><td>1602163</td><td>0</td><td>35385.975</td><td>18933.907</td><td>0</td><td>43018</td><td>0</td><td>950.112</td><td>0</td><td>  20486</td><td>     2</td></tr>\n",
       "</tbody>\n",
       "</table>\n"
      ],
      "text/latex": [
       "A tibble: 6 × 12\n",
       "\\begin{tabular}{llllllllllll}\n",
       " location & total\\_cases & new\\_cases & total\\_cases\\_per\\_million & gdp\\_per\\_capita & new\\_cases\\_per\\_million & total\\_deaths & new\\_deaths & total\\_deaths\\_per\\_million & new\\_deaths\\_per\\_million & people\\_vaccinated & people\\_fully\\_vaccinated\\\\\n",
       " <chr> & <dbl> & <dbl> & <dbl> & <dbl> & <dbl> & <dbl> & <dbl> & <dbl> & <dbl> & <dbl> & <dbl>\\\\\n",
       "\\hline\n",
       "\t Afghanistan         &   62403 & 0 &  1556.205 &  1803.987 & 0 &  2710 & 0 &  67.582 & 0 &  448878 &  55624\\\\\n",
       "\t Albania             &   79934 & 0 & 28000.743 & 11803.431 & 0 &  1398 & 0 & 489.717 & 0 &     549 &      1\\\\\n",
       "\t Algeria             &  190656 & 0 &  4315.635 & 13913.839 & 0 &  4957 & 0 & 112.205 & 0 & 3421279 & 724812\\\\\n",
       "\t Angola              &   29405 & 0 &   852.226 &  5819.495 & 0 &   645 & 0 &  18.694 & 0 &  586377 &  40195\\\\\n",
       "\t Antigua and Barbuda &    1251 & 0 & 13419.867 & 21490.943 & 0 &    42 & 0 & 450.547 & 0 &   31860 &   2581\\\\\n",
       "\t Argentina           & 1602163 & 0 & 35385.975 & 18933.907 & 0 & 43018 & 0 & 950.112 & 0 &   20486 &      2\\\\\n",
       "\\end{tabular}\n"
      ],
      "text/markdown": [
       "\n",
       "A tibble: 6 × 12\n",
       "\n",
       "| location &lt;chr&gt; | total_cases &lt;dbl&gt; | new_cases &lt;dbl&gt; | total_cases_per_million &lt;dbl&gt; | gdp_per_capita &lt;dbl&gt; | new_cases_per_million &lt;dbl&gt; | total_deaths &lt;dbl&gt; | new_deaths &lt;dbl&gt; | total_deaths_per_million &lt;dbl&gt; | new_deaths_per_million &lt;dbl&gt; | people_vaccinated &lt;dbl&gt; | people_fully_vaccinated &lt;dbl&gt; |\n",
       "|---|---|---|---|---|---|---|---|---|---|---|---|\n",
       "| Afghanistan         |   62403 | 0 |  1556.205 |  1803.987 | 0 |  2710 | 0 |  67.582 | 0 |  448878 |  55624 |\n",
       "| Albania             |   79934 | 0 | 28000.743 | 11803.431 | 0 |  1398 | 0 | 489.717 | 0 |     549 |      1 |\n",
       "| Algeria             |  190656 | 0 |  4315.635 | 13913.839 | 0 |  4957 | 0 | 112.205 | 0 | 3421279 | 724812 |\n",
       "| Angola              |   29405 | 0 |   852.226 |  5819.495 | 0 |   645 | 0 |  18.694 | 0 |  586377 |  40195 |\n",
       "| Antigua and Barbuda |    1251 | 0 | 13419.867 | 21490.943 | 0 |    42 | 0 | 450.547 | 0 |   31860 |   2581 |\n",
       "| Argentina           | 1602163 | 0 | 35385.975 | 18933.907 | 0 | 43018 | 0 | 950.112 | 0 |   20486 |      2 |\n",
       "\n"
      ],
      "text/plain": [
       "  location            total_cases new_cases total_cases_per_million\n",
       "1 Afghanistan           62403     0          1556.205              \n",
       "2 Albania               79934     0         28000.743              \n",
       "3 Algeria              190656     0          4315.635              \n",
       "4 Angola                29405     0           852.226              \n",
       "5 Antigua and Barbuda    1251     0         13419.867              \n",
       "6 Argentina           1602163     0         35385.975              \n",
       "  gdp_per_capita new_cases_per_million total_deaths new_deaths\n",
       "1  1803.987      0                      2710        0         \n",
       "2 11803.431      0                      1398        0         \n",
       "3 13913.839      0                      4957        0         \n",
       "4  5819.495      0                       645        0         \n",
       "5 21490.943      0                        42        0         \n",
       "6 18933.907      0                     43018        0         \n",
       "  total_deaths_per_million new_deaths_per_million people_vaccinated\n",
       "1  67.582                  0                       448878          \n",
       "2 489.717                  0                          549          \n",
       "3 112.205                  0                      3421279          \n",
       "4  18.694                  0                       586377          \n",
       "5 450.547                  0                        31860          \n",
       "6 950.112                  0                        20486          \n",
       "  people_fully_vaccinated\n",
       "1  55624                 \n",
       "2      1                 \n",
       "3 724812                 \n",
       "4  40195                 \n",
       "5   2581                 \n",
       "6      2                 "
      ]
     },
     "metadata": {},
     "output_type": "display_data"
    }
   ],
   "source": [
    "cases_df %>% \n",
    "    group_by(location) %>%\n",
    "    select_if(is.numeric) %>%\n",
    "    summarise_all(min) %>%\n",
    "    head()"
   ]
  },
  {
   "cell_type": "markdown",
   "metadata": {},
   "source": [
    "### **Dive into the American continent Data**"
   ]
  },
  {
   "cell_type": "markdown",
   "metadata": {},
   "source": [
    "Lets go deeper, and analyze data only from America"
   ]
  },
  {
   "cell_type": "markdown",
   "metadata": {},
   "source": [
    "The `filter()` function is used to subset a data frame, retaining all rows that satisfy your conditions.\n",
    "- `%in%` operator is used to identify if an element belongs to a vector or Dataframe. "
   ]
  },
  {
   "cell_type": "code",
   "execution_count": 16,
   "metadata": {
    "vscode": {
     "languageId": "r"
    }
   },
   "outputs": [
    {
     "data": {
      "text/html": [
       "<table class=\"dataframe\">\n",
       "<caption>A tibble: 6 × 15</caption>\n",
       "<thead>\n",
       "\t<tr><th scope=col>iso_code</th><th scope=col>continent</th><th scope=col>location</th><th scope=col>date</th><th scope=col>total_cases</th><th scope=col>new_cases</th><th scope=col>total_cases_per_million</th><th scope=col>gdp_per_capita</th><th scope=col>new_cases_per_million</th><th scope=col>total_deaths</th><th scope=col>new_deaths</th><th scope=col>total_deaths_per_million</th><th scope=col>new_deaths_per_million</th><th scope=col>people_vaccinated</th><th scope=col>people_fully_vaccinated</th></tr>\n",
       "\t<tr><th scope=col>&lt;chr&gt;</th><th scope=col>&lt;chr&gt;</th><th scope=col>&lt;chr&gt;</th><th scope=col>&lt;date&gt;</th><th scope=col>&lt;dbl&gt;</th><th scope=col>&lt;dbl&gt;</th><th scope=col>&lt;dbl&gt;</th><th scope=col>&lt;dbl&gt;</th><th scope=col>&lt;dbl&gt;</th><th scope=col>&lt;dbl&gt;</th><th scope=col>&lt;dbl&gt;</th><th scope=col>&lt;dbl&gt;</th><th scope=col>&lt;dbl&gt;</th><th scope=col>&lt;dbl&gt;</th><th scope=col>&lt;dbl&gt;</th></tr>\n",
       "</thead>\n",
       "<tbody>\n",
       "\t<tr><td>ATG</td><td>North America</td><td>Antigua and Barbuda</td><td>2021-05-17</td><td>1251</td><td>10</td><td>13419.87</td><td>21490.94</td><td>107.273</td><td>42</td><td>9</td><td>450.547</td><td>96.546</td><td>31860</td><td> 2581</td></tr>\n",
       "\t<tr><td>ATG</td><td>North America</td><td>Antigua and Barbuda</td><td>2021-05-21</td><td>1255</td><td> 0</td><td>13462.78</td><td>21490.94</td><td>  0.000</td><td>42</td><td>0</td><td>450.547</td><td> 0.000</td><td>32469</td><td> 7050</td></tr>\n",
       "\t<tr><td>ATG</td><td>North America</td><td>Antigua and Barbuda</td><td>2021-05-25</td><td>1258</td><td> 0</td><td>13494.96</td><td>21490.94</td><td>  0.000</td><td>42</td><td>0</td><td>450.547</td><td> 0.000</td><td>32759</td><td> 9250</td></tr>\n",
       "\t<tr><td>ATG</td><td>North America</td><td>Antigua and Barbuda</td><td>2021-05-26</td><td>1258</td><td> 0</td><td>13494.96</td><td>21490.94</td><td>  0.000</td><td>42</td><td>0</td><td>450.547</td><td> 0.000</td><td>32876</td><td>11354</td></tr>\n",
       "\t<tr><td>ATG</td><td>North America</td><td>Antigua and Barbuda</td><td>2021-05-27</td><td>1258</td><td> 0</td><td>13494.96</td><td>21490.94</td><td>  0.000</td><td>42</td><td>0</td><td>450.547</td><td> 0.000</td><td>33024</td><td>12915</td></tr>\n",
       "\t<tr><td>ATG</td><td>North America</td><td>Antigua and Barbuda</td><td>2021-05-29</td><td>1259</td><td> 0</td><td>13505.68</td><td>21490.94</td><td>  0.000</td><td>42</td><td>0</td><td>450.547</td><td> 0.000</td><td>33214</td><td>15133</td></tr>\n",
       "</tbody>\n",
       "</table>\n"
      ],
      "text/latex": [
       "A tibble: 6 × 15\n",
       "\\begin{tabular}{lllllllllllllll}\n",
       " iso\\_code & continent & location & date & total\\_cases & new\\_cases & total\\_cases\\_per\\_million & gdp\\_per\\_capita & new\\_cases\\_per\\_million & total\\_deaths & new\\_deaths & total\\_deaths\\_per\\_million & new\\_deaths\\_per\\_million & people\\_vaccinated & people\\_fully\\_vaccinated\\\\\n",
       " <chr> & <chr> & <chr> & <date> & <dbl> & <dbl> & <dbl> & <dbl> & <dbl> & <dbl> & <dbl> & <dbl> & <dbl> & <dbl> & <dbl>\\\\\n",
       "\\hline\n",
       "\t ATG & North America & Antigua and Barbuda & 2021-05-17 & 1251 & 10 & 13419.87 & 21490.94 & 107.273 & 42 & 9 & 450.547 & 96.546 & 31860 &  2581\\\\\n",
       "\t ATG & North America & Antigua and Barbuda & 2021-05-21 & 1255 &  0 & 13462.78 & 21490.94 &   0.000 & 42 & 0 & 450.547 &  0.000 & 32469 &  7050\\\\\n",
       "\t ATG & North America & Antigua and Barbuda & 2021-05-25 & 1258 &  0 & 13494.96 & 21490.94 &   0.000 & 42 & 0 & 450.547 &  0.000 & 32759 &  9250\\\\\n",
       "\t ATG & North America & Antigua and Barbuda & 2021-05-26 & 1258 &  0 & 13494.96 & 21490.94 &   0.000 & 42 & 0 & 450.547 &  0.000 & 32876 & 11354\\\\\n",
       "\t ATG & North America & Antigua and Barbuda & 2021-05-27 & 1258 &  0 & 13494.96 & 21490.94 &   0.000 & 42 & 0 & 450.547 &  0.000 & 33024 & 12915\\\\\n",
       "\t ATG & North America & Antigua and Barbuda & 2021-05-29 & 1259 &  0 & 13505.68 & 21490.94 &   0.000 & 42 & 0 & 450.547 &  0.000 & 33214 & 15133\\\\\n",
       "\\end{tabular}\n"
      ],
      "text/markdown": [
       "\n",
       "A tibble: 6 × 15\n",
       "\n",
       "| iso_code &lt;chr&gt; | continent &lt;chr&gt; | location &lt;chr&gt; | date &lt;date&gt; | total_cases &lt;dbl&gt; | new_cases &lt;dbl&gt; | total_cases_per_million &lt;dbl&gt; | gdp_per_capita &lt;dbl&gt; | new_cases_per_million &lt;dbl&gt; | total_deaths &lt;dbl&gt; | new_deaths &lt;dbl&gt; | total_deaths_per_million &lt;dbl&gt; | new_deaths_per_million &lt;dbl&gt; | people_vaccinated &lt;dbl&gt; | people_fully_vaccinated &lt;dbl&gt; |\n",
       "|---|---|---|---|---|---|---|---|---|---|---|---|---|---|---|\n",
       "| ATG | North America | Antigua and Barbuda | 2021-05-17 | 1251 | 10 | 13419.87 | 21490.94 | 107.273 | 42 | 9 | 450.547 | 96.546 | 31860 |  2581 |\n",
       "| ATG | North America | Antigua and Barbuda | 2021-05-21 | 1255 |  0 | 13462.78 | 21490.94 |   0.000 | 42 | 0 | 450.547 |  0.000 | 32469 |  7050 |\n",
       "| ATG | North America | Antigua and Barbuda | 2021-05-25 | 1258 |  0 | 13494.96 | 21490.94 |   0.000 | 42 | 0 | 450.547 |  0.000 | 32759 |  9250 |\n",
       "| ATG | North America | Antigua and Barbuda | 2021-05-26 | 1258 |  0 | 13494.96 | 21490.94 |   0.000 | 42 | 0 | 450.547 |  0.000 | 32876 | 11354 |\n",
       "| ATG | North America | Antigua and Barbuda | 2021-05-27 | 1258 |  0 | 13494.96 | 21490.94 |   0.000 | 42 | 0 | 450.547 |  0.000 | 33024 | 12915 |\n",
       "| ATG | North America | Antigua and Barbuda | 2021-05-29 | 1259 |  0 | 13505.68 | 21490.94 |   0.000 | 42 | 0 | 450.547 |  0.000 | 33214 | 15133 |\n",
       "\n"
      ],
      "text/plain": [
       "  iso_code continent     location            date       total_cases new_cases\n",
       "1 ATG      North America Antigua and Barbuda 2021-05-17 1251        10       \n",
       "2 ATG      North America Antigua and Barbuda 2021-05-21 1255         0       \n",
       "3 ATG      North America Antigua and Barbuda 2021-05-25 1258         0       \n",
       "4 ATG      North America Antigua and Barbuda 2021-05-26 1258         0       \n",
       "5 ATG      North America Antigua and Barbuda 2021-05-27 1258         0       \n",
       "6 ATG      North America Antigua and Barbuda 2021-05-29 1259         0       \n",
       "  total_cases_per_million gdp_per_capita new_cases_per_million total_deaths\n",
       "1 13419.87                21490.94       107.273               42          \n",
       "2 13462.78                21490.94         0.000               42          \n",
       "3 13494.96                21490.94         0.000               42          \n",
       "4 13494.96                21490.94         0.000               42          \n",
       "5 13494.96                21490.94         0.000               42          \n",
       "6 13505.68                21490.94         0.000               42          \n",
       "  new_deaths total_deaths_per_million new_deaths_per_million people_vaccinated\n",
       "1 9          450.547                  96.546                 31860            \n",
       "2 0          450.547                   0.000                 32469            \n",
       "3 0          450.547                   0.000                 32759            \n",
       "4 0          450.547                   0.000                 32876            \n",
       "5 0          450.547                   0.000                 33024            \n",
       "6 0          450.547                   0.000                 33214            \n",
       "  people_fully_vaccinated\n",
       "1  2581                  \n",
       "2  7050                  \n",
       "3  9250                  \n",
       "4 11354                  \n",
       "5 12915                  \n",
       "6 15133                  "
      ]
     },
     "metadata": {},
     "output_type": "display_data"
    }
   ],
   "source": [
    "america_df <- cases_df %>% filter(continent %in% c('North America','South America')) \n",
    "head(america_df)"
   ]
  },
  {
   "cell_type": "markdown",
   "metadata": {},
   "source": [
    "`arrange()` orders the rows of a data frame by the values of selected columns."
   ]
  },
  {
   "cell_type": "code",
   "execution_count": 53,
   "metadata": {
    "vscode": {
     "languageId": "r"
    }
   },
   "outputs": [
    {
     "data": {
      "text/html": [
       "<table class=\"dataframe\">\n",
       "<caption>A tibble: 244 × 2</caption>\n",
       "<thead>\n",
       "\t<tr><th scope=col>location</th><th scope=col>max_new_cases</th></tr>\n",
       "\t<tr><th scope=col>&lt;chr&gt;</th><th scope=col>&lt;dbl&gt;</th></tr>\n",
       "</thead>\n",
       "<tbody>\n",
       "\t<tr><td>World              </td><td>4081701</td></tr>\n",
       "\t<tr><td>High income        </td><td>2824158</td></tr>\n",
       "\t<tr><td>Europe             </td><td>1846303</td></tr>\n",
       "\t<tr><td>European Union     </td><td>1523924</td></tr>\n",
       "\t<tr><td>North America      </td><td>1438627</td></tr>\n",
       "\t<tr><td>Asia               </td><td>1100729</td></tr>\n",
       "\t<tr><td>Upper middle income</td><td> 887368</td></tr>\n",
       "\t<tr><td>Lower middle income</td><td> 510814</td></tr>\n",
       "\t<tr><td>South America      </td><td> 460631</td></tr>\n",
       "\t<tr><td>Vietnam            </td><td> 454212</td></tr>\n",
       "\t<tr><td>India              </td><td> 414188</td></tr>\n",
       "\t<tr><td>Russia             </td><td> 202211</td></tr>\n",
       "\t<tr><td>Oceania            </td><td> 176088</td></tr>\n",
       "\t<tr><td>Indonesia          </td><td>  64718</td></tr>\n",
       "\t<tr><td>Africa             </td><td>  60523</td></tr>\n",
       "\t<tr><td>Poland             </td><td>  57659</td></tr>\n",
       "\t<tr><td>Costa Rica         </td><td>  55406</td></tr>\n",
       "\t<tr><td>Iran               </td><td>  50228</td></tr>\n",
       "\t<tr><td>Ukraine            </td><td>  45022</td></tr>\n",
       "\t<tr><td>Chile              </td><td>  41651</td></tr>\n",
       "\t<tr><td>Botswana           </td><td>  41576</td></tr>\n",
       "\t<tr><td>Romania            </td><td>  40018</td></tr>\n",
       "\t<tr><td>Singapore          </td><td>  39252</td></tr>\n",
       "\t<tr><td>Georgia            </td><td>  26524</td></tr>\n",
       "\t<tr><td>Low income         </td><td>  25110</td></tr>\n",
       "\t<tr><td>Bangladesh         </td><td>  16230</td></tr>\n",
       "\t<tr><td>Iraq               </td><td>  13515</td></tr>\n",
       "\t<tr><td>Pakistan           </td><td>  12073</td></tr>\n",
       "\t<tr><td>Croatia            </td><td>  11812</td></tr>\n",
       "\t<tr><td>Kyrgyzstan         </td><td>  11505</td></tr>\n",
       "\t<tr><td>⋮</td><td>⋮</td></tr>\n",
       "\t<tr><td>Slovakia                    </td><td>NA</td></tr>\n",
       "\t<tr><td>Slovenia                    </td><td>NA</td></tr>\n",
       "\t<tr><td>Solomon Islands             </td><td>NA</td></tr>\n",
       "\t<tr><td>South Africa                </td><td>NA</td></tr>\n",
       "\t<tr><td>South Korea                 </td><td>NA</td></tr>\n",
       "\t<tr><td>Spain                       </td><td>NA</td></tr>\n",
       "\t<tr><td>Sudan                       </td><td>NA</td></tr>\n",
       "\t<tr><td>Sweden                      </td><td>NA</td></tr>\n",
       "\t<tr><td>Switzerland                 </td><td>NA</td></tr>\n",
       "\t<tr><td>Taiwan                      </td><td>NA</td></tr>\n",
       "\t<tr><td>Tanzania                    </td><td>NA</td></tr>\n",
       "\t<tr><td>Thailand                    </td><td>NA</td></tr>\n",
       "\t<tr><td>Timor                       </td><td>NA</td></tr>\n",
       "\t<tr><td>Togo                        </td><td>NA</td></tr>\n",
       "\t<tr><td>Tokelau                     </td><td>NA</td></tr>\n",
       "\t<tr><td>Tonga                       </td><td>NA</td></tr>\n",
       "\t<tr><td>Tunisia                     </td><td>NA</td></tr>\n",
       "\t<tr><td>Turkey                      </td><td>NA</td></tr>\n",
       "\t<tr><td>Turkmenistan                </td><td>NA</td></tr>\n",
       "\t<tr><td>Turks and Caicos Islands    </td><td>NA</td></tr>\n",
       "\t<tr><td>Tuvalu                      </td><td>NA</td></tr>\n",
       "\t<tr><td>Uganda                      </td><td>NA</td></tr>\n",
       "\t<tr><td>United Kingdom              </td><td>NA</td></tr>\n",
       "\t<tr><td>United States               </td><td>NA</td></tr>\n",
       "\t<tr><td>United States Virgin Islands</td><td>NA</td></tr>\n",
       "\t<tr><td>Uruguay                     </td><td>NA</td></tr>\n",
       "\t<tr><td>Vanuatu                     </td><td>NA</td></tr>\n",
       "\t<tr><td>Western Sahara              </td><td>NA</td></tr>\n",
       "\t<tr><td>Yemen                       </td><td>NA</td></tr>\n",
       "\t<tr><td>Zimbabwe                    </td><td>NA</td></tr>\n",
       "</tbody>\n",
       "</table>\n"
      ],
      "text/latex": [
       "A tibble: 244 × 2\n",
       "\\begin{tabular}{ll}\n",
       " location & max\\_new\\_cases\\\\\n",
       " <chr> & <dbl>\\\\\n",
       "\\hline\n",
       "\t World               & 4081701\\\\\n",
       "\t High income         & 2824158\\\\\n",
       "\t Europe              & 1846303\\\\\n",
       "\t European Union      & 1523924\\\\\n",
       "\t North America       & 1438627\\\\\n",
       "\t Asia                & 1100729\\\\\n",
       "\t Upper middle income &  887368\\\\\n",
       "\t Lower middle income &  510814\\\\\n",
       "\t South America       &  460631\\\\\n",
       "\t Vietnam             &  454212\\\\\n",
       "\t India               &  414188\\\\\n",
       "\t Russia              &  202211\\\\\n",
       "\t Oceania             &  176088\\\\\n",
       "\t Indonesia           &   64718\\\\\n",
       "\t Africa              &   60523\\\\\n",
       "\t Poland              &   57659\\\\\n",
       "\t Costa Rica          &   55406\\\\\n",
       "\t Iran                &   50228\\\\\n",
       "\t Ukraine             &   45022\\\\\n",
       "\t Chile               &   41651\\\\\n",
       "\t Botswana            &   41576\\\\\n",
       "\t Romania             &   40018\\\\\n",
       "\t Singapore           &   39252\\\\\n",
       "\t Georgia             &   26524\\\\\n",
       "\t Low income          &   25110\\\\\n",
       "\t Bangladesh          &   16230\\\\\n",
       "\t Iraq                &   13515\\\\\n",
       "\t Pakistan            &   12073\\\\\n",
       "\t Croatia             &   11812\\\\\n",
       "\t Kyrgyzstan          &   11505\\\\\n",
       "\t ⋮ & ⋮\\\\\n",
       "\t Slovakia                     & NA\\\\\n",
       "\t Slovenia                     & NA\\\\\n",
       "\t Solomon Islands              & NA\\\\\n",
       "\t South Africa                 & NA\\\\\n",
       "\t South Korea                  & NA\\\\\n",
       "\t Spain                        & NA\\\\\n",
       "\t Sudan                        & NA\\\\\n",
       "\t Sweden                       & NA\\\\\n",
       "\t Switzerland                  & NA\\\\\n",
       "\t Taiwan                       & NA\\\\\n",
       "\t Tanzania                     & NA\\\\\n",
       "\t Thailand                     & NA\\\\\n",
       "\t Timor                        & NA\\\\\n",
       "\t Togo                         & NA\\\\\n",
       "\t Tokelau                      & NA\\\\\n",
       "\t Tonga                        & NA\\\\\n",
       "\t Tunisia                      & NA\\\\\n",
       "\t Turkey                       & NA\\\\\n",
       "\t Turkmenistan                 & NA\\\\\n",
       "\t Turks and Caicos Islands     & NA\\\\\n",
       "\t Tuvalu                       & NA\\\\\n",
       "\t Uganda                       & NA\\\\\n",
       "\t United Kingdom               & NA\\\\\n",
       "\t United States                & NA\\\\\n",
       "\t United States Virgin Islands & NA\\\\\n",
       "\t Uruguay                      & NA\\\\\n",
       "\t Vanuatu                      & NA\\\\\n",
       "\t Western Sahara               & NA\\\\\n",
       "\t Yemen                        & NA\\\\\n",
       "\t Zimbabwe                     & NA\\\\\n",
       "\\end{tabular}\n"
      ],
      "text/markdown": [
       "\n",
       "A tibble: 244 × 2\n",
       "\n",
       "| location &lt;chr&gt; | max_new_cases &lt;dbl&gt; |\n",
       "|---|---|\n",
       "| World               | 4081701 |\n",
       "| High income         | 2824158 |\n",
       "| Europe              | 1846303 |\n",
       "| European Union      | 1523924 |\n",
       "| North America       | 1438627 |\n",
       "| Asia                | 1100729 |\n",
       "| Upper middle income |  887368 |\n",
       "| Lower middle income |  510814 |\n",
       "| South America       |  460631 |\n",
       "| Vietnam             |  454212 |\n",
       "| India               |  414188 |\n",
       "| Russia              |  202211 |\n",
       "| Oceania             |  176088 |\n",
       "| Indonesia           |   64718 |\n",
       "| Africa              |   60523 |\n",
       "| Poland              |   57659 |\n",
       "| Costa Rica          |   55406 |\n",
       "| Iran                |   50228 |\n",
       "| Ukraine             |   45022 |\n",
       "| Chile               |   41651 |\n",
       "| Botswana            |   41576 |\n",
       "| Romania             |   40018 |\n",
       "| Singapore           |   39252 |\n",
       "| Georgia             |   26524 |\n",
       "| Low income          |   25110 |\n",
       "| Bangladesh          |   16230 |\n",
       "| Iraq                |   13515 |\n",
       "| Pakistan            |   12073 |\n",
       "| Croatia             |   11812 |\n",
       "| Kyrgyzstan          |   11505 |\n",
       "| ⋮ | ⋮ |\n",
       "| Slovakia                     | NA |\n",
       "| Slovenia                     | NA |\n",
       "| Solomon Islands              | NA |\n",
       "| South Africa                 | NA |\n",
       "| South Korea                  | NA |\n",
       "| Spain                        | NA |\n",
       "| Sudan                        | NA |\n",
       "| Sweden                       | NA |\n",
       "| Switzerland                  | NA |\n",
       "| Taiwan                       | NA |\n",
       "| Tanzania                     | NA |\n",
       "| Thailand                     | NA |\n",
       "| Timor                        | NA |\n",
       "| Togo                         | NA |\n",
       "| Tokelau                      | NA |\n",
       "| Tonga                        | NA |\n",
       "| Tunisia                      | NA |\n",
       "| Turkey                       | NA |\n",
       "| Turkmenistan                 | NA |\n",
       "| Turks and Caicos Islands     | NA |\n",
       "| Tuvalu                       | NA |\n",
       "| Uganda                       | NA |\n",
       "| United Kingdom               | NA |\n",
       "| United States                | NA |\n",
       "| United States Virgin Islands | NA |\n",
       "| Uruguay                      | NA |\n",
       "| Vanuatu                      | NA |\n",
       "| Western Sahara               | NA |\n",
       "| Yemen                        | NA |\n",
       "| Zimbabwe                     | NA |\n",
       "\n"
      ],
      "text/plain": [
       "    location                     max_new_cases\n",
       "1   World                        4081701      \n",
       "2   High income                  2824158      \n",
       "3   Europe                       1846303      \n",
       "4   European Union               1523924      \n",
       "5   North America                1438627      \n",
       "6   Asia                         1100729      \n",
       "7   Upper middle income           887368      \n",
       "8   Lower middle income           510814      \n",
       "9   South America                 460631      \n",
       "10  Vietnam                       454212      \n",
       "11  India                         414188      \n",
       "12  Russia                        202211      \n",
       "13  Oceania                       176088      \n",
       "14  Indonesia                      64718      \n",
       "15  Africa                         60523      \n",
       "16  Poland                         57659      \n",
       "17  Costa Rica                     55406      \n",
       "18  Iran                           50228      \n",
       "19  Ukraine                        45022      \n",
       "20  Chile                          41651      \n",
       "21  Botswana                       41576      \n",
       "22  Romania                        40018      \n",
       "23  Singapore                      39252      \n",
       "24  Georgia                        26524      \n",
       "25  Low income                     25110      \n",
       "26  Bangladesh                     16230      \n",
       "27  Iraq                           13515      \n",
       "28  Pakistan                       12073      \n",
       "29  Croatia                        11812      \n",
       "30  Kyrgyzstan                     11505      \n",
       "<U+22EE>   <U+22EE>                     <U+22EE>     \n",
       "215 Slovakia                     NA           \n",
       "216 Slovenia                     NA           \n",
       "217 Solomon Islands              NA           \n",
       "218 South Africa                 NA           \n",
       "219 South Korea                  NA           \n",
       "220 Spain                        NA           \n",
       "221 Sudan                        NA           \n",
       "222 Sweden                       NA           \n",
       "223 Switzerland                  NA           \n",
       "224 Taiwan                       NA           \n",
       "225 Tanzania                     NA           \n",
       "226 Thailand                     NA           \n",
       "227 Timor                        NA           \n",
       "228 Togo                         NA           \n",
       "229 Tokelau                      NA           \n",
       "230 Tonga                        NA           \n",
       "231 Tunisia                      NA           \n",
       "232 Turkey                       NA           \n",
       "233 Turkmenistan                 NA           \n",
       "234 Turks and Caicos Islands     NA           \n",
       "235 Tuvalu                       NA           \n",
       "236 Uganda                       NA           \n",
       "237 United Kingdom               NA           \n",
       "238 United States                NA           \n",
       "239 United States Virgin Islands NA           \n",
       "240 Uruguay                      NA           \n",
       "241 Vanuatu                      NA           \n",
       "242 Western Sahara               NA           \n",
       "243 Yemen                        NA           \n",
       "244 Zimbabwe                     NA           "
      ]
     },
     "metadata": {},
     "output_type": "display_data"
    },
    {
     "data": {
      "text/html": [
       "<table class=\"dataframe\">\n",
       "<caption>A tibble: 6 × 2</caption>\n",
       "<thead>\n",
       "\t<tr><th scope=col>location</th><th scope=col>max_new_cases</th></tr>\n",
       "\t<tr><th scope=col>&lt;chr&gt;</th><th scope=col>&lt;dbl&gt;</th></tr>\n",
       "</thead>\n",
       "<tbody>\n",
       "\t<tr><td>United States</td><td>1355340</td></tr>\n",
       "\t<tr><td>Brazil       </td><td> 287149</td></tr>\n",
       "\t<tr><td>Argentina    </td><td> 139853</td></tr>\n",
       "\t<tr><td>Mexico       </td><td> 109895</td></tr>\n",
       "\t<tr><td>Canada       </td><td>  63678</td></tr>\n",
       "\t<tr><td>Peru         </td><td>  59470</td></tr>\n",
       "</tbody>\n",
       "</table>\n"
      ],
      "text/latex": [
       "A tibble: 6 × 2\n",
       "\\begin{tabular}{ll}\n",
       " location & max\\_new\\_cases\\\\\n",
       " <chr> & <dbl>\\\\\n",
       "\\hline\n",
       "\t United States & 1355340\\\\\n",
       "\t Brazil        &  287149\\\\\n",
       "\t Argentina     &  139853\\\\\n",
       "\t Mexico        &  109895\\\\\n",
       "\t Canada        &   63678\\\\\n",
       "\t Peru          &   59470\\\\\n",
       "\\end{tabular}\n"
      ],
      "text/markdown": [
       "\n",
       "A tibble: 6 × 2\n",
       "\n",
       "| location &lt;chr&gt; | max_new_cases &lt;dbl&gt; |\n",
       "|---|---|\n",
       "| United States | 1355340 |\n",
       "| Brazil        |  287149 |\n",
       "| Argentina     |  139853 |\n",
       "| Mexico        |  109895 |\n",
       "| Canada        |   63678 |\n",
       "| Peru          |   59470 |\n",
       "\n"
      ],
      "text/plain": [
       "  location      max_new_cases\n",
       "1 United States 1355340      \n",
       "2 Brazil         287149      \n",
       "3 Argentina      139853      \n",
       "4 Mexico         109895      \n",
       "5 Canada          63678      \n",
       "6 Peru            59470      "
      ]
     },
     "metadata": {},
     "output_type": "display_data"
    }
   ],
   "source": [
    "max_cases <- america_df %>% \n",
    "        group_by(location) %>%\n",
    "        summarise(max_new_cases = max(new_cases)) %>%\n",
    "        arrange(desc(max_new_cases))\n",
    "head(max_cases)"
   ]
  },
  {
   "cell_type": "code",
   "execution_count": 39,
   "metadata": {
    "vscode": {
     "languageId": "r"
    }
   },
   "outputs": [
    {
     "data": {
      "text/html": [
       "<table class=\"dataframe\">\n",
       "<caption>A tibble: 6 × 2</caption>\n",
       "<thead>\n",
       "\t<tr><th scope=col>location</th><th scope=col>max_new_cases</th></tr>\n",
       "\t<tr><th scope=col>&lt;chr&gt;</th><th scope=col>&lt;dbl&gt;</th></tr>\n",
       "</thead>\n",
       "<tbody>\n",
       "\t<tr><td>United States</td><td>1355340</td></tr>\n",
       "\t<tr><td>Brazil       </td><td> 287149</td></tr>\n",
       "\t<tr><td>Argentina    </td><td> 139853</td></tr>\n",
       "\t<tr><td>Mexico       </td><td> 109895</td></tr>\n",
       "\t<tr><td>Canada       </td><td>  63678</td></tr>\n",
       "\t<tr><td>Peru         </td><td>  59470</td></tr>\n",
       "</tbody>\n",
       "</table>\n"
      ],
      "text/latex": [
       "A tibble: 6 × 2\n",
       "\\begin{tabular}{ll}\n",
       " location & max\\_new\\_cases\\\\\n",
       " <chr> & <dbl>\\\\\n",
       "\\hline\n",
       "\t United States & 1355340\\\\\n",
       "\t Brazil        &  287149\\\\\n",
       "\t Argentina     &  139853\\\\\n",
       "\t Mexico        &  109895\\\\\n",
       "\t Canada        &   63678\\\\\n",
       "\t Peru          &   59470\\\\\n",
       "\\end{tabular}\n"
      ],
      "text/markdown": [
       "\n",
       "A tibble: 6 × 2\n",
       "\n",
       "| location &lt;chr&gt; | max_new_cases &lt;dbl&gt; |\n",
       "|---|---|\n",
       "| United States | 1355340 |\n",
       "| Brazil        |  287149 |\n",
       "| Argentina     |  139853 |\n",
       "| Mexico        |  109895 |\n",
       "| Canada        |   63678 |\n",
       "| Peru          |   59470 |\n",
       "\n"
      ],
      "text/plain": [
       "  location      max_new_cases\n",
       "1 United States 1355340      \n",
       "2 Brazil         287149      \n",
       "3 Argentina      139853      \n",
       "4 Mexico         109895      \n",
       "5 Canada          63678      \n",
       "6 Peru            59470      "
      ]
     },
     "metadata": {},
     "output_type": "display_data"
    }
   ],
   "source": [
    "max_cases <- america_df %>% \n",
    "        group_by(location) %>%\n",
    "        summarise(max_new_cases = max(new_cases)) %>%\n",
    "        arrange(desc(max_new_cases))\n",
    "head(max_cases)"
   ]
  },
  {
   "cell_type": "markdown",
   "metadata": {},
   "source": [
    "The US, Brazil and Argentina are the countries with the largest number of new cases observed in one single day. This make sense, since these countries are the most populated in America."
   ]
  },
  {
   "cell_type": "code",
   "execution_count": 40,
   "metadata": {
    "vscode": {
     "languageId": "r"
    }
   },
   "outputs": [
    {
     "data": {
      "text/html": [
       "<table class=\"dataframe\">\n",
       "<caption>A tibble: 37 × 2</caption>\n",
       "<thead>\n",
       "\t<tr><th scope=col>location</th><th scope=col>min_new_cases</th></tr>\n",
       "\t<tr><th scope=col>&lt;chr&gt;</th><th scope=col>&lt;dbl&gt;</th></tr>\n",
       "</thead>\n",
       "<tbody>\n",
       "\t<tr><td>Antigua and Barbuda             </td><td>   0</td></tr>\n",
       "\t<tr><td>Argentina                       </td><td>   0</td></tr>\n",
       "\t<tr><td>Aruba                           </td><td>   0</td></tr>\n",
       "\t<tr><td>Bahamas                         </td><td>   0</td></tr>\n",
       "\t<tr><td>Barbados                        </td><td>   0</td></tr>\n",
       "\t<tr><td>Belize                          </td><td>   0</td></tr>\n",
       "\t<tr><td>Bermuda                         </td><td>   0</td></tr>\n",
       "\t<tr><td>Bolivia                         </td><td>   0</td></tr>\n",
       "\t<tr><td>Brazil                          </td><td>   0</td></tr>\n",
       "\t<tr><td>Canada                          </td><td>   0</td></tr>\n",
       "\t<tr><td>Cayman Islands                  </td><td>   0</td></tr>\n",
       "\t<tr><td>Chile                           </td><td>   0</td></tr>\n",
       "\t<tr><td>Colombia                        </td><td>   0</td></tr>\n",
       "\t<tr><td>Costa Rica                      </td><td>   0</td></tr>\n",
       "\t<tr><td>Dominica                        </td><td>   0</td></tr>\n",
       "\t<tr><td>Dominican Republic              </td><td>   0</td></tr>\n",
       "\t<tr><td>Ecuador                         </td><td>   0</td></tr>\n",
       "\t<tr><td>El Salvador                     </td><td>   0</td></tr>\n",
       "\t<tr><td>Grenada                         </td><td>   0</td></tr>\n",
       "\t<tr><td>Guatemala                       </td><td>   0</td></tr>\n",
       "\t<tr><td>Guyana                          </td><td>   0</td></tr>\n",
       "\t<tr><td>Haiti                           </td><td>   0</td></tr>\n",
       "\t<tr><td>Honduras                        </td><td>   0</td></tr>\n",
       "\t<tr><td>Jamaica                         </td><td>   0</td></tr>\n",
       "\t<tr><td>Mexico                          </td><td>   0</td></tr>\n",
       "\t<tr><td>Nicaragua                       </td><td>   0</td></tr>\n",
       "\t<tr><td>Panama                          </td><td>   0</td></tr>\n",
       "\t<tr><td>Paraguay                        </td><td>   0</td></tr>\n",
       "\t<tr><td>Peru                            </td><td>   0</td></tr>\n",
       "\t<tr><td>Saint Kitts and Nevis           </td><td>   0</td></tr>\n",
       "\t<tr><td>Saint Lucia                     </td><td>   0</td></tr>\n",
       "\t<tr><td>Saint Vincent and the Grenadines</td><td>   0</td></tr>\n",
       "\t<tr><td>Suriname                        </td><td>   0</td></tr>\n",
       "\t<tr><td>Trinidad and Tobago             </td><td>   0</td></tr>\n",
       "\t<tr><td>United States                   </td><td>4265</td></tr>\n",
       "\t<tr><td>Uruguay                         </td><td>   0</td></tr>\n",
       "\t<tr><td>Venezuela                       </td><td>   0</td></tr>\n",
       "</tbody>\n",
       "</table>\n"
      ],
      "text/latex": [
       "A tibble: 37 × 2\n",
       "\\begin{tabular}{ll}\n",
       " location & min\\_new\\_cases\\\\\n",
       " <chr> & <dbl>\\\\\n",
       "\\hline\n",
       "\t Antigua and Barbuda              &    0\\\\\n",
       "\t Argentina                        &    0\\\\\n",
       "\t Aruba                            &    0\\\\\n",
       "\t Bahamas                          &    0\\\\\n",
       "\t Barbados                         &    0\\\\\n",
       "\t Belize                           &    0\\\\\n",
       "\t Bermuda                          &    0\\\\\n",
       "\t Bolivia                          &    0\\\\\n",
       "\t Brazil                           &    0\\\\\n",
       "\t Canada                           &    0\\\\\n",
       "\t Cayman Islands                   &    0\\\\\n",
       "\t Chile                            &    0\\\\\n",
       "\t Colombia                         &    0\\\\\n",
       "\t Costa Rica                       &    0\\\\\n",
       "\t Dominica                         &    0\\\\\n",
       "\t Dominican Republic               &    0\\\\\n",
       "\t Ecuador                          &    0\\\\\n",
       "\t El Salvador                      &    0\\\\\n",
       "\t Grenada                          &    0\\\\\n",
       "\t Guatemala                        &    0\\\\\n",
       "\t Guyana                           &    0\\\\\n",
       "\t Haiti                            &    0\\\\\n",
       "\t Honduras                         &    0\\\\\n",
       "\t Jamaica                          &    0\\\\\n",
       "\t Mexico                           &    0\\\\\n",
       "\t Nicaragua                        &    0\\\\\n",
       "\t Panama                           &    0\\\\\n",
       "\t Paraguay                         &    0\\\\\n",
       "\t Peru                             &    0\\\\\n",
       "\t Saint Kitts and Nevis            &    0\\\\\n",
       "\t Saint Lucia                      &    0\\\\\n",
       "\t Saint Vincent and the Grenadines &    0\\\\\n",
       "\t Suriname                         &    0\\\\\n",
       "\t Trinidad and Tobago              &    0\\\\\n",
       "\t United States                    & 4265\\\\\n",
       "\t Uruguay                          &    0\\\\\n",
       "\t Venezuela                        &    0\\\\\n",
       "\\end{tabular}\n"
      ],
      "text/markdown": [
       "\n",
       "A tibble: 37 × 2\n",
       "\n",
       "| location &lt;chr&gt; | min_new_cases &lt;dbl&gt; |\n",
       "|---|---|\n",
       "| Antigua and Barbuda              |    0 |\n",
       "| Argentina                        |    0 |\n",
       "| Aruba                            |    0 |\n",
       "| Bahamas                          |    0 |\n",
       "| Barbados                         |    0 |\n",
       "| Belize                           |    0 |\n",
       "| Bermuda                          |    0 |\n",
       "| Bolivia                          |    0 |\n",
       "| Brazil                           |    0 |\n",
       "| Canada                           |    0 |\n",
       "| Cayman Islands                   |    0 |\n",
       "| Chile                            |    0 |\n",
       "| Colombia                         |    0 |\n",
       "| Costa Rica                       |    0 |\n",
       "| Dominica                         |    0 |\n",
       "| Dominican Republic               |    0 |\n",
       "| Ecuador                          |    0 |\n",
       "| El Salvador                      |    0 |\n",
       "| Grenada                          |    0 |\n",
       "| Guatemala                        |    0 |\n",
       "| Guyana                           |    0 |\n",
       "| Haiti                            |    0 |\n",
       "| Honduras                         |    0 |\n",
       "| Jamaica                          |    0 |\n",
       "| Mexico                           |    0 |\n",
       "| Nicaragua                        |    0 |\n",
       "| Panama                           |    0 |\n",
       "| Paraguay                         |    0 |\n",
       "| Peru                             |    0 |\n",
       "| Saint Kitts and Nevis            |    0 |\n",
       "| Saint Lucia                      |    0 |\n",
       "| Saint Vincent and the Grenadines |    0 |\n",
       "| Suriname                         |    0 |\n",
       "| Trinidad and Tobago              |    0 |\n",
       "| United States                    | 4265 |\n",
       "| Uruguay                          |    0 |\n",
       "| Venezuela                        |    0 |\n",
       "\n"
      ],
      "text/plain": [
       "   location                         min_new_cases\n",
       "1  Antigua and Barbuda                 0         \n",
       "2  Argentina                           0         \n",
       "3  Aruba                               0         \n",
       "4  Bahamas                             0         \n",
       "5  Barbados                            0         \n",
       "6  Belize                              0         \n",
       "7  Bermuda                             0         \n",
       "8  Bolivia                             0         \n",
       "9  Brazil                              0         \n",
       "10 Canada                              0         \n",
       "11 Cayman Islands                      0         \n",
       "12 Chile                               0         \n",
       "13 Colombia                            0         \n",
       "14 Costa Rica                          0         \n",
       "15 Dominica                            0         \n",
       "16 Dominican Republic                  0         \n",
       "17 Ecuador                             0         \n",
       "18 El Salvador                         0         \n",
       "19 Grenada                             0         \n",
       "20 Guatemala                           0         \n",
       "21 Guyana                              0         \n",
       "22 Haiti                               0         \n",
       "23 Honduras                            0         \n",
       "24 Jamaica                             0         \n",
       "25 Mexico                              0         \n",
       "26 Nicaragua                           0         \n",
       "27 Panama                              0         \n",
       "28 Paraguay                            0         \n",
       "29 Peru                                0         \n",
       "30 Saint Kitts and Nevis               0         \n",
       "31 Saint Lucia                         0         \n",
       "32 Saint Vincent and the Grenadines    0         \n",
       "33 Suriname                            0         \n",
       "34 Trinidad and Tobago                 0         \n",
       "35 United States                    4265         \n",
       "36 Uruguay                             0         \n",
       "37 Venezuela                           0         "
      ]
     },
     "metadata": {},
     "output_type": "display_data"
    }
   ],
   "source": [
    "min_cases <- america_df %>% \n",
    "        group_by(location) %>%\n",
    "        summarise(min_new_cases = min(new_cases)) \n",
    "min_cases"
   ]
  },
  {
   "cell_type": "markdown",
   "metadata": {},
   "source": [
    "Since the beginning of data collection, covid-19 was already present in the US.\n",
    "\n"
   ]
  },
  {
   "cell_type": "code",
   "execution_count": 41,
   "metadata": {
    "vscode": {
     "languageId": "r"
    }
   },
   "outputs": [
    {
     "data": {
      "text/html": [
       "<table class=\"dataframe\">\n",
       "<caption>A tibble: 6 × 2</caption>\n",
       "<thead>\n",
       "\t<tr><th scope=col>location</th><th scope=col>max_total_deaths</th></tr>\n",
       "\t<tr><th scope=col>&lt;chr&gt;</th><th scope=col>&lt;dbl&gt;</th></tr>\n",
       "</thead>\n",
       "<tbody>\n",
       "\t<tr><td>United States</td><td>1048287</td></tr>\n",
       "\t<tr><td>Brazil       </td><td> 684898</td></tr>\n",
       "\t<tr><td>Mexico       </td><td> 329289</td></tr>\n",
       "\t<tr><td>Peru         </td><td> 216151</td></tr>\n",
       "\t<tr><td>Colombia     </td><td> 141406</td></tr>\n",
       "\t<tr><td>Argentina    </td><td> 129769</td></tr>\n",
       "</tbody>\n",
       "</table>\n"
      ],
      "text/latex": [
       "A tibble: 6 × 2\n",
       "\\begin{tabular}{ll}\n",
       " location & max\\_total\\_deaths\\\\\n",
       " <chr> & <dbl>\\\\\n",
       "\\hline\n",
       "\t United States & 1048287\\\\\n",
       "\t Brazil        &  684898\\\\\n",
       "\t Mexico        &  329289\\\\\n",
       "\t Peru          &  216151\\\\\n",
       "\t Colombia      &  141406\\\\\n",
       "\t Argentina     &  129769\\\\\n",
       "\\end{tabular}\n"
      ],
      "text/markdown": [
       "\n",
       "A tibble: 6 × 2\n",
       "\n",
       "| location &lt;chr&gt; | max_total_deaths &lt;dbl&gt; |\n",
       "|---|---|\n",
       "| United States | 1048287 |\n",
       "| Brazil        |  684898 |\n",
       "| Mexico        |  329289 |\n",
       "| Peru          |  216151 |\n",
       "| Colombia      |  141406 |\n",
       "| Argentina     |  129769 |\n",
       "\n"
      ],
      "text/plain": [
       "  location      max_total_deaths\n",
       "1 United States 1048287         \n",
       "2 Brazil         684898         \n",
       "3 Mexico         329289         \n",
       "4 Peru           216151         \n",
       "5 Colombia       141406         \n",
       "6 Argentina      129769         "
      ]
     },
     "metadata": {},
     "output_type": "display_data"
    }
   ],
   "source": [
    "max_deaths <- america_df  %>% \n",
    "        group_by(location) %>%\n",
    "        summarise(max_total_deaths = max(total_deaths))  %>%\n",
    "        arrange(desc(max_total_deaths))\n",
    "head(max_deaths)"
   ]
  },
  {
   "cell_type": "code",
   "execution_count": 42,
   "metadata": {
    "vscode": {
     "languageId": "r"
    }
   },
   "outputs": [
    {
     "data": {
      "text/html": [
       "<table class=\"dataframe\">\n",
       "<caption>A tibble: 6 × 3</caption>\n",
       "<thead>\n",
       "\t<tr><th scope=col>location</th><th scope=col>mean_gdp_per_capita</th><th scope=col>mean_total_deaths_per_million</th></tr>\n",
       "\t<tr><th scope=col>&lt;chr&gt;</th><th scope=col>&lt;dbl&gt;</th><th scope=col>&lt;dbl&gt;</th></tr>\n",
       "</thead>\n",
       "<tbody>\n",
       "\t<tr><td>Antigua and Barbuda</td><td>21490.943</td><td> 769.2822</td></tr>\n",
       "\t<tr><td>Argentina          </td><td>18933.907</td><td>2273.1202</td></tr>\n",
       "\t<tr><td>Aruba              </td><td>35973.781</td><td>1591.2177</td></tr>\n",
       "\t<tr><td>Bahamas            </td><td>27717.847</td><td>1353.6888</td></tr>\n",
       "\t<tr><td>Barbados           </td><td>16978.068</td><td> 863.9188</td></tr>\n",
       "\t<tr><td>Belize             </td><td> 7824.362</td><td>1165.6068</td></tr>\n",
       "</tbody>\n",
       "</table>\n"
      ],
      "text/latex": [
       "A tibble: 6 × 3\n",
       "\\begin{tabular}{lll}\n",
       " location & mean\\_gdp\\_per\\_capita & mean\\_total\\_deaths\\_per\\_million\\\\\n",
       " <chr> & <dbl> & <dbl>\\\\\n",
       "\\hline\n",
       "\t Antigua and Barbuda & 21490.943 &  769.2822\\\\\n",
       "\t Argentina           & 18933.907 & 2273.1202\\\\\n",
       "\t Aruba               & 35973.781 & 1591.2177\\\\\n",
       "\t Bahamas             & 27717.847 & 1353.6888\\\\\n",
       "\t Barbados            & 16978.068 &  863.9188\\\\\n",
       "\t Belize              &  7824.362 & 1165.6068\\\\\n",
       "\\end{tabular}\n"
      ],
      "text/markdown": [
       "\n",
       "A tibble: 6 × 3\n",
       "\n",
       "| location &lt;chr&gt; | mean_gdp_per_capita &lt;dbl&gt; | mean_total_deaths_per_million &lt;dbl&gt; |\n",
       "|---|---|---|\n",
       "| Antigua and Barbuda | 21490.943 |  769.2822 |\n",
       "| Argentina           | 18933.907 | 2273.1202 |\n",
       "| Aruba               | 35973.781 | 1591.2177 |\n",
       "| Bahamas             | 27717.847 | 1353.6888 |\n",
       "| Barbados            | 16978.068 |  863.9188 |\n",
       "| Belize              |  7824.362 | 1165.6068 |\n",
       "\n"
      ],
      "text/plain": [
       "  location            mean_gdp_per_capita mean_total_deaths_per_million\n",
       "1 Antigua and Barbuda 21490.943            769.2822                    \n",
       "2 Argentina           18933.907           2273.1202                    \n",
       "3 Aruba               35973.781           1591.2177                    \n",
       "4 Bahamas             27717.847           1353.6888                    \n",
       "5 Barbados            16978.068            863.9188                    \n",
       "6 Belize               7824.362           1165.6068                    "
      ]
     },
     "metadata": {},
     "output_type": "display_data"
    }
   ],
   "source": [
    "gdp_analysis <- america_df %>%\n",
    "        group_by(location) %>%\n",
    "        summarise(\n",
    "            mean_gdp_per_capita = mean(gdp_per_capita), \n",
    "            mean_total_deaths_per_million = mean(total_deaths_per_million)\n",
    "        )\n",
    "head(gdp_analysis)"
   ]
  },
  {
   "cell_type": "markdown",
   "metadata": {},
   "source": [
    "Is there is a linear relationship between the **GDP per capita** and the **total deaths per million**?\n",
    "\n",
    "Let's make some statistics and take a look into the correlation matrix\n",
    "\n",
    "> Correlation is a statistical measure that expresses the extent to which two variables are linearly related (meaning they change together at a constant rate)."
   ]
  },
  {
   "cell_type": "code",
   "execution_count": 43,
   "metadata": {
    "vscode": {
     "languageId": "r"
    }
   },
   "outputs": [
    {
     "data": {
      "text/html": [
       "<table class=\"dataframe\">\n",
       "<caption>A matrix: 2 × 2 of type dbl</caption>\n",
       "<thead>\n",
       "\t<tr><th></th><th scope=col>mean_gdp_per_capita</th><th scope=col>mean_total_deaths_per_million</th></tr>\n",
       "</thead>\n",
       "<tbody>\n",
       "\t<tr><th scope=row>mean_gdp_per_capita</th><td>1.00000000</td><td>0.03008266</td></tr>\n",
       "\t<tr><th scope=row>mean_total_deaths_per_million</th><td>0.03008266</td><td>1.00000000</td></tr>\n",
       "</tbody>\n",
       "</table>\n"
      ],
      "text/latex": [
       "A matrix: 2 × 2 of type dbl\n",
       "\\begin{tabular}{r|ll}\n",
       "  & mean\\_gdp\\_per\\_capita & mean\\_total\\_deaths\\_per\\_million\\\\\n",
       "\\hline\n",
       "\tmean\\_gdp\\_per\\_capita & 1.00000000 & 0.03008266\\\\\n",
       "\tmean\\_total\\_deaths\\_per\\_million & 0.03008266 & 1.00000000\\\\\n",
       "\\end{tabular}\n"
      ],
      "text/markdown": [
       "\n",
       "A matrix: 2 × 2 of type dbl\n",
       "\n",
       "| <!--/--> | mean_gdp_per_capita | mean_total_deaths_per_million |\n",
       "|---|---|---|\n",
       "| mean_gdp_per_capita | 1.00000000 | 0.03008266 |\n",
       "| mean_total_deaths_per_million | 0.03008266 | 1.00000000 |\n",
       "\n"
      ],
      "text/plain": [
       "                              mean_gdp_per_capita mean_total_deaths_per_million\n",
       "mean_gdp_per_capita           1.00000000          0.03008266                   \n",
       "mean_total_deaths_per_million 0.03008266          1.00000000                   "
      ]
     },
     "metadata": {},
     "output_type": "display_data"
    }
   ],
   "source": [
    "gdp_analysis %>% \n",
    "    select('mean_gdp_per_capita', 'mean_total_deaths_per_million') %>%\n",
    "    cor()"
   ]
  },
  {
   "cell_type": "code",
   "execution_count": 44,
   "metadata": {
    "vscode": {
     "languageId": "r"
    }
   },
   "outputs": [
    {
     "data": {
      "image/png": "[encoded data removed]",
      "text/plain": [
       "plot without title"
      ]
     },
     "metadata": {
      "image/png": {
       "height": 420,
       "width": 420
      }
     },
     "output_type": "display_data"
    }
   ],
   "source": [
    "library(ggplot2)\n",
    "ggplot(gdp_analysis, aes(x=mean_gdp_per_capita, y=mean_total_deaths_per_million)) + geom_point()"
   ]
  },
  {
   "cell_type": "markdown",
   "metadata": {},
   "source": [
    "Note there is not linear relationship between `gdp_per_capita` and `total_deaths_per_million`\n",
    "\n",
    "Is there a linear relation between all variables of our dataframe?\n",
    "\n",
    "Compute the correlation matrix of our dataframe and see:"
   ]
  },
  {
   "cell_type": "code",
   "execution_count": 45,
   "metadata": {
    "vscode": {
     "languageId": "r"
    }
   },
   "outputs": [
    {
     "data": {
      "text/html": [
       "<table class=\"dataframe\">\n",
       "<caption>A matrix: 11 × 11 of type dbl</caption>\n",
       "<thead>\n",
       "\t<tr><th></th><th scope=col>total_cases</th><th scope=col>new_cases</th><th scope=col>total_cases_per_million</th><th scope=col>gdp_per_capita</th><th scope=col>new_cases_per_million</th><th scope=col>total_deaths</th><th scope=col>new_deaths</th><th scope=col>total_deaths_per_million</th><th scope=col>new_deaths_per_million</th><th scope=col>people_vaccinated</th><th scope=col>people_fully_vaccinated</th></tr>\n",
       "</thead>\n",
       "<tbody>\n",
       "\t<tr><th scope=row>total_cases</th><td> 1.000000000</td><td>0.55038343</td><td> 0.36827533</td><td> 0.527654386</td><td>0.041056829</td><td>0.930213875</td><td>0.47684344</td><td> 0.253114104</td><td>-0.007188472</td><td> 0.93042445</td><td> 0.92193339</td></tr>\n",
       "\t<tr><th scope=row>new_cases</th><td> 0.550383429</td><td>1.00000000</td><td> 0.16536836</td><td> 0.359835728</td><td>0.265707116</td><td>0.529815975</td><td>0.62261285</td><td> 0.108509649</td><td> 0.073263026</td><td> 0.51332997</td><td> 0.50553875</td></tr>\n",
       "\t<tr><th scope=row>total_cases_per_million</th><td> 0.368275329</td><td>0.16536836</td><td> 1.00000000</td><td> 0.337224890</td><td>0.273823101</td><td>0.288218145</td><td>0.05422706</td><td> 0.361305072</td><td>-0.018233031</td><td> 0.31999342</td><td> 0.33236806</td></tr>\n",
       "\t<tr><th scope=row>gdp_per_capita</th><td> 0.527654386</td><td>0.35983573</td><td> 0.33722489</td><td> 1.000000000</td><td>0.126217408</td><td>0.429179792</td><td>0.31959690</td><td>-0.037641091</td><td> 0.008014129</td><td> 0.47434188</td><td> 0.47434153</td></tr>\n",
       "\t<tr><th scope=row>new_cases_per_million</th><td> 0.041056829</td><td>0.26570712</td><td> 0.27382310</td><td> 0.126217408</td><td>1.000000000</td><td>0.005132335</td><td>0.10364518</td><td> 0.003684478</td><td> 0.183719997</td><td> 0.01382054</td><td> 0.01867075</td></tr>\n",
       "\t<tr><th scope=row>total_deaths</th><td> 0.930213875</td><td>0.52981597</td><td> 0.28821814</td><td> 0.429179792</td><td>0.005132335</td><td>1.000000000</td><td>0.54515194</td><td> 0.407493550</td><td> 0.005301982</td><td> 0.95640638</td><td> 0.93185234</td></tr>\n",
       "\t<tr><th scope=row>new_deaths</th><td> 0.476843439</td><td>0.62261285</td><td> 0.05422706</td><td> 0.319596898</td><td>0.103645182</td><td>0.545151945</td><td>1.00000000</td><td> 0.108324634</td><td> 0.203769500</td><td> 0.40963462</td><td> 0.36863527</td></tr>\n",
       "\t<tr><th scope=row>total_deaths_per_million</th><td> 0.253114104</td><td>0.10850965</td><td> 0.36130507</td><td>-0.037641091</td><td>0.003684478</td><td>0.407493550</td><td>0.10832463</td><td> 1.000000000</td><td> 0.022598950</td><td> 0.30579547</td><td> 0.30594069</td></tr>\n",
       "\t<tr><th scope=row>new_deaths_per_million</th><td>-0.007188472</td><td>0.07326303</td><td>-0.01823303</td><td> 0.008014129</td><td>0.183719997</td><td>0.005301982</td><td>0.20376950</td><td> 0.022598950</td><td> 1.000000000</td><td>-0.04169299</td><td>-0.04984304</td></tr>\n",
       "\t<tr><th scope=row>people_vaccinated</th><td> 0.930424455</td><td>0.51332997</td><td> 0.31999342</td><td> 0.474341884</td><td>0.013820545</td><td>0.956406382</td><td>0.40963462</td><td> 0.305795467</td><td>-0.041692986</td><td> 1.00000000</td><td> 0.99177388</td></tr>\n",
       "\t<tr><th scope=row>people_fully_vaccinated</th><td> 0.921933390</td><td>0.50553875</td><td> 0.33236806</td><td> 0.474341526</td><td>0.018670746</td><td>0.931852338</td><td>0.36863527</td><td> 0.305940685</td><td>-0.049843038</td><td> 0.99177388</td><td> 1.00000000</td></tr>\n",
       "</tbody>\n",
       "</table>\n"
      ],
      "text/latex": [
       "A matrix: 11 × 11 of type dbl\n",
       "\\begin{tabular}{r|lllllllllll}\n",
       "  & total\\_cases & new\\_cases & total\\_cases\\_per\\_million & gdp\\_per\\_capita & new\\_cases\\_per\\_million & total\\_deaths & new\\_deaths & total\\_deaths\\_per\\_million & new\\_deaths\\_per\\_million & people\\_vaccinated & people\\_fully\\_vaccinated\\\\\n",
       "\\hline\n",
       "\ttotal\\_cases &  1.000000000 & 0.55038343 &  0.36827533 &  0.527654386 & 0.041056829 & 0.930213875 & 0.47684344 &  0.253114104 & -0.007188472 &  0.93042445 &  0.92193339\\\\\n",
       "\tnew\\_cases &  0.550383429 & 1.00000000 &  0.16536836 &  0.359835728 & 0.265707116 & 0.529815975 & 0.62261285 &  0.108509649 &  0.073263026 &  0.51332997 &  0.50553875\\\\\n",
       "\ttotal\\_cases\\_per\\_million &  0.368275329 & 0.16536836 &  1.00000000 &  0.337224890 & 0.273823101 & 0.288218145 & 0.05422706 &  0.361305072 & -0.018233031 &  0.31999342 &  0.33236806\\\\\n",
       "\tgdp\\_per\\_capita &  0.527654386 & 0.35983573 &  0.33722489 &  1.000000000 & 0.126217408 & 0.429179792 & 0.31959690 & -0.037641091 &  0.008014129 &  0.47434188 &  0.47434153\\\\\n",
       "\tnew\\_cases\\_per\\_million &  0.041056829 & 0.26570712 &  0.27382310 &  0.126217408 & 1.000000000 & 0.005132335 & 0.10364518 &  0.003684478 &  0.183719997 &  0.01382054 &  0.01867075\\\\\n",
       "\ttotal\\_deaths &  0.930213875 & 0.52981597 &  0.28821814 &  0.429179792 & 0.005132335 & 1.000000000 & 0.54515194 &  0.407493550 &  0.005301982 &  0.95640638 &  0.93185234\\\\\n",
       "\tnew\\_deaths &  0.476843439 & 0.62261285 &  0.05422706 &  0.319596898 & 0.103645182 & 0.545151945 & 1.00000000 &  0.108324634 &  0.203769500 &  0.40963462 &  0.36863527\\\\\n",
       "\ttotal\\_deaths\\_per\\_million &  0.253114104 & 0.10850965 &  0.36130507 & -0.037641091 & 0.003684478 & 0.407493550 & 0.10832463 &  1.000000000 &  0.022598950 &  0.30579547 &  0.30594069\\\\\n",
       "\tnew\\_deaths\\_per\\_million & -0.007188472 & 0.07326303 & -0.01823303 &  0.008014129 & 0.183719997 & 0.005301982 & 0.20376950 &  0.022598950 &  1.000000000 & -0.04169299 & -0.04984304\\\\\n",
       "\tpeople\\_vaccinated &  0.930424455 & 0.51332997 &  0.31999342 &  0.474341884 & 0.013820545 & 0.956406382 & 0.40963462 &  0.305795467 & -0.041692986 &  1.00000000 &  0.99177388\\\\\n",
       "\tpeople\\_fully\\_vaccinated &  0.921933390 & 0.50553875 &  0.33236806 &  0.474341526 & 0.018670746 & 0.931852338 & 0.36863527 &  0.305940685 & -0.049843038 &  0.99177388 &  1.00000000\\\\\n",
       "\\end{tabular}\n"
      ],
      "text/markdown": [
       "\n",
       "A matrix: 11 × 11 of type dbl\n",
       "\n",
       "| <!--/--> | total_cases | new_cases | total_cases_per_million | gdp_per_capita | new_cases_per_million | total_deaths | new_deaths | total_deaths_per_million | new_deaths_per_million | people_vaccinated | people_fully_vaccinated |\n",
       "|---|---|---|---|---|---|---|---|---|---|---|---|\n",
       "| total_cases |  1.000000000 | 0.55038343 |  0.36827533 |  0.527654386 | 0.041056829 | 0.930213875 | 0.47684344 |  0.253114104 | -0.007188472 |  0.93042445 |  0.92193339 |\n",
       "| new_cases |  0.550383429 | 1.00000000 |  0.16536836 |  0.359835728 | 0.265707116 | 0.529815975 | 0.62261285 |  0.108509649 |  0.073263026 |  0.51332997 |  0.50553875 |\n",
       "| total_cases_per_million |  0.368275329 | 0.16536836 |  1.00000000 |  0.337224890 | 0.273823101 | 0.288218145 | 0.05422706 |  0.361305072 | -0.018233031 |  0.31999342 |  0.33236806 |\n",
       "| gdp_per_capita |  0.527654386 | 0.35983573 |  0.33722489 |  1.000000000 | 0.126217408 | 0.429179792 | 0.31959690 | -0.037641091 |  0.008014129 |  0.47434188 |  0.47434153 |\n",
       "| new_cases_per_million |  0.041056829 | 0.26570712 |  0.27382310 |  0.126217408 | 1.000000000 | 0.005132335 | 0.10364518 |  0.003684478 |  0.183719997 |  0.01382054 |  0.01867075 |\n",
       "| total_deaths |  0.930213875 | 0.52981597 |  0.28821814 |  0.429179792 | 0.005132335 | 1.000000000 | 0.54515194 |  0.407493550 |  0.005301982 |  0.95640638 |  0.93185234 |\n",
       "| new_deaths |  0.476843439 | 0.62261285 |  0.05422706 |  0.319596898 | 0.103645182 | 0.545151945 | 1.00000000 |  0.108324634 |  0.203769500 |  0.40963462 |  0.36863527 |\n",
       "| total_deaths_per_million |  0.253114104 | 0.10850965 |  0.36130507 | -0.037641091 | 0.003684478 | 0.407493550 | 0.10832463 |  1.000000000 |  0.022598950 |  0.30579547 |  0.30594069 |\n",
       "| new_deaths_per_million | -0.007188472 | 0.07326303 | -0.01823303 |  0.008014129 | 0.183719997 | 0.005301982 | 0.20376950 |  0.022598950 |  1.000000000 | -0.04169299 | -0.04984304 |\n",
       "| people_vaccinated |  0.930424455 | 0.51332997 |  0.31999342 |  0.474341884 | 0.013820545 | 0.956406382 | 0.40963462 |  0.305795467 | -0.041692986 |  1.00000000 |  0.99177388 |\n",
       "| people_fully_vaccinated |  0.921933390 | 0.50553875 |  0.33236806 |  0.474341526 | 0.018670746 | 0.931852338 | 0.36863527 |  0.305940685 | -0.049843038 |  0.99177388 |  1.00000000 |\n",
       "\n"
      ],
      "text/plain": [
       "                         total_cases  new_cases  total_cases_per_million\n",
       "total_cases               1.000000000 0.55038343  0.36827533            \n",
       "new_cases                 0.550383429 1.00000000  0.16536836            \n",
       "total_cases_per_million   0.368275329 0.16536836  1.00000000            \n",
       "gdp_per_capita            0.527654386 0.35983573  0.33722489            \n",
       "new_cases_per_million     0.041056829 0.26570712  0.27382310            \n",
       "total_deaths              0.930213875 0.52981597  0.28821814            \n",
       "new_deaths                0.476843439 0.62261285  0.05422706            \n",
       "total_deaths_per_million  0.253114104 0.10850965  0.36130507            \n",
       "new_deaths_per_million   -0.007188472 0.07326303 -0.01823303            \n",
       "people_vaccinated         0.930424455 0.51332997  0.31999342            \n",
       "people_fully_vaccinated   0.921933390 0.50553875  0.33236806            \n",
       "                         gdp_per_capita new_cases_per_million total_deaths\n",
       "total_cases               0.527654386   0.041056829           0.930213875 \n",
       "new_cases                 0.359835728   0.265707116           0.529815975 \n",
       "total_cases_per_million   0.337224890   0.273823101           0.288218145 \n",
       "gdp_per_capita            1.000000000   0.126217408           0.429179792 \n",
       "new_cases_per_million     0.126217408   1.000000000           0.005132335 \n",
       "total_deaths              0.429179792   0.005132335           1.000000000 \n",
       "new_deaths                0.319596898   0.103645182           0.545151945 \n",
       "total_deaths_per_million -0.037641091   0.003684478           0.407493550 \n",
       "new_deaths_per_million    0.008014129   0.183719997           0.005301982 \n",
       "people_vaccinated         0.474341884   0.013820545           0.956406382 \n",
       "people_fully_vaccinated   0.474341526   0.018670746           0.931852338 \n",
       "                         new_deaths total_deaths_per_million\n",
       "total_cases              0.47684344  0.253114104            \n",
       "new_cases                0.62261285  0.108509649            \n",
       "total_cases_per_million  0.05422706  0.361305072            \n",
       "gdp_per_capita           0.31959690 -0.037641091            \n",
       "new_cases_per_million    0.10364518  0.003684478            \n",
       "total_deaths             0.54515194  0.407493550            \n",
       "new_deaths               1.00000000  0.108324634            \n",
       "total_deaths_per_million 0.10832463  1.000000000            \n",
       "new_deaths_per_million   0.20376950  0.022598950            \n",
       "people_vaccinated        0.40963462  0.305795467            \n",
       "people_fully_vaccinated  0.36863527  0.305940685            \n",
       "                         new_deaths_per_million people_vaccinated\n",
       "total_cases              -0.007188472            0.93042445      \n",
       "new_cases                 0.073263026            0.51332997      \n",
       "total_cases_per_million  -0.018233031            0.31999342      \n",
       "gdp_per_capita            0.008014129            0.47434188      \n",
       "new_cases_per_million     0.183719997            0.01382054      \n",
       "total_deaths              0.005301982            0.95640638      \n",
       "new_deaths                0.203769500            0.40963462      \n",
       "total_deaths_per_million  0.022598950            0.30579547      \n",
       "new_deaths_per_million    1.000000000           -0.04169299      \n",
       "people_vaccinated        -0.041692986            1.00000000      \n",
       "people_fully_vaccinated  -0.049843038            0.99177388      \n",
       "                         people_fully_vaccinated\n",
       "total_cases               0.92193339            \n",
       "new_cases                 0.50553875            \n",
       "total_cases_per_million   0.33236806            \n",
       "gdp_per_capita            0.47434153            \n",
       "new_cases_per_million     0.01867075            \n",
       "total_deaths              0.93185234            \n",
       "new_deaths                0.36863527            \n",
       "total_deaths_per_million  0.30594069            \n",
       "new_deaths_per_million   -0.04984304            \n",
       "people_vaccinated         0.99177388            \n",
       "people_fully_vaccinated   1.00000000            "
      ]
     },
     "metadata": {},
     "output_type": "display_data"
    }
   ],
   "source": [
    "correlation_matrix <- america_df %>%\n",
    "    select_if(is.numeric) %>%\n",
    "    cor()\n",
    "correlation_matrix"
   ]
  },
  {
   "cell_type": "code",
   "execution_count": 46,
   "metadata": {
    "vscode": {
     "languageId": "r"
    }
   },
   "outputs": [
    {
     "data": {
      "image/png": "[encoded data removed]",
      "text/plain": [
       "plot without title"
      ]
     },
     "metadata": {
      "image/png": {
       "height": 420,
       "width": 420
      }
     },
     "output_type": "display_data"
    }
   ],
   "source": [
    "# install.packages(\"ggcorrplot\")\n",
    "library(ggcorrplot)\n",
    "ggcorrplot(correlation_matrix)"
   ]
  }
 ],
 "metadata": {
  "kernelspec": {
   "display_name": "R",
   "language": "R",
   "name": "ir"
  },
  "language_info": {
   "codemirror_mode": "r",
   "file_extension": ".r",
   "mimetype": "text/x-r-source",
   "name": "R",
   "pygments_lexer": "r",
   "version": "4.1.3"
  },
  "vscode": {
   "interpreter": {
    "hash": "88921c642b993f55814204f6d7013185e3f19f842eebe779c1f3cc755d888b02"
   }
  }
 },
 "nbformat": 4,
 "nbformat_minor": 4
}
